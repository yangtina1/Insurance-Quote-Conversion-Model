{
  "cells": [
    {
      "cell_type": "markdown",
      "metadata": {
        "id": "bJZXj-H95bv4"
      },
      "source": [
        "# EDA"
      ]
    },
    {
      "cell_type": "code",
      "source": [
        "policies = pd.read_csv('policies.csv')\n",
        "drivers = pd.read_csv('drivers.csv')\n",
        "vehicles = pd.read_csv('vehicles.csv')"
      ],
      "metadata": {
        "id": "vNr34QanxpVA"
      },
      "execution_count": null,
      "outputs": []
    },
    {
      "cell_type": "code",
      "execution_count": null,
      "metadata": {
        "colab": {
          "base_uri": "https://localhost:8080/"
        },
        "id": "Zfq2bBzn4mrg",
        "outputId": "c1c0b2d1-fc09-4a7d-c0a4-215726a1b059"
      },
      "outputs": [
        {
          "output_type": "stream",
          "name": "stdout",
          "text": [
            "policies dim: (49162, 22)\n",
            "drivers dim: (106294, 7)\n",
            "vehicles dim: (169237, 7)\n"
          ]
        }
      ],
      "source": [
        "print(f'policies dim: {policies.shape}\\ndrivers dim: {drivers.shape}\\nvehicles dim: {vehicles.shape}')"
      ]
    },
    {
      "cell_type": "markdown",
      "metadata": {
        "id": "JCsGDjxw5V0j"
      },
      "source": [
        "## policies table"
      ]
    },
    {
      "cell_type": "code",
      "execution_count": null,
      "metadata": {
        "colab": {
          "base_uri": "https://localhost:8080/",
          "height": 279
        },
        "id": "lD1pvccY4uik",
        "outputId": "16327738-8a2b-49c8-e94b-f1276cb8c558"
      },
      "outputs": [
        {
          "data": {
            "text/html": [
              "\n",
              "  <div id=\"df-31df2d8c-2151-431e-a3c8-8f6395d1f532\">\n",
              "    <div class=\"colab-df-container\">\n",
              "      <div>\n",
              "<style scoped>\n",
              "    .dataframe tbody tr th:only-of-type {\n",
              "        vertical-align: middle;\n",
              "    }\n",
              "\n",
              "    .dataframe tbody tr th {\n",
              "        vertical-align: top;\n",
              "    }\n",
              "\n",
              "    .dataframe thead th {\n",
              "        text-align: right;\n",
              "    }\n",
              "</style>\n",
              "<table border=\"1\" class=\"dataframe\">\n",
              "  <thead>\n",
              "    <tr style=\"text-align: right;\">\n",
              "      <th></th>\n",
              "      <th>Unnamed: 0</th>\n",
              "      <th>Quote_dt</th>\n",
              "      <th>discount</th>\n",
              "      <th>Home_policy_ind</th>\n",
              "      <th>zip</th>\n",
              "      <th>state_id</th>\n",
              "      <th>county_name</th>\n",
              "      <th>Agent_cd</th>\n",
              "      <th>quoted_amt</th>\n",
              "      <th>Prior_carrier_grp</th>\n",
              "      <th>...</th>\n",
              "      <th>CAT_zone</th>\n",
              "      <th>policy_id</th>\n",
              "      <th>number_drivers</th>\n",
              "      <th>num_loaned_veh</th>\n",
              "      <th>num_owned_veh</th>\n",
              "      <th>num_leased_veh</th>\n",
              "      <th>total_number_veh</th>\n",
              "      <th>convert_ind</th>\n",
              "      <th>split</th>\n",
              "      <th>primary_parking</th>\n",
              "    </tr>\n",
              "  </thead>\n",
              "  <tbody>\n",
              "    <tr>\n",
              "      <th>0</th>\n",
              "      <td>1</td>\n",
              "      <td>2015-01-28</td>\n",
              "      <td>Yes</td>\n",
              "      <td>Y</td>\n",
              "      <td>10465.0</td>\n",
              "      <td>NY</td>\n",
              "      <td>Bronx</td>\n",
              "      <td>15973623.0</td>\n",
              "      <td>$5,153</td>\n",
              "      <td>Carrier_1</td>\n",
              "      <td>...</td>\n",
              "      <td>2.0</td>\n",
              "      <td>policy_87209</td>\n",
              "      <td>2</td>\n",
              "      <td>1</td>\n",
              "      <td>2</td>\n",
              "      <td>0</td>\n",
              "      <td>3</td>\n",
              "      <td>0.0</td>\n",
              "      <td>Train</td>\n",
              "      <td>home/driveway</td>\n",
              "    </tr>\n",
              "    <tr>\n",
              "      <th>1</th>\n",
              "      <td>2</td>\n",
              "      <td>2015-02-12</td>\n",
              "      <td>No</td>\n",
              "      <td>N</td>\n",
              "      <td>12801.0</td>\n",
              "      <td>NY</td>\n",
              "      <td>Warren</td>\n",
              "      <td>46978147.0</td>\n",
              "      <td>$9,870</td>\n",
              "      <td>Carrier_4</td>\n",
              "      <td>...</td>\n",
              "      <td>4.0</td>\n",
              "      <td>policy_89288</td>\n",
              "      <td>1</td>\n",
              "      <td>1</td>\n",
              "      <td>1</td>\n",
              "      <td>2</td>\n",
              "      <td>4</td>\n",
              "      <td>NaN</td>\n",
              "      <td>Test</td>\n",
              "      <td>unknown</td>\n",
              "    </tr>\n",
              "    <tr>\n",
              "      <th>2</th>\n",
              "      <td>3</td>\n",
              "      <td>2018-09-03</td>\n",
              "      <td>No</td>\n",
              "      <td>N</td>\n",
              "      <td>11548.0</td>\n",
              "      <td>NY</td>\n",
              "      <td>Nassau</td>\n",
              "      <td>32759856.0</td>\n",
              "      <td>$3,090</td>\n",
              "      <td>Carrier_4</td>\n",
              "      <td>...</td>\n",
              "      <td>2.0</td>\n",
              "      <td>policy_91413</td>\n",
              "      <td>2</td>\n",
              "      <td>1</td>\n",
              "      <td>2</td>\n",
              "      <td>1</td>\n",
              "      <td>4</td>\n",
              "      <td>0.0</td>\n",
              "      <td>Train</td>\n",
              "      <td>unknown</td>\n",
              "    </tr>\n",
              "    <tr>\n",
              "      <th>3</th>\n",
              "      <td>4</td>\n",
              "      <td>2015-07-28</td>\n",
              "      <td>No</td>\n",
              "      <td>N</td>\n",
              "      <td>33141.0</td>\n",
              "      <td>FL</td>\n",
              "      <td>Miami-Dade</td>\n",
              "      <td>47310293.0</td>\n",
              "      <td>$2,860</td>\n",
              "      <td>Carrier_7</td>\n",
              "      <td>...</td>\n",
              "      <td>3.0</td>\n",
              "      <td>policy_23460</td>\n",
              "      <td>1</td>\n",
              "      <td>2</td>\n",
              "      <td>3</td>\n",
              "      <td>0</td>\n",
              "      <td>5</td>\n",
              "      <td>NaN</td>\n",
              "      <td>Test</td>\n",
              "      <td>unknown</td>\n",
              "    </tr>\n",
              "    <tr>\n",
              "      <th>4</th>\n",
              "      <td>5</td>\n",
              "      <td>2016-05-18</td>\n",
              "      <td>No</td>\n",
              "      <td>N</td>\n",
              "      <td>14622.0</td>\n",
              "      <td>NY</td>\n",
              "      <td>Monroe</td>\n",
              "      <td>15675431.0</td>\n",
              "      <td>$14,917</td>\n",
              "      <td>Carrier_3</td>\n",
              "      <td>...</td>\n",
              "      <td>4.0</td>\n",
              "      <td>policy_71845</td>\n",
              "      <td>2</td>\n",
              "      <td>0</td>\n",
              "      <td>1</td>\n",
              "      <td>2</td>\n",
              "      <td>3</td>\n",
              "      <td>0.0</td>\n",
              "      <td>Train</td>\n",
              "      <td>unknown</td>\n",
              "    </tr>\n",
              "  </tbody>\n",
              "</table>\n",
              "<p>5 rows × 22 columns</p>\n",
              "</div>\n",
              "      <button class=\"colab-df-convert\" onclick=\"convertToInteractive('df-31df2d8c-2151-431e-a3c8-8f6395d1f532')\"\n",
              "              title=\"Convert this dataframe to an interactive table.\"\n",
              "              style=\"display:none;\">\n",
              "        \n",
              "  <svg xmlns=\"http://www.w3.org/2000/svg\" height=\"24px\"viewBox=\"0 0 24 24\"\n",
              "       width=\"24px\">\n",
              "    <path d=\"M0 0h24v24H0V0z\" fill=\"none\"/>\n",
              "    <path d=\"M18.56 5.44l.94 2.06.94-2.06 2.06-.94-2.06-.94-.94-2.06-.94 2.06-2.06.94zm-11 1L8.5 8.5l.94-2.06 2.06-.94-2.06-.94L8.5 2.5l-.94 2.06-2.06.94zm10 10l.94 2.06.94-2.06 2.06-.94-2.06-.94-.94-2.06-.94 2.06-2.06.94z\"/><path d=\"M17.41 7.96l-1.37-1.37c-.4-.4-.92-.59-1.43-.59-.52 0-1.04.2-1.43.59L10.3 9.45l-7.72 7.72c-.78.78-.78 2.05 0 2.83L4 21.41c.39.39.9.59 1.41.59.51 0 1.02-.2 1.41-.59l7.78-7.78 2.81-2.81c.8-.78.8-2.07 0-2.86zM5.41 20L4 18.59l7.72-7.72 1.47 1.35L5.41 20z\"/>\n",
              "  </svg>\n",
              "      </button>\n",
              "      \n",
              "  <style>\n",
              "    .colab-df-container {\n",
              "      display:flex;\n",
              "      flex-wrap:wrap;\n",
              "      gap: 12px;\n",
              "    }\n",
              "\n",
              "    .colab-df-convert {\n",
              "      background-color: #E8F0FE;\n",
              "      border: none;\n",
              "      border-radius: 50%;\n",
              "      cursor: pointer;\n",
              "      display: none;\n",
              "      fill: #1967D2;\n",
              "      height: 32px;\n",
              "      padding: 0 0 0 0;\n",
              "      width: 32px;\n",
              "    }\n",
              "\n",
              "    .colab-df-convert:hover {\n",
              "      background-color: #E2EBFA;\n",
              "      box-shadow: 0px 1px 2px rgba(60, 64, 67, 0.3), 0px 1px 3px 1px rgba(60, 64, 67, 0.15);\n",
              "      fill: #174EA6;\n",
              "    }\n",
              "\n",
              "    [theme=dark] .colab-df-convert {\n",
              "      background-color: #3B4455;\n",
              "      fill: #D2E3FC;\n",
              "    }\n",
              "\n",
              "    [theme=dark] .colab-df-convert:hover {\n",
              "      background-color: #434B5C;\n",
              "      box-shadow: 0px 1px 3px 1px rgba(0, 0, 0, 0.15);\n",
              "      filter: drop-shadow(0px 1px 2px rgba(0, 0, 0, 0.3));\n",
              "      fill: #FFFFFF;\n",
              "    }\n",
              "  </style>\n",
              "\n",
              "      <script>\n",
              "        const buttonEl =\n",
              "          document.querySelector('#df-31df2d8c-2151-431e-a3c8-8f6395d1f532 button.colab-df-convert');\n",
              "        buttonEl.style.display =\n",
              "          google.colab.kernel.accessAllowed ? 'block' : 'none';\n",
              "\n",
              "        async function convertToInteractive(key) {\n",
              "          const element = document.querySelector('#df-31df2d8c-2151-431e-a3c8-8f6395d1f532');\n",
              "          const dataTable =\n",
              "            await google.colab.kernel.invokeFunction('convertToInteractive',\n",
              "                                                     [key], {});\n",
              "          if (!dataTable) return;\n",
              "\n",
              "          const docLinkHtml = 'Like what you see? Visit the ' +\n",
              "            '<a target=\"_blank\" href=https://colab.research.google.com/notebooks/data_table.ipynb>data table notebook</a>'\n",
              "            + ' to learn more about interactive tables.';\n",
              "          element.innerHTML = '';\n",
              "          dataTable['output_type'] = 'display_data';\n",
              "          await google.colab.output.renderOutput(dataTable, element);\n",
              "          const docLink = document.createElement('div');\n",
              "          docLink.innerHTML = docLinkHtml;\n",
              "          element.appendChild(docLink);\n",
              "        }\n",
              "      </script>\n",
              "    </div>\n",
              "  </div>\n",
              "  "
            ],
            "text/plain": [
              "   Unnamed: 0    Quote_dt discount Home_policy_ind      zip state_id  \\\n",
              "0           1  2015-01-28      Yes               Y  10465.0       NY   \n",
              "1           2  2015-02-12       No               N  12801.0       NY   \n",
              "2           3  2018-09-03       No               N  11548.0       NY   \n",
              "3           4  2015-07-28       No               N  33141.0       FL   \n",
              "4           5  2016-05-18       No               N  14622.0       NY   \n",
              "\n",
              "  county_name    Agent_cd quoted_amt Prior_carrier_grp  ...  CAT_zone  \\\n",
              "0       Bronx  15973623.0     $5,153         Carrier_1  ...       2.0   \n",
              "1      Warren  46978147.0     $9,870         Carrier_4  ...       4.0   \n",
              "2      Nassau  32759856.0     $3,090         Carrier_4  ...       2.0   \n",
              "3  Miami-Dade  47310293.0     $2,860         Carrier_7  ...       3.0   \n",
              "4      Monroe  15675431.0    $14,917         Carrier_3  ...       4.0   \n",
              "\n",
              "      policy_id  number_drivers num_loaned_veh  num_owned_veh  num_leased_veh  \\\n",
              "0  policy_87209               2              1              2               0   \n",
              "1  policy_89288               1              1              1               2   \n",
              "2  policy_91413               2              1              2               1   \n",
              "3  policy_23460               1              2              3               0   \n",
              "4  policy_71845               2              0              1               2   \n",
              "\n",
              "   total_number_veh  convert_ind  split  primary_parking  \n",
              "0                 3          0.0  Train    home/driveway  \n",
              "1                 4          NaN   Test          unknown  \n",
              "2                 4          0.0  Train          unknown  \n",
              "3                 5          NaN   Test          unknown  \n",
              "4                 3          0.0  Train          unknown  \n",
              "\n",
              "[5 rows x 22 columns]"
            ]
          },
          "execution_count": 56,
          "metadata": {},
          "output_type": "execute_result"
        }
      ],
      "source": [
        "policies.head()"
      ]
    },
    {
      "cell_type": "code",
      "execution_count": null,
      "metadata": {
        "id": "4wQrxLfja-kI"
      },
      "outputs": [],
      "source": [
        "# id: drop\n",
        "policies = policies.drop(columns='Unnamed: 0')"
      ]
    },
    {
      "cell_type": "code",
      "execution_count": null,
      "metadata": {
        "colab": {
          "base_uri": "https://localhost:8080/",
          "height": 505
        },
        "id": "l9ho1rEF5mLx",
        "outputId": "c66ed956-86ad-4f3f-88c5-45349995f125"
      },
      "outputs": [
        {
          "data": {
            "text/html": [
              "\n",
              "  <div id=\"df-913b446e-c8f0-461b-8d8f-f387dd71627a\">\n",
              "    <div class=\"colab-df-container\">\n",
              "      <div>\n",
              "<style scoped>\n",
              "    .dataframe tbody tr th:only-of-type {\n",
              "        vertical-align: middle;\n",
              "    }\n",
              "\n",
              "    .dataframe tbody tr th {\n",
              "        vertical-align: top;\n",
              "    }\n",
              "\n",
              "    .dataframe thead th {\n",
              "        text-align: right;\n",
              "    }\n",
              "</style>\n",
              "<table border=\"1\" class=\"dataframe\">\n",
              "  <thead>\n",
              "    <tr style=\"text-align: right;\">\n",
              "      <th></th>\n",
              "      <th>Quote_dt</th>\n",
              "      <th>discount</th>\n",
              "      <th>Home_policy_ind</th>\n",
              "      <th>zip</th>\n",
              "      <th>state_id</th>\n",
              "      <th>county_name</th>\n",
              "      <th>Agent_cd</th>\n",
              "      <th>quoted_amt</th>\n",
              "      <th>Prior_carrier_grp</th>\n",
              "      <th>credit_score</th>\n",
              "      <th>...</th>\n",
              "      <th>CAT_zone</th>\n",
              "      <th>policy_id</th>\n",
              "      <th>number_drivers</th>\n",
              "      <th>num_loaned_veh</th>\n",
              "      <th>num_owned_veh</th>\n",
              "      <th>num_leased_veh</th>\n",
              "      <th>total_number_veh</th>\n",
              "      <th>convert_ind</th>\n",
              "      <th>split</th>\n",
              "      <th>primary_parking</th>\n",
              "    </tr>\n",
              "  </thead>\n",
              "  <tbody>\n",
              "    <tr>\n",
              "      <th>count</th>\n",
              "      <td>49162</td>\n",
              "      <td>49162</td>\n",
              "      <td>49162</td>\n",
              "      <td>48690.000000</td>\n",
              "      <td>49162</td>\n",
              "      <td>49162</td>\n",
              "      <td>4.373200e+04</td>\n",
              "      <td>49050</td>\n",
              "      <td>44162</td>\n",
              "      <td>48862.000000</td>\n",
              "      <td>...</td>\n",
              "      <td>48912.000000</td>\n",
              "      <td>49162</td>\n",
              "      <td>49162.000000</td>\n",
              "      <td>49162.000000</td>\n",
              "      <td>49162.000000</td>\n",
              "      <td>49162.000000</td>\n",
              "      <td>49162.000000</td>\n",
              "      <td>36871.000000</td>\n",
              "      <td>49162</td>\n",
              "      <td>49162</td>\n",
              "    </tr>\n",
              "    <tr>\n",
              "      <th>unique</th>\n",
              "      <td>1460</td>\n",
              "      <td>2</td>\n",
              "      <td>2</td>\n",
              "      <td>NaN</td>\n",
              "      <td>8</td>\n",
              "      <td>112</td>\n",
              "      <td>NaN</td>\n",
              "      <td>14380</td>\n",
              "      <td>9</td>\n",
              "      <td>NaN</td>\n",
              "      <td>...</td>\n",
              "      <td>NaN</td>\n",
              "      <td>49162</td>\n",
              "      <td>NaN</td>\n",
              "      <td>NaN</td>\n",
              "      <td>NaN</td>\n",
              "      <td>NaN</td>\n",
              "      <td>NaN</td>\n",
              "      <td>NaN</td>\n",
              "      <td>2</td>\n",
              "      <td>4</td>\n",
              "    </tr>\n",
              "    <tr>\n",
              "      <th>top</th>\n",
              "      <td>2016-05-08</td>\n",
              "      <td>No</td>\n",
              "      <td>N</td>\n",
              "      <td>NaN</td>\n",
              "      <td>NY</td>\n",
              "      <td>Miami-Dade</td>\n",
              "      <td>NaN</td>\n",
              "      <td>$1,582</td>\n",
              "      <td>Carrier_5</td>\n",
              "      <td>NaN</td>\n",
              "      <td>...</td>\n",
              "      <td>NaN</td>\n",
              "      <td>policy_87209</td>\n",
              "      <td>NaN</td>\n",
              "      <td>NaN</td>\n",
              "      <td>NaN</td>\n",
              "      <td>NaN</td>\n",
              "      <td>NaN</td>\n",
              "      <td>NaN</td>\n",
              "      <td>Train</td>\n",
              "      <td>unknown</td>\n",
              "    </tr>\n",
              "    <tr>\n",
              "      <th>freq</th>\n",
              "      <td>66</td>\n",
              "      <td>36275</td>\n",
              "      <td>39958</td>\n",
              "      <td>NaN</td>\n",
              "      <td>15460</td>\n",
              "      <td>2612</td>\n",
              "      <td>NaN</td>\n",
              "      <td>20</td>\n",
              "      <td>7645</td>\n",
              "      <td>NaN</td>\n",
              "      <td>...</td>\n",
              "      <td>NaN</td>\n",
              "      <td>1</td>\n",
              "      <td>NaN</td>\n",
              "      <td>NaN</td>\n",
              "      <td>NaN</td>\n",
              "      <td>NaN</td>\n",
              "      <td>NaN</td>\n",
              "      <td>NaN</td>\n",
              "      <td>36871</td>\n",
              "      <td>34514</td>\n",
              "    </tr>\n",
              "    <tr>\n",
              "      <th>mean</th>\n",
              "      <td>NaN</td>\n",
              "      <td>NaN</td>\n",
              "      <td>NaN</td>\n",
              "      <td>22515.226515</td>\n",
              "      <td>NaN</td>\n",
              "      <td>NaN</td>\n",
              "      <td>5.459507e+07</td>\n",
              "      <td>NaN</td>\n",
              "      <td>NaN</td>\n",
              "      <td>641.422066</td>\n",
              "      <td>...</td>\n",
              "      <td>2.874407</td>\n",
              "      <td>NaN</td>\n",
              "      <td>2.162117</td>\n",
              "      <td>1.306131</td>\n",
              "      <td>1.648570</td>\n",
              "      <td>0.500142</td>\n",
              "      <td>3.454843</td>\n",
              "      <td>0.111741</td>\n",
              "      <td>NaN</td>\n",
              "      <td>NaN</td>\n",
              "    </tr>\n",
              "    <tr>\n",
              "      <th>std</th>\n",
              "      <td>NaN</td>\n",
              "      <td>NaN</td>\n",
              "      <td>NaN</td>\n",
              "      <td>15691.485404</td>\n",
              "      <td>NaN</td>\n",
              "      <td>NaN</td>\n",
              "      <td>2.527024e+07</td>\n",
              "      <td>NaN</td>\n",
              "      <td>NaN</td>\n",
              "      <td>78.960389</td>\n",
              "      <td>...</td>\n",
              "      <td>1.440565</td>\n",
              "      <td>NaN</td>\n",
              "      <td>1.239114</td>\n",
              "      <td>0.900568</td>\n",
              "      <td>0.726165</td>\n",
              "      <td>0.668482</td>\n",
              "      <td>1.336875</td>\n",
              "      <td>0.315052</td>\n",
              "      <td>NaN</td>\n",
              "      <td>NaN</td>\n",
              "    </tr>\n",
              "    <tr>\n",
              "      <th>min</th>\n",
              "      <td>NaN</td>\n",
              "      <td>NaN</td>\n",
              "      <td>NaN</td>\n",
              "      <td>6051.000000</td>\n",
              "      <td>NaN</td>\n",
              "      <td>NaN</td>\n",
              "      <td>1.278836e+07</td>\n",
              "      <td>NaN</td>\n",
              "      <td>NaN</td>\n",
              "      <td>369.000000</td>\n",
              "      <td>...</td>\n",
              "      <td>1.000000</td>\n",
              "      <td>NaN</td>\n",
              "      <td>1.000000</td>\n",
              "      <td>0.000000</td>\n",
              "      <td>1.000000</td>\n",
              "      <td>0.000000</td>\n",
              "      <td>1.000000</td>\n",
              "      <td>0.000000</td>\n",
              "      <td>NaN</td>\n",
              "      <td>NaN</td>\n",
              "    </tr>\n",
              "    <tr>\n",
              "      <th>25%</th>\n",
              "      <td>NaN</td>\n",
              "      <td>NaN</td>\n",
              "      <td>NaN</td>\n",
              "      <td>10007.000000</td>\n",
              "      <td>NaN</td>\n",
              "      <td>NaN</td>\n",
              "      <td>3.261900e+07</td>\n",
              "      <td>NaN</td>\n",
              "      <td>NaN</td>\n",
              "      <td>582.000000</td>\n",
              "      <td>...</td>\n",
              "      <td>2.000000</td>\n",
              "      <td>NaN</td>\n",
              "      <td>1.000000</td>\n",
              "      <td>1.000000</td>\n",
              "      <td>1.000000</td>\n",
              "      <td>0.000000</td>\n",
              "      <td>2.000000</td>\n",
              "      <td>0.000000</td>\n",
              "      <td>NaN</td>\n",
              "      <td>NaN</td>\n",
              "    </tr>\n",
              "    <tr>\n",
              "      <th>50%</th>\n",
              "      <td>NaN</td>\n",
              "      <td>NaN</td>\n",
              "      <td>NaN</td>\n",
              "      <td>13088.000000</td>\n",
              "      <td>NaN</td>\n",
              "      <td>NaN</td>\n",
              "      <td>5.332332e+07</td>\n",
              "      <td>NaN</td>\n",
              "      <td>NaN</td>\n",
              "      <td>642.000000</td>\n",
              "      <td>...</td>\n",
              "      <td>3.000000</td>\n",
              "      <td>NaN</td>\n",
              "      <td>2.000000</td>\n",
              "      <td>1.000000</td>\n",
              "      <td>1.000000</td>\n",
              "      <td>0.000000</td>\n",
              "      <td>3.000000</td>\n",
              "      <td>0.000000</td>\n",
              "      <td>NaN</td>\n",
              "      <td>NaN</td>\n",
              "    </tr>\n",
              "    <tr>\n",
              "      <th>75%</th>\n",
              "      <td>NaN</td>\n",
              "      <td>NaN</td>\n",
              "      <td>NaN</td>\n",
              "      <td>33317.000000</td>\n",
              "      <td>NaN</td>\n",
              "      <td>NaN</td>\n",
              "      <td>7.644067e+07</td>\n",
              "      <td>NaN</td>\n",
              "      <td>NaN</td>\n",
              "      <td>698.000000</td>\n",
              "      <td>...</td>\n",
              "      <td>4.000000</td>\n",
              "      <td>NaN</td>\n",
              "      <td>3.000000</td>\n",
              "      <td>2.000000</td>\n",
              "      <td>2.000000</td>\n",
              "      <td>1.000000</td>\n",
              "      <td>4.000000</td>\n",
              "      <td>0.000000</td>\n",
              "      <td>NaN</td>\n",
              "      <td>NaN</td>\n",
              "    </tr>\n",
              "    <tr>\n",
              "      <th>max</th>\n",
              "      <td>NaN</td>\n",
              "      <td>NaN</td>\n",
              "      <td>NaN</td>\n",
              "      <td>56075.000000</td>\n",
              "      <td>NaN</td>\n",
              "      <td>NaN</td>\n",
              "      <td>9.957344e+07</td>\n",
              "      <td>NaN</td>\n",
              "      <td>NaN</td>\n",
              "      <td>850.000000</td>\n",
              "      <td>...</td>\n",
              "      <td>5.000000</td>\n",
              "      <td>NaN</td>\n",
              "      <td>6.000000</td>\n",
              "      <td>3.000000</td>\n",
              "      <td>3.000000</td>\n",
              "      <td>2.000000</td>\n",
              "      <td>8.000000</td>\n",
              "      <td>1.000000</td>\n",
              "      <td>NaN</td>\n",
              "      <td>NaN</td>\n",
              "    </tr>\n",
              "  </tbody>\n",
              "</table>\n",
              "<p>11 rows × 21 columns</p>\n",
              "</div>\n",
              "      <button class=\"colab-df-convert\" onclick=\"convertToInteractive('df-913b446e-c8f0-461b-8d8f-f387dd71627a')\"\n",
              "              title=\"Convert this dataframe to an interactive table.\"\n",
              "              style=\"display:none;\">\n",
              "        \n",
              "  <svg xmlns=\"http://www.w3.org/2000/svg\" height=\"24px\"viewBox=\"0 0 24 24\"\n",
              "       width=\"24px\">\n",
              "    <path d=\"M0 0h24v24H0V0z\" fill=\"none\"/>\n",
              "    <path d=\"M18.56 5.44l.94 2.06.94-2.06 2.06-.94-2.06-.94-.94-2.06-.94 2.06-2.06.94zm-11 1L8.5 8.5l.94-2.06 2.06-.94-2.06-.94L8.5 2.5l-.94 2.06-2.06.94zm10 10l.94 2.06.94-2.06 2.06-.94-2.06-.94-.94-2.06-.94 2.06-2.06.94z\"/><path d=\"M17.41 7.96l-1.37-1.37c-.4-.4-.92-.59-1.43-.59-.52 0-1.04.2-1.43.59L10.3 9.45l-7.72 7.72c-.78.78-.78 2.05 0 2.83L4 21.41c.39.39.9.59 1.41.59.51 0 1.02-.2 1.41-.59l7.78-7.78 2.81-2.81c.8-.78.8-2.07 0-2.86zM5.41 20L4 18.59l7.72-7.72 1.47 1.35L5.41 20z\"/>\n",
              "  </svg>\n",
              "      </button>\n",
              "      \n",
              "  <style>\n",
              "    .colab-df-container {\n",
              "      display:flex;\n",
              "      flex-wrap:wrap;\n",
              "      gap: 12px;\n",
              "    }\n",
              "\n",
              "    .colab-df-convert {\n",
              "      background-color: #E8F0FE;\n",
              "      border: none;\n",
              "      border-radius: 50%;\n",
              "      cursor: pointer;\n",
              "      display: none;\n",
              "      fill: #1967D2;\n",
              "      height: 32px;\n",
              "      padding: 0 0 0 0;\n",
              "      width: 32px;\n",
              "    }\n",
              "\n",
              "    .colab-df-convert:hover {\n",
              "      background-color: #E2EBFA;\n",
              "      box-shadow: 0px 1px 2px rgba(60, 64, 67, 0.3), 0px 1px 3px 1px rgba(60, 64, 67, 0.15);\n",
              "      fill: #174EA6;\n",
              "    }\n",
              "\n",
              "    [theme=dark] .colab-df-convert {\n",
              "      background-color: #3B4455;\n",
              "      fill: #D2E3FC;\n",
              "    }\n",
              "\n",
              "    [theme=dark] .colab-df-convert:hover {\n",
              "      background-color: #434B5C;\n",
              "      box-shadow: 0px 1px 3px 1px rgba(0, 0, 0, 0.15);\n",
              "      filter: drop-shadow(0px 1px 2px rgba(0, 0, 0, 0.3));\n",
              "      fill: #FFFFFF;\n",
              "    }\n",
              "  </style>\n",
              "\n",
              "      <script>\n",
              "        const buttonEl =\n",
              "          document.querySelector('#df-913b446e-c8f0-461b-8d8f-f387dd71627a button.colab-df-convert');\n",
              "        buttonEl.style.display =\n",
              "          google.colab.kernel.accessAllowed ? 'block' : 'none';\n",
              "\n",
              "        async function convertToInteractive(key) {\n",
              "          const element = document.querySelector('#df-913b446e-c8f0-461b-8d8f-f387dd71627a');\n",
              "          const dataTable =\n",
              "            await google.colab.kernel.invokeFunction('convertToInteractive',\n",
              "                                                     [key], {});\n",
              "          if (!dataTable) return;\n",
              "\n",
              "          const docLinkHtml = 'Like what you see? Visit the ' +\n",
              "            '<a target=\"_blank\" href=https://colab.research.google.com/notebooks/data_table.ipynb>data table notebook</a>'\n",
              "            + ' to learn more about interactive tables.';\n",
              "          element.innerHTML = '';\n",
              "          dataTable['output_type'] = 'display_data';\n",
              "          await google.colab.output.renderOutput(dataTable, element);\n",
              "          const docLink = document.createElement('div');\n",
              "          docLink.innerHTML = docLinkHtml;\n",
              "          element.appendChild(docLink);\n",
              "        }\n",
              "      </script>\n",
              "    </div>\n",
              "  </div>\n",
              "  "
            ],
            "text/plain": [
              "          Quote_dt discount Home_policy_ind           zip state_id  \\\n",
              "count        49162    49162           49162  48690.000000    49162   \n",
              "unique        1460        2               2           NaN        8   \n",
              "top     2016-05-08       No               N           NaN       NY   \n",
              "freq            66    36275           39958           NaN    15460   \n",
              "mean           NaN      NaN             NaN  22515.226515      NaN   \n",
              "std            NaN      NaN             NaN  15691.485404      NaN   \n",
              "min            NaN      NaN             NaN   6051.000000      NaN   \n",
              "25%            NaN      NaN             NaN  10007.000000      NaN   \n",
              "50%            NaN      NaN             NaN  13088.000000      NaN   \n",
              "75%            NaN      NaN             NaN  33317.000000      NaN   \n",
              "max            NaN      NaN             NaN  56075.000000      NaN   \n",
              "\n",
              "       county_name      Agent_cd quoted_amt Prior_carrier_grp  credit_score  \\\n",
              "count        49162  4.373200e+04      49050             44162  48862.000000   \n",
              "unique         112           NaN      14380                 9           NaN   \n",
              "top     Miami-Dade           NaN     $1,582         Carrier_5           NaN   \n",
              "freq          2612           NaN         20              7645           NaN   \n",
              "mean           NaN  5.459507e+07        NaN               NaN    641.422066   \n",
              "std            NaN  2.527024e+07        NaN               NaN     78.960389   \n",
              "min            NaN  1.278836e+07        NaN               NaN    369.000000   \n",
              "25%            NaN  3.261900e+07        NaN               NaN    582.000000   \n",
              "50%            NaN  5.332332e+07        NaN               NaN    642.000000   \n",
              "75%            NaN  7.644067e+07        NaN               NaN    698.000000   \n",
              "max            NaN  9.957344e+07        NaN               NaN    850.000000   \n",
              "\n",
              "        ...      CAT_zone     policy_id number_drivers  num_loaned_veh  \\\n",
              "count   ...  48912.000000         49162   49162.000000    49162.000000   \n",
              "unique  ...           NaN         49162            NaN             NaN   \n",
              "top     ...           NaN  policy_87209            NaN             NaN   \n",
              "freq    ...           NaN             1            NaN             NaN   \n",
              "mean    ...      2.874407           NaN       2.162117        1.306131   \n",
              "std     ...      1.440565           NaN       1.239114        0.900568   \n",
              "min     ...      1.000000           NaN       1.000000        0.000000   \n",
              "25%     ...      2.000000           NaN       1.000000        1.000000   \n",
              "50%     ...      3.000000           NaN       2.000000        1.000000   \n",
              "75%     ...      4.000000           NaN       3.000000        2.000000   \n",
              "max     ...      5.000000           NaN       6.000000        3.000000   \n",
              "\n",
              "        num_owned_veh  num_leased_veh  total_number_veh   convert_ind  split  \\\n",
              "count    49162.000000    49162.000000      49162.000000  36871.000000  49162   \n",
              "unique            NaN             NaN               NaN           NaN      2   \n",
              "top               NaN             NaN               NaN           NaN  Train   \n",
              "freq              NaN             NaN               NaN           NaN  36871   \n",
              "mean         1.648570        0.500142          3.454843      0.111741    NaN   \n",
              "std          0.726165        0.668482          1.336875      0.315052    NaN   \n",
              "min          1.000000        0.000000          1.000000      0.000000    NaN   \n",
              "25%          1.000000        0.000000          2.000000      0.000000    NaN   \n",
              "50%          1.000000        0.000000          3.000000      0.000000    NaN   \n",
              "75%          2.000000        1.000000          4.000000      0.000000    NaN   \n",
              "max          3.000000        2.000000          8.000000      1.000000    NaN   \n",
              "\n",
              "       primary_parking  \n",
              "count            49162  \n",
              "unique               4  \n",
              "top            unknown  \n",
              "freq             34514  \n",
              "mean               NaN  \n",
              "std                NaN  \n",
              "min                NaN  \n",
              "25%                NaN  \n",
              "50%                NaN  \n",
              "75%                NaN  \n",
              "max                NaN  \n",
              "\n",
              "[11 rows x 21 columns]"
            ]
          },
          "execution_count": 58,
          "metadata": {},
          "output_type": "execute_result"
        }
      ],
      "source": [
        "policies.describe(include='all')"
      ]
    },
    {
      "cell_type": "code",
      "execution_count": null,
      "metadata": {
        "colab": {
          "base_uri": "https://localhost:8080/"
        },
        "id": "2ZnqAa7uFXOF",
        "outputId": "6086ff43-5d18-4d80-c020-4641f4ad96a4"
      },
      "outputs": [
        {
          "output_type": "stream",
          "name": "stdout",
          "text": [
            "<class 'pandas.core.frame.DataFrame'>\n",
            "RangeIndex: 49162 entries, 0 to 49161\n",
            "Data columns (total 22 columns):\n",
            " #   Column             Non-Null Count  Dtype  \n",
            "---  ------             --------------  -----  \n",
            " 0   Unnamed: 0         49162 non-null  int64  \n",
            " 1   Quote_dt           49162 non-null  object \n",
            " 2   discount           49162 non-null  object \n",
            " 3   Home_policy_ind    49162 non-null  object \n",
            " 4   zip                48690 non-null  float64\n",
            " 5   state_id           49162 non-null  object \n",
            " 6   county_name        49162 non-null  object \n",
            " 7   Agent_cd           43732 non-null  float64\n",
            " 8   quoted_amt         49050 non-null  object \n",
            " 9   Prior_carrier_grp  44162 non-null  object \n",
            " 10  credit_score       48862 non-null  float64\n",
            " 11  Cov_package_type   48392 non-null  object \n",
            " 12  CAT_zone           48912 non-null  float64\n",
            " 13  policy_id          49162 non-null  object \n",
            " 14  number_drivers     49162 non-null  int64  \n",
            " 15  num_loaned_veh     49162 non-null  int64  \n",
            " 16  num_owned_veh      49162 non-null  int64  \n",
            " 17  num_leased_veh     49162 non-null  int64  \n",
            " 18  total_number_veh   49162 non-null  int64  \n",
            " 19  convert_ind        36871 non-null  float64\n",
            " 20  split              49162 non-null  object \n",
            " 21  primary_parking    49162 non-null  object \n",
            "dtypes: float64(5), int64(6), object(11)\n",
            "memory usage: 8.3+ MB\n"
          ]
        }
      ],
      "source": [
        "policies.info()"
      ]
    },
    {
      "cell_type": "code",
      "execution_count": null,
      "metadata": {
        "colab": {
          "base_uri": "https://localhost:8080/"
        },
        "id": "1YkmBQBbCOAE",
        "outputId": "e506e5a5-b1de-47d0-b01e-05d88611066c"
      },
      "outputs": [
        {
          "output_type": "stream",
          "name": "stdout",
          "text": [
            "convert_ind          12291\n",
            "Agent_cd              5430\n",
            "Prior_carrier_grp     5000\n",
            "Cov_package_type       770\n",
            "zip                    472\n",
            "credit_score           300\n",
            "CAT_zone               250\n",
            "quoted_amt             112\n",
            "num_loaned_veh           0\n",
            "split                    0\n",
            "total_number_veh         0\n",
            "num_leased_veh           0\n",
            "num_owned_veh            0\n",
            "Quote_dt                 0\n",
            "number_drivers           0\n",
            "policy_id                0\n",
            "discount                 0\n",
            "county_name              0\n",
            "state_id                 0\n",
            "Home_policy_ind          0\n",
            "primary_parking          0\n",
            "dtype: int64\n"
          ]
        }
      ],
      "source": [
        "null_values = policies.isnull().sum().sort_values(ascending = False)\n",
        "print(null_values)"
      ]
    },
    {
      "cell_type": "code",
      "execution_count": null,
      "metadata": {
        "colab": {
          "base_uri": "https://localhost:8080/",
          "height": 298
        },
        "id": "zMTYkFnvY6on",
        "outputId": "4a590ef3-976a-407f-dbba-6e3c1c293777"
      },
      "outputs": [
        {
          "output_type": "execute_result",
          "data": {
            "text/plain": [
              "<matplotlib.axes._subplots.AxesSubplot at 0x7f01543cafd0>"
            ]
          },
          "metadata": {},
          "execution_count": 5
        },
        {
          "output_type": "display_data",
          "data": {
            "text/plain": [
              "<Figure size 432x288 with 1 Axes>"
            ],
            "image/png": "[encoded data removed]"
          },
          "metadata": {
            "needs_background": "light"
          }
        }
      ],
      "source": [
        "# Quete_dt: drop after EDA\n",
        "policies.groupby(['Quote_dt']).count()['convert_ind'].plot.line()"
      ]
    },
    {
      "cell_type": "code",
      "source": [
        "policies.groupby(['Quote_dt']).count()['policy_id'].plot.line()"
      ],
      "metadata": {
        "colab": {
          "base_uri": "https://localhost:8080/",
          "height": 298
        },
        "id": "JaG-4OxxONK5",
        "outputId": "5ec2c4a7-bb32-4b3a-f67a-d7a03434a598"
      },
      "execution_count": null,
      "outputs": [
        {
          "output_type": "execute_result",
          "data": {
            "text/plain": [
              "<matplotlib.axes._subplots.AxesSubplot at 0x7f01543e9350>"
            ]
          },
          "metadata": {},
          "execution_count": 7
        },
        {
          "output_type": "display_data",
          "data": {
            "text/plain": [
              "<Figure size 432x288 with 1 Axes>"
            ],
            "image/png": "[encoded data removed]"
          },
          "metadata": {
            "needs_background": "light"
          }
        }
      ]
    },
    {
      "cell_type": "code",
      "execution_count": null,
      "metadata": {
        "id": "jIoHT22aXhiG"
      },
      "outputs": [],
      "source": [
        "dt_convert = pd.DataFrame(policies.groupby(['Quote_dt']).mean(['convert_ind'])['convert_ind'])\n",
        "dt_cnt = pd.DataFrame(policies.Quote_dt.value_counts())\n",
        "\n",
        "dt_convert_cnt = pd.DataFrame({\"dt_convert\":dt_convert['convert_ind'], \"dt_cnt\":dt_cnt['Quote_dt']})\n"
      ]
    },
    {
      "cell_type": "code",
      "execution_count": null,
      "metadata": {
        "colab": {
          "base_uri": "https://localhost:8080/",
          "height": 206
        },
        "id": "X6Z0_szraLdW",
        "outputId": "be938dea-c649-40ae-bfbb-c542b4b150cf"
      },
      "outputs": [
        {
          "output_type": "execute_result",
          "data": {
            "text/plain": [
              "            dt_convert  dt_cnt\n",
              "2015-01-02    0.107143      32\n",
              "2015-01-03    0.000000      43\n",
              "2015-01-04    0.157895      32\n",
              "2015-01-05    0.078947      47\n",
              "2015-01-06    0.086957      32"
            ],
            "text/html": [
              "\n",
              "  <div id=\"df-3dd78a9f-bbfc-423b-ac3f-f8474c018135\">\n",
              "    <div class=\"colab-df-container\">\n",
              "      <div>\n",
              "<style scoped>\n",
              "    .dataframe tbody tr th:only-of-type {\n",
              "        vertical-align: middle;\n",
              "    }\n",
              "\n",
              "    .dataframe tbody tr th {\n",
              "        vertical-align: top;\n",
              "    }\n",
              "\n",
              "    .dataframe thead th {\n",
              "        text-align: right;\n",
              "    }\n",
              "</style>\n",
              "<table border=\"1\" class=\"dataframe\">\n",
              "  <thead>\n",
              "    <tr style=\"text-align: right;\">\n",
              "      <th></th>\n",
              "      <th>dt_convert</th>\n",
              "      <th>dt_cnt</th>\n",
              "    </tr>\n",
              "  </thead>\n",
              "  <tbody>\n",
              "    <tr>\n",
              "      <th>2015-01-02</th>\n",
              "      <td>0.107143</td>\n",
              "      <td>32</td>\n",
              "    </tr>\n",
              "    <tr>\n",
              "      <th>2015-01-03</th>\n",
              "      <td>0.000000</td>\n",
              "      <td>43</td>\n",
              "    </tr>\n",
              "    <tr>\n",
              "      <th>2015-01-04</th>\n",
              "      <td>0.157895</td>\n",
              "      <td>32</td>\n",
              "    </tr>\n",
              "    <tr>\n",
              "      <th>2015-01-05</th>\n",
              "      <td>0.078947</td>\n",
              "      <td>47</td>\n",
              "    </tr>\n",
              "    <tr>\n",
              "      <th>2015-01-06</th>\n",
              "      <td>0.086957</td>\n",
              "      <td>32</td>\n",
              "    </tr>\n",
              "  </tbody>\n",
              "</table>\n",
              "</div>\n",
              "      <button class=\"colab-df-convert\" onclick=\"convertToInteractive('df-3dd78a9f-bbfc-423b-ac3f-f8474c018135')\"\n",
              "              title=\"Convert this dataframe to an interactive table.\"\n",
              "              style=\"display:none;\">\n",
              "        \n",
              "  <svg xmlns=\"http://www.w3.org/2000/svg\" height=\"24px\"viewBox=\"0 0 24 24\"\n",
              "       width=\"24px\">\n",
              "    <path d=\"M0 0h24v24H0V0z\" fill=\"none\"/>\n",
              "    <path d=\"M18.56 5.44l.94 2.06.94-2.06 2.06-.94-2.06-.94-.94-2.06-.94 2.06-2.06.94zm-11 1L8.5 8.5l.94-2.06 2.06-.94-2.06-.94L8.5 2.5l-.94 2.06-2.06.94zm10 10l.94 2.06.94-2.06 2.06-.94-2.06-.94-.94-2.06-.94 2.06-2.06.94z\"/><path d=\"M17.41 7.96l-1.37-1.37c-.4-.4-.92-.59-1.43-.59-.52 0-1.04.2-1.43.59L10.3 9.45l-7.72 7.72c-.78.78-.78 2.05 0 2.83L4 21.41c.39.39.9.59 1.41.59.51 0 1.02-.2 1.41-.59l7.78-7.78 2.81-2.81c.8-.78.8-2.07 0-2.86zM5.41 20L4 18.59l7.72-7.72 1.47 1.35L5.41 20z\"/>\n",
              "  </svg>\n",
              "      </button>\n",
              "      \n",
              "  <style>\n",
              "    .colab-df-container {\n",
              "      display:flex;\n",
              "      flex-wrap:wrap;\n",
              "      gap: 12px;\n",
              "    }\n",
              "\n",
              "    .colab-df-convert {\n",
              "      background-color: #E8F0FE;\n",
              "      border: none;\n",
              "      border-radius: 50%;\n",
              "      cursor: pointer;\n",
              "      display: none;\n",
              "      fill: #1967D2;\n",
              "      height: 32px;\n",
              "      padding: 0 0 0 0;\n",
              "      width: 32px;\n",
              "    }\n",
              "\n",
              "    .colab-df-convert:hover {\n",
              "      background-color: #E2EBFA;\n",
              "      box-shadow: 0px 1px 2px rgba(60, 64, 67, 0.3), 0px 1px 3px 1px rgba(60, 64, 67, 0.15);\n",
              "      fill: #174EA6;\n",
              "    }\n",
              "\n",
              "    [theme=dark] .colab-df-convert {\n",
              "      background-color: #3B4455;\n",
              "      fill: #D2E3FC;\n",
              "    }\n",
              "\n",
              "    [theme=dark] .colab-df-convert:hover {\n",
              "      background-color: #434B5C;\n",
              "      box-shadow: 0px 1px 3px 1px rgba(0, 0, 0, 0.15);\n",
              "      filter: drop-shadow(0px 1px 2px rgba(0, 0, 0, 0.3));\n",
              "      fill: #FFFFFF;\n",
              "    }\n",
              "  </style>\n",
              "\n",
              "      <script>\n",
              "        const buttonEl =\n",
              "          document.querySelector('#df-3dd78a9f-bbfc-423b-ac3f-f8474c018135 button.colab-df-convert');\n",
              "        buttonEl.style.display =\n",
              "          google.colab.kernel.accessAllowed ? 'block' : 'none';\n",
              "\n",
              "        async function convertToInteractive(key) {\n",
              "          const element = document.querySelector('#df-3dd78a9f-bbfc-423b-ac3f-f8474c018135');\n",
              "          const dataTable =\n",
              "            await google.colab.kernel.invokeFunction('convertToInteractive',\n",
              "                                                     [key], {});\n",
              "          if (!dataTable) return;\n",
              "\n",
              "          const docLinkHtml = 'Like what you see? Visit the ' +\n",
              "            '<a target=\"_blank\" href=https://colab.research.google.com/notebooks/data_table.ipynb>data table notebook</a>'\n",
              "            + ' to learn more about interactive tables.';\n",
              "          element.innerHTML = '';\n",
              "          dataTable['output_type'] = 'display_data';\n",
              "          await google.colab.output.renderOutput(dataTable, element);\n",
              "          const docLink = document.createElement('div');\n",
              "          docLink.innerHTML = docLinkHtml;\n",
              "          element.appendChild(docLink);\n",
              "        }\n",
              "      </script>\n",
              "    </div>\n",
              "  </div>\n",
              "  "
            ]
          },
          "metadata": {},
          "execution_count": 40
        }
      ],
      "source": [
        "dt_convert_cnt.head()"
      ]
    },
    {
      "cell_type": "code",
      "execution_count": null,
      "metadata": {
        "colab": {
          "base_uri": "https://localhost:8080/",
          "height": 112
        },
        "id": "E9FK9EU5aN_B",
        "outputId": "fca63eb0-2eef-4b0b-f20c-b944f71d37bc"
      },
      "outputs": [
        {
          "output_type": "execute_result",
          "data": {
            "text/plain": [
              "            dt_convert    dt_cnt\n",
              "dt_convert    1.000000  0.042065\n",
              "dt_cnt        0.042065  1.000000"
            ],
            "text/html": [
              "\n",
              "  <div id=\"df-3f44a12d-3b16-4ce1-a1ad-95181811d9b9\">\n",
              "    <div class=\"colab-df-container\">\n",
              "      <div>\n",
              "<style scoped>\n",
              "    .dataframe tbody tr th:only-of-type {\n",
              "        vertical-align: middle;\n",
              "    }\n",
              "\n",
              "    .dataframe tbody tr th {\n",
              "        vertical-align: top;\n",
              "    }\n",
              "\n",
              "    .dataframe thead th {\n",
              "        text-align: right;\n",
              "    }\n",
              "</style>\n",
              "<table border=\"1\" class=\"dataframe\">\n",
              "  <thead>\n",
              "    <tr style=\"text-align: right;\">\n",
              "      <th></th>\n",
              "      <th>dt_convert</th>\n",
              "      <th>dt_cnt</th>\n",
              "    </tr>\n",
              "  </thead>\n",
              "  <tbody>\n",
              "    <tr>\n",
              "      <th>dt_convert</th>\n",
              "      <td>1.000000</td>\n",
              "      <td>0.042065</td>\n",
              "    </tr>\n",
              "    <tr>\n",
              "      <th>dt_cnt</th>\n",
              "      <td>0.042065</td>\n",
              "      <td>1.000000</td>\n",
              "    </tr>\n",
              "  </tbody>\n",
              "</table>\n",
              "</div>\n",
              "      <button class=\"colab-df-convert\" onclick=\"convertToInteractive('df-3f44a12d-3b16-4ce1-a1ad-95181811d9b9')\"\n",
              "              title=\"Convert this dataframe to an interactive table.\"\n",
              "              style=\"display:none;\">\n",
              "        \n",
              "  <svg xmlns=\"http://www.w3.org/2000/svg\" height=\"24px\"viewBox=\"0 0 24 24\"\n",
              "       width=\"24px\">\n",
              "    <path d=\"M0 0h24v24H0V0z\" fill=\"none\"/>\n",
              "    <path d=\"M18.56 5.44l.94 2.06.94-2.06 2.06-.94-2.06-.94-.94-2.06-.94 2.06-2.06.94zm-11 1L8.5 8.5l.94-2.06 2.06-.94-2.06-.94L8.5 2.5l-.94 2.06-2.06.94zm10 10l.94 2.06.94-2.06 2.06-.94-2.06-.94-.94-2.06-.94 2.06-2.06.94z\"/><path d=\"M17.41 7.96l-1.37-1.37c-.4-.4-.92-.59-1.43-.59-.52 0-1.04.2-1.43.59L10.3 9.45l-7.72 7.72c-.78.78-.78 2.05 0 2.83L4 21.41c.39.39.9.59 1.41.59.51 0 1.02-.2 1.41-.59l7.78-7.78 2.81-2.81c.8-.78.8-2.07 0-2.86zM5.41 20L4 18.59l7.72-7.72 1.47 1.35L5.41 20z\"/>\n",
              "  </svg>\n",
              "      </button>\n",
              "      \n",
              "  <style>\n",
              "    .colab-df-container {\n",
              "      display:flex;\n",
              "      flex-wrap:wrap;\n",
              "      gap: 12px;\n",
              "    }\n",
              "\n",
              "    .colab-df-convert {\n",
              "      background-color: #E8F0FE;\n",
              "      border: none;\n",
              "      border-radius: 50%;\n",
              "      cursor: pointer;\n",
              "      display: none;\n",
              "      fill: #1967D2;\n",
              "      height: 32px;\n",
              "      padding: 0 0 0 0;\n",
              "      width: 32px;\n",
              "    }\n",
              "\n",
              "    .colab-df-convert:hover {\n",
              "      background-color: #E2EBFA;\n",
              "      box-shadow: 0px 1px 2px rgba(60, 64, 67, 0.3), 0px 1px 3px 1px rgba(60, 64, 67, 0.15);\n",
              "      fill: #174EA6;\n",
              "    }\n",
              "\n",
              "    [theme=dark] .colab-df-convert {\n",
              "      background-color: #3B4455;\n",
              "      fill: #D2E3FC;\n",
              "    }\n",
              "\n",
              "    [theme=dark] .colab-df-convert:hover {\n",
              "      background-color: #434B5C;\n",
              "      box-shadow: 0px 1px 3px 1px rgba(0, 0, 0, 0.15);\n",
              "      filter: drop-shadow(0px 1px 2px rgba(0, 0, 0, 0.3));\n",
              "      fill: #FFFFFF;\n",
              "    }\n",
              "  </style>\n",
              "\n",
              "      <script>\n",
              "        const buttonEl =\n",
              "          document.querySelector('#df-3f44a12d-3b16-4ce1-a1ad-95181811d9b9 button.colab-df-convert');\n",
              "        buttonEl.style.display =\n",
              "          google.colab.kernel.accessAllowed ? 'block' : 'none';\n",
              "\n",
              "        async function convertToInteractive(key) {\n",
              "          const element = document.querySelector('#df-3f44a12d-3b16-4ce1-a1ad-95181811d9b9');\n",
              "          const dataTable =\n",
              "            await google.colab.kernel.invokeFunction('convertToInteractive',\n",
              "                                                     [key], {});\n",
              "          if (!dataTable) return;\n",
              "\n",
              "          const docLinkHtml = 'Like what you see? Visit the ' +\n",
              "            '<a target=\"_blank\" href=https://colab.research.google.com/notebooks/data_table.ipynb>data table notebook</a>'\n",
              "            + ' to learn more about interactive tables.';\n",
              "          element.innerHTML = '';\n",
              "          dataTable['output_type'] = 'display_data';\n",
              "          await google.colab.output.renderOutput(dataTable, element);\n",
              "          const docLink = document.createElement('div');\n",
              "          docLink.innerHTML = docLinkHtml;\n",
              "          element.appendChild(docLink);\n",
              "        }\n",
              "      </script>\n",
              "    </div>\n",
              "  </div>\n",
              "  "
            ]
          },
          "metadata": {},
          "execution_count": 41
        }
      ],
      "source": [
        "dt_convert_cnt.corr()"
      ]
    },
    {
      "cell_type": "markdown",
      "metadata": {
        "id": "GszAfd1XcUbN"
      },
      "source": [
        "No specific correlation between avg_convert and count per day; Drop Quete_dt"
      ]
    },
    {
      "cell_type": "code",
      "source": [
        "policies = policies.drop(columns=['Quote_dt'])"
      ],
      "metadata": {
        "id": "9QjmIYbpieBy"
      },
      "execution_count": null,
      "outputs": []
    },
    {
      "cell_type": "code",
      "execution_count": null,
      "metadata": {
        "colab": {
          "base_uri": "https://localhost:8080/",
          "height": 265
        },
        "id": "BORFYMDFYbOD",
        "outputId": "a4015e26-748f-4834-e306-acbb75bf8d52"
      },
      "outputs": [
        {
          "output_type": "display_data",
          "data": {
            "text/plain": [
              "<Figure size 432x288 with 1 Axes>"
            ],
            "image/png": "[encoded data removed]"
          },
          "metadata": {
            "needs_background": "light"
          }
        }
      ],
      "source": [
        "# discount: encode\n",
        "policies['discount'].hist()\n",
        "plt.show()\n",
        "\n",
        "policies['discount'] = policies['discount'].map({'No':0, 'Yes':1})"
      ]
    },
    {
      "cell_type": "code",
      "execution_count": null,
      "metadata": {
        "colab": {
          "base_uri": "https://localhost:8080/",
          "height": 265
        },
        "id": "Lxg0m_hGdEwa",
        "outputId": "39a9333b-9bf5-4d47-d230-a464c80159af"
      },
      "outputs": [
        {
          "output_type": "display_data",
          "data": {
            "text/plain": [
              "<Figure size 432x288 with 1 Axes>"
            ],
            "image/png": "[encoded data removed]"
          },
          "metadata": {
            "needs_background": "light"
          }
        }
      ],
      "source": [
        "# Home_policy_ind: encode\n",
        "policies['Home_policy_ind'].hist()\n",
        "plt.show()\n",
        "\n",
        "policies['Home_policy_ind'] = policies['Home_policy_ind'].map({'N':0, 'Y':1})"
      ]
    },
    {
      "cell_type": "code",
      "execution_count": null,
      "metadata": {
        "colab": {
          "base_uri": "https://localhost:8080/"
        },
        "id": "7MBx7AH1dbn6",
        "outputId": "711e771c-07ee-4d5a-b7e4-4f3b5d233447"
      },
      "outputs": [
        {
          "output_type": "execute_result",
          "data": {
            "text/plain": [
              "17"
            ]
          },
          "metadata": {},
          "execution_count": 45
        }
      ],
      "source": [
        "# zip, state_id, county: drop (why?)\n",
        "policies = policies.drop(columns=['zip','state_id','county_name'])\n",
        "policies.shape[1]"
      ]
    },
    {
      "cell_type": "code",
      "execution_count": null,
      "metadata": {
        "id": "TjuZwhC_fFJt"
      },
      "outputs": [],
      "source": [
        "# quoted_amt: fill NA with average amount by car\n",
        "policies['quoted_amt'] = policies['quoted_amt'].replace('[\\$,]','',regex=True).astype(float)"
      ]
    },
    {
      "cell_type": "code",
      "execution_count": null,
      "metadata": {
        "colab": {
          "base_uri": "https://localhost:8080/",
          "height": 282
        },
        "id": "xtBd8mahwVpH",
        "outputId": "3d12cba3-a49b-41c6-83a1-f70a7201b4a0"
      },
      "outputs": [
        {
          "output_type": "execute_result",
          "data": {
            "text/plain": [
              "<matplotlib.axes._subplots.AxesSubplot at 0x7f7e60402d90>"
            ]
          },
          "metadata": {},
          "execution_count": 47
        },
        {
          "output_type": "display_data",
          "data": {
            "text/plain": [
              "<Figure size 432x288 with 1 Axes>"
            ],
            "image/png": "[encoded data removed]"
          },
          "metadata": {
            "needs_background": "light"
          }
        }
      ],
      "source": [
        "policies['quoted_amt'].hist()"
      ]
    },
    {
      "cell_type": "code",
      "execution_count": null,
      "metadata": {
        "colab": {
          "base_uri": "https://localhost:8080/",
          "height": 295
        },
        "id": "Zwdl2qdRwaz2",
        "outputId": "392e6e3a-2c0a-4051-9325-958a4bc9614f"
      },
      "outputs": [
        {
          "output_type": "execute_result",
          "data": {
            "text/plain": [
              "<matplotlib.axes._subplots.AxesSubplot at 0x7f7e54f4b4d0>"
            ]
          },
          "metadata": {},
          "execution_count": 48
        },
        {
          "output_type": "display_data",
          "data": {
            "text/plain": [
              "<Figure size 432x288 with 1 Axes>"
            ],
            "image/png": "[encoded data removed]"
          },
          "metadata": {
            "needs_background": "light"
          }
        }
      ],
      "source": [
        "policies.groupby('total_number_veh')['quoted_amt'].mean().plot.bar()"
      ]
    },
    {
      "cell_type": "code",
      "execution_count": null,
      "metadata": {
        "colab": {
          "base_uri": "https://localhost:8080/"
        },
        "id": "uRqTvr9rxnZP",
        "outputId": "4a512ba3-452f-4313-e5eb-617e3d390033"
      },
      "outputs": [
        {
          "output_type": "execute_result",
          "data": {
            "text/plain": [
              "convert_ind          12\n",
              "Agent_cd              7\n",
              "Prior_carrier_grp     6\n",
              "Cov_package_type      1\n",
              "discount              0\n",
              "num_loaned_veh        0\n",
              "split                 0\n",
              "total_number_veh      0\n",
              "num_leased_veh        0\n",
              "num_owned_veh         0\n",
              "policy_id             0\n",
              "number_drivers        0\n",
              "Home_policy_ind       0\n",
              "CAT_zone              0\n",
              "credit_score          0\n",
              "quoted_amt            0\n",
              "primary_parking       0\n",
              "dtype: int64"
            ]
          },
          "metadata": {},
          "execution_count": 49
        }
      ],
      "source": [
        "policies[policies['total_number_veh'] == 8].isnull().sum().sort_values(ascending = False)\n",
        "# no missing value where total_numebr_veh == 8"
      ]
    },
    {
      "cell_type": "markdown",
      "metadata": {
        "id": "2y2rVbUgFyKi"
      },
      "source": [
        "since 1-7 is quite similar, we could fill na with the mean among 1-7 if total_number_veh != 8."
      ]
    },
    {
      "cell_type": "code",
      "execution_count": null,
      "metadata": {
        "colab": {
          "base_uri": "https://localhost:8080/",
          "height": 294
        },
        "id": "KEEHlwNrxYcG",
        "outputId": "e1c2c866-db3d-4a85-9112-125af683acc6"
      },
      "outputs": [
        {
          "output_type": "execute_result",
          "data": {
            "text/plain": [
              "<matplotlib.axes._subplots.AxesSubplot at 0x7f7e54cdbf50>"
            ]
          },
          "metadata": {},
          "execution_count": 50
        },
        {
          "output_type": "display_data",
          "data": {
            "text/plain": [
              "<Figure size 432x288 with 1 Axes>"
            ],
            "image/png": "[encoded data removed]"
          },
          "metadata": {
            "needs_background": "light"
          }
        }
      ],
      "source": [
        "# also check the relationship between quoted_amt and number of drivers and their combination\n",
        "policies.groupby('number_drivers')['quoted_amt'].mean().plot.bar()"
      ]
    },
    {
      "cell_type": "code",
      "execution_count": null,
      "metadata": {
        "colab": {
          "base_uri": "https://localhost:8080/",
          "height": 314
        },
        "id": "YRqCeCUbw-ZQ",
        "outputId": "92955f45-2031-4b46-ab8b-c7316c861d07"
      },
      "outputs": [
        {
          "output_type": "execute_result",
          "data": {
            "text/plain": [
              "<matplotlib.axes._subplots.AxesSubplot at 0x7f7e5016fe50>"
            ]
          },
          "metadata": {},
          "execution_count": 51
        },
        {
          "output_type": "display_data",
          "data": {
            "text/plain": [
              "<Figure size 432x288 with 1 Axes>"
            ],
            "image/png": "[encoded data removed]"
          },
          "metadata": {
            "needs_background": "light"
          }
        }
      ],
      "source": [
        "policies.groupby(['total_number_veh','number_drivers'])['quoted_amt'].mean().plot.bar()"
      ]
    },
    {
      "cell_type": "code",
      "execution_count": null,
      "metadata": {
        "id": "6gS7LW2XyE2E"
      },
      "outputs": [],
      "source": [
        "# fill na with mean of 1-7\n",
        "mean_amt = policies[policies['total_number_veh'] != 8]['quoted_amt'].mean()\n",
        "policies['quoted_amt'] = policies['quoted_amt'].fillna(mean_amt)"
      ]
    },
    {
      "cell_type": "code",
      "execution_count": null,
      "metadata": {
        "colab": {
          "base_uri": "https://localhost:8080/"
        },
        "id": "OYGsvStTaBDg",
        "outputId": "addd618e-3a3a-4856-a734-f63a4296046f"
      },
      "outputs": [
        {
          "output_type": "execute_result",
          "data": {
            "text/plain": [
              "1688"
            ]
          },
          "metadata": {},
          "execution_count": 53
        }
      ],
      "source": [
        "# Agent_cd: drop after EDA\n",
        "policies.Agent_cd.nunique()"
      ]
    },
    {
      "cell_type": "code",
      "execution_count": null,
      "metadata": {
        "id": "FJYmwG-1bzsa"
      },
      "outputs": [],
      "source": [
        "agent_avg = pd.DataFrame(policies.groupby(['Agent_cd']).mean(['convert_ind'])['convert_ind'])\n",
        "agent_cnt = pd.DataFrame(policies.Agent_cd.value_counts())\n",
        "\n",
        "dfn = pd.DataFrame({\"agent_avg\":agent_avg['convert_ind'], \"agent_cnt\":agent_cnt['Agent_cd']})"
      ]
    },
    {
      "cell_type": "code",
      "execution_count": null,
      "metadata": {
        "colab": {
          "base_uri": "https://localhost:8080/",
          "height": 206
        },
        "id": "p6yqxkHseuvI",
        "outputId": "6bf52a02-cca6-442f-8668-6f090069ccfa"
      },
      "outputs": [
        {
          "output_type": "execute_result",
          "data": {
            "text/plain": [
              "            agent_avg  agent_cnt\n",
              "12788355.0   0.230769         38\n",
              "12829115.0   0.000000          2\n",
              "12836200.0   0.120000         76\n",
              "12847318.0   0.000000          1\n",
              "12961505.0   0.285714         10"
            ],
            "text/html": [
              "\n",
              "  <div id=\"df-4d62cdb6-a34c-4c16-936d-53a3e6490917\">\n",
              "    <div class=\"colab-df-container\">\n",
              "      <div>\n",
              "<style scoped>\n",
              "    .dataframe tbody tr th:only-of-type {\n",
              "        vertical-align: middle;\n",
              "    }\n",
              "\n",
              "    .dataframe tbody tr th {\n",
              "        vertical-align: top;\n",
              "    }\n",
              "\n",
              "    .dataframe thead th {\n",
              "        text-align: right;\n",
              "    }\n",
              "</style>\n",
              "<table border=\"1\" class=\"dataframe\">\n",
              "  <thead>\n",
              "    <tr style=\"text-align: right;\">\n",
              "      <th></th>\n",
              "      <th>agent_avg</th>\n",
              "      <th>agent_cnt</th>\n",
              "    </tr>\n",
              "  </thead>\n",
              "  <tbody>\n",
              "    <tr>\n",
              "      <th>12788355.0</th>\n",
              "      <td>0.230769</td>\n",
              "      <td>38</td>\n",
              "    </tr>\n",
              "    <tr>\n",
              "      <th>12829115.0</th>\n",
              "      <td>0.000000</td>\n",
              "      <td>2</td>\n",
              "    </tr>\n",
              "    <tr>\n",
              "      <th>12836200.0</th>\n",
              "      <td>0.120000</td>\n",
              "      <td>76</td>\n",
              "    </tr>\n",
              "    <tr>\n",
              "      <th>12847318.0</th>\n",
              "      <td>0.000000</td>\n",
              "      <td>1</td>\n",
              "    </tr>\n",
              "    <tr>\n",
              "      <th>12961505.0</th>\n",
              "      <td>0.285714</td>\n",
              "      <td>10</td>\n",
              "    </tr>\n",
              "  </tbody>\n",
              "</table>\n",
              "</div>\n",
              "      <button class=\"colab-df-convert\" onclick=\"convertToInteractive('df-4d62cdb6-a34c-4c16-936d-53a3e6490917')\"\n",
              "              title=\"Convert this dataframe to an interactive table.\"\n",
              "              style=\"display:none;\">\n",
              "        \n",
              "  <svg xmlns=\"http://www.w3.org/2000/svg\" height=\"24px\"viewBox=\"0 0 24 24\"\n",
              "       width=\"24px\">\n",
              "    <path d=\"M0 0h24v24H0V0z\" fill=\"none\"/>\n",
              "    <path d=\"M18.56 5.44l.94 2.06.94-2.06 2.06-.94-2.06-.94-.94-2.06-.94 2.06-2.06.94zm-11 1L8.5 8.5l.94-2.06 2.06-.94-2.06-.94L8.5 2.5l-.94 2.06-2.06.94zm10 10l.94 2.06.94-2.06 2.06-.94-2.06-.94-.94-2.06-.94 2.06-2.06.94z\"/><path d=\"M17.41 7.96l-1.37-1.37c-.4-.4-.92-.59-1.43-.59-.52 0-1.04.2-1.43.59L10.3 9.45l-7.72 7.72c-.78.78-.78 2.05 0 2.83L4 21.41c.39.39.9.59 1.41.59.51 0 1.02-.2 1.41-.59l7.78-7.78 2.81-2.81c.8-.78.8-2.07 0-2.86zM5.41 20L4 18.59l7.72-7.72 1.47 1.35L5.41 20z\"/>\n",
              "  </svg>\n",
              "      </button>\n",
              "      \n",
              "  <style>\n",
              "    .colab-df-container {\n",
              "      display:flex;\n",
              "      flex-wrap:wrap;\n",
              "      gap: 12px;\n",
              "    }\n",
              "\n",
              "    .colab-df-convert {\n",
              "      background-color: #E8F0FE;\n",
              "      border: none;\n",
              "      border-radius: 50%;\n",
              "      cursor: pointer;\n",
              "      display: none;\n",
              "      fill: #1967D2;\n",
              "      height: 32px;\n",
              "      padding: 0 0 0 0;\n",
              "      width: 32px;\n",
              "    }\n",
              "\n",
              "    .colab-df-convert:hover {\n",
              "      background-color: #E2EBFA;\n",
              "      box-shadow: 0px 1px 2px rgba(60, 64, 67, 0.3), 0px 1px 3px 1px rgba(60, 64, 67, 0.15);\n",
              "      fill: #174EA6;\n",
              "    }\n",
              "\n",
              "    [theme=dark] .colab-df-convert {\n",
              "      background-color: #3B4455;\n",
              "      fill: #D2E3FC;\n",
              "    }\n",
              "\n",
              "    [theme=dark] .colab-df-convert:hover {\n",
              "      background-color: #434B5C;\n",
              "      box-shadow: 0px 1px 3px 1px rgba(0, 0, 0, 0.15);\n",
              "      filter: drop-shadow(0px 1px 2px rgba(0, 0, 0, 0.3));\n",
              "      fill: #FFFFFF;\n",
              "    }\n",
              "  </style>\n",
              "\n",
              "      <script>\n",
              "        const buttonEl =\n",
              "          document.querySelector('#df-4d62cdb6-a34c-4c16-936d-53a3e6490917 button.colab-df-convert');\n",
              "        buttonEl.style.display =\n",
              "          google.colab.kernel.accessAllowed ? 'block' : 'none';\n",
              "\n",
              "        async function convertToInteractive(key) {\n",
              "          const element = document.querySelector('#df-4d62cdb6-a34c-4c16-936d-53a3e6490917');\n",
              "          const dataTable =\n",
              "            await google.colab.kernel.invokeFunction('convertToInteractive',\n",
              "                                                     [key], {});\n",
              "          if (!dataTable) return;\n",
              "\n",
              "          const docLinkHtml = 'Like what you see? Visit the ' +\n",
              "            '<a target=\"_blank\" href=https://colab.research.google.com/notebooks/data_table.ipynb>data table notebook</a>'\n",
              "            + ' to learn more about interactive tables.';\n",
              "          element.innerHTML = '';\n",
              "          dataTable['output_type'] = 'display_data';\n",
              "          await google.colab.output.renderOutput(dataTable, element);\n",
              "          const docLink = document.createElement('div');\n",
              "          docLink.innerHTML = docLinkHtml;\n",
              "          element.appendChild(docLink);\n",
              "        }\n",
              "      </script>\n",
              "    </div>\n",
              "  </div>\n",
              "  "
            ]
          },
          "metadata": {},
          "execution_count": 55
        }
      ],
      "source": [
        "dfn.head()"
      ]
    },
    {
      "cell_type": "code",
      "execution_count": null,
      "metadata": {
        "colab": {
          "base_uri": "https://localhost:8080/",
          "height": 112
        },
        "id": "ze5ZEwxaePQr",
        "outputId": "36e7950b-4b46-46c5-caa4-1805b503b93f"
      },
      "outputs": [
        {
          "output_type": "execute_result",
          "data": {
            "text/plain": [
              "           agent_avg  agent_cnt\n",
              "agent_avg   1.000000   0.087227\n",
              "agent_cnt   0.087227   1.000000"
            ],
            "text/html": [
              "\n",
              "  <div id=\"df-4f115674-bb32-4d7d-a325-0b7a5da90c31\">\n",
              "    <div class=\"colab-df-container\">\n",
              "      <div>\n",
              "<style scoped>\n",
              "    .dataframe tbody tr th:only-of-type {\n",
              "        vertical-align: middle;\n",
              "    }\n",
              "\n",
              "    .dataframe tbody tr th {\n",
              "        vertical-align: top;\n",
              "    }\n",
              "\n",
              "    .dataframe thead th {\n",
              "        text-align: right;\n",
              "    }\n",
              "</style>\n",
              "<table border=\"1\" class=\"dataframe\">\n",
              "  <thead>\n",
              "    <tr style=\"text-align: right;\">\n",
              "      <th></th>\n",
              "      <th>agent_avg</th>\n",
              "      <th>agent_cnt</th>\n",
              "    </tr>\n",
              "  </thead>\n",
              "  <tbody>\n",
              "    <tr>\n",
              "      <th>agent_avg</th>\n",
              "      <td>1.000000</td>\n",
              "      <td>0.087227</td>\n",
              "    </tr>\n",
              "    <tr>\n",
              "      <th>agent_cnt</th>\n",
              "      <td>0.087227</td>\n",
              "      <td>1.000000</td>\n",
              "    </tr>\n",
              "  </tbody>\n",
              "</table>\n",
              "</div>\n",
              "      <button class=\"colab-df-convert\" onclick=\"convertToInteractive('df-4f115674-bb32-4d7d-a325-0b7a5da90c31')\"\n",
              "              title=\"Convert this dataframe to an interactive table.\"\n",
              "              style=\"display:none;\">\n",
              "        \n",
              "  <svg xmlns=\"http://www.w3.org/2000/svg\" height=\"24px\"viewBox=\"0 0 24 24\"\n",
              "       width=\"24px\">\n",
              "    <path d=\"M0 0h24v24H0V0z\" fill=\"none\"/>\n",
              "    <path d=\"M18.56 5.44l.94 2.06.94-2.06 2.06-.94-2.06-.94-.94-2.06-.94 2.06-2.06.94zm-11 1L8.5 8.5l.94-2.06 2.06-.94-2.06-.94L8.5 2.5l-.94 2.06-2.06.94zm10 10l.94 2.06.94-2.06 2.06-.94-2.06-.94-.94-2.06-.94 2.06-2.06.94z\"/><path d=\"M17.41 7.96l-1.37-1.37c-.4-.4-.92-.59-1.43-.59-.52 0-1.04.2-1.43.59L10.3 9.45l-7.72 7.72c-.78.78-.78 2.05 0 2.83L4 21.41c.39.39.9.59 1.41.59.51 0 1.02-.2 1.41-.59l7.78-7.78 2.81-2.81c.8-.78.8-2.07 0-2.86zM5.41 20L4 18.59l7.72-7.72 1.47 1.35L5.41 20z\"/>\n",
              "  </svg>\n",
              "      </button>\n",
              "      \n",
              "  <style>\n",
              "    .colab-df-container {\n",
              "      display:flex;\n",
              "      flex-wrap:wrap;\n",
              "      gap: 12px;\n",
              "    }\n",
              "\n",
              "    .colab-df-convert {\n",
              "      background-color: #E8F0FE;\n",
              "      border: none;\n",
              "      border-radius: 50%;\n",
              "      cursor: pointer;\n",
              "      display: none;\n",
              "      fill: #1967D2;\n",
              "      height: 32px;\n",
              "      padding: 0 0 0 0;\n",
              "      width: 32px;\n",
              "    }\n",
              "\n",
              "    .colab-df-convert:hover {\n",
              "      background-color: #E2EBFA;\n",
              "      box-shadow: 0px 1px 2px rgba(60, 64, 67, 0.3), 0px 1px 3px 1px rgba(60, 64, 67, 0.15);\n",
              "      fill: #174EA6;\n",
              "    }\n",
              "\n",
              "    [theme=dark] .colab-df-convert {\n",
              "      background-color: #3B4455;\n",
              "      fill: #D2E3FC;\n",
              "    }\n",
              "\n",
              "    [theme=dark] .colab-df-convert:hover {\n",
              "      background-color: #434B5C;\n",
              "      box-shadow: 0px 1px 3px 1px rgba(0, 0, 0, 0.15);\n",
              "      filter: drop-shadow(0px 1px 2px rgba(0, 0, 0, 0.3));\n",
              "      fill: #FFFFFF;\n",
              "    }\n",
              "  </style>\n",
              "\n",
              "      <script>\n",
              "        const buttonEl =\n",
              "          document.querySelector('#df-4f115674-bb32-4d7d-a325-0b7a5da90c31 button.colab-df-convert');\n",
              "        buttonEl.style.display =\n",
              "          google.colab.kernel.accessAllowed ? 'block' : 'none';\n",
              "\n",
              "        async function convertToInteractive(key) {\n",
              "          const element = document.querySelector('#df-4f115674-bb32-4d7d-a325-0b7a5da90c31');\n",
              "          const dataTable =\n",
              "            await google.colab.kernel.invokeFunction('convertToInteractive',\n",
              "                                                     [key], {});\n",
              "          if (!dataTable) return;\n",
              "\n",
              "          const docLinkHtml = 'Like what you see? Visit the ' +\n",
              "            '<a target=\"_blank\" href=https://colab.research.google.com/notebooks/data_table.ipynb>data table notebook</a>'\n",
              "            + ' to learn more about interactive tables.';\n",
              "          element.innerHTML = '';\n",
              "          dataTable['output_type'] = 'display_data';\n",
              "          await google.colab.output.renderOutput(dataTable, element);\n",
              "          const docLink = document.createElement('div');\n",
              "          docLink.innerHTML = docLinkHtml;\n",
              "          element.appendChild(docLink);\n",
              "        }\n",
              "      </script>\n",
              "    </div>\n",
              "  </div>\n",
              "  "
            ]
          },
          "metadata": {},
          "execution_count": 56
        }
      ],
      "source": [
        "dfn.corr()"
      ]
    },
    {
      "cell_type": "markdown",
      "metadata": {
        "id": "FzDTfY_Ze2qX"
      },
      "source": [
        "No specific correlation between agent_cnt and their convert_rate, drop Agent_cd"
      ]
    },
    {
      "cell_type": "code",
      "execution_count": null,
      "metadata": {
        "id": "9UblcfXfyw4M"
      },
      "outputs": [],
      "source": [
        "policies = policies.drop(columns='Agent_cd')"
      ]
    },
    {
      "cell_type": "code",
      "execution_count": null,
      "metadata": {
        "colab": {
          "base_uri": "https://localhost:8080/"
        },
        "id": "rlgV8GPUe4x1",
        "outputId": "436010c2-3f89-4726-f5e2-092f7a35cc88"
      },
      "outputs": [
        {
          "output_type": "execute_result",
          "data": {
            "text/plain": [
              "0.0    0.888259\n",
              "1.0    0.111741\n",
              "Name: convert_ind, dtype: float64"
            ]
          },
          "metadata": {},
          "execution_count": 59
        }
      ],
      "source": [
        "policies.convert_ind.value_counts(normalize=True)"
      ]
    },
    {
      "cell_type": "code",
      "execution_count": null,
      "metadata": {
        "colab": {
          "base_uri": "https://localhost:8080/"
        },
        "id": "-xUKLO-KdvNw",
        "outputId": "519a6ff3-00cc-4efc-96c7-4148653a7cd8"
      },
      "outputs": [
        {
          "output_type": "execute_result",
          "data": {
            "text/plain": [
              "16"
            ]
          },
          "metadata": {},
          "execution_count": 60
        }
      ],
      "source": [
        "policies.shape[1]"
      ]
    },
    {
      "cell_type": "code",
      "execution_count": null,
      "metadata": {
        "colab": {
          "base_uri": "https://localhost:8080/"
        },
        "id": "ecQDh9lmy5m_",
        "outputId": "f8838597-3a5b-432d-b159-babaf8b30539"
      },
      "outputs": [
        {
          "output_type": "execute_result",
          "data": {
            "text/plain": [
              "convert_ind          12291\n",
              "Prior_carrier_grp     5000\n",
              "Cov_package_type       770\n",
              "credit_score           300\n",
              "CAT_zone               250\n",
              "discount                 0\n",
              "Home_policy_ind          0\n",
              "quoted_amt               0\n",
              "policy_id                0\n",
              "number_drivers           0\n",
              "num_loaned_veh           0\n",
              "num_owned_veh            0\n",
              "num_leased_veh           0\n",
              "total_number_veh         0\n",
              "split                    0\n",
              "primary_parking          0\n",
              "dtype: int64"
            ]
          },
          "metadata": {},
          "execution_count": 61
        }
      ],
      "source": [
        "policies.isnull().sum().sort_values(ascending = False)"
      ]
    },
    {
      "cell_type": "code",
      "execution_count": null,
      "metadata": {
        "colab": {
          "base_uri": "https://localhost:8080/"
        },
        "id": "HUW9SVJGT46X",
        "outputId": "5c7c5a86-90e1-4ae2-ac89-dee35b9a6e14"
      },
      "outputs": [
        {
          "output_type": "execute_result",
          "data": {
            "text/plain": [
              "Prior_carrier_grp\n",
              "Carrier_1    6799\n",
              "Carrier_2    4406\n",
              "Carrier_3    5060\n",
              "Carrier_4    3371\n",
              "Carrier_5    7645\n",
              "Carrier_6    6067\n",
              "Carrier_7    4286\n",
              "Carrier_8    4385\n",
              "Other        2143\n",
              "Name: policy_id, dtype: int64"
            ]
          },
          "metadata": {},
          "execution_count": 62
        }
      ],
      "source": [
        "#prior_carrier\n",
        "policies['Prior_carrier_grp'].value_counts()\n",
        "#EDA of whether carrier has relationship with the final prediction result\n",
        "policy_carrier = policies.groupby(['Prior_carrier_grp'])['policy_id'].count()\n",
        "policy_carrier "
      ]
    },
    {
      "cell_type": "code",
      "execution_count": null,
      "metadata": {
        "colab": {
          "base_uri": "https://localhost:8080/"
        },
        "id": "crcgkPLKT46Y",
        "outputId": "1ee3bc03-8d03-466e-fb8e-04a234a29278"
      },
      "outputs": [
        {
          "output_type": "execute_result",
          "data": {
            "text/plain": [
              "Prior_carrier_grp\n",
              "Carrier_1    570\n",
              "Carrier_2    300\n",
              "Carrier_3    526\n",
              "Carrier_4    291\n",
              "Carrier_5    578\n",
              "Carrier_6    561\n",
              "Carrier_7    249\n",
              "Carrier_8    481\n",
              "Other        172\n",
              "Name: policy_id, dtype: int64"
            ]
          },
          "metadata": {},
          "execution_count": 63
        }
      ],
      "source": [
        "policy_carrier2 = policies[policies[\"convert_ind\"]==1].groupby(['Prior_carrier_grp'])['policy_id'].count()\n",
        "policy_carrier2"
      ]
    },
    {
      "cell_type": "code",
      "execution_count": null,
      "metadata": {
        "colab": {
          "base_uri": "https://localhost:8080/",
          "height": 332
        },
        "id": "UWj8HYbvT46Y",
        "outputId": "2485a3b0-405c-475d-9834-3a257223801e"
      },
      "outputs": [
        {
          "output_type": "execute_result",
          "data": {
            "text/plain": [
              "  Prior_carrier_grp  policy_id_x  policy_id_y  conversion_rate\n",
              "0         Carrier_1         6799          570         0.083836\n",
              "1         Carrier_2         4406          300         0.068089\n",
              "2         Carrier_3         5060          526         0.103953\n",
              "3         Carrier_4         3371          291         0.086325\n",
              "4         Carrier_5         7645          578         0.075605\n",
              "5         Carrier_6         6067          561         0.092467\n",
              "6         Carrier_7         4286          249         0.058096\n",
              "7         Carrier_8         4385          481         0.109692\n",
              "8             Other         2143          172         0.080261"
            ],
            "text/html": [
              "\n",
              "  <div id=\"df-9a433fa6-24b2-4e2d-9e3a-b4f277627a83\">\n",
              "    <div class=\"colab-df-container\">\n",
              "      <div>\n",
              "<style scoped>\n",
              "    .dataframe tbody tr th:only-of-type {\n",
              "        vertical-align: middle;\n",
              "    }\n",
              "\n",
              "    .dataframe tbody tr th {\n",
              "        vertical-align: top;\n",
              "    }\n",
              "\n",
              "    .dataframe thead th {\n",
              "        text-align: right;\n",
              "    }\n",
              "</style>\n",
              "<table border=\"1\" class=\"dataframe\">\n",
              "  <thead>\n",
              "    <tr style=\"text-align: right;\">\n",
              "      <th></th>\n",
              "      <th>Prior_carrier_grp</th>\n",
              "      <th>policy_id_x</th>\n",
              "      <th>policy_id_y</th>\n",
              "      <th>conversion_rate</th>\n",
              "    </tr>\n",
              "  </thead>\n",
              "  <tbody>\n",
              "    <tr>\n",
              "      <th>0</th>\n",
              "      <td>Carrier_1</td>\n",
              "      <td>6799</td>\n",
              "      <td>570</td>\n",
              "      <td>0.083836</td>\n",
              "    </tr>\n",
              "    <tr>\n",
              "      <th>1</th>\n",
              "      <td>Carrier_2</td>\n",
              "      <td>4406</td>\n",
              "      <td>300</td>\n",
              "      <td>0.068089</td>\n",
              "    </tr>\n",
              "    <tr>\n",
              "      <th>2</th>\n",
              "      <td>Carrier_3</td>\n",
              "      <td>5060</td>\n",
              "      <td>526</td>\n",
              "      <td>0.103953</td>\n",
              "    </tr>\n",
              "    <tr>\n",
              "      <th>3</th>\n",
              "      <td>Carrier_4</td>\n",
              "      <td>3371</td>\n",
              "      <td>291</td>\n",
              "      <td>0.086325</td>\n",
              "    </tr>\n",
              "    <tr>\n",
              "      <th>4</th>\n",
              "      <td>Carrier_5</td>\n",
              "      <td>7645</td>\n",
              "      <td>578</td>\n",
              "      <td>0.075605</td>\n",
              "    </tr>\n",
              "    <tr>\n",
              "      <th>5</th>\n",
              "      <td>Carrier_6</td>\n",
              "      <td>6067</td>\n",
              "      <td>561</td>\n",
              "      <td>0.092467</td>\n",
              "    </tr>\n",
              "    <tr>\n",
              "      <th>6</th>\n",
              "      <td>Carrier_7</td>\n",
              "      <td>4286</td>\n",
              "      <td>249</td>\n",
              "      <td>0.058096</td>\n",
              "    </tr>\n",
              "    <tr>\n",
              "      <th>7</th>\n",
              "      <td>Carrier_8</td>\n",
              "      <td>4385</td>\n",
              "      <td>481</td>\n",
              "      <td>0.109692</td>\n",
              "    </tr>\n",
              "    <tr>\n",
              "      <th>8</th>\n",
              "      <td>Other</td>\n",
              "      <td>2143</td>\n",
              "      <td>172</td>\n",
              "      <td>0.080261</td>\n",
              "    </tr>\n",
              "  </tbody>\n",
              "</table>\n",
              "</div>\n",
              "      <button class=\"colab-df-convert\" onclick=\"convertToInteractive('df-9a433fa6-24b2-4e2d-9e3a-b4f277627a83')\"\n",
              "              title=\"Convert this dataframe to an interactive table.\"\n",
              "              style=\"display:none;\">\n",
              "        \n",
              "  <svg xmlns=\"http://www.w3.org/2000/svg\" height=\"24px\"viewBox=\"0 0 24 24\"\n",
              "       width=\"24px\">\n",
              "    <path d=\"M0 0h24v24H0V0z\" fill=\"none\"/>\n",
              "    <path d=\"M18.56 5.44l.94 2.06.94-2.06 2.06-.94-2.06-.94-.94-2.06-.94 2.06-2.06.94zm-11 1L8.5 8.5l.94-2.06 2.06-.94-2.06-.94L8.5 2.5l-.94 2.06-2.06.94zm10 10l.94 2.06.94-2.06 2.06-.94-2.06-.94-.94-2.06-.94 2.06-2.06.94z\"/><path d=\"M17.41 7.96l-1.37-1.37c-.4-.4-.92-.59-1.43-.59-.52 0-1.04.2-1.43.59L10.3 9.45l-7.72 7.72c-.78.78-.78 2.05 0 2.83L4 21.41c.39.39.9.59 1.41.59.51 0 1.02-.2 1.41-.59l7.78-7.78 2.81-2.81c.8-.78.8-2.07 0-2.86zM5.41 20L4 18.59l7.72-7.72 1.47 1.35L5.41 20z\"/>\n",
              "  </svg>\n",
              "      </button>\n",
              "      \n",
              "  <style>\n",
              "    .colab-df-container {\n",
              "      display:flex;\n",
              "      flex-wrap:wrap;\n",
              "      gap: 12px;\n",
              "    }\n",
              "\n",
              "    .colab-df-convert {\n",
              "      background-color: #E8F0FE;\n",
              "      border: none;\n",
              "      border-radius: 50%;\n",
              "      cursor: pointer;\n",
              "      display: none;\n",
              "      fill: #1967D2;\n",
              "      height: 32px;\n",
              "      padding: 0 0 0 0;\n",
              "      width: 32px;\n",
              "    }\n",
              "\n",
              "    .colab-df-convert:hover {\n",
              "      background-color: #E2EBFA;\n",
              "      box-shadow: 0px 1px 2px rgba(60, 64, 67, 0.3), 0px 1px 3px 1px rgba(60, 64, 67, 0.15);\n",
              "      fill: #174EA6;\n",
              "    }\n",
              "\n",
              "    [theme=dark] .colab-df-convert {\n",
              "      background-color: #3B4455;\n",
              "      fill: #D2E3FC;\n",
              "    }\n",
              "\n",
              "    [theme=dark] .colab-df-convert:hover {\n",
              "      background-color: #434B5C;\n",
              "      box-shadow: 0px 1px 3px 1px rgba(0, 0, 0, 0.15);\n",
              "      filter: drop-shadow(0px 1px 2px rgba(0, 0, 0, 0.3));\n",
              "      fill: #FFFFFF;\n",
              "    }\n",
              "  </style>\n",
              "\n",
              "      <script>\n",
              "        const buttonEl =\n",
              "          document.querySelector('#df-9a433fa6-24b2-4e2d-9e3a-b4f277627a83 button.colab-df-convert');\n",
              "        buttonEl.style.display =\n",
              "          google.colab.kernel.accessAllowed ? 'block' : 'none';\n",
              "\n",
              "        async function convertToInteractive(key) {\n",
              "          const element = document.querySelector('#df-9a433fa6-24b2-4e2d-9e3a-b4f277627a83');\n",
              "          const dataTable =\n",
              "            await google.colab.kernel.invokeFunction('convertToInteractive',\n",
              "                                                     [key], {});\n",
              "          if (!dataTable) return;\n",
              "\n",
              "          const docLinkHtml = 'Like what you see? Visit the ' +\n",
              "            '<a target=\"_blank\" href=https://colab.research.google.com/notebooks/data_table.ipynb>data table notebook</a>'\n",
              "            + ' to learn more about interactive tables.';\n",
              "          element.innerHTML = '';\n",
              "          dataTable['output_type'] = 'display_data';\n",
              "          await google.colab.output.renderOutput(dataTable, element);\n",
              "          const docLink = document.createElement('div');\n",
              "          docLink.innerHTML = docLinkHtml;\n",
              "          element.appendChild(docLink);\n",
              "        }\n",
              "      </script>\n",
              "    </div>\n",
              "  </div>\n",
              "  "
            ]
          },
          "metadata": {},
          "execution_count": 64
        }
      ],
      "source": [
        "df = pd.merge(policy_carrier , policy_carrier2 , how=\"left\", on=[\"Prior_carrier_grp\"]).reset_index()\n",
        "df['conversion_rate'] = df['policy_id_y']/df['policy_id_x']\n",
        "df"
      ]
    },
    {
      "cell_type": "code",
      "execution_count": null,
      "metadata": {
        "colab": {
          "base_uri": "https://localhost:8080/",
          "height": 429
        },
        "id": "KxLJ6moCT46Z",
        "outputId": "0b670a0e-9d7f-4c3f-bb10-35191db1bdb1"
      },
      "outputs": [
        {
          "output_type": "display_data",
          "data": {
            "text/plain": [
              "<Figure size 720x504 with 1 Axes>"
            ],
            "image/png": "[encoded data removed]"
          },
          "metadata": {
            "needs_background": "light"
          }
        }
      ],
      "source": [
        "from matplotlib import pyplot as plt\n",
        "# Figure Size\n",
        "fig = plt.figure(figsize =(10, 7))\n",
        " \n",
        "# Horizontal Bar Plot\n",
        "plt.bar(df['Prior_carrier_grp'], df['conversion_rate'])\n",
        " \n",
        "# Show Plot\n",
        "plt.show()"
      ]
    },
    {
      "cell_type": "code",
      "execution_count": null,
      "metadata": {
        "id": "8f86Vz7HT46Z"
      },
      "outputs": [],
      "source": [
        "policies = policies.drop(labels='Prior_carrier_grp', axis=1)   \n"
      ]
    },
    {
      "cell_type": "markdown",
      "metadata": {
        "id": "GmJdw1CcT46a"
      },
      "source": [
        "The conversion rate from previous carrier is not showing a great difference so it's okay to drop the column"
      ]
    },
    {
      "cell_type": "code",
      "execution_count": null,
      "metadata": {
        "id": "fq2Sp7ytT46a"
      },
      "outputs": [],
      "source": [
        "#coverage\n",
        "policies['Cov_package_type'].value_counts()\n",
        "policies['Cov_package_type'] = policies['Cov_package_type'].map({'Low':0, 'Medium':1, 'High':2})\n",
        "policies['Cov_package_type'] = policies['Cov_package_type'].fillna(policies['Cov_package_type'].median())"
      ]
    },
    {
      "cell_type": "code",
      "execution_count": null,
      "metadata": {
        "colab": {
          "base_uri": "https://localhost:8080/",
          "height": 282
        },
        "id": "ClnGt0iHqR2H",
        "outputId": "018ea2c3-3a1d-428a-a1dd-54076fd44961"
      },
      "outputs": [
        {
          "output_type": "execute_result",
          "data": {
            "text/plain": [
              "<matplotlib.axes._subplots.AxesSubplot at 0x7f7e5485fa90>"
            ]
          },
          "metadata": {},
          "execution_count": 68
        },
        {
          "output_type": "display_data",
          "data": {
            "text/plain": [
              "<Figure size 432x288 with 1 Axes>"
            ],
            "image/png": "[encoded data removed]"
          },
          "metadata": {
            "needs_background": "light"
          }
        }
      ],
      "source": [
        "policies['credit_score'].hist(bins=20)"
      ]
    },
    {
      "cell_type": "code",
      "execution_count": null,
      "metadata": {
        "id": "9LpJBXfBT46a"
      },
      "outputs": [],
      "source": [
        "#credit score\n",
        "avg = np.mean(policies['credit_score'])\n",
        "policies['credit_score'] = policies['credit_score'].fillna(avg)"
      ]
    },
    {
      "cell_type": "code",
      "execution_count": null,
      "metadata": {
        "colab": {
          "base_uri": "https://localhost:8080/",
          "height": 283
        },
        "id": "9LVCkfJNqmcr",
        "outputId": "9ab478a0-7748-4254-d84d-4ae899c6d837"
      },
      "outputs": [
        {
          "output_type": "execute_result",
          "data": {
            "text/plain": [
              "<matplotlib.axes._subplots.AxesSubplot at 0x7f7e54a23cd0>"
            ]
          },
          "metadata": {},
          "execution_count": 70
        },
        {
          "output_type": "display_data",
          "data": {
            "text/plain": [
              "<Figure size 432x288 with 1 Axes>"
            ],
            "image/png": "[encoded data removed]"
          },
          "metadata": {
            "needs_background": "light"
          }
        }
      ],
      "source": [
        "policies['CAT_zone'].hist(bins=20)"
      ]
    },
    {
      "cell_type": "code",
      "execution_count": null,
      "metadata": {
        "id": "HcHbP72sT46a"
      },
      "outputs": [],
      "source": [
        "#Cat_zone\n",
        "policies['CAT_zone'] = policies['CAT_zone'].fillna(policies['CAT_zone'].median())\n"
      ]
    },
    {
      "cell_type": "markdown",
      "metadata": {
        "id": "FRFioTdTO7gk"
      },
      "source": [
        "### data processing summary"
      ]
    },
    {
      "cell_type": "code",
      "execution_count": null,
      "metadata": {
        "id": "HFPNKslOMTiG"
      },
      "outputs": [],
      "source": [
        "# id: drop\n",
        "policies = policies.drop(columns='Unnamed: 0') \n",
        "\n",
        "# Quete_dt: drop after EDA\n",
        "policies = policies.drop(columns=['Quote_dt'])\n",
        "\n",
        "# discount: encode\n",
        "policies['discount'] = policies['discount'].map({'No':0, 'Yes':1})\n",
        "\n",
        "# Home_policy_ind: encode\n",
        "policies['Home_policy_ind'] = policies['Home_policy_ind'].map({'N':0, 'Y':1})\n",
        "\n",
        "# zip, state_id, county: drop\n",
        "policies = policies.drop(columns=['zip','state_id','county_name'])\n",
        "\n",
        "# quoted_amt: fill NA with average amount by car number(1-7)\n",
        "# mean_amt = policies[policies['total_number_veh'] != 8]['quoted_amt'].mean() \"\"\"COMMENTED BY JANVIER\"\"\"\n",
        "policies['quoted_amt'] = policies['quoted_amt'].fillna(mean_amt)\n",
        "\n",
        "# Agent_cd: drop after EDA\n",
        "policies = policies.drop(columns='Agent_cd')\n",
        "\n",
        "\n",
        "# Prior_carrier_grp: drop after EDA\n",
        "policies = policies.drop(labels='Prior_carrier_grp', axis=1) \n",
        "\n",
        "# Cov_package_type: encode; fillna with median\n",
        "policies['Cov_package_type'].value_counts()\n",
        "policies['Cov_package_type'] = policies['Cov_package_type'].map({'Low':0, 'Medium':1, 'High':2})\n",
        "policies['Cov_package_type'] = policies['Cov_package_type'].fillna(policies['Cov_package_type'].median())\n",
        "\n",
        "# credit_score: fillna with mean\n",
        "avg = np.mean(policies['credit_score'])\n",
        "policies['credit_score'] = policies['credit_score'].fillna(avg)\n",
        "\n",
        "# CAT_zone: fillna with median\n",
        "policies['CAT_zone'] = policies['CAT_zone'].fillna(policies['CAT_zone'].median())\n",
        "\n",
        "# primary_parking: encode\n",
        "policies['primary_parking'] = policies['primary_parking'].map({'street':0, 'unknown':1, 'home/driveway':2, 'parking garage':3})\n"
      ]
    },
    {
      "cell_type": "code",
      "execution_count": null,
      "metadata": {
        "colab": {
          "base_uri": "https://localhost:8080/"
        },
        "id": "EEgx7oEtT46b",
        "outputId": "fdd4041f-985e-4e3c-9494-5a3f9b9bb013"
      },
      "outputs": [
        {
          "output_type": "stream",
          "name": "stdout",
          "text": [
            "<class 'pandas.core.frame.DataFrame'>\n",
            "RangeIndex: 49162 entries, 0 to 49161\n",
            "Data columns (total 15 columns):\n",
            " #   Column            Non-Null Count  Dtype  \n",
            "---  ------            --------------  -----  \n",
            " 0   discount          49162 non-null  int64  \n",
            " 1   Home_policy_ind   49162 non-null  int64  \n",
            " 2   quoted_amt        49162 non-null  float64\n",
            " 3   credit_score      49162 non-null  float64\n",
            " 4   Cov_package_type  49162 non-null  float64\n",
            " 5   CAT_zone          49162 non-null  float64\n",
            " 6   policy_id         49162 non-null  object \n",
            " 7   number_drivers    49162 non-null  int64  \n",
            " 8   num_loaned_veh    49162 non-null  int64  \n",
            " 9   num_owned_veh     49162 non-null  int64  \n",
            " 10  num_leased_veh    49162 non-null  int64  \n",
            " 11  total_number_veh  49162 non-null  int64  \n",
            " 12  convert_ind       36871 non-null  float64\n",
            " 13  split             49162 non-null  object \n",
            " 14  primary_parking   49162 non-null  int64  \n",
            "dtypes: float64(5), int64(8), object(2)\n",
            "memory usage: 5.6+ MB\n"
          ]
        }
      ],
      "source": [
        "#primary_parking\n",
        "policies['primary_parking'].value_counts()\n",
        "policies['primary_parking'] = policies['primary_parking'].map({'street':0, 'unknown':1, 'home/driveway':2, 'parking garage':3})\n",
        "policies.info()"
      ]
    },
    {
      "cell_type": "code",
      "execution_count": null,
      "metadata": {
        "colab": {
          "base_uri": "https://localhost:8080/",
          "height": 1000
        },
        "id": "GHyDI8gaeSaK",
        "outputId": "d5c17dbb-bfb7-4afa-ca03-a00d06bf2261"
      },
      "outputs": [
        {
          "output_type": "display_data",
          "data": {
            "text/plain": [
              "<Figure size 1440x1152 with 2 Axes>"
            ],
            "image/png": "[encoded data removed]"
          },
          "metadata": {
            "needs_background": "light"
          }
        }
      ],
      "source": [
        "from typing import ChainMap\n",
        "\n",
        "\n",
        "plt.figure(figsize = (20,16))\n",
        "plt.xticks(size = 12)\n",
        "plt.yticks(size = 12)\n",
        "sns.heatmap(policies.corr(), center= 0.0, annot = True, cmap=\"vlag\")\n",
        "plt.show()\n",
        "\n",
        "# get rid of total vehicles, deal with discount/home_policy_ind multicolinearity "
      ]
    },
    {
      "cell_type": "markdown",
      "metadata": {
        "id": "Zin_97xzPL_Q"
      },
      "source": [
        "## drivers table"
      ]
    },
    {
      "cell_type": "code",
      "execution_count": null,
      "metadata": {
        "colab": {
          "base_uri": "https://localhost:8080/",
          "height": 206
        },
        "id": "AGQ6GGMDPQy7",
        "outputId": "cd6e8940-29b7-4d3b-851a-135f6e4038a1"
      },
      "outputs": [
        {
          "output_type": "execute_result",
          "data": {
            "text/plain": [
              "   Unnamed: 0 policy_id gender living_status  age  safty_rating  \\\n",
              "0           2  policy_2      M           own   44          85.0   \n",
              "1           3  policy_2      M           own   44          63.0   \n",
              "2           4  policy_3      M           own   65          56.0   \n",
              "3           7  policy_5      M          rent   60          74.0   \n",
              "4           8  policy_5      F     dependent   20          30.0   \n",
              "\n",
              "   high_education_ind  \n",
              "0                 0.0  \n",
              "1                 1.0  \n",
              "2                 1.0  \n",
              "3                 1.0  \n",
              "4                 0.0  "
            ],
            "text/html": [
              "\n",
              "  <div id=\"df-d442967b-ad67-4671-8c50-ef47b330ea38\">\n",
              "    <div class=\"colab-df-container\">\n",
              "      <div>\n",
              "<style scoped>\n",
              "    .dataframe tbody tr th:only-of-type {\n",
              "        vertical-align: middle;\n",
              "    }\n",
              "\n",
              "    .dataframe tbody tr th {\n",
              "        vertical-align: top;\n",
              "    }\n",
              "\n",
              "    .dataframe thead th {\n",
              "        text-align: right;\n",
              "    }\n",
              "</style>\n",
              "<table border=\"1\" class=\"dataframe\">\n",
              "  <thead>\n",
              "    <tr style=\"text-align: right;\">\n",
              "      <th></th>\n",
              "      <th>Unnamed: 0</th>\n",
              "      <th>policy_id</th>\n",
              "      <th>gender</th>\n",
              "      <th>living_status</th>\n",
              "      <th>age</th>\n",
              "      <th>safty_rating</th>\n",
              "      <th>high_education_ind</th>\n",
              "    </tr>\n",
              "  </thead>\n",
              "  <tbody>\n",
              "    <tr>\n",
              "      <th>0</th>\n",
              "      <td>2</td>\n",
              "      <td>policy_2</td>\n",
              "      <td>M</td>\n",
              "      <td>own</td>\n",
              "      <td>44</td>\n",
              "      <td>85.0</td>\n",
              "      <td>0.0</td>\n",
              "    </tr>\n",
              "    <tr>\n",
              "      <th>1</th>\n",
              "      <td>3</td>\n",
              "      <td>policy_2</td>\n",
              "      <td>M</td>\n",
              "      <td>own</td>\n",
              "      <td>44</td>\n",
              "      <td>63.0</td>\n",
              "      <td>1.0</td>\n",
              "    </tr>\n",
              "    <tr>\n",
              "      <th>2</th>\n",
              "      <td>4</td>\n",
              "      <td>policy_3</td>\n",
              "      <td>M</td>\n",
              "      <td>own</td>\n",
              "      <td>65</td>\n",
              "      <td>56.0</td>\n",
              "      <td>1.0</td>\n",
              "    </tr>\n",
              "    <tr>\n",
              "      <th>3</th>\n",
              "      <td>7</td>\n",
              "      <td>policy_5</td>\n",
              "      <td>M</td>\n",
              "      <td>rent</td>\n",
              "      <td>60</td>\n",
              "      <td>74.0</td>\n",
              "      <td>1.0</td>\n",
              "    </tr>\n",
              "    <tr>\n",
              "      <th>4</th>\n",
              "      <td>8</td>\n",
              "      <td>policy_5</td>\n",
              "      <td>F</td>\n",
              "      <td>dependent</td>\n",
              "      <td>20</td>\n",
              "      <td>30.0</td>\n",
              "      <td>0.0</td>\n",
              "    </tr>\n",
              "  </tbody>\n",
              "</table>\n",
              "</div>\n",
              "      <button class=\"colab-df-convert\" onclick=\"convertToInteractive('df-d442967b-ad67-4671-8c50-ef47b330ea38')\"\n",
              "              title=\"Convert this dataframe to an interactive table.\"\n",
              "              style=\"display:none;\">\n",
              "        \n",
              "  <svg xmlns=\"http://www.w3.org/2000/svg\" height=\"24px\"viewBox=\"0 0 24 24\"\n",
              "       width=\"24px\">\n",
              "    <path d=\"M0 0h24v24H0V0z\" fill=\"none\"/>\n",
              "    <path d=\"M18.56 5.44l.94 2.06.94-2.06 2.06-.94-2.06-.94-.94-2.06-.94 2.06-2.06.94zm-11 1L8.5 8.5l.94-2.06 2.06-.94-2.06-.94L8.5 2.5l-.94 2.06-2.06.94zm10 10l.94 2.06.94-2.06 2.06-.94-2.06-.94-.94-2.06-.94 2.06-2.06.94z\"/><path d=\"M17.41 7.96l-1.37-1.37c-.4-.4-.92-.59-1.43-.59-.52 0-1.04.2-1.43.59L10.3 9.45l-7.72 7.72c-.78.78-.78 2.05 0 2.83L4 21.41c.39.39.9.59 1.41.59.51 0 1.02-.2 1.41-.59l7.78-7.78 2.81-2.81c.8-.78.8-2.07 0-2.86zM5.41 20L4 18.59l7.72-7.72 1.47 1.35L5.41 20z\"/>\n",
              "  </svg>\n",
              "      </button>\n",
              "      \n",
              "  <style>\n",
              "    .colab-df-container {\n",
              "      display:flex;\n",
              "      flex-wrap:wrap;\n",
              "      gap: 12px;\n",
              "    }\n",
              "\n",
              "    .colab-df-convert {\n",
              "      background-color: #E8F0FE;\n",
              "      border: none;\n",
              "      border-radius: 50%;\n",
              "      cursor: pointer;\n",
              "      display: none;\n",
              "      fill: #1967D2;\n",
              "      height: 32px;\n",
              "      padding: 0 0 0 0;\n",
              "      width: 32px;\n",
              "    }\n",
              "\n",
              "    .colab-df-convert:hover {\n",
              "      background-color: #E2EBFA;\n",
              "      box-shadow: 0px 1px 2px rgba(60, 64, 67, 0.3), 0px 1px 3px 1px rgba(60, 64, 67, 0.15);\n",
              "      fill: #174EA6;\n",
              "    }\n",
              "\n",
              "    [theme=dark] .colab-df-convert {\n",
              "      background-color: #3B4455;\n",
              "      fill: #D2E3FC;\n",
              "    }\n",
              "\n",
              "    [theme=dark] .colab-df-convert:hover {\n",
              "      background-color: #434B5C;\n",
              "      box-shadow: 0px 1px 3px 1px rgba(0, 0, 0, 0.15);\n",
              "      filter: drop-shadow(0px 1px 2px rgba(0, 0, 0, 0.3));\n",
              "      fill: #FFFFFF;\n",
              "    }\n",
              "  </style>\n",
              "\n",
              "      <script>\n",
              "        const buttonEl =\n",
              "          document.querySelector('#df-d442967b-ad67-4671-8c50-ef47b330ea38 button.colab-df-convert');\n",
              "        buttonEl.style.display =\n",
              "          google.colab.kernel.accessAllowed ? 'block' : 'none';\n",
              "\n",
              "        async function convertToInteractive(key) {\n",
              "          const element = document.querySelector('#df-d442967b-ad67-4671-8c50-ef47b330ea38');\n",
              "          const dataTable =\n",
              "            await google.colab.kernel.invokeFunction('convertToInteractive',\n",
              "                                                     [key], {});\n",
              "          if (!dataTable) return;\n",
              "\n",
              "          const docLinkHtml = 'Like what you see? Visit the ' +\n",
              "            '<a target=\"_blank\" href=https://colab.research.google.com/notebooks/data_table.ipynb>data table notebook</a>'\n",
              "            + ' to learn more about interactive tables.';\n",
              "          element.innerHTML = '';\n",
              "          dataTable['output_type'] = 'display_data';\n",
              "          await google.colab.output.renderOutput(dataTable, element);\n",
              "          const docLink = document.createElement('div');\n",
              "          docLink.innerHTML = docLinkHtml;\n",
              "          element.appendChild(docLink);\n",
              "        }\n",
              "      </script>\n",
              "    </div>\n",
              "  </div>\n",
              "  "
            ]
          },
          "metadata": {},
          "execution_count": 74
        }
      ],
      "source": [
        "drivers.head()"
      ]
    },
    {
      "cell_type": "code",
      "execution_count": null,
      "metadata": {
        "colab": {
          "base_uri": "https://localhost:8080/",
          "height": 394
        },
        "id": "S4EiGCZ4Pdes",
        "outputId": "a65f5568-497c-4d36-e811-99619a28c782"
      },
      "outputs": [
        {
          "output_type": "execute_result",
          "data": {
            "text/plain": [
              "           Unnamed: 0     policy_id  gender living_status            age  \\\n",
              "count   106294.000000        106294  106294        106244  106294.000000   \n",
              "unique            NaN         49162       2             3            NaN   \n",
              "top               NaN  policy_92901       M     dependent            NaN   \n",
              "freq              NaN             6   53980         39654            NaN   \n",
              "mean    101689.784108           NaN     NaN           NaN      38.477318   \n",
              "std      60406.123405           NaN     NaN           NaN      18.432746   \n",
              "min          2.000000           NaN     NaN           NaN      16.000000   \n",
              "25%      49453.750000           NaN     NaN           NaN      18.000000   \n",
              "50%      99647.500000           NaN     NaN           NaN      40.000000   \n",
              "75%     154169.750000           NaN     NaN           NaN      53.000000   \n",
              "max     206110.000000           NaN     NaN           NaN     147.000000   \n",
              "\n",
              "         safty_rating  high_education_ind  \n",
              "count   106217.000000       105751.000000  \n",
              "unique            NaN                 NaN  \n",
              "top               NaN                 NaN  \n",
              "freq              NaN                 NaN  \n",
              "mean        69.411092            0.404488  \n",
              "std         16.760435            0.490795  \n",
              "min        -28.000000            0.000000  \n",
              "25%         60.000000            0.000000  \n",
              "50%         72.000000            0.000000  \n",
              "75%         82.000000            1.000000  \n",
              "max        100.000000            1.000000  "
            ],
            "text/html": [
              "\n",
              "  <div id=\"df-d1d357ab-cd28-44fa-9c09-a95e078a4f16\">\n",
              "    <div class=\"colab-df-container\">\n",
              "      <div>\n",
              "<style scoped>\n",
              "    .dataframe tbody tr th:only-of-type {\n",
              "        vertical-align: middle;\n",
              "    }\n",
              "\n",
              "    .dataframe tbody tr th {\n",
              "        vertical-align: top;\n",
              "    }\n",
              "\n",
              "    .dataframe thead th {\n",
              "        text-align: right;\n",
              "    }\n",
              "</style>\n",
              "<table border=\"1\" class=\"dataframe\">\n",
              "  <thead>\n",
              "    <tr style=\"text-align: right;\">\n",
              "      <th></th>\n",
              "      <th>Unnamed: 0</th>\n",
              "      <th>policy_id</th>\n",
              "      <th>gender</th>\n",
              "      <th>living_status</th>\n",
              "      <th>age</th>\n",
              "      <th>safty_rating</th>\n",
              "      <th>high_education_ind</th>\n",
              "    </tr>\n",
              "  </thead>\n",
              "  <tbody>\n",
              "    <tr>\n",
              "      <th>count</th>\n",
              "      <td>106294.000000</td>\n",
              "      <td>106294</td>\n",
              "      <td>106294</td>\n",
              "      <td>106244</td>\n",
              "      <td>106294.000000</td>\n",
              "      <td>106217.000000</td>\n",
              "      <td>105751.000000</td>\n",
              "    </tr>\n",
              "    <tr>\n",
              "      <th>unique</th>\n",
              "      <td>NaN</td>\n",
              "      <td>49162</td>\n",
              "      <td>2</td>\n",
              "      <td>3</td>\n",
              "      <td>NaN</td>\n",
              "      <td>NaN</td>\n",
              "      <td>NaN</td>\n",
              "    </tr>\n",
              "    <tr>\n",
              "      <th>top</th>\n",
              "      <td>NaN</td>\n",
              "      <td>policy_92901</td>\n",
              "      <td>M</td>\n",
              "      <td>dependent</td>\n",
              "      <td>NaN</td>\n",
              "      <td>NaN</td>\n",
              "      <td>NaN</td>\n",
              "    </tr>\n",
              "    <tr>\n",
              "      <th>freq</th>\n",
              "      <td>NaN</td>\n",
              "      <td>6</td>\n",
              "      <td>53980</td>\n",
              "      <td>39654</td>\n",
              "      <td>NaN</td>\n",
              "      <td>NaN</td>\n",
              "      <td>NaN</td>\n",
              "    </tr>\n",
              "    <tr>\n",
              "      <th>mean</th>\n",
              "      <td>101689.784108</td>\n",
              "      <td>NaN</td>\n",
              "      <td>NaN</td>\n",
              "      <td>NaN</td>\n",
              "      <td>38.477318</td>\n",
              "      <td>69.411092</td>\n",
              "      <td>0.404488</td>\n",
              "    </tr>\n",
              "    <tr>\n",
              "      <th>std</th>\n",
              "      <td>60406.123405</td>\n",
              "      <td>NaN</td>\n",
              "      <td>NaN</td>\n",
              "      <td>NaN</td>\n",
              "      <td>18.432746</td>\n",
              "      <td>16.760435</td>\n",
              "      <td>0.490795</td>\n",
              "    </tr>\n",
              "    <tr>\n",
              "      <th>min</th>\n",
              "      <td>2.000000</td>\n",
              "      <td>NaN</td>\n",
              "      <td>NaN</td>\n",
              "      <td>NaN</td>\n",
              "      <td>16.000000</td>\n",
              "      <td>-28.000000</td>\n",
              "      <td>0.000000</td>\n",
              "    </tr>\n",
              "    <tr>\n",
              "      <th>25%</th>\n",
              "      <td>49453.750000</td>\n",
              "      <td>NaN</td>\n",
              "      <td>NaN</td>\n",
              "      <td>NaN</td>\n",
              "      <td>18.000000</td>\n",
              "      <td>60.000000</td>\n",
              "      <td>0.000000</td>\n",
              "    </tr>\n",
              "    <tr>\n",
              "      <th>50%</th>\n",
              "      <td>99647.500000</td>\n",
              "      <td>NaN</td>\n",
              "      <td>NaN</td>\n",
              "      <td>NaN</td>\n",
              "      <td>40.000000</td>\n",
              "      <td>72.000000</td>\n",
              "      <td>0.000000</td>\n",
              "    </tr>\n",
              "    <tr>\n",
              "      <th>75%</th>\n",
              "      <td>154169.750000</td>\n",
              "      <td>NaN</td>\n",
              "      <td>NaN</td>\n",
              "      <td>NaN</td>\n",
              "      <td>53.000000</td>\n",
              "      <td>82.000000</td>\n",
              "      <td>1.000000</td>\n",
              "    </tr>\n",
              "    <tr>\n",
              "      <th>max</th>\n",
              "      <td>206110.000000</td>\n",
              "      <td>NaN</td>\n",
              "      <td>NaN</td>\n",
              "      <td>NaN</td>\n",
              "      <td>147.000000</td>\n",
              "      <td>100.000000</td>\n",
              "      <td>1.000000</td>\n",
              "    </tr>\n",
              "  </tbody>\n",
              "</table>\n",
              "</div>\n",
              "      <button class=\"colab-df-convert\" onclick=\"convertToInteractive('df-d1d357ab-cd28-44fa-9c09-a95e078a4f16')\"\n",
              "              title=\"Convert this dataframe to an interactive table.\"\n",
              "              style=\"display:none;\">\n",
              "        \n",
              "  <svg xmlns=\"http://www.w3.org/2000/svg\" height=\"24px\"viewBox=\"0 0 24 24\"\n",
              "       width=\"24px\">\n",
              "    <path d=\"M0 0h24v24H0V0z\" fill=\"none\"/>\n",
              "    <path d=\"M18.56 5.44l.94 2.06.94-2.06 2.06-.94-2.06-.94-.94-2.06-.94 2.06-2.06.94zm-11 1L8.5 8.5l.94-2.06 2.06-.94-2.06-.94L8.5 2.5l-.94 2.06-2.06.94zm10 10l.94 2.06.94-2.06 2.06-.94-2.06-.94-.94-2.06-.94 2.06-2.06.94z\"/><path d=\"M17.41 7.96l-1.37-1.37c-.4-.4-.92-.59-1.43-.59-.52 0-1.04.2-1.43.59L10.3 9.45l-7.72 7.72c-.78.78-.78 2.05 0 2.83L4 21.41c.39.39.9.59 1.41.59.51 0 1.02-.2 1.41-.59l7.78-7.78 2.81-2.81c.8-.78.8-2.07 0-2.86zM5.41 20L4 18.59l7.72-7.72 1.47 1.35L5.41 20z\"/>\n",
              "  </svg>\n",
              "      </button>\n",
              "      \n",
              "  <style>\n",
              "    .colab-df-container {\n",
              "      display:flex;\n",
              "      flex-wrap:wrap;\n",
              "      gap: 12px;\n",
              "    }\n",
              "\n",
              "    .colab-df-convert {\n",
              "      background-color: #E8F0FE;\n",
              "      border: none;\n",
              "      border-radius: 50%;\n",
              "      cursor: pointer;\n",
              "      display: none;\n",
              "      fill: #1967D2;\n",
              "      height: 32px;\n",
              "      padding: 0 0 0 0;\n",
              "      width: 32px;\n",
              "    }\n",
              "\n",
              "    .colab-df-convert:hover {\n",
              "      background-color: #E2EBFA;\n",
              "      box-shadow: 0px 1px 2px rgba(60, 64, 67, 0.3), 0px 1px 3px 1px rgba(60, 64, 67, 0.15);\n",
              "      fill: #174EA6;\n",
              "    }\n",
              "\n",
              "    [theme=dark] .colab-df-convert {\n",
              "      background-color: #3B4455;\n",
              "      fill: #D2E3FC;\n",
              "    }\n",
              "\n",
              "    [theme=dark] .colab-df-convert:hover {\n",
              "      background-color: #434B5C;\n",
              "      box-shadow: 0px 1px 3px 1px rgba(0, 0, 0, 0.15);\n",
              "      filter: drop-shadow(0px 1px 2px rgba(0, 0, 0, 0.3));\n",
              "      fill: #FFFFFF;\n",
              "    }\n",
              "  </style>\n",
              "\n",
              "      <script>\n",
              "        const buttonEl =\n",
              "          document.querySelector('#df-d1d357ab-cd28-44fa-9c09-a95e078a4f16 button.colab-df-convert');\n",
              "        buttonEl.style.display =\n",
              "          google.colab.kernel.accessAllowed ? 'block' : 'none';\n",
              "\n",
              "        async function convertToInteractive(key) {\n",
              "          const element = document.querySelector('#df-d1d357ab-cd28-44fa-9c09-a95e078a4f16');\n",
              "          const dataTable =\n",
              "            await google.colab.kernel.invokeFunction('convertToInteractive',\n",
              "                                                     [key], {});\n",
              "          if (!dataTable) return;\n",
              "\n",
              "          const docLinkHtml = 'Like what you see? Visit the ' +\n",
              "            '<a target=\"_blank\" href=https://colab.research.google.com/notebooks/data_table.ipynb>data table notebook</a>'\n",
              "            + ' to learn more about interactive tables.';\n",
              "          element.innerHTML = '';\n",
              "          dataTable['output_type'] = 'display_data';\n",
              "          await google.colab.output.renderOutput(dataTable, element);\n",
              "          const docLink = document.createElement('div');\n",
              "          docLink.innerHTML = docLinkHtml;\n",
              "          element.appendChild(docLink);\n",
              "        }\n",
              "      </script>\n",
              "    </div>\n",
              "  </div>\n",
              "  "
            ]
          },
          "metadata": {},
          "execution_count": 75
        }
      ],
      "source": [
        "drivers.describe(include='all')"
      ]
    },
    {
      "cell_type": "code",
      "execution_count": null,
      "metadata": {
        "colab": {
          "base_uri": "https://localhost:8080/"
        },
        "id": "2E5WfxHxtRaz",
        "outputId": "50f00872-1db8-47d1-e4b0-0b6ce96cf087"
      },
      "outputs": [
        {
          "output_type": "execute_result",
          "data": {
            "text/plain": [
              "count    106294.000000\n",
              "mean         38.477318\n",
              "std          18.432746\n",
              "min          16.000000\n",
              "25%          18.000000\n",
              "50%          40.000000\n",
              "75%          53.000000\n",
              "max         147.000000\n",
              "Name: age, dtype: float64"
            ]
          },
          "metadata": {},
          "execution_count": 76
        }
      ],
      "source": [
        "drivers['age'].describe()"
      ]
    },
    {
      "cell_type": "code",
      "execution_count": null,
      "metadata": {
        "colab": {
          "base_uri": "https://localhost:8080/"
        },
        "id": "hoWFBOa9tfg5",
        "outputId": "1415052e-92f0-4013-b91f-8aea37b2a119"
      },
      "outputs": [
        {
          "output_type": "execute_result",
          "data": {
            "text/plain": [
              "Unnamed: 0            234\n",
              "policy_id             234\n",
              "gender                234\n",
              "living_status         234\n",
              "age                   234\n",
              "safty_rating          234\n",
              "high_education_ind    234\n",
              "dtype: int64"
            ]
          },
          "metadata": {},
          "execution_count": 77
        }
      ],
      "source": [
        "drivers[drivers.age > 90].count()"
      ]
    },
    {
      "cell_type": "code",
      "execution_count": null,
      "metadata": {
        "colab": {
          "base_uri": "https://localhost:8080/"
        },
        "id": "Ts4cf4C0QfF0",
        "outputId": "2d87b0da-056c-4456-c9dd-417c66504c33"
      },
      "outputs": [
        {
          "output_type": "execute_result",
          "data": {
            "text/plain": [
              "Index(['policy_id', 'gender', 'living_status', 'age', 'safty_rating',\n",
              "       'high_education_ind'],\n",
              "      dtype='object')"
            ]
          },
          "metadata": {},
          "execution_count": 78
        }
      ],
      "source": [
        "# id: drop\n",
        "drivers = drivers.drop(columns=['Unnamed: 0'])\n",
        "drivers.columns"
      ]
    },
    {
      "cell_type": "code",
      "execution_count": null,
      "metadata": {
        "colab": {
          "base_uri": "https://localhost:8080/"
        },
        "id": "nMZSAF5mPh83",
        "outputId": "819cf7d4-288b-4d62-bcac-84a7f5ff7465"
      },
      "outputs": [
        {
          "output_type": "execute_result",
          "data": {
            "text/plain": [
              "0    1\n",
              "1    1\n",
              "2    1\n",
              "3    1\n",
              "4    0\n",
              "Name: gender, dtype: int64"
            ]
          },
          "metadata": {},
          "execution_count": 79
        }
      ],
      "source": [
        "# gender: encode\n",
        "drivers['gender'] = drivers['gender'].map({\"M\":1, \"F\":0})\n",
        "drivers['gender'].head()"
      ]
    },
    {
      "cell_type": "code",
      "execution_count": null,
      "metadata": {
        "colab": {
          "base_uri": "https://localhost:8080/",
          "height": 525
        },
        "id": "AXyZbNY1PmQK",
        "outputId": "48d4658b-9aea-4db8-9c8d-a9ba58a34d99"
      },
      "outputs": [
        {
          "output_type": "execute_result",
          "data": {
            "text/plain": [
              "(array([3.7395e+04, 2.2060e+03, 1.0500e+03, 3.3950e+03, 4.9370e+03,\n",
              "        8.1300e+03, 7.9790e+03, 8.7010e+03, 1.1008e+04, 7.2300e+03,\n",
              "        6.1780e+03, 3.2550e+03, 1.9740e+03, 1.4290e+03, 6.6300e+02,\n",
              "        3.2900e+02, 2.0100e+02, 9.9000e+01, 5.8000e+01, 3.8000e+01,\n",
              "        8.0000e+00, 1.1000e+01, 8.0000e+00, 6.0000e+00, 4.0000e+00,\n",
              "        0.0000e+00, 0.0000e+00, 1.0000e+00, 0.0000e+00, 1.0000e+00]),\n",
              " array([ 16.        ,  20.36666667,  24.73333333,  29.1       ,\n",
              "         33.46666667,  37.83333333,  42.2       ,  46.56666667,\n",
              "         50.93333333,  55.3       ,  59.66666667,  64.03333333,\n",
              "         68.4       ,  72.76666667,  77.13333333,  81.5       ,\n",
              "         85.86666667,  90.23333333,  94.6       ,  98.96666667,\n",
              "        103.33333333, 107.7       , 112.06666667, 116.43333333,\n",
              "        120.8       , 125.16666667, 129.53333333, 133.9       ,\n",
              "        138.26666667, 142.63333333, 147.        ]),\n",
              " <a list of 30 Patch objects>)"
            ]
          },
          "metadata": {},
          "execution_count": 80
        },
        {
          "output_type": "display_data",
          "data": {
            "text/plain": [
              "<Figure size 432x288 with 1 Axes>"
            ],
            "image/png": "[encoded data removed]"
          },
          "metadata": {
            "needs_background": "light"
          }
        }
      ],
      "source": [
        "# age: fill >90 with 90\n",
        "plt.hist(x=drivers['age'], bins=30)"
      ]
    },
    {
      "cell_type": "code",
      "execution_count": null,
      "metadata": {
        "colab": {
          "base_uri": "https://localhost:8080/"
        },
        "id": "BEzcExIHPybr",
        "outputId": "68a4f00f-68e9-479d-90e3-1e7e29e7924a"
      },
      "outputs": [
        {
          "output_type": "stream",
          "name": "stderr",
          "text": [
            "/usr/local/lib/python3.7/dist-packages/pandas/core/indexing.py:1732: SettingWithCopyWarning: \n",
            "A value is trying to be set on a copy of a slice from a DataFrame\n",
            "\n",
            "See the caveats in the documentation: https://pandas.pydata.org/pandas-docs/stable/user_guide/indexing.html#returning-a-view-versus-a-copy\n",
            "  self._setitem_single_block(indexer, value, name)\n"
          ]
        },
        {
          "output_type": "execute_result",
          "data": {
            "text/plain": [
              "count    106294.000000\n",
              "mean         38.459038\n",
              "std          18.373237\n",
              "min          16.000000\n",
              "25%          18.000000\n",
              "50%          40.000000\n",
              "75%          53.000000\n",
              "max          90.000000\n",
              "Name: age, dtype: float64"
            ]
          },
          "metadata": {},
          "execution_count": 81
        }
      ],
      "source": [
        "# Replace age>90 with median\n",
        "# drivers.age.median()=40\n",
        "drivers.age.loc[drivers.age > 90] = 90\n",
        "drivers.age.describe()"
      ]
    },
    {
      "cell_type": "code",
      "execution_count": null,
      "metadata": {
        "colab": {
          "base_uri": "https://localhost:8080/",
          "height": 473
        },
        "id": "zsuZHgDruKZ3",
        "outputId": "dcb55602-8754-400d-97d0-94ba39319cc5"
      },
      "outputs": [
        {
          "output_type": "execute_result",
          "data": {
            "text/plain": [
              "(array([28408.,  8987.,  2100.,   155.,   524.,  1058.,  2814.,  2324.,\n",
              "         4158.,  3171.,  5312.,  3975.,  6420.,  4387.,  4555.,  6453.,\n",
              "         3842.,  4817.,  2644.,  3051.,  1665.,  1766.,   852.,   979.,\n",
              "          450.,   522.,   249.,   221.,    87.,   348.]),\n",
              " array([16.        , 18.46666667, 20.93333333, 23.4       , 25.86666667,\n",
              "        28.33333333, 30.8       , 33.26666667, 35.73333333, 38.2       ,\n",
              "        40.66666667, 43.13333333, 45.6       , 48.06666667, 50.53333333,\n",
              "        53.        , 55.46666667, 57.93333333, 60.4       , 62.86666667,\n",
              "        65.33333333, 67.8       , 70.26666667, 72.73333333, 75.2       ,\n",
              "        77.66666667, 80.13333333, 82.6       , 85.06666667, 87.53333333,\n",
              "        90.        ]),\n",
              " <a list of 30 Patch objects>)"
            ]
          },
          "metadata": {},
          "execution_count": 82
        },
        {
          "output_type": "display_data",
          "data": {
            "text/plain": [
              "<Figure size 432x288 with 1 Axes>"
            ],
            "image/png": "[encoded data removed]"
          },
          "metadata": {
            "needs_background": "light"
          }
        }
      ],
      "source": [
        "plt.hist(x=drivers['age'], bins=30)"
      ]
    },
    {
      "cell_type": "code",
      "execution_count": null,
      "metadata": {
        "colab": {
          "base_uri": "https://localhost:8080/"
        },
        "id": "TQGqNcc-P2_l",
        "outputId": "244cdb9a-bff8-433b-a92d-588c8d19bdbe"
      },
      "outputs": [
        {
          "output_type": "execute_result",
          "data": {
            "text/plain": [
              "safty_rating          77\n",
              "living_status         50\n",
              "policy_id              0\n",
              "gender                 0\n",
              "age                    0\n",
              "high_education_ind     0\n",
              "dtype: int64"
            ]
          },
          "metadata": {},
          "execution_count": 83
        }
      ],
      "source": [
        "# high_education_ind: fill na with mode\n",
        "drivers.high_education_ind = drivers.high_education_ind.fillna(drivers.high_education_ind.mode()[0])\n",
        "drivers.isnull().sum().sort_values(ascending = False)"
      ]
    },
    {
      "cell_type": "code",
      "execution_count": null,
      "metadata": {
        "colab": {
          "base_uri": "https://localhost:8080/"
        },
        "id": "bAqezMhoPe1r",
        "outputId": "9d4fc00a-98d4-4d21-e508-f5a41f4c2358"
      },
      "outputs": [
        {
          "output_type": "execute_result",
          "data": {
            "text/plain": [
              "living_status         50\n",
              "policy_id              0\n",
              "gender                 0\n",
              "age                    0\n",
              "safty_rating           0\n",
              "high_education_ind     0\n",
              "dtype: int64"
            ]
          },
          "metadata": {},
          "execution_count": 84
        }
      ],
      "source": [
        "# safety_rating: fill na with mean\n",
        "drivers.safty_rating.fillna(drivers.safty_rating.mean(), inplace=True)\n",
        "drivers.isnull().sum().sort_values(ascending = False)"
      ]
    },
    {
      "cell_type": "code",
      "execution_count": null,
      "metadata": {
        "colab": {
          "base_uri": "https://localhost:8080/"
        },
        "id": "5s2iJr2vQZ5c",
        "outputId": "d32176c9-c0c6-49aa-9733-e3c8d46f1ec7"
      },
      "outputs": [
        {
          "output_type": "stream",
          "name": "stdout",
          "text": [
            "dependent    39654\n",
            "own          36526\n",
            "rent         30064\n",
            "NaN             50\n",
            "Name: living_status, dtype: int64\n"
          ]
        },
        {
          "output_type": "execute_result",
          "data": {
            "text/plain": [
              "dependent    39704\n",
              "own          36526\n",
              "rent         30064\n",
              "Name: living_status, dtype: int64"
            ]
          },
          "metadata": {},
          "execution_count": 85
        }
      ],
      "source": [
        "# living_status: fill na with majority\n",
        "# aggregation: dummy columns with count\n",
        "print(drivers.living_status.value_counts(dropna=False))\n",
        "drivers.living_status.fillna(drivers.living_status.mode()[0], inplace=True)\n",
        "drivers.living_status.value_counts(dropna=False)"
      ]
    },
    {
      "cell_type": "markdown",
      "metadata": {
        "id": "R07TlvPBQr3-"
      },
      "source": [
        "### data processing summary"
      ]
    },
    {
      "cell_type": "code",
      "execution_count": null,
      "metadata": {
        "colab": {
          "base_uri": "https://localhost:8080/"
        },
        "id": "9nzSTQgTQwoE",
        "outputId": "c274f4b0-e9b8-4dd7-d5e5-6631b3c05184"
      },
      "outputs": [
        {
          "name": "stderr",
          "output_type": "stream",
          "text": [
            "/usr/local/lib/python3.7/dist-packages/pandas/core/indexing.py:1732: SettingWithCopyWarning: \n",
            "A value is trying to be set on a copy of a slice from a DataFrame\n",
            "\n",
            "See the caveats in the documentation: https://pandas.pydata.org/pandas-docs/stable/user_guide/indexing.html#returning-a-view-versus-a-copy\n",
            "  self._setitem_single_block(indexer, value, name)\n"
          ]
        }
      ],
      "source": [
        "# id: drop\n",
        "drivers = drivers.drop(columns=['Unnamed: 0'])\n",
        "\n",
        "# age: fill >90 with median\n",
        "drivers.age.loc[drivers.age > 90] = drivers.age.median()\n",
        "\n",
        "# high_education_ind: fill na with mode\n",
        "drivers.high_education_ind = drivers.high_education_ind.fillna(drivers.high_education_ind.mode()[0])\n",
        "\n",
        "# safety_rating: fill na with mean\n",
        "drivers.safty_rating.fillna(drivers.safty_rating.mean(), inplace=True)\n",
        "\n",
        "# living_status: fill na with majority\n",
        "drivers.living_status.fillna(drivers.living_status.mode()[0], inplace=True)"
      ]
    },
    {
      "cell_type": "code",
      "source": [
        "drivers.info()"
      ],
      "metadata": {
        "colab": {
          "base_uri": "https://localhost:8080/"
        },
        "id": "maYj4z-NmRbo",
        "outputId": "acdc9e26-de15-4ca1-e7f2-9a519e0cb1fb"
      },
      "execution_count": null,
      "outputs": [
        {
          "output_type": "stream",
          "name": "stdout",
          "text": [
            "<class 'pandas.core.frame.DataFrame'>\n",
            "RangeIndex: 106294 entries, 0 to 106293\n",
            "Data columns (total 6 columns):\n",
            " #   Column              Non-Null Count   Dtype  \n",
            "---  ------              --------------   -----  \n",
            " 0   policy_id           106294 non-null  object \n",
            " 1   gender              106294 non-null  int64  \n",
            " 2   living_status       106294 non-null  object \n",
            " 3   age                 106294 non-null  int64  \n",
            " 4   safty_rating        106294 non-null  float64\n",
            " 5   high_education_ind  106294 non-null  float64\n",
            "dtypes: float64(2), int64(2), object(2)\n",
            "memory usage: 4.9+ MB\n"
          ]
        }
      ]
    },
    {
      "cell_type": "code",
      "execution_count": null,
      "metadata": {
        "colab": {
          "base_uri": "https://localhost:8080/",
          "height": 379
        },
        "id": "Rk4i8FJPRYpc",
        "outputId": "78929eac-acd7-4484-d828-0031af4403ff"
      },
      "outputs": [
        {
          "output_type": "display_data",
          "data": {
            "text/plain": [
              "<Figure size 576x432 with 2 Axes>"
            ],
            "image/png": "[encoded data removed]"
          },
          "metadata": {
            "needs_background": "light"
          }
        }
      ],
      "source": [
        "plt.figure(figsize = (8,6))\n",
        "plt.xticks(size = 10)\n",
        "plt.yticks(size = 10)\n",
        "sns.heatmap(drivers.corr(), center= 0.0, annot = True, cmap=\"vlag\")\n",
        "plt.show()"
      ]
    },
    {
      "cell_type": "markdown",
      "metadata": {
        "id": "mEncigJ1Q89V"
      },
      "source": [
        "## vehicles"
      ]
    },
    {
      "cell_type": "code",
      "execution_count": null,
      "metadata": {
        "colab": {
          "base_uri": "https://localhost:8080/",
          "height": 206
        },
        "id": "FIadfqUDRAXz",
        "outputId": "d2bbbda0-c06d-459a-bded-a4a3c560ac5e"
      },
      "outputs": [
        {
          "output_type": "execute_result",
          "data": {
            "text/plain": [
              "   Unnamed: 0     policy_id  car_no ownership_type  color  age  \\\n",
              "0           6  policy_74571       1         leased  other  4.0   \n",
              "1           7  policy_74571       2          owned   blue  3.0   \n",
              "2          15   policy_1998       1          owned   gray  7.0   \n",
              "3          29  policy_28085       1          owned   gray  4.0   \n",
              "4          34  policy_64282       1          owned  black  4.0   \n",
              "\n",
              "                make_model  \n",
              "0            BMW : R1200CL  \n",
              "1               ACURA : TL  \n",
              "2              BMW : 750LI  \n",
              "3  MERCEDES-BENZ : G55 AMG  \n",
              "4            BMW : 550I GT  "
            ],
            "text/html": [
              "\n",
              "  <div id=\"df-c4d073d9-78e3-4b9e-b34d-ae7be5e694ea\">\n",
              "    <div class=\"colab-df-container\">\n",
              "      <div>\n",
              "<style scoped>\n",
              "    .dataframe tbody tr th:only-of-type {\n",
              "        vertical-align: middle;\n",
              "    }\n",
              "\n",
              "    .dataframe tbody tr th {\n",
              "        vertical-align: top;\n",
              "    }\n",
              "\n",
              "    .dataframe thead th {\n",
              "        text-align: right;\n",
              "    }\n",
              "</style>\n",
              "<table border=\"1\" class=\"dataframe\">\n",
              "  <thead>\n",
              "    <tr style=\"text-align: right;\">\n",
              "      <th></th>\n",
              "      <th>Unnamed: 0</th>\n",
              "      <th>policy_id</th>\n",
              "      <th>car_no</th>\n",
              "      <th>ownership_type</th>\n",
              "      <th>color</th>\n",
              "      <th>age</th>\n",
              "      <th>make_model</th>\n",
              "    </tr>\n",
              "  </thead>\n",
              "  <tbody>\n",
              "    <tr>\n",
              "      <th>0</th>\n",
              "      <td>6</td>\n",
              "      <td>policy_74571</td>\n",
              "      <td>1</td>\n",
              "      <td>leased</td>\n",
              "      <td>other</td>\n",
              "      <td>4.0</td>\n",
              "      <td>BMW : R1200CL</td>\n",
              "    </tr>\n",
              "    <tr>\n",
              "      <th>1</th>\n",
              "      <td>7</td>\n",
              "      <td>policy_74571</td>\n",
              "      <td>2</td>\n",
              "      <td>owned</td>\n",
              "      <td>blue</td>\n",
              "      <td>3.0</td>\n",
              "      <td>ACURA : TL</td>\n",
              "    </tr>\n",
              "    <tr>\n",
              "      <th>2</th>\n",
              "      <td>15</td>\n",
              "      <td>policy_1998</td>\n",
              "      <td>1</td>\n",
              "      <td>owned</td>\n",
              "      <td>gray</td>\n",
              "      <td>7.0</td>\n",
              "      <td>BMW : 750LI</td>\n",
              "    </tr>\n",
              "    <tr>\n",
              "      <th>3</th>\n",
              "      <td>29</td>\n",
              "      <td>policy_28085</td>\n",
              "      <td>1</td>\n",
              "      <td>owned</td>\n",
              "      <td>gray</td>\n",
              "      <td>4.0</td>\n",
              "      <td>MERCEDES-BENZ : G55 AMG</td>\n",
              "    </tr>\n",
              "    <tr>\n",
              "      <th>4</th>\n",
              "      <td>34</td>\n",
              "      <td>policy_64282</td>\n",
              "      <td>1</td>\n",
              "      <td>owned</td>\n",
              "      <td>black</td>\n",
              "      <td>4.0</td>\n",
              "      <td>BMW : 550I GT</td>\n",
              "    </tr>\n",
              "  </tbody>\n",
              "</table>\n",
              "</div>\n",
              "      <button class=\"colab-df-convert\" onclick=\"convertToInteractive('df-c4d073d9-78e3-4b9e-b34d-ae7be5e694ea')\"\n",
              "              title=\"Convert this dataframe to an interactive table.\"\n",
              "              style=\"display:none;\">\n",
              "        \n",
              "  <svg xmlns=\"http://www.w3.org/2000/svg\" height=\"24px\"viewBox=\"0 0 24 24\"\n",
              "       width=\"24px\">\n",
              "    <path d=\"M0 0h24v24H0V0z\" fill=\"none\"/>\n",
              "    <path d=\"M18.56 5.44l.94 2.06.94-2.06 2.06-.94-2.06-.94-.94-2.06-.94 2.06-2.06.94zm-11 1L8.5 8.5l.94-2.06 2.06-.94-2.06-.94L8.5 2.5l-.94 2.06-2.06.94zm10 10l.94 2.06.94-2.06 2.06-.94-2.06-.94-.94-2.06-.94 2.06-2.06.94z\"/><path d=\"M17.41 7.96l-1.37-1.37c-.4-.4-.92-.59-1.43-.59-.52 0-1.04.2-1.43.59L10.3 9.45l-7.72 7.72c-.78.78-.78 2.05 0 2.83L4 21.41c.39.39.9.59 1.41.59.51 0 1.02-.2 1.41-.59l7.78-7.78 2.81-2.81c.8-.78.8-2.07 0-2.86zM5.41 20L4 18.59l7.72-7.72 1.47 1.35L5.41 20z\"/>\n",
              "  </svg>\n",
              "      </button>\n",
              "      \n",
              "  <style>\n",
              "    .colab-df-container {\n",
              "      display:flex;\n",
              "      flex-wrap:wrap;\n",
              "      gap: 12px;\n",
              "    }\n",
              "\n",
              "    .colab-df-convert {\n",
              "      background-color: #E8F0FE;\n",
              "      border: none;\n",
              "      border-radius: 50%;\n",
              "      cursor: pointer;\n",
              "      display: none;\n",
              "      fill: #1967D2;\n",
              "      height: 32px;\n",
              "      padding: 0 0 0 0;\n",
              "      width: 32px;\n",
              "    }\n",
              "\n",
              "    .colab-df-convert:hover {\n",
              "      background-color: #E2EBFA;\n",
              "      box-shadow: 0px 1px 2px rgba(60, 64, 67, 0.3), 0px 1px 3px 1px rgba(60, 64, 67, 0.15);\n",
              "      fill: #174EA6;\n",
              "    }\n",
              "\n",
              "    [theme=dark] .colab-df-convert {\n",
              "      background-color: #3B4455;\n",
              "      fill: #D2E3FC;\n",
              "    }\n",
              "\n",
              "    [theme=dark] .colab-df-convert:hover {\n",
              "      background-color: #434B5C;\n",
              "      box-shadow: 0px 1px 3px 1px rgba(0, 0, 0, 0.15);\n",
              "      filter: drop-shadow(0px 1px 2px rgba(0, 0, 0, 0.3));\n",
              "      fill: #FFFFFF;\n",
              "    }\n",
              "  </style>\n",
              "\n",
              "      <script>\n",
              "        const buttonEl =\n",
              "          document.querySelector('#df-c4d073d9-78e3-4b9e-b34d-ae7be5e694ea button.colab-df-convert');\n",
              "        buttonEl.style.display =\n",
              "          google.colab.kernel.accessAllowed ? 'block' : 'none';\n",
              "\n",
              "        async function convertToInteractive(key) {\n",
              "          const element = document.querySelector('#df-c4d073d9-78e3-4b9e-b34d-ae7be5e694ea');\n",
              "          const dataTable =\n",
              "            await google.colab.kernel.invokeFunction('convertToInteractive',\n",
              "                                                     [key], {});\n",
              "          if (!dataTable) return;\n",
              "\n",
              "          const docLinkHtml = 'Like what you see? Visit the ' +\n",
              "            '<a target=\"_blank\" href=https://colab.research.google.com/notebooks/data_table.ipynb>data table notebook</a>'\n",
              "            + ' to learn more about interactive tables.';\n",
              "          element.innerHTML = '';\n",
              "          dataTable['output_type'] = 'display_data';\n",
              "          await google.colab.output.renderOutput(dataTable, element);\n",
              "          const docLink = document.createElement('div');\n",
              "          docLink.innerHTML = docLinkHtml;\n",
              "          element.appendChild(docLink);\n",
              "        }\n",
              "      </script>\n",
              "    </div>\n",
              "  </div>\n",
              "  "
            ]
          },
          "metadata": {},
          "execution_count": 89
        }
      ],
      "source": [
        "vehicles.head()"
      ]
    },
    {
      "cell_type": "code",
      "execution_count": null,
      "metadata": {
        "colab": {
          "base_uri": "https://localhost:8080/",
          "height": 394
        },
        "id": "ERF5uX-jRDx9",
        "outputId": "0ab38367-cf18-47b7-e581-6ff21ad380b9"
      },
      "outputs": [
        {
          "output_type": "execute_result",
          "data": {
            "text/plain": [
              "           Unnamed: 0     policy_id         car_no ownership_type   color  \\\n",
              "count   169237.000000        169237  169237.000000         169237  168165   \n",
              "unique            NaN         49162            NaN              3       7   \n",
              "top               NaN  policy_83784            NaN          owned    blue   \n",
              "freq              NaN             8            NaN          81089   24149   \n",
              "mean    176941.848615           NaN       2.485231            NaN     NaN   \n",
              "std      99312.547085           NaN       1.345593            NaN     NaN   \n",
              "min          6.000000           NaN       1.000000            NaN     NaN   \n",
              "25%      91655.000000           NaN       1.000000            NaN     NaN   \n",
              "50%     180270.000000           NaN       2.000000            NaN     NaN   \n",
              "75%     262722.000000           NaN       3.000000            NaN     NaN   \n",
              "max     345062.000000           NaN       8.000000            NaN     NaN   \n",
              "\n",
              "                  age         make_model  \n",
              "count   168701.000000             169237  \n",
              "unique            NaN               1049  \n",
              "top               NaN  AUDI : A8 QUATTRO  \n",
              "freq              NaN                592  \n",
              "mean         5.000883                NaN  \n",
              "std          2.248449                NaN  \n",
              "min          0.000000                NaN  \n",
              "25%          3.000000                NaN  \n",
              "50%          5.000000                NaN  \n",
              "75%          6.000000                NaN  \n",
              "max         16.000000                NaN  "
            ],
            "text/html": [
              "\n",
              "  <div id=\"df-0d16dc14-5cf0-46b1-9c80-913a1b1e6566\">\n",
              "    <div class=\"colab-df-container\">\n",
              "      <div>\n",
              "<style scoped>\n",
              "    .dataframe tbody tr th:only-of-type {\n",
              "        vertical-align: middle;\n",
              "    }\n",
              "\n",
              "    .dataframe tbody tr th {\n",
              "        vertical-align: top;\n",
              "    }\n",
              "\n",
              "    .dataframe thead th {\n",
              "        text-align: right;\n",
              "    }\n",
              "</style>\n",
              "<table border=\"1\" class=\"dataframe\">\n",
              "  <thead>\n",
              "    <tr style=\"text-align: right;\">\n",
              "      <th></th>\n",
              "      <th>Unnamed: 0</th>\n",
              "      <th>policy_id</th>\n",
              "      <th>car_no</th>\n",
              "      <th>ownership_type</th>\n",
              "      <th>color</th>\n",
              "      <th>age</th>\n",
              "      <th>make_model</th>\n",
              "    </tr>\n",
              "  </thead>\n",
              "  <tbody>\n",
              "    <tr>\n",
              "      <th>count</th>\n",
              "      <td>169237.000000</td>\n",
              "      <td>169237</td>\n",
              "      <td>169237.000000</td>\n",
              "      <td>169237</td>\n",
              "      <td>168165</td>\n",
              "      <td>168701.000000</td>\n",
              "      <td>169237</td>\n",
              "    </tr>\n",
              "    <tr>\n",
              "      <th>unique</th>\n",
              "      <td>NaN</td>\n",
              "      <td>49162</td>\n",
              "      <td>NaN</td>\n",
              "      <td>3</td>\n",
              "      <td>7</td>\n",
              "      <td>NaN</td>\n",
              "      <td>1049</td>\n",
              "    </tr>\n",
              "    <tr>\n",
              "      <th>top</th>\n",
              "      <td>NaN</td>\n",
              "      <td>policy_83784</td>\n",
              "      <td>NaN</td>\n",
              "      <td>owned</td>\n",
              "      <td>blue</td>\n",
              "      <td>NaN</td>\n",
              "      <td>AUDI : A8 QUATTRO</td>\n",
              "    </tr>\n",
              "    <tr>\n",
              "      <th>freq</th>\n",
              "      <td>NaN</td>\n",
              "      <td>8</td>\n",
              "      <td>NaN</td>\n",
              "      <td>81089</td>\n",
              "      <td>24149</td>\n",
              "      <td>NaN</td>\n",
              "      <td>592</td>\n",
              "    </tr>\n",
              "    <tr>\n",
              "      <th>mean</th>\n",
              "      <td>176941.848615</td>\n",
              "      <td>NaN</td>\n",
              "      <td>2.485231</td>\n",
              "      <td>NaN</td>\n",
              "      <td>NaN</td>\n",
              "      <td>5.000883</td>\n",
              "      <td>NaN</td>\n",
              "    </tr>\n",
              "    <tr>\n",
              "      <th>std</th>\n",
              "      <td>99312.547085</td>\n",
              "      <td>NaN</td>\n",
              "      <td>1.345593</td>\n",
              "      <td>NaN</td>\n",
              "      <td>NaN</td>\n",
              "      <td>2.248449</td>\n",
              "      <td>NaN</td>\n",
              "    </tr>\n",
              "    <tr>\n",
              "      <th>min</th>\n",
              "      <td>6.000000</td>\n",
              "      <td>NaN</td>\n",
              "      <td>1.000000</td>\n",
              "      <td>NaN</td>\n",
              "      <td>NaN</td>\n",
              "      <td>0.000000</td>\n",
              "      <td>NaN</td>\n",
              "    </tr>\n",
              "    <tr>\n",
              "      <th>25%</th>\n",
              "      <td>91655.000000</td>\n",
              "      <td>NaN</td>\n",
              "      <td>1.000000</td>\n",
              "      <td>NaN</td>\n",
              "      <td>NaN</td>\n",
              "      <td>3.000000</td>\n",
              "      <td>NaN</td>\n",
              "    </tr>\n",
              "    <tr>\n",
              "      <th>50%</th>\n",
              "      <td>180270.000000</td>\n",
              "      <td>NaN</td>\n",
              "      <td>2.000000</td>\n",
              "      <td>NaN</td>\n",
              "      <td>NaN</td>\n",
              "      <td>5.000000</td>\n",
              "      <td>NaN</td>\n",
              "    </tr>\n",
              "    <tr>\n",
              "      <th>75%</th>\n",
              "      <td>262722.000000</td>\n",
              "      <td>NaN</td>\n",
              "      <td>3.000000</td>\n",
              "      <td>NaN</td>\n",
              "      <td>NaN</td>\n",
              "      <td>6.000000</td>\n",
              "      <td>NaN</td>\n",
              "    </tr>\n",
              "    <tr>\n",
              "      <th>max</th>\n",
              "      <td>345062.000000</td>\n",
              "      <td>NaN</td>\n",
              "      <td>8.000000</td>\n",
              "      <td>NaN</td>\n",
              "      <td>NaN</td>\n",
              "      <td>16.000000</td>\n",
              "      <td>NaN</td>\n",
              "    </tr>\n",
              "  </tbody>\n",
              "</table>\n",
              "</div>\n",
              "      <button class=\"colab-df-convert\" onclick=\"convertToInteractive('df-0d16dc14-5cf0-46b1-9c80-913a1b1e6566')\"\n",
              "              title=\"Convert this dataframe to an interactive table.\"\n",
              "              style=\"display:none;\">\n",
              "        \n",
              "  <svg xmlns=\"http://www.w3.org/2000/svg\" height=\"24px\"viewBox=\"0 0 24 24\"\n",
              "       width=\"24px\">\n",
              "    <path d=\"M0 0h24v24H0V0z\" fill=\"none\"/>\n",
              "    <path d=\"M18.56 5.44l.94 2.06.94-2.06 2.06-.94-2.06-.94-.94-2.06-.94 2.06-2.06.94zm-11 1L8.5 8.5l.94-2.06 2.06-.94-2.06-.94L8.5 2.5l-.94 2.06-2.06.94zm10 10l.94 2.06.94-2.06 2.06-.94-2.06-.94-.94-2.06-.94 2.06-2.06.94z\"/><path d=\"M17.41 7.96l-1.37-1.37c-.4-.4-.92-.59-1.43-.59-.52 0-1.04.2-1.43.59L10.3 9.45l-7.72 7.72c-.78.78-.78 2.05 0 2.83L4 21.41c.39.39.9.59 1.41.59.51 0 1.02-.2 1.41-.59l7.78-7.78 2.81-2.81c.8-.78.8-2.07 0-2.86zM5.41 20L4 18.59l7.72-7.72 1.47 1.35L5.41 20z\"/>\n",
              "  </svg>\n",
              "      </button>\n",
              "      \n",
              "  <style>\n",
              "    .colab-df-container {\n",
              "      display:flex;\n",
              "      flex-wrap:wrap;\n",
              "      gap: 12px;\n",
              "    }\n",
              "\n",
              "    .colab-df-convert {\n",
              "      background-color: #E8F0FE;\n",
              "      border: none;\n",
              "      border-radius: 50%;\n",
              "      cursor: pointer;\n",
              "      display: none;\n",
              "      fill: #1967D2;\n",
              "      height: 32px;\n",
              "      padding: 0 0 0 0;\n",
              "      width: 32px;\n",
              "    }\n",
              "\n",
              "    .colab-df-convert:hover {\n",
              "      background-color: #E2EBFA;\n",
              "      box-shadow: 0px 1px 2px rgba(60, 64, 67, 0.3), 0px 1px 3px 1px rgba(60, 64, 67, 0.15);\n",
              "      fill: #174EA6;\n",
              "    }\n",
              "\n",
              "    [theme=dark] .colab-df-convert {\n",
              "      background-color: #3B4455;\n",
              "      fill: #D2E3FC;\n",
              "    }\n",
              "\n",
              "    [theme=dark] .colab-df-convert:hover {\n",
              "      background-color: #434B5C;\n",
              "      box-shadow: 0px 1px 3px 1px rgba(0, 0, 0, 0.15);\n",
              "      filter: drop-shadow(0px 1px 2px rgba(0, 0, 0, 0.3));\n",
              "      fill: #FFFFFF;\n",
              "    }\n",
              "  </style>\n",
              "\n",
              "      <script>\n",
              "        const buttonEl =\n",
              "          document.querySelector('#df-0d16dc14-5cf0-46b1-9c80-913a1b1e6566 button.colab-df-convert');\n",
              "        buttonEl.style.display =\n",
              "          google.colab.kernel.accessAllowed ? 'block' : 'none';\n",
              "\n",
              "        async function convertToInteractive(key) {\n",
              "          const element = document.querySelector('#df-0d16dc14-5cf0-46b1-9c80-913a1b1e6566');\n",
              "          const dataTable =\n",
              "            await google.colab.kernel.invokeFunction('convertToInteractive',\n",
              "                                                     [key], {});\n",
              "          if (!dataTable) return;\n",
              "\n",
              "          const docLinkHtml = 'Like what you see? Visit the ' +\n",
              "            '<a target=\"_blank\" href=https://colab.research.google.com/notebooks/data_table.ipynb>data table notebook</a>'\n",
              "            + ' to learn more about interactive tables.';\n",
              "          element.innerHTML = '';\n",
              "          dataTable['output_type'] = 'display_data';\n",
              "          await google.colab.output.renderOutput(dataTable, element);\n",
              "          const docLink = document.createElement('div');\n",
              "          docLink.innerHTML = docLinkHtml;\n",
              "          element.appendChild(docLink);\n",
              "        }\n",
              "      </script>\n",
              "    </div>\n",
              "  </div>\n",
              "  "
            ]
          },
          "metadata": {},
          "execution_count": 90
        }
      ],
      "source": [
        "vehicles.describe(include='all')"
      ]
    },
    {
      "cell_type": "code",
      "execution_count": null,
      "metadata": {
        "colab": {
          "base_uri": "https://localhost:8080/"
        },
        "id": "NQOgqDaPSEsq",
        "outputId": "8a567496-3259-4420-aa6d-59af47473120"
      },
      "outputs": [
        {
          "output_type": "execute_result",
          "data": {
            "text/plain": [
              "color             1072\n",
              "age                536\n",
              "Unnamed: 0           0\n",
              "policy_id            0\n",
              "car_no               0\n",
              "ownership_type       0\n",
              "make_model           0\n",
              "dtype: int64"
            ]
          },
          "metadata": {},
          "execution_count": 91
        }
      ],
      "source": [
        "vehicles.isnull().sum().sort_values(ascending = False)"
      ]
    },
    {
      "cell_type": "code",
      "execution_count": null,
      "metadata": {
        "id": "FPmZXY36RGCa"
      },
      "outputs": [],
      "source": [
        "# id: drop\n",
        "vehicles = vehicles.drop(columns=['Unnamed: 0'])"
      ]
    },
    {
      "cell_type": "code",
      "execution_count": null,
      "metadata": {
        "id": "CBEfz2fJRnmH"
      },
      "outputs": [],
      "source": [
        "# car_no: drop\n",
        "# ownership_type: drop\n",
        "vehicles = vehicles.drop(columns=['car_no','ownership_type'])"
      ]
    },
    {
      "cell_type": "code",
      "execution_count": null,
      "metadata": {
        "colab": {
          "base_uri": "https://localhost:8080/",
          "height": 471
        },
        "id": "ENL4FXbFR-a8",
        "outputId": "23a7615b-1523-4a0e-b677-2f4c507ad69a"
      },
      "outputs": [
        {
          "output_type": "stream",
          "name": "stdout",
          "text": [
            "color\n",
            "black     18095\n",
            "blue      18056\n",
            "gray      17829\n",
            "other     18069\n",
            "red       17949\n",
            "silver    18015\n",
            "white     18115\n",
            "Name: convert_ind, dtype: int64\n"
          ]
        },
        {
          "output_type": "execute_result",
          "data": {
            "text/plain": [
              "<matplotlib.axes._subplots.AxesSubplot at 0x7f7e60239410>"
            ]
          },
          "metadata": {},
          "execution_count": 94
        },
        {
          "output_type": "display_data",
          "data": {
            "text/plain": [
              "<Figure size 432x288 with 1 Axes>"
            ],
            "image/png": "[encoded data removed]"
          },
          "metadata": {
            "needs_background": "light"
          }
        }
      ],
      "source": [
        "# color: join with policies for EDA\n",
        "# right join, so test data with missing convert_ind not included\n",
        "color_conv = vehicles[['policy_id','color']].merge(policies[['policy_id','convert_ind']], how='right', on=[\"policy_id\"])\n",
        "print(color_conv.groupby('color')['convert_ind'].count())\n",
        "color_eda = color_conv.groupby('color').agg({\n",
        "    \"color\":'count',\n",
        "    'convert_ind':'sum'\n",
        "})\n",
        "color_eda['rate'] = color_eda.convert_ind / color_eda.color\n",
        "color_eda['rate'].plot(kind='bar')\n"
      ]
    },
    {
      "cell_type": "code",
      "source": [
        "# drop color\n",
        "vehicles = vehicles.drop(columns=['color'])"
      ],
      "metadata": {
        "id": "WiaSi_SVoEZ3"
      },
      "execution_count": null,
      "outputs": []
    },
    {
      "cell_type": "code",
      "execution_count": null,
      "metadata": {
        "colab": {
          "base_uri": "https://localhost:8080/"
        },
        "id": "JC84rigsSSP2",
        "outputId": "1af599f9-5c33-413d-8e9f-7fc99c21729b"
      },
      "outputs": [
        {
          "output_type": "execute_result",
          "data": {
            "text/plain": [
              "color         1072\n",
              "policy_id        0\n",
              "age              0\n",
              "make_model       0\n",
              "dtype: int64"
            ]
          },
          "metadata": {},
          "execution_count": 95
        }
      ],
      "source": [
        "# age: fill na with mean\n",
        "vehicles['age'].fillna(vehicles['age'].mean(), inplace=True)\n",
        "vehicles.isnull().sum().sort_values(ascending = False)"
      ]
    },
    {
      "cell_type": "code",
      "execution_count": null,
      "metadata": {
        "colab": {
          "base_uri": "https://localhost:8080/",
          "height": 206
        },
        "id": "j4tThXqmSX3y",
        "outputId": "2637f79b-f663-4434-97b7-b528b7885a92"
      },
      "outputs": [
        {
          "output_type": "execute_result",
          "data": {
            "text/plain": [
              "      policy_id  color  age               make_model           make    model\n",
              "0  policy_74571  other  4.0            BMW : R1200CL            BMW  R1200CL\n",
              "1  policy_74571   blue  3.0               ACURA : TL          ACURA       TL\n",
              "2   policy_1998   gray  7.0              BMW : 750LI            BMW    750LI\n",
              "3  policy_28085   gray  4.0  MERCEDES-BENZ : G55 AMG  MERCEDES-BENZ  G55 AMG\n",
              "4  policy_64282  black  4.0            BMW : 550I GT            BMW  550I GT"
            ],
            "text/html": [
              "\n",
              "  <div id=\"df-5ab358ad-f7a3-4b82-bbb4-3b0f0bb18809\">\n",
              "    <div class=\"colab-df-container\">\n",
              "      <div>\n",
              "<style scoped>\n",
              "    .dataframe tbody tr th:only-of-type {\n",
              "        vertical-align: middle;\n",
              "    }\n",
              "\n",
              "    .dataframe tbody tr th {\n",
              "        vertical-align: top;\n",
              "    }\n",
              "\n",
              "    .dataframe thead th {\n",
              "        text-align: right;\n",
              "    }\n",
              "</style>\n",
              "<table border=\"1\" class=\"dataframe\">\n",
              "  <thead>\n",
              "    <tr style=\"text-align: right;\">\n",
              "      <th></th>\n",
              "      <th>policy_id</th>\n",
              "      <th>color</th>\n",
              "      <th>age</th>\n",
              "      <th>make_model</th>\n",
              "      <th>make</th>\n",
              "      <th>model</th>\n",
              "    </tr>\n",
              "  </thead>\n",
              "  <tbody>\n",
              "    <tr>\n",
              "      <th>0</th>\n",
              "      <td>policy_74571</td>\n",
              "      <td>other</td>\n",
              "      <td>4.0</td>\n",
              "      <td>BMW : R1200CL</td>\n",
              "      <td>BMW</td>\n",
              "      <td>R1200CL</td>\n",
              "    </tr>\n",
              "    <tr>\n",
              "      <th>1</th>\n",
              "      <td>policy_74571</td>\n",
              "      <td>blue</td>\n",
              "      <td>3.0</td>\n",
              "      <td>ACURA : TL</td>\n",
              "      <td>ACURA</td>\n",
              "      <td>TL</td>\n",
              "    </tr>\n",
              "    <tr>\n",
              "      <th>2</th>\n",
              "      <td>policy_1998</td>\n",
              "      <td>gray</td>\n",
              "      <td>7.0</td>\n",
              "      <td>BMW : 750LI</td>\n",
              "      <td>BMW</td>\n",
              "      <td>750LI</td>\n",
              "    </tr>\n",
              "    <tr>\n",
              "      <th>3</th>\n",
              "      <td>policy_28085</td>\n",
              "      <td>gray</td>\n",
              "      <td>4.0</td>\n",
              "      <td>MERCEDES-BENZ : G55 AMG</td>\n",
              "      <td>MERCEDES-BENZ</td>\n",
              "      <td>G55 AMG</td>\n",
              "    </tr>\n",
              "    <tr>\n",
              "      <th>4</th>\n",
              "      <td>policy_64282</td>\n",
              "      <td>black</td>\n",
              "      <td>4.0</td>\n",
              "      <td>BMW : 550I GT</td>\n",
              "      <td>BMW</td>\n",
              "      <td>550I GT</td>\n",
              "    </tr>\n",
              "  </tbody>\n",
              "</table>\n",
              "</div>\n",
              "      <button class=\"colab-df-convert\" onclick=\"convertToInteractive('df-5ab358ad-f7a3-4b82-bbb4-3b0f0bb18809')\"\n",
              "              title=\"Convert this dataframe to an interactive table.\"\n",
              "              style=\"display:none;\">\n",
              "        \n",
              "  <svg xmlns=\"http://www.w3.org/2000/svg\" height=\"24px\"viewBox=\"0 0 24 24\"\n",
              "       width=\"24px\">\n",
              "    <path d=\"M0 0h24v24H0V0z\" fill=\"none\"/>\n",
              "    <path d=\"M18.56 5.44l.94 2.06.94-2.06 2.06-.94-2.06-.94-.94-2.06-.94 2.06-2.06.94zm-11 1L8.5 8.5l.94-2.06 2.06-.94-2.06-.94L8.5 2.5l-.94 2.06-2.06.94zm10 10l.94 2.06.94-2.06 2.06-.94-2.06-.94-.94-2.06-.94 2.06-2.06.94z\"/><path d=\"M17.41 7.96l-1.37-1.37c-.4-.4-.92-.59-1.43-.59-.52 0-1.04.2-1.43.59L10.3 9.45l-7.72 7.72c-.78.78-.78 2.05 0 2.83L4 21.41c.39.39.9.59 1.41.59.51 0 1.02-.2 1.41-.59l7.78-7.78 2.81-2.81c.8-.78.8-2.07 0-2.86zM5.41 20L4 18.59l7.72-7.72 1.47 1.35L5.41 20z\"/>\n",
              "  </svg>\n",
              "      </button>\n",
              "      \n",
              "  <style>\n",
              "    .colab-df-container {\n",
              "      display:flex;\n",
              "      flex-wrap:wrap;\n",
              "      gap: 12px;\n",
              "    }\n",
              "\n",
              "    .colab-df-convert {\n",
              "      background-color: #E8F0FE;\n",
              "      border: none;\n",
              "      border-radius: 50%;\n",
              "      cursor: pointer;\n",
              "      display: none;\n",
              "      fill: #1967D2;\n",
              "      height: 32px;\n",
              "      padding: 0 0 0 0;\n",
              "      width: 32px;\n",
              "    }\n",
              "\n",
              "    .colab-df-convert:hover {\n",
              "      background-color: #E2EBFA;\n",
              "      box-shadow: 0px 1px 2px rgba(60, 64, 67, 0.3), 0px 1px 3px 1px rgba(60, 64, 67, 0.15);\n",
              "      fill: #174EA6;\n",
              "    }\n",
              "\n",
              "    [theme=dark] .colab-df-convert {\n",
              "      background-color: #3B4455;\n",
              "      fill: #D2E3FC;\n",
              "    }\n",
              "\n",
              "    [theme=dark] .colab-df-convert:hover {\n",
              "      background-color: #434B5C;\n",
              "      box-shadow: 0px 1px 3px 1px rgba(0, 0, 0, 0.15);\n",
              "      filter: drop-shadow(0px 1px 2px rgba(0, 0, 0, 0.3));\n",
              "      fill: #FFFFFF;\n",
              "    }\n",
              "  </style>\n",
              "\n",
              "      <script>\n",
              "        const buttonEl =\n",
              "          document.querySelector('#df-5ab358ad-f7a3-4b82-bbb4-3b0f0bb18809 button.colab-df-convert');\n",
              "        buttonEl.style.display =\n",
              "          google.colab.kernel.accessAllowed ? 'block' : 'none';\n",
              "\n",
              "        async function convertToInteractive(key) {\n",
              "          const element = document.querySelector('#df-5ab358ad-f7a3-4b82-bbb4-3b0f0bb18809');\n",
              "          const dataTable =\n",
              "            await google.colab.kernel.invokeFunction('convertToInteractive',\n",
              "                                                     [key], {});\n",
              "          if (!dataTable) return;\n",
              "\n",
              "          const docLinkHtml = 'Like what you see? Visit the ' +\n",
              "            '<a target=\"_blank\" href=https://colab.research.google.com/notebooks/data_table.ipynb>data table notebook</a>'\n",
              "            + ' to learn more about interactive tables.';\n",
              "          element.innerHTML = '';\n",
              "          dataTable['output_type'] = 'display_data';\n",
              "          await google.colab.output.renderOutput(dataTable, element);\n",
              "          const docLink = document.createElement('div');\n",
              "          docLink.innerHTML = docLinkHtml;\n",
              "          element.appendChild(docLink);\n",
              "        }\n",
              "      </script>\n",
              "    </div>\n",
              "  </div>\n",
              "  "
            ]
          },
          "metadata": {},
          "execution_count": 96
        }
      ],
      "source": [
        "# make_model: split, bucket and encode\n",
        "vehicles[[\"make\",\"model\"]] = vehicles[\"make_model\"].str.split(\" : \",1, expand=True)\n",
        "vehicles.head()"
      ]
    },
    {
      "cell_type": "code",
      "execution_count": null,
      "metadata": {
        "colab": {
          "base_uri": "https://localhost:8080/"
        },
        "id": "aKzWeM8cTbYe",
        "outputId": "157ba20f-0b62-4f77-8523-8450cbb2cb0d"
      },
      "outputs": [
        {
          "output_type": "execute_result",
          "data": {
            "text/plain": [
              "BMW              30146\n",
              "HONDA            26904\n",
              "MERCEDES-BENZ    23912\n",
              "CHEVROLET        14924\n",
              "FORD             13966\n",
              "AUDI             10021\n",
              "GMC               7603\n",
              "NISSAN            7253\n",
              "TOYOTA            6806\n",
              "DODGE             6142\n",
              "CADILLAC          3966\n",
              "MAZDA             3671\n",
              "ACURA             3637\n",
              "CHRYSLER          2459\n",
              "SATURN            2269\n",
              "SUBARU            2185\n",
              "BUICK             1880\n",
              "RAM               1099\n",
              "SMART              394\n",
              "Name: make, dtype: int64"
            ]
          },
          "metadata": {},
          "execution_count": 97
        }
      ],
      "source": [
        "vehicles[\"make\"].value_counts()"
      ]
    },
    {
      "cell_type": "code",
      "execution_count": null,
      "metadata": {
        "colab": {
          "base_uri": "https://localhost:8080/"
        },
        "id": "dzjNjZnNTb1m",
        "outputId": "951a1bc2-8487-4163-bd77-520a1e01b23e"
      },
      "outputs": [
        {
          "output_type": "execute_result",
          "data": {
            "text/plain": [
              "0    84120\n",
              "2    68045\n",
              "1    17072\n",
              "Name: make, dtype: int64"
            ]
          },
          "metadata": {},
          "execution_count": 98
        }
      ],
      "source": [
        "# Luxary:BMW, MERCEDES-BENZ, AUDI,CADILLAC\n",
        "# MID:ACURA,CHRYSLER,BUICK,SMART,GMC,RAM\n",
        "# Normal: HONDA,CHEVROLET,FORD,NISSAN,TOYOTA,DODGE,MAZDA,SUBARU,SATURN\n",
        "\n",
        "vehicles[\"make\"].replace([\"BMW\", \"MERCEDES-BENZ\", \"AUDI\",\"CADILLAC\"],2, inplace=True) \n",
        "vehicles[\"make\"].replace([\"ACURA\",\"CHRYSLER\",\"BUICK\",\"SMART\",\"GMC\",\"RAM\"],1, inplace=True)\n",
        "vehicles[\"make\"].replace([\"HONDA\",\"CHEVROLET\",\"FORD\",\"NISSAN\",\"TOYOTA\",\"DODGE\",\"MAZDA\",\"SUBARU\",\"SATURN\"],0, inplace=True)\n",
        "vehicles[\"make\"].value_counts()"
      ]
    },
    {
      "cell_type": "code",
      "source": [
        "# drop make_model, model\n",
        "vehicles = vehicles.drop(columns=['make_model','model'])"
      ],
      "metadata": {
        "id": "TbrT4JmZnrhu"
      },
      "execution_count": null,
      "outputs": []
    },
    {
      "cell_type": "markdown",
      "metadata": {
        "id": "Hq2mKyf4Tlzj"
      },
      "source": [
        "### data processing summary"
      ]
    },
    {
      "cell_type": "code",
      "execution_count": null,
      "metadata": {
        "colab": {
          "base_uri": "https://localhost:8080/"
        },
        "id": "0bwat52MTpuH",
        "outputId": "c696f852-0791-4ed6-bcfb-9f6451e0cff9"
      },
      "outputs": [
        {
          "data": {
            "text/plain": [
              "0    84120\n",
              "2    68045\n",
              "1    17072\n",
              "Name: make, dtype: int64"
            ]
          },
          "execution_count": 121,
          "metadata": {},
          "output_type": "execute_result"
        }
      ],
      "source": [
        "# id: drop\n",
        "vehicles = vehicles.drop(columns=['Unnamed: 0'])\n",
        "\n",
        "# car_no: drop\n",
        "# ownership_type: drop\n",
        "vehicles = vehicles.drop(columns=['car_no','ownership_type']) \n",
        "\n",
        "# color: drop\n",
        "vehicles = vehicles.drop(columns=['color'])\n",
        "\n",
        "# age: fill na with mean\n",
        "vehicles['age'].fillna(vehicles['age'].mean(), inplace=True)\n",
        "\n",
        "# make_model: split, bucket and encode\n",
        "vehicles[[\"make\",\"model\"]] = vehicles[\"make_model\"].str.split(\" : \",1, expand=True)\n",
        "vehicles = vehicles.drop(columns=['make_model','model'])\n",
        "\n",
        "vehicles[\"make\"].replace([\"BMW\", \"MERCEDES-BENZ\", \"AUDI\",\"CADILLAC\"],2, inplace=True) \n",
        "vehicles[\"make\"].replace([\"ACURA\",\"CHRYSLER\",\"BUICK\",\"SMART\",\"GMC\",\"RAM\"],1, inplace=True)\n",
        "vehicles[\"make\"].replace([\"HONDA\",\"CHEVROLET\",\"FORD\",\"NISSAN\",\"TOYOTA\",\"DODGE\",\"MAZDA\",\"SUBARU\",\"SATURN\"],0, inplace=True)"
      ]
    },
    {
      "cell_type": "code",
      "source": [
        "vehicles.info()"
      ],
      "metadata": {
        "colab": {
          "base_uri": "https://localhost:8080/"
        },
        "id": "_0YQHfoGnMSQ",
        "outputId": "d6a8b65d-b8bd-4f65-f035-6d340222bba6"
      },
      "execution_count": null,
      "outputs": [
        {
          "output_type": "stream",
          "name": "stdout",
          "text": [
            "<class 'pandas.core.frame.DataFrame'>\n",
            "RangeIndex: 169237 entries, 0 to 169236\n",
            "Data columns (total 3 columns):\n",
            " #   Column     Non-Null Count   Dtype  \n",
            "---  ------     --------------   -----  \n",
            " 0   policy_id  169237 non-null  object \n",
            " 1   age        169237 non-null  float64\n",
            " 2   make       169237 non-null  int64  \n",
            "dtypes: float64(1), int64(1), object(1)\n",
            "memory usage: 3.9+ MB\n"
          ]
        }
      ]
    },
    {
      "cell_type": "code",
      "execution_count": null,
      "metadata": {
        "colab": {
          "base_uri": "https://localhost:8080/",
          "height": 378
        },
        "id": "FO-WSLwUT3QT",
        "outputId": "85a23a0b-8ad2-4974-aaae-fa53e473ee6f"
      },
      "outputs": [
        {
          "data": {
            "image/png": "[encoded data removed]",
            "text/plain": [
              "<Figure size 576x432 with 2 Axes>"
            ]
          },
          "metadata": {},
          "output_type": "display_data"
        }
      ],
      "source": [
        "plt.figure(figsize = (8,6))\n",
        "plt.xticks(size = 10)\n",
        "plt.yticks(size = 10)\n",
        "sns.heatmap(vehicles.corr(), center= 0.0, annot = True, cmap=\"vlag\")\n",
        "plt.show()"
      ]
    },
    {
      "cell_type": "markdown",
      "source": [
        "# Data Processing"
      ],
      "metadata": {
        "id": "BXny6IFLvZvg"
      }
    },
    {
      "cell_type": "code",
      "execution_count": null,
      "metadata": {
        "id": "5S0aCpYzepmZ"
      },
      "outputs": [],
      "source": [
        "##importing data\n",
        "import pandas as pd\n",
        "import numpy as np\n",
        "\n",
        "%matplotlib inline\n",
        "import matplotlib.pyplot as plt\n",
        "import seaborn as sns\n",
        "from matplotlib.colors import ListedColormap"
      ]
    },
    {
      "cell_type": "code",
      "execution_count": null,
      "metadata": {
        "id": "GW_IlRB_epmc"
      },
      "outputs": [],
      "source": [
        "policies = pd.read_csv('policies.csv')\n",
        "drivers = pd.read_csv('drivers.csv')\n",
        "vehicles = pd.read_csv('vehicles.csv')"
      ]
    },
    {
      "cell_type": "code",
      "execution_count": null,
      "metadata": {
        "colab": {
          "base_uri": "https://localhost:8080/"
        },
        "id": "O0CxQFukepmd",
        "outputId": "ef84fdc9-ef09-428e-f051-8409e1083ffb"
      },
      "outputs": [
        {
          "output_type": "stream",
          "name": "stdout",
          "text": [
            "<class 'pandas.core.frame.DataFrame'>\n",
            "RangeIndex: 49162 entries, 0 to 49161\n",
            "Data columns (total 22 columns):\n",
            " #   Column             Non-Null Count  Dtype  \n",
            "---  ------             --------------  -----  \n",
            " 0   Unnamed: 0         49162 non-null  int64  \n",
            " 1   Quote_dt           49162 non-null  object \n",
            " 2   discount           49162 non-null  object \n",
            " 3   Home_policy_ind    49162 non-null  object \n",
            " 4   zip                48690 non-null  float64\n",
            " 5   state_id           49162 non-null  object \n",
            " 6   county_name        49162 non-null  object \n",
            " 7   Agent_cd           43732 non-null  float64\n",
            " 8   quoted_amt         49050 non-null  object \n",
            " 9   Prior_carrier_grp  44162 non-null  object \n",
            " 10  credit_score       48862 non-null  float64\n",
            " 11  Cov_package_type   48392 non-null  object \n",
            " 12  CAT_zone           48912 non-null  float64\n",
            " 13  policy_id          49162 non-null  object \n",
            " 14  number_drivers     49162 non-null  int64  \n",
            " 15  num_loaned_veh     49162 non-null  int64  \n",
            " 16  num_owned_veh      49162 non-null  int64  \n",
            " 17  num_leased_veh     49162 non-null  int64  \n",
            " 18  total_number_veh   49162 non-null  int64  \n",
            " 19  convert_ind        36871 non-null  float64\n",
            " 20  split              49162 non-null  object \n",
            " 21  primary_parking    49162 non-null  object \n",
            "dtypes: float64(5), int64(6), object(11)\n",
            "memory usage: 8.3+ MB\n"
          ]
        }
      ],
      "source": [
        "policies.info()"
      ]
    },
    {
      "cell_type": "code",
      "source": [
        "policies['zip'].value_counts(dropna=False)"
      ],
      "metadata": {
        "colab": {
          "base_uri": "https://localhost:8080/"
        },
        "id": "GGnvn896akHF",
        "outputId": "8d74b2bd-9c01-473a-fd90-7a6245837c80"
      },
      "execution_count": null,
      "outputs": [
        {
          "output_type": "execute_result",
          "data": {
            "text/plain": [
              "NaN        472\n",
              "53715.0     71\n",
              "30329.0     70\n",
              "53716.0     69\n",
              "36609.0     66\n",
              "          ... \n",
              "10128.0     18\n",
              "10026.0     17\n",
              "10025.0     16\n",
              "10040.0     16\n",
              "10023.0     13\n",
              "Name: zip, Length: 1169, dtype: int64"
            ]
          },
          "metadata": {},
          "execution_count": 4
        }
      ]
    },
    {
      "cell_type": "code",
      "source": [
        "# bins = [10, 20, 30, 40, 50, 60, 70, 80]\n",
        "# labels = [1,2,3,4,5,6,7]\n",
        "# policies['zip'] = pd.cut(policies['zip'].value_counts(), bins=bins, labels=labels, right=False, include_lowest=True, retbins=True)\n",
        "# print (policies['zip'].value_counts())\n",
        "this_df = pd.DataFrame(policies.zip.value_counts())\n",
        "# this_df.columns = ['zip_code', 'count']\n",
        "this_df.zip = [int(cnt/10) for cnt in this_df.zip]\n",
        "#this_df = pd.DataFrame(this_df, columns=['zip','zip_bin'])\n",
        "this_df = this_df.reset_index().rename(columns = {'index':'zip',\"zip\":\"zip_bin\"})\n",
        "this_df"
      ],
      "metadata": {
        "colab": {
          "base_uri": "https://localhost:8080/",
          "height": 424
        },
        "id": "m8uWPwKiZcbo",
        "outputId": "beda872b-dc9d-4499-f3b8-cdb7a83bd7c3"
      },
      "execution_count": null,
      "outputs": [
        {
          "output_type": "execute_result",
          "data": {
            "text/plain": [
              "          zip  zip_bin\n",
              "0     53715.0        7\n",
              "1     30329.0        7\n",
              "2     53716.0        6\n",
              "3     36609.0        6\n",
              "4     35254.0        6\n",
              "...       ...      ...\n",
              "1163  10128.0        1\n",
              "1164  10026.0        1\n",
              "1165  10040.0        1\n",
              "1166  10025.0        1\n",
              "1167  10023.0        1\n",
              "\n",
              "[1168 rows x 2 columns]"
            ],
            "text/html": [
              "\n",
              "  <div id=\"df-433350f3-5a55-4481-abc2-c7937e34cb26\">\n",
              "    <div class=\"colab-df-container\">\n",
              "      <div>\n",
              "<style scoped>\n",
              "    .dataframe tbody tr th:only-of-type {\n",
              "        vertical-align: middle;\n",
              "    }\n",
              "\n",
              "    .dataframe tbody tr th {\n",
              "        vertical-align: top;\n",
              "    }\n",
              "\n",
              "    .dataframe thead th {\n",
              "        text-align: right;\n",
              "    }\n",
              "</style>\n",
              "<table border=\"1\" class=\"dataframe\">\n",
              "  <thead>\n",
              "    <tr style=\"text-align: right;\">\n",
              "      <th></th>\n",
              "      <th>zip</th>\n",
              "      <th>zip_bin</th>\n",
              "    </tr>\n",
              "  </thead>\n",
              "  <tbody>\n",
              "    <tr>\n",
              "      <th>0</th>\n",
              "      <td>53715.0</td>\n",
              "      <td>7</td>\n",
              "    </tr>\n",
              "    <tr>\n",
              "      <th>1</th>\n",
              "      <td>30329.0</td>\n",
              "      <td>7</td>\n",
              "    </tr>\n",
              "    <tr>\n",
              "      <th>2</th>\n",
              "      <td>53716.0</td>\n",
              "      <td>6</td>\n",
              "    </tr>\n",
              "    <tr>\n",
              "      <th>3</th>\n",
              "      <td>36609.0</td>\n",
              "      <td>6</td>\n",
              "    </tr>\n",
              "    <tr>\n",
              "      <th>4</th>\n",
              "      <td>35254.0</td>\n",
              "      <td>6</td>\n",
              "    </tr>\n",
              "    <tr>\n",
              "      <th>...</th>\n",
              "      <td>...</td>\n",
              "      <td>...</td>\n",
              "    </tr>\n",
              "    <tr>\n",
              "      <th>1163</th>\n",
              "      <td>10128.0</td>\n",
              "      <td>1</td>\n",
              "    </tr>\n",
              "    <tr>\n",
              "      <th>1164</th>\n",
              "      <td>10026.0</td>\n",
              "      <td>1</td>\n",
              "    </tr>\n",
              "    <tr>\n",
              "      <th>1165</th>\n",
              "      <td>10040.0</td>\n",
              "      <td>1</td>\n",
              "    </tr>\n",
              "    <tr>\n",
              "      <th>1166</th>\n",
              "      <td>10025.0</td>\n",
              "      <td>1</td>\n",
              "    </tr>\n",
              "    <tr>\n",
              "      <th>1167</th>\n",
              "      <td>10023.0</td>\n",
              "      <td>1</td>\n",
              "    </tr>\n",
              "  </tbody>\n",
              "</table>\n",
              "<p>1168 rows × 2 columns</p>\n",
              "</div>\n",
              "      <button class=\"colab-df-convert\" onclick=\"convertToInteractive('df-433350f3-5a55-4481-abc2-c7937e34cb26')\"\n",
              "              title=\"Convert this dataframe to an interactive table.\"\n",
              "              style=\"display:none;\">\n",
              "        \n",
              "  <svg xmlns=\"http://www.w3.org/2000/svg\" height=\"24px\"viewBox=\"0 0 24 24\"\n",
              "       width=\"24px\">\n",
              "    <path d=\"M0 0h24v24H0V0z\" fill=\"none\"/>\n",
              "    <path d=\"M18.56 5.44l.94 2.06.94-2.06 2.06-.94-2.06-.94-.94-2.06-.94 2.06-2.06.94zm-11 1L8.5 8.5l.94-2.06 2.06-.94-2.06-.94L8.5 2.5l-.94 2.06-2.06.94zm10 10l.94 2.06.94-2.06 2.06-.94-2.06-.94-.94-2.06-.94 2.06-2.06.94z\"/><path d=\"M17.41 7.96l-1.37-1.37c-.4-.4-.92-.59-1.43-.59-.52 0-1.04.2-1.43.59L10.3 9.45l-7.72 7.72c-.78.78-.78 2.05 0 2.83L4 21.41c.39.39.9.59 1.41.59.51 0 1.02-.2 1.41-.59l7.78-7.78 2.81-2.81c.8-.78.8-2.07 0-2.86zM5.41 20L4 18.59l7.72-7.72 1.47 1.35L5.41 20z\"/>\n",
              "  </svg>\n",
              "      </button>\n",
              "      \n",
              "  <style>\n",
              "    .colab-df-container {\n",
              "      display:flex;\n",
              "      flex-wrap:wrap;\n",
              "      gap: 12px;\n",
              "    }\n",
              "\n",
              "    .colab-df-convert {\n",
              "      background-color: #E8F0FE;\n",
              "      border: none;\n",
              "      border-radius: 50%;\n",
              "      cursor: pointer;\n",
              "      display: none;\n",
              "      fill: #1967D2;\n",
              "      height: 32px;\n",
              "      padding: 0 0 0 0;\n",
              "      width: 32px;\n",
              "    }\n",
              "\n",
              "    .colab-df-convert:hover {\n",
              "      background-color: #E2EBFA;\n",
              "      box-shadow: 0px 1px 2px rgba(60, 64, 67, 0.3), 0px 1px 3px 1px rgba(60, 64, 67, 0.15);\n",
              "      fill: #174EA6;\n",
              "    }\n",
              "\n",
              "    [theme=dark] .colab-df-convert {\n",
              "      background-color: #3B4455;\n",
              "      fill: #D2E3FC;\n",
              "    }\n",
              "\n",
              "    [theme=dark] .colab-df-convert:hover {\n",
              "      background-color: #434B5C;\n",
              "      box-shadow: 0px 1px 3px 1px rgba(0, 0, 0, 0.15);\n",
              "      filter: drop-shadow(0px 1px 2px rgba(0, 0, 0, 0.3));\n",
              "      fill: #FFFFFF;\n",
              "    }\n",
              "  </style>\n",
              "\n",
              "      <script>\n",
              "        const buttonEl =\n",
              "          document.querySelector('#df-433350f3-5a55-4481-abc2-c7937e34cb26 button.colab-df-convert');\n",
              "        buttonEl.style.display =\n",
              "          google.colab.kernel.accessAllowed ? 'block' : 'none';\n",
              "\n",
              "        async function convertToInteractive(key) {\n",
              "          const element = document.querySelector('#df-433350f3-5a55-4481-abc2-c7937e34cb26');\n",
              "          const dataTable =\n",
              "            await google.colab.kernel.invokeFunction('convertToInteractive',\n",
              "                                                     [key], {});\n",
              "          if (!dataTable) return;\n",
              "\n",
              "          const docLinkHtml = 'Like what you see? Visit the ' +\n",
              "            '<a target=\"_blank\" href=https://colab.research.google.com/notebooks/data_table.ipynb>data table notebook</a>'\n",
              "            + ' to learn more about interactive tables.';\n",
              "          element.innerHTML = '';\n",
              "          dataTable['output_type'] = 'display_data';\n",
              "          await google.colab.output.renderOutput(dataTable, element);\n",
              "          const docLink = document.createElement('div');\n",
              "          docLink.innerHTML = docLinkHtml;\n",
              "          element.appendChild(docLink);\n",
              "        }\n",
              "      </script>\n",
              "    </div>\n",
              "  </div>\n",
              "  "
            ]
          },
          "metadata": {},
          "execution_count": 5
        }
      ]
    },
    {
      "cell_type": "code",
      "source": [
        "policies = policies.merge(this_df, how='left', on=[\"zip\"])\n",
        "policies.shape"
      ],
      "metadata": {
        "colab": {
          "base_uri": "https://localhost:8080/"
        },
        "id": "ap04eEDOgohe",
        "outputId": "79eaf5d5-e403-41c7-8063-827f7992384b"
      },
      "execution_count": null,
      "outputs": [
        {
          "output_type": "execute_result",
          "data": {
            "text/plain": [
              "(49162, 23)"
            ]
          },
          "metadata": {},
          "execution_count": 6
        }
      ]
    },
    {
      "cell_type": "code",
      "source": [
        "county_frq = pd.DataFrame(policies.county_name.value_counts())\n",
        "county_frq.county_name = [int(cnt/500) for cnt in county_frq.county_name]\n",
        "county_frq = county_frq.reset_index().rename(columns = {'index':'county_name',\"county_name\":\"county_name_bin\"})\n",
        "county_frq"
      ],
      "metadata": {
        "colab": {
          "base_uri": "https://localhost:8080/",
          "height": 424
        },
        "id": "aD9XbCGDcUx7",
        "outputId": "b6a9bd9e-b4f2-4fe3-c7ba-b2abb0ad7fa5"
      },
      "execution_count": null,
      "outputs": [
        {
          "output_type": "execute_result",
          "data": {
            "text/plain": [
              "    county_name  county_name_bin\n",
              "0    Miami-Dade                5\n",
              "1        Nassau                4\n",
              "2        Queens                4\n",
              "3       Broward                3\n",
              "4        Bergen                3\n",
              "..          ...              ...\n",
              "107  Litchfield                0\n",
              "108      Sussex                0\n",
              "109    Dutchess                0\n",
              "110      Cayuga                0\n",
              "111      Warren                0\n",
              "\n",
              "[112 rows x 2 columns]"
            ],
            "text/html": [
              "\n",
              "  <div id=\"df-37f75dc2-b5d9-4a9e-8688-605b1ed4484e\">\n",
              "    <div class=\"colab-df-container\">\n",
              "      <div>\n",
              "<style scoped>\n",
              "    .dataframe tbody tr th:only-of-type {\n",
              "        vertical-align: middle;\n",
              "    }\n",
              "\n",
              "    .dataframe tbody tr th {\n",
              "        vertical-align: top;\n",
              "    }\n",
              "\n",
              "    .dataframe thead th {\n",
              "        text-align: right;\n",
              "    }\n",
              "</style>\n",
              "<table border=\"1\" class=\"dataframe\">\n",
              "  <thead>\n",
              "    <tr style=\"text-align: right;\">\n",
              "      <th></th>\n",
              "      <th>county_name</th>\n",
              "      <th>county_name_bin</th>\n",
              "    </tr>\n",
              "  </thead>\n",
              "  <tbody>\n",
              "    <tr>\n",
              "      <th>0</th>\n",
              "      <td>Miami-Dade</td>\n",
              "      <td>5</td>\n",
              "    </tr>\n",
              "    <tr>\n",
              "      <th>1</th>\n",
              "      <td>Nassau</td>\n",
              "      <td>4</td>\n",
              "    </tr>\n",
              "    <tr>\n",
              "      <th>2</th>\n",
              "      <td>Queens</td>\n",
              "      <td>4</td>\n",
              "    </tr>\n",
              "    <tr>\n",
              "      <th>3</th>\n",
              "      <td>Broward</td>\n",
              "      <td>3</td>\n",
              "    </tr>\n",
              "    <tr>\n",
              "      <th>4</th>\n",
              "      <td>Bergen</td>\n",
              "      <td>3</td>\n",
              "    </tr>\n",
              "    <tr>\n",
              "      <th>...</th>\n",
              "      <td>...</td>\n",
              "      <td>...</td>\n",
              "    </tr>\n",
              "    <tr>\n",
              "      <th>107</th>\n",
              "      <td>Litchfield</td>\n",
              "      <td>0</td>\n",
              "    </tr>\n",
              "    <tr>\n",
              "      <th>108</th>\n",
              "      <td>Sussex</td>\n",
              "      <td>0</td>\n",
              "    </tr>\n",
              "    <tr>\n",
              "      <th>109</th>\n",
              "      <td>Dutchess</td>\n",
              "      <td>0</td>\n",
              "    </tr>\n",
              "    <tr>\n",
              "      <th>110</th>\n",
              "      <td>Cayuga</td>\n",
              "      <td>0</td>\n",
              "    </tr>\n",
              "    <tr>\n",
              "      <th>111</th>\n",
              "      <td>Warren</td>\n",
              "      <td>0</td>\n",
              "    </tr>\n",
              "  </tbody>\n",
              "</table>\n",
              "<p>112 rows × 2 columns</p>\n",
              "</div>\n",
              "      <button class=\"colab-df-convert\" onclick=\"convertToInteractive('df-37f75dc2-b5d9-4a9e-8688-605b1ed4484e')\"\n",
              "              title=\"Convert this dataframe to an interactive table.\"\n",
              "              style=\"display:none;\">\n",
              "        \n",
              "  <svg xmlns=\"http://www.w3.org/2000/svg\" height=\"24px\"viewBox=\"0 0 24 24\"\n",
              "       width=\"24px\">\n",
              "    <path d=\"M0 0h24v24H0V0z\" fill=\"none\"/>\n",
              "    <path d=\"M18.56 5.44l.94 2.06.94-2.06 2.06-.94-2.06-.94-.94-2.06-.94 2.06-2.06.94zm-11 1L8.5 8.5l.94-2.06 2.06-.94-2.06-.94L8.5 2.5l-.94 2.06-2.06.94zm10 10l.94 2.06.94-2.06 2.06-.94-2.06-.94-.94-2.06-.94 2.06-2.06.94z\"/><path d=\"M17.41 7.96l-1.37-1.37c-.4-.4-.92-.59-1.43-.59-.52 0-1.04.2-1.43.59L10.3 9.45l-7.72 7.72c-.78.78-.78 2.05 0 2.83L4 21.41c.39.39.9.59 1.41.59.51 0 1.02-.2 1.41-.59l7.78-7.78 2.81-2.81c.8-.78.8-2.07 0-2.86zM5.41 20L4 18.59l7.72-7.72 1.47 1.35L5.41 20z\"/>\n",
              "  </svg>\n",
              "      </button>\n",
              "      \n",
              "  <style>\n",
              "    .colab-df-container {\n",
              "      display:flex;\n",
              "      flex-wrap:wrap;\n",
              "      gap: 12px;\n",
              "    }\n",
              "\n",
              "    .colab-df-convert {\n",
              "      background-color: #E8F0FE;\n",
              "      border: none;\n",
              "      border-radius: 50%;\n",
              "      cursor: pointer;\n",
              "      display: none;\n",
              "      fill: #1967D2;\n",
              "      height: 32px;\n",
              "      padding: 0 0 0 0;\n",
              "      width: 32px;\n",
              "    }\n",
              "\n",
              "    .colab-df-convert:hover {\n",
              "      background-color: #E2EBFA;\n",
              "      box-shadow: 0px 1px 2px rgba(60, 64, 67, 0.3), 0px 1px 3px 1px rgba(60, 64, 67, 0.15);\n",
              "      fill: #174EA6;\n",
              "    }\n",
              "\n",
              "    [theme=dark] .colab-df-convert {\n",
              "      background-color: #3B4455;\n",
              "      fill: #D2E3FC;\n",
              "    }\n",
              "\n",
              "    [theme=dark] .colab-df-convert:hover {\n",
              "      background-color: #434B5C;\n",
              "      box-shadow: 0px 1px 3px 1px rgba(0, 0, 0, 0.15);\n",
              "      filter: drop-shadow(0px 1px 2px rgba(0, 0, 0, 0.3));\n",
              "      fill: #FFFFFF;\n",
              "    }\n",
              "  </style>\n",
              "\n",
              "      <script>\n",
              "        const buttonEl =\n",
              "          document.querySelector('#df-37f75dc2-b5d9-4a9e-8688-605b1ed4484e button.colab-df-convert');\n",
              "        buttonEl.style.display =\n",
              "          google.colab.kernel.accessAllowed ? 'block' : 'none';\n",
              "\n",
              "        async function convertToInteractive(key) {\n",
              "          const element = document.querySelector('#df-37f75dc2-b5d9-4a9e-8688-605b1ed4484e');\n",
              "          const dataTable =\n",
              "            await google.colab.kernel.invokeFunction('convertToInteractive',\n",
              "                                                     [key], {});\n",
              "          if (!dataTable) return;\n",
              "\n",
              "          const docLinkHtml = 'Like what you see? Visit the ' +\n",
              "            '<a target=\"_blank\" href=https://colab.research.google.com/notebooks/data_table.ipynb>data table notebook</a>'\n",
              "            + ' to learn more about interactive tables.';\n",
              "          element.innerHTML = '';\n",
              "          dataTable['output_type'] = 'display_data';\n",
              "          await google.colab.output.renderOutput(dataTable, element);\n",
              "          const docLink = document.createElement('div');\n",
              "          docLink.innerHTML = docLinkHtml;\n",
              "          element.appendChild(docLink);\n",
              "        }\n",
              "      </script>\n",
              "    </div>\n",
              "  </div>\n",
              "  "
            ]
          },
          "metadata": {},
          "execution_count": 7
        }
      ]
    },
    {
      "cell_type": "code",
      "source": [
        "policies = policies.merge(county_frq, how='left', on=[\"county_name\"])\n",
        "policies.shape"
      ],
      "metadata": {
        "colab": {
          "base_uri": "https://localhost:8080/"
        },
        "id": "vsyIngI6elT4",
        "outputId": "d6ba5210-9079-47f5-a170-f0b604237e72"
      },
      "execution_count": null,
      "outputs": [
        {
          "output_type": "execute_result",
          "data": {
            "text/plain": [
              "(49162, 24)"
            ]
          },
          "metadata": {},
          "execution_count": 8
        }
      ]
    },
    {
      "cell_type": "code",
      "source": [
        "policies.head()"
      ],
      "metadata": {
        "colab": {
          "base_uri": "https://localhost:8080/",
          "height": 404
        },
        "id": "2n-TarfWn-hd",
        "outputId": "44885321-582e-42b8-86fa-8b07479b7204"
      },
      "execution_count": null,
      "outputs": [
        {
          "output_type": "execute_result",
          "data": {
            "text/plain": [
              "   Unnamed: 0    Quote_dt discount Home_policy_ind      zip state_id  \\\n",
              "0           1  2015-01-28      Yes               Y  10465.0       NY   \n",
              "1           2  2015-02-12       No               N  12801.0       NY   \n",
              "2           3  2018-09-03       No               N  11548.0       NY   \n",
              "3           4  2015-07-28       No               N  33141.0       FL   \n",
              "4           5  2016-05-18       No               N  14622.0       NY   \n",
              "\n",
              "  county_name    Agent_cd quoted_amt Prior_carrier_grp  ...  number_drivers  \\\n",
              "0       Bronx  15973623.0     $5,153         Carrier_1  ...               2   \n",
              "1      Warren  46978147.0     $9,870         Carrier_4  ...               1   \n",
              "2      Nassau  32759856.0     $3,090         Carrier_4  ...               2   \n",
              "3  Miami-Dade  47310293.0     $2,860         Carrier_7  ...               1   \n",
              "4      Monroe  15675431.0    $14,917         Carrier_3  ...               2   \n",
              "\n",
              "  num_loaned_veh  num_owned_veh num_leased_veh  total_number_veh  convert_ind  \\\n",
              "0              1              2              0                 3          0.0   \n",
              "1              1              1              2                 4          NaN   \n",
              "2              1              2              1                 4          0.0   \n",
              "3              2              3              0                 5          NaN   \n",
              "4              0              1              2                 3          0.0   \n",
              "\n",
              "   split  primary_parking  zip_bin  county_name_bin  \n",
              "0  Train    home/driveway      4.0                1  \n",
              "1   Test          unknown      2.0                0  \n",
              "2  Train          unknown      4.0                4  \n",
              "3   Test          unknown      5.0                5  \n",
              "4  Train          unknown      4.0                1  \n",
              "\n",
              "[5 rows x 24 columns]"
            ],
            "text/html": [
              "\n",
              "  <div id=\"df-2e163f44-83d2-4af7-9ba0-a61c6547999e\">\n",
              "    <div class=\"colab-df-container\">\n",
              "      <div>\n",
              "<style scoped>\n",
              "    .dataframe tbody tr th:only-of-type {\n",
              "        vertical-align: middle;\n",
              "    }\n",
              "\n",
              "    .dataframe tbody tr th {\n",
              "        vertical-align: top;\n",
              "    }\n",
              "\n",
              "    .dataframe thead th {\n",
              "        text-align: right;\n",
              "    }\n",
              "</style>\n",
              "<table border=\"1\" class=\"dataframe\">\n",
              "  <thead>\n",
              "    <tr style=\"text-align: right;\">\n",
              "      <th></th>\n",
              "      <th>Unnamed: 0</th>\n",
              "      <th>Quote_dt</th>\n",
              "      <th>discount</th>\n",
              "      <th>Home_policy_ind</th>\n",
              "      <th>zip</th>\n",
              "      <th>state_id</th>\n",
              "      <th>county_name</th>\n",
              "      <th>Agent_cd</th>\n",
              "      <th>quoted_amt</th>\n",
              "      <th>Prior_carrier_grp</th>\n",
              "      <th>...</th>\n",
              "      <th>number_drivers</th>\n",
              "      <th>num_loaned_veh</th>\n",
              "      <th>num_owned_veh</th>\n",
              "      <th>num_leased_veh</th>\n",
              "      <th>total_number_veh</th>\n",
              "      <th>convert_ind</th>\n",
              "      <th>split</th>\n",
              "      <th>primary_parking</th>\n",
              "      <th>zip_bin</th>\n",
              "      <th>county_name_bin</th>\n",
              "    </tr>\n",
              "  </thead>\n",
              "  <tbody>\n",
              "    <tr>\n",
              "      <th>0</th>\n",
              "      <td>1</td>\n",
              "      <td>2015-01-28</td>\n",
              "      <td>Yes</td>\n",
              "      <td>Y</td>\n",
              "      <td>10465.0</td>\n",
              "      <td>NY</td>\n",
              "      <td>Bronx</td>\n",
              "      <td>15973623.0</td>\n",
              "      <td>$5,153</td>\n",
              "      <td>Carrier_1</td>\n",
              "      <td>...</td>\n",
              "      <td>2</td>\n",
              "      <td>1</td>\n",
              "      <td>2</td>\n",
              "      <td>0</td>\n",
              "      <td>3</td>\n",
              "      <td>0.0</td>\n",
              "      <td>Train</td>\n",
              "      <td>home/driveway</td>\n",
              "      <td>4.0</td>\n",
              "      <td>1</td>\n",
              "    </tr>\n",
              "    <tr>\n",
              "      <th>1</th>\n",
              "      <td>2</td>\n",
              "      <td>2015-02-12</td>\n",
              "      <td>No</td>\n",
              "      <td>N</td>\n",
              "      <td>12801.0</td>\n",
              "      <td>NY</td>\n",
              "      <td>Warren</td>\n",
              "      <td>46978147.0</td>\n",
              "      <td>$9,870</td>\n",
              "      <td>Carrier_4</td>\n",
              "      <td>...</td>\n",
              "      <td>1</td>\n",
              "      <td>1</td>\n",
              "      <td>1</td>\n",
              "      <td>2</td>\n",
              "      <td>4</td>\n",
              "      <td>NaN</td>\n",
              "      <td>Test</td>\n",
              "      <td>unknown</td>\n",
              "      <td>2.0</td>\n",
              "      <td>0</td>\n",
              "    </tr>\n",
              "    <tr>\n",
              "      <th>2</th>\n",
              "      <td>3</td>\n",
              "      <td>2018-09-03</td>\n",
              "      <td>No</td>\n",
              "      <td>N</td>\n",
              "      <td>11548.0</td>\n",
              "      <td>NY</td>\n",
              "      <td>Nassau</td>\n",
              "      <td>32759856.0</td>\n",
              "      <td>$3,090</td>\n",
              "      <td>Carrier_4</td>\n",
              "      <td>...</td>\n",
              "      <td>2</td>\n",
              "      <td>1</td>\n",
              "      <td>2</td>\n",
              "      <td>1</td>\n",
              "      <td>4</td>\n",
              "      <td>0.0</td>\n",
              "      <td>Train</td>\n",
              "      <td>unknown</td>\n",
              "      <td>4.0</td>\n",
              "      <td>4</td>\n",
              "    </tr>\n",
              "    <tr>\n",
              "      <th>3</th>\n",
              "      <td>4</td>\n",
              "      <td>2015-07-28</td>\n",
              "      <td>No</td>\n",
              "      <td>N</td>\n",
              "      <td>33141.0</td>\n",
              "      <td>FL</td>\n",
              "      <td>Miami-Dade</td>\n",
              "      <td>47310293.0</td>\n",
              "      <td>$2,860</td>\n",
              "      <td>Carrier_7</td>\n",
              "      <td>...</td>\n",
              "      <td>1</td>\n",
              "      <td>2</td>\n",
              "      <td>3</td>\n",
              "      <td>0</td>\n",
              "      <td>5</td>\n",
              "      <td>NaN</td>\n",
              "      <td>Test</td>\n",
              "      <td>unknown</td>\n",
              "      <td>5.0</td>\n",
              "      <td>5</td>\n",
              "    </tr>\n",
              "    <tr>\n",
              "      <th>4</th>\n",
              "      <td>5</td>\n",
              "      <td>2016-05-18</td>\n",
              "      <td>No</td>\n",
              "      <td>N</td>\n",
              "      <td>14622.0</td>\n",
              "      <td>NY</td>\n",
              "      <td>Monroe</td>\n",
              "      <td>15675431.0</td>\n",
              "      <td>$14,917</td>\n",
              "      <td>Carrier_3</td>\n",
              "      <td>...</td>\n",
              "      <td>2</td>\n",
              "      <td>0</td>\n",
              "      <td>1</td>\n",
              "      <td>2</td>\n",
              "      <td>3</td>\n",
              "      <td>0.0</td>\n",
              "      <td>Train</td>\n",
              "      <td>unknown</td>\n",
              "      <td>4.0</td>\n",
              "      <td>1</td>\n",
              "    </tr>\n",
              "  </tbody>\n",
              "</table>\n",
              "<p>5 rows × 24 columns</p>\n",
              "</div>\n",
              "      <button class=\"colab-df-convert\" onclick=\"convertToInteractive('df-2e163f44-83d2-4af7-9ba0-a61c6547999e')\"\n",
              "              title=\"Convert this dataframe to an interactive table.\"\n",
              "              style=\"display:none;\">\n",
              "        \n",
              "  <svg xmlns=\"http://www.w3.org/2000/svg\" height=\"24px\"viewBox=\"0 0 24 24\"\n",
              "       width=\"24px\">\n",
              "    <path d=\"M0 0h24v24H0V0z\" fill=\"none\"/>\n",
              "    <path d=\"M18.56 5.44l.94 2.06.94-2.06 2.06-.94-2.06-.94-.94-2.06-.94 2.06-2.06.94zm-11 1L8.5 8.5l.94-2.06 2.06-.94-2.06-.94L8.5 2.5l-.94 2.06-2.06.94zm10 10l.94 2.06.94-2.06 2.06-.94-2.06-.94-.94-2.06-.94 2.06-2.06.94z\"/><path d=\"M17.41 7.96l-1.37-1.37c-.4-.4-.92-.59-1.43-.59-.52 0-1.04.2-1.43.59L10.3 9.45l-7.72 7.72c-.78.78-.78 2.05 0 2.83L4 21.41c.39.39.9.59 1.41.59.51 0 1.02-.2 1.41-.59l7.78-7.78 2.81-2.81c.8-.78.8-2.07 0-2.86zM5.41 20L4 18.59l7.72-7.72 1.47 1.35L5.41 20z\"/>\n",
              "  </svg>\n",
              "      </button>\n",
              "      \n",
              "  <style>\n",
              "    .colab-df-container {\n",
              "      display:flex;\n",
              "      flex-wrap:wrap;\n",
              "      gap: 12px;\n",
              "    }\n",
              "\n",
              "    .colab-df-convert {\n",
              "      background-color: #E8F0FE;\n",
              "      border: none;\n",
              "      border-radius: 50%;\n",
              "      cursor: pointer;\n",
              "      display: none;\n",
              "      fill: #1967D2;\n",
              "      height: 32px;\n",
              "      padding: 0 0 0 0;\n",
              "      width: 32px;\n",
              "    }\n",
              "\n",
              "    .colab-df-convert:hover {\n",
              "      background-color: #E2EBFA;\n",
              "      box-shadow: 0px 1px 2px rgba(60, 64, 67, 0.3), 0px 1px 3px 1px rgba(60, 64, 67, 0.15);\n",
              "      fill: #174EA6;\n",
              "    }\n",
              "\n",
              "    [theme=dark] .colab-df-convert {\n",
              "      background-color: #3B4455;\n",
              "      fill: #D2E3FC;\n",
              "    }\n",
              "\n",
              "    [theme=dark] .colab-df-convert:hover {\n",
              "      background-color: #434B5C;\n",
              "      box-shadow: 0px 1px 3px 1px rgba(0, 0, 0, 0.15);\n",
              "      filter: drop-shadow(0px 1px 2px rgba(0, 0, 0, 0.3));\n",
              "      fill: #FFFFFF;\n",
              "    }\n",
              "  </style>\n",
              "\n",
              "      <script>\n",
              "        const buttonEl =\n",
              "          document.querySelector('#df-2e163f44-83d2-4af7-9ba0-a61c6547999e button.colab-df-convert');\n",
              "        buttonEl.style.display =\n",
              "          google.colab.kernel.accessAllowed ? 'block' : 'none';\n",
              "\n",
              "        async function convertToInteractive(key) {\n",
              "          const element = document.querySelector('#df-2e163f44-83d2-4af7-9ba0-a61c6547999e');\n",
              "          const dataTable =\n",
              "            await google.colab.kernel.invokeFunction('convertToInteractive',\n",
              "                                                     [key], {});\n",
              "          if (!dataTable) return;\n",
              "\n",
              "          const docLinkHtml = 'Like what you see? Visit the ' +\n",
              "            '<a target=\"_blank\" href=https://colab.research.google.com/notebooks/data_table.ipynb>data table notebook</a>'\n",
              "            + ' to learn more about interactive tables.';\n",
              "          element.innerHTML = '';\n",
              "          dataTable['output_type'] = 'display_data';\n",
              "          await google.colab.output.renderOutput(dataTable, element);\n",
              "          const docLink = document.createElement('div');\n",
              "          docLink.innerHTML = docLinkHtml;\n",
              "          element.appendChild(docLink);\n",
              "        }\n",
              "      </script>\n",
              "    </div>\n",
              "  </div>\n",
              "  "
            ]
          },
          "metadata": {},
          "execution_count": 9
        }
      ]
    },
    {
      "cell_type": "code",
      "source": [
        "policies['zip_bin'].fillna(policies['zip_bin'].mode()[0], inplace=True)\n",
        "policies.info()"
      ],
      "metadata": {
        "colab": {
          "base_uri": "https://localhost:8080/"
        },
        "id": "ekxgehiWoHIz",
        "outputId": "1ac64663-0d5b-4d61-9a6c-49781e5f9c70"
      },
      "execution_count": null,
      "outputs": [
        {
          "output_type": "stream",
          "name": "stdout",
          "text": [
            "<class 'pandas.core.frame.DataFrame'>\n",
            "Int64Index: 49162 entries, 0 to 49161\n",
            "Data columns (total 24 columns):\n",
            " #   Column             Non-Null Count  Dtype  \n",
            "---  ------             --------------  -----  \n",
            " 0   Unnamed: 0         49162 non-null  int64  \n",
            " 1   Quote_dt           49162 non-null  object \n",
            " 2   discount           49162 non-null  object \n",
            " 3   Home_policy_ind    49162 non-null  object \n",
            " 4   zip                48690 non-null  float64\n",
            " 5   state_id           49162 non-null  object \n",
            " 6   county_name        49162 non-null  object \n",
            " 7   Agent_cd           43732 non-null  float64\n",
            " 8   quoted_amt         49050 non-null  object \n",
            " 9   Prior_carrier_grp  44162 non-null  object \n",
            " 10  credit_score       48862 non-null  float64\n",
            " 11  Cov_package_type   48392 non-null  object \n",
            " 12  CAT_zone           48912 non-null  float64\n",
            " 13  policy_id          49162 non-null  object \n",
            " 14  number_drivers     49162 non-null  int64  \n",
            " 15  num_loaned_veh     49162 non-null  int64  \n",
            " 16  num_owned_veh      49162 non-null  int64  \n",
            " 17  num_leased_veh     49162 non-null  int64  \n",
            " 18  total_number_veh   49162 non-null  int64  \n",
            " 19  convert_ind        36871 non-null  float64\n",
            " 20  split              49162 non-null  object \n",
            " 21  primary_parking    49162 non-null  object \n",
            " 22  zip_bin            49162 non-null  float64\n",
            " 23  county_name_bin    49162 non-null  int64  \n",
            "dtypes: float64(6), int64(7), object(11)\n",
            "memory usage: 9.4+ MB\n"
          ]
        }
      ]
    },
    {
      "cell_type": "code",
      "source": [
        "#max(policies['zip'])"
      ],
      "metadata": {
        "id": "zUwQCdfcaGF-"
      },
      "execution_count": null,
      "outputs": []
    },
    {
      "cell_type": "code",
      "source": [
        "#policies['Home_policy_ind'].hist()"
      ],
      "metadata": {
        "id": "h0Nl2hyxQrFZ"
      },
      "execution_count": null,
      "outputs": []
    },
    {
      "cell_type": "code",
      "source": [
        "# Distribution\n",
        "# fig = plt.figure(figsize=(180,120))\n",
        "# ax = fig.gca()\n",
        "# fig_1 = policies.hist(ax=ax, layout=(9,6), xlabelsize=35, ylabelsize=35, bins=50)\n",
        "# [x.title.set_size(40) for x in fig_1.ravel()]\n",
        "# plt.show()"
      ],
      "metadata": {
        "id": "B-jGBjLwQYvx"
      },
      "execution_count": null,
      "outputs": []
    },
    {
      "cell_type": "code",
      "source": [
        "policies.isnull().sum().sort_values(ascending = False)"
      ],
      "metadata": {
        "colab": {
          "base_uri": "https://localhost:8080/"
        },
        "id": "clIOZyMmTYPu",
        "outputId": "d018be0d-40a5-4e7f-cbad-677051d9cdba"
      },
      "execution_count": null,
      "outputs": [
        {
          "output_type": "execute_result",
          "data": {
            "text/plain": [
              "convert_ind          12291\n",
              "Agent_cd              5430\n",
              "Prior_carrier_grp     5000\n",
              "Cov_package_type       770\n",
              "zip                    472\n",
              "credit_score           300\n",
              "CAT_zone               250\n",
              "quoted_amt             112\n",
              "num_loaned_veh           0\n",
              "zip_bin                  0\n",
              "primary_parking          0\n",
              "split                    0\n",
              "total_number_veh         0\n",
              "num_leased_veh           0\n",
              "num_owned_veh            0\n",
              "Unnamed: 0               0\n",
              "number_drivers           0\n",
              "policy_id                0\n",
              "Quote_dt                 0\n",
              "county_name              0\n",
              "state_id                 0\n",
              "Home_policy_ind          0\n",
              "discount                 0\n",
              "county_name_bin          0\n",
              "dtype: int64"
            ]
          },
          "metadata": {},
          "execution_count": 14
        }
      ]
    },
    {
      "cell_type": "code",
      "execution_count": null,
      "metadata": {
        "id": "FQQapJ63epme"
      },
      "outputs": [],
      "source": [
        "# filter out the test data\n",
        "#policies = policies[policies['split'] == 'Train']\n",
        "\n",
        "# id: drop\n",
        "policies = policies.drop(columns='Unnamed: 0') \n",
        "\n",
        "# Quete_dt: drop after EDA\n",
        "#policies = policies.drop(columns=['Quote_dt'])\n",
        "\n",
        "# discount: encode\n",
        "policies['discount'] = policies['discount'].map({'No':0, 'Yes':1})\n",
        "\n",
        "# Home_policy_ind: encode\n",
        "policies['Home_policy_ind'] = policies['Home_policy_ind'].map({'N':0, 'Y':1})\n",
        "\n",
        "# zip, state_id, county: drop (why?)\n",
        "policies = policies.drop(columns=['zip','county_name', 'primary_parking','Quote_dt']) #drop parking too, dont drop state\n",
        "\n",
        "policies['quoted_amt'] = policies['quoted_amt'].replace('[\\$,]', '', regex=True).astype(float)\n",
        "\n",
        "# quoted_amt: fill NA with average amount by car number(1-7)\n",
        "mean_amt = policies[policies['total_number_veh'] != 8]['quoted_amt'].mean() \n",
        "policies['quoted_amt'] = policies['quoted_amt'].fillna(mean_amt)\n",
        "\n",
        "# Agent_cd: drop after EDA\n",
        "policies = policies.drop(columns='Agent_cd')\n",
        "\n",
        "\n",
        "# Prior_carrier_grp\n",
        "#policies = policies.drop(labels='Prior_carrier_grp', axis=1) \n",
        "policies['Prior_carrier_grp'] = policies['Prior_carrier_grp'].fillna(policies['Prior_carrier_grp'].mode()[0]) \n",
        "\n",
        "# Cov_package_type: encode; fillna with median\n",
        "policies['Cov_package_type'].value_counts()\n",
        "policies['Cov_package_type'] = policies['Cov_package_type'].map({'Low':0, 'Medium':1, 'High':2})\n",
        "policies['Cov_package_type'] = policies['Cov_package_type'].fillna(policies['Cov_package_type'].median())\n",
        "\n",
        "# credit_score: fillna with mean\n",
        "avg = np.mean(policies['credit_score'])\n",
        "policies['credit_score'] = policies['credit_score'].fillna(avg)\n",
        "\n",
        "# CAT_zone: fillna with median\n",
        "policies['CAT_zone'] = policies['CAT_zone'].fillna(policies['CAT_zone'].median())\n",
        "\n",
        "# primary_parking: encode\n",
        "#policies['primary_parking'] = policies['primary_parking'].map({'street':0, 'unknown':1, 'home/driveway':2, 'parking garage':3})"
      ]
    },
    {
      "cell_type": "code",
      "execution_count": null,
      "metadata": {
        "colab": {
          "base_uri": "https://localhost:8080/",
          "height": 270
        },
        "id": "EerFRSBlepme",
        "outputId": "5168376d-51da-4cca-e0c6-ff89b36853a7"
      },
      "outputs": [
        {
          "output_type": "execute_result",
          "data": {
            "text/plain": [
              "   discount  Home_policy_ind state_id  quoted_amt Prior_carrier_grp  \\\n",
              "0         1                1       NY      5153.0         Carrier_1   \n",
              "1         0                0       NY      9870.0         Carrier_4   \n",
              "2         0                0       NY      3090.0         Carrier_4   \n",
              "3         0                0       FL      2860.0         Carrier_7   \n",
              "4         0                0       NY     14917.0         Carrier_3   \n",
              "\n",
              "   credit_score  Cov_package_type  CAT_zone     policy_id  number_drivers  \\\n",
              "0         613.0               2.0       2.0  policy_87209               2   \n",
              "1         576.0               0.0       4.0  policy_89288               1   \n",
              "2         631.0               1.0       2.0  policy_91413               2   \n",
              "3         573.0               1.0       3.0  policy_23460               1   \n",
              "4         602.0               1.0       4.0  policy_71845               2   \n",
              "\n",
              "   num_loaned_veh  num_owned_veh  num_leased_veh  total_number_veh  \\\n",
              "0               1              2               0                 3   \n",
              "1               1              1               2                 4   \n",
              "2               1              2               1                 4   \n",
              "3               2              3               0                 5   \n",
              "4               0              1               2                 3   \n",
              "\n",
              "   convert_ind  split  zip_bin  county_name_bin  \n",
              "0          0.0  Train      4.0                1  \n",
              "1          NaN   Test      2.0                0  \n",
              "2          0.0  Train      4.0                4  \n",
              "3          NaN   Test      5.0                5  \n",
              "4          0.0  Train      4.0                1  "
            ],
            "text/html": [
              "\n",
              "  <div id=\"df-33f71a97-642f-441d-b252-ab69894459f0\">\n",
              "    <div class=\"colab-df-container\">\n",
              "      <div>\n",
              "<style scoped>\n",
              "    .dataframe tbody tr th:only-of-type {\n",
              "        vertical-align: middle;\n",
              "    }\n",
              "\n",
              "    .dataframe tbody tr th {\n",
              "        vertical-align: top;\n",
              "    }\n",
              "\n",
              "    .dataframe thead th {\n",
              "        text-align: right;\n",
              "    }\n",
              "</style>\n",
              "<table border=\"1\" class=\"dataframe\">\n",
              "  <thead>\n",
              "    <tr style=\"text-align: right;\">\n",
              "      <th></th>\n",
              "      <th>discount</th>\n",
              "      <th>Home_policy_ind</th>\n",
              "      <th>state_id</th>\n",
              "      <th>quoted_amt</th>\n",
              "      <th>Prior_carrier_grp</th>\n",
              "      <th>credit_score</th>\n",
              "      <th>Cov_package_type</th>\n",
              "      <th>CAT_zone</th>\n",
              "      <th>policy_id</th>\n",
              "      <th>number_drivers</th>\n",
              "      <th>num_loaned_veh</th>\n",
              "      <th>num_owned_veh</th>\n",
              "      <th>num_leased_veh</th>\n",
              "      <th>total_number_veh</th>\n",
              "      <th>convert_ind</th>\n",
              "      <th>split</th>\n",
              "      <th>zip_bin</th>\n",
              "      <th>county_name_bin</th>\n",
              "    </tr>\n",
              "  </thead>\n",
              "  <tbody>\n",
              "    <tr>\n",
              "      <th>0</th>\n",
              "      <td>1</td>\n",
              "      <td>1</td>\n",
              "      <td>NY</td>\n",
              "      <td>5153.0</td>\n",
              "      <td>Carrier_1</td>\n",
              "      <td>613.0</td>\n",
              "      <td>2.0</td>\n",
              "      <td>2.0</td>\n",
              "      <td>policy_87209</td>\n",
              "      <td>2</td>\n",
              "      <td>1</td>\n",
              "      <td>2</td>\n",
              "      <td>0</td>\n",
              "      <td>3</td>\n",
              "      <td>0.0</td>\n",
              "      <td>Train</td>\n",
              "      <td>4.0</td>\n",
              "      <td>1</td>\n",
              "    </tr>\n",
              "    <tr>\n",
              "      <th>1</th>\n",
              "      <td>0</td>\n",
              "      <td>0</td>\n",
              "      <td>NY</td>\n",
              "      <td>9870.0</td>\n",
              "      <td>Carrier_4</td>\n",
              "      <td>576.0</td>\n",
              "      <td>0.0</td>\n",
              "      <td>4.0</td>\n",
              "      <td>policy_89288</td>\n",
              "      <td>1</td>\n",
              "      <td>1</td>\n",
              "      <td>1</td>\n",
              "      <td>2</td>\n",
              "      <td>4</td>\n",
              "      <td>NaN</td>\n",
              "      <td>Test</td>\n",
              "      <td>2.0</td>\n",
              "      <td>0</td>\n",
              "    </tr>\n",
              "    <tr>\n",
              "      <th>2</th>\n",
              "      <td>0</td>\n",
              "      <td>0</td>\n",
              "      <td>NY</td>\n",
              "      <td>3090.0</td>\n",
              "      <td>Carrier_4</td>\n",
              "      <td>631.0</td>\n",
              "      <td>1.0</td>\n",
              "      <td>2.0</td>\n",
              "      <td>policy_91413</td>\n",
              "      <td>2</td>\n",
              "      <td>1</td>\n",
              "      <td>2</td>\n",
              "      <td>1</td>\n",
              "      <td>4</td>\n",
              "      <td>0.0</td>\n",
              "      <td>Train</td>\n",
              "      <td>4.0</td>\n",
              "      <td>4</td>\n",
              "    </tr>\n",
              "    <tr>\n",
              "      <th>3</th>\n",
              "      <td>0</td>\n",
              "      <td>0</td>\n",
              "      <td>FL</td>\n",
              "      <td>2860.0</td>\n",
              "      <td>Carrier_7</td>\n",
              "      <td>573.0</td>\n",
              "      <td>1.0</td>\n",
              "      <td>3.0</td>\n",
              "      <td>policy_23460</td>\n",
              "      <td>1</td>\n",
              "      <td>2</td>\n",
              "      <td>3</td>\n",
              "      <td>0</td>\n",
              "      <td>5</td>\n",
              "      <td>NaN</td>\n",
              "      <td>Test</td>\n",
              "      <td>5.0</td>\n",
              "      <td>5</td>\n",
              "    </tr>\n",
              "    <tr>\n",
              "      <th>4</th>\n",
              "      <td>0</td>\n",
              "      <td>0</td>\n",
              "      <td>NY</td>\n",
              "      <td>14917.0</td>\n",
              "      <td>Carrier_3</td>\n",
              "      <td>602.0</td>\n",
              "      <td>1.0</td>\n",
              "      <td>4.0</td>\n",
              "      <td>policy_71845</td>\n",
              "      <td>2</td>\n",
              "      <td>0</td>\n",
              "      <td>1</td>\n",
              "      <td>2</td>\n",
              "      <td>3</td>\n",
              "      <td>0.0</td>\n",
              "      <td>Train</td>\n",
              "      <td>4.0</td>\n",
              "      <td>1</td>\n",
              "    </tr>\n",
              "  </tbody>\n",
              "</table>\n",
              "</div>\n",
              "      <button class=\"colab-df-convert\" onclick=\"convertToInteractive('df-33f71a97-642f-441d-b252-ab69894459f0')\"\n",
              "              title=\"Convert this dataframe to an interactive table.\"\n",
              "              style=\"display:none;\">\n",
              "        \n",
              "  <svg xmlns=\"http://www.w3.org/2000/svg\" height=\"24px\"viewBox=\"0 0 24 24\"\n",
              "       width=\"24px\">\n",
              "    <path d=\"M0 0h24v24H0V0z\" fill=\"none\"/>\n",
              "    <path d=\"M18.56 5.44l.94 2.06.94-2.06 2.06-.94-2.06-.94-.94-2.06-.94 2.06-2.06.94zm-11 1L8.5 8.5l.94-2.06 2.06-.94-2.06-.94L8.5 2.5l-.94 2.06-2.06.94zm10 10l.94 2.06.94-2.06 2.06-.94-2.06-.94-.94-2.06-.94 2.06-2.06.94z\"/><path d=\"M17.41 7.96l-1.37-1.37c-.4-.4-.92-.59-1.43-.59-.52 0-1.04.2-1.43.59L10.3 9.45l-7.72 7.72c-.78.78-.78 2.05 0 2.83L4 21.41c.39.39.9.59 1.41.59.51 0 1.02-.2 1.41-.59l7.78-7.78 2.81-2.81c.8-.78.8-2.07 0-2.86zM5.41 20L4 18.59l7.72-7.72 1.47 1.35L5.41 20z\"/>\n",
              "  </svg>\n",
              "      </button>\n",
              "      \n",
              "  <style>\n",
              "    .colab-df-container {\n",
              "      display:flex;\n",
              "      flex-wrap:wrap;\n",
              "      gap: 12px;\n",
              "    }\n",
              "\n",
              "    .colab-df-convert {\n",
              "      background-color: #E8F0FE;\n",
              "      border: none;\n",
              "      border-radius: 50%;\n",
              "      cursor: pointer;\n",
              "      display: none;\n",
              "      fill: #1967D2;\n",
              "      height: 32px;\n",
              "      padding: 0 0 0 0;\n",
              "      width: 32px;\n",
              "    }\n",
              "\n",
              "    .colab-df-convert:hover {\n",
              "      background-color: #E2EBFA;\n",
              "      box-shadow: 0px 1px 2px rgba(60, 64, 67, 0.3), 0px 1px 3px 1px rgba(60, 64, 67, 0.15);\n",
              "      fill: #174EA6;\n",
              "    }\n",
              "\n",
              "    [theme=dark] .colab-df-convert {\n",
              "      background-color: #3B4455;\n",
              "      fill: #D2E3FC;\n",
              "    }\n",
              "\n",
              "    [theme=dark] .colab-df-convert:hover {\n",
              "      background-color: #434B5C;\n",
              "      box-shadow: 0px 1px 3px 1px rgba(0, 0, 0, 0.15);\n",
              "      filter: drop-shadow(0px 1px 2px rgba(0, 0, 0, 0.3));\n",
              "      fill: #FFFFFF;\n",
              "    }\n",
              "  </style>\n",
              "\n",
              "      <script>\n",
              "        const buttonEl =\n",
              "          document.querySelector('#df-33f71a97-642f-441d-b252-ab69894459f0 button.colab-df-convert');\n",
              "        buttonEl.style.display =\n",
              "          google.colab.kernel.accessAllowed ? 'block' : 'none';\n",
              "\n",
              "        async function convertToInteractive(key) {\n",
              "          const element = document.querySelector('#df-33f71a97-642f-441d-b252-ab69894459f0');\n",
              "          const dataTable =\n",
              "            await google.colab.kernel.invokeFunction('convertToInteractive',\n",
              "                                                     [key], {});\n",
              "          if (!dataTable) return;\n",
              "\n",
              "          const docLinkHtml = 'Like what you see? Visit the ' +\n",
              "            '<a target=\"_blank\" href=https://colab.research.google.com/notebooks/data_table.ipynb>data table notebook</a>'\n",
              "            + ' to learn more about interactive tables.';\n",
              "          element.innerHTML = '';\n",
              "          dataTable['output_type'] = 'display_data';\n",
              "          await google.colab.output.renderOutput(dataTable, element);\n",
              "          const docLink = document.createElement('div');\n",
              "          docLink.innerHTML = docLinkHtml;\n",
              "          element.appendChild(docLink);\n",
              "        }\n",
              "      </script>\n",
              "    </div>\n",
              "  </div>\n",
              "  "
            ]
          },
          "metadata": {},
          "execution_count": 16
        }
      ],
      "source": [
        "policies.head()"
      ]
    },
    {
      "cell_type": "code",
      "source": [
        "policies.isnull().sum().sort_values(ascending = False)"
      ],
      "metadata": {
        "colab": {
          "base_uri": "https://localhost:8080/"
        },
        "id": "-Qm8BnWYo99a",
        "outputId": "9ea46dbb-34f3-46ad-96ef-f3239ae14525"
      },
      "execution_count": null,
      "outputs": [
        {
          "output_type": "execute_result",
          "data": {
            "text/plain": [
              "convert_ind          12291\n",
              "discount                 0\n",
              "Home_policy_ind          0\n",
              "zip_bin                  0\n",
              "split                    0\n",
              "total_number_veh         0\n",
              "num_leased_veh           0\n",
              "num_owned_veh            0\n",
              "num_loaned_veh           0\n",
              "number_drivers           0\n",
              "policy_id                0\n",
              "CAT_zone                 0\n",
              "Cov_package_type         0\n",
              "credit_score             0\n",
              "Prior_carrier_grp        0\n",
              "quoted_amt               0\n",
              "state_id                 0\n",
              "county_name_bin          0\n",
              "dtype: int64"
            ]
          },
          "metadata": {},
          "execution_count": 17
        }
      ]
    },
    {
      "cell_type": "code",
      "execution_count": null,
      "metadata": {
        "colab": {
          "base_uri": "https://localhost:8080/",
          "height": 300
        },
        "id": "X9PvyDSjepmf",
        "outputId": "f67913be-add4-41ba-c6bc-4409afd66878"
      },
      "outputs": [
        {
          "output_type": "execute_result",
          "data": {
            "text/plain": [
              "   discount  Home_policy_ind  quoted_amt  credit_score  Cov_package_type  \\\n",
              "0         1                1      5153.0         613.0               2.0   \n",
              "1         0                0      9870.0         576.0               0.0   \n",
              "2         0                0      3090.0         631.0               1.0   \n",
              "3         0                0      2860.0         573.0               1.0   \n",
              "4         0                0     14917.0         602.0               1.0   \n",
              "\n",
              "   CAT_zone     policy_id  number_drivers  num_loaned_veh  num_owned_veh  ...  \\\n",
              "0       2.0  policy_87209               2               1              2  ...   \n",
              "1       4.0  policy_89288               1               1              1  ...   \n",
              "2       2.0  policy_91413               2               1              2  ...   \n",
              "3       3.0  policy_23460               1               2              3  ...   \n",
              "4       4.0  policy_71845               2               0              1  ...   \n",
              "\n",
              "   Prior_carrier_grp_Carrier_7  Prior_carrier_grp_Carrier_8  \\\n",
              "0                            0                            0   \n",
              "1                            0                            0   \n",
              "2                            0                            0   \n",
              "3                            1                            0   \n",
              "4                            0                            0   \n",
              "\n",
              "   Prior_carrier_grp_Other state_id_CT  state_id_FL  state_id_GA  state_id_MN  \\\n",
              "0                        0           0            0            0            0   \n",
              "1                        0           0            0            0            0   \n",
              "2                        0           0            0            0            0   \n",
              "3                        0           0            1            0            0   \n",
              "4                        0           0            0            0            0   \n",
              "\n",
              "   state_id_NJ  state_id_NY  state_id_WI  \n",
              "0            0            1            0  \n",
              "1            0            1            0  \n",
              "2            0            1            0  \n",
              "3            0            0            0  \n",
              "4            0            1            0  \n",
              "\n",
              "[5 rows x 31 columns]"
            ],
            "text/html": [
              "\n",
              "  <div id=\"df-f05f35a0-005a-4538-9b12-e55773fa0bd5\">\n",
              "    <div class=\"colab-df-container\">\n",
              "      <div>\n",
              "<style scoped>\n",
              "    .dataframe tbody tr th:only-of-type {\n",
              "        vertical-align: middle;\n",
              "    }\n",
              "\n",
              "    .dataframe tbody tr th {\n",
              "        vertical-align: top;\n",
              "    }\n",
              "\n",
              "    .dataframe thead th {\n",
              "        text-align: right;\n",
              "    }\n",
              "</style>\n",
              "<table border=\"1\" class=\"dataframe\">\n",
              "  <thead>\n",
              "    <tr style=\"text-align: right;\">\n",
              "      <th></th>\n",
              "      <th>discount</th>\n",
              "      <th>Home_policy_ind</th>\n",
              "      <th>quoted_amt</th>\n",
              "      <th>credit_score</th>\n",
              "      <th>Cov_package_type</th>\n",
              "      <th>CAT_zone</th>\n",
              "      <th>policy_id</th>\n",
              "      <th>number_drivers</th>\n",
              "      <th>num_loaned_veh</th>\n",
              "      <th>num_owned_veh</th>\n",
              "      <th>...</th>\n",
              "      <th>Prior_carrier_grp_Carrier_7</th>\n",
              "      <th>Prior_carrier_grp_Carrier_8</th>\n",
              "      <th>Prior_carrier_grp_Other</th>\n",
              "      <th>state_id_CT</th>\n",
              "      <th>state_id_FL</th>\n",
              "      <th>state_id_GA</th>\n",
              "      <th>state_id_MN</th>\n",
              "      <th>state_id_NJ</th>\n",
              "      <th>state_id_NY</th>\n",
              "      <th>state_id_WI</th>\n",
              "    </tr>\n",
              "  </thead>\n",
              "  <tbody>\n",
              "    <tr>\n",
              "      <th>0</th>\n",
              "      <td>1</td>\n",
              "      <td>1</td>\n",
              "      <td>5153.0</td>\n",
              "      <td>613.0</td>\n",
              "      <td>2.0</td>\n",
              "      <td>2.0</td>\n",
              "      <td>policy_87209</td>\n",
              "      <td>2</td>\n",
              "      <td>1</td>\n",
              "      <td>2</td>\n",
              "      <td>...</td>\n",
              "      <td>0</td>\n",
              "      <td>0</td>\n",
              "      <td>0</td>\n",
              "      <td>0</td>\n",
              "      <td>0</td>\n",
              "      <td>0</td>\n",
              "      <td>0</td>\n",
              "      <td>0</td>\n",
              "      <td>1</td>\n",
              "      <td>0</td>\n",
              "    </tr>\n",
              "    <tr>\n",
              "      <th>1</th>\n",
              "      <td>0</td>\n",
              "      <td>0</td>\n",
              "      <td>9870.0</td>\n",
              "      <td>576.0</td>\n",
              "      <td>0.0</td>\n",
              "      <td>4.0</td>\n",
              "      <td>policy_89288</td>\n",
              "      <td>1</td>\n",
              "      <td>1</td>\n",
              "      <td>1</td>\n",
              "      <td>...</td>\n",
              "      <td>0</td>\n",
              "      <td>0</td>\n",
              "      <td>0</td>\n",
              "      <td>0</td>\n",
              "      <td>0</td>\n",
              "      <td>0</td>\n",
              "      <td>0</td>\n",
              "      <td>0</td>\n",
              "      <td>1</td>\n",
              "      <td>0</td>\n",
              "    </tr>\n",
              "    <tr>\n",
              "      <th>2</th>\n",
              "      <td>0</td>\n",
              "      <td>0</td>\n",
              "      <td>3090.0</td>\n",
              "      <td>631.0</td>\n",
              "      <td>1.0</td>\n",
              "      <td>2.0</td>\n",
              "      <td>policy_91413</td>\n",
              "      <td>2</td>\n",
              "      <td>1</td>\n",
              "      <td>2</td>\n",
              "      <td>...</td>\n",
              "      <td>0</td>\n",
              "      <td>0</td>\n",
              "      <td>0</td>\n",
              "      <td>0</td>\n",
              "      <td>0</td>\n",
              "      <td>0</td>\n",
              "      <td>0</td>\n",
              "      <td>0</td>\n",
              "      <td>1</td>\n",
              "      <td>0</td>\n",
              "    </tr>\n",
              "    <tr>\n",
              "      <th>3</th>\n",
              "      <td>0</td>\n",
              "      <td>0</td>\n",
              "      <td>2860.0</td>\n",
              "      <td>573.0</td>\n",
              "      <td>1.0</td>\n",
              "      <td>3.0</td>\n",
              "      <td>policy_23460</td>\n",
              "      <td>1</td>\n",
              "      <td>2</td>\n",
              "      <td>3</td>\n",
              "      <td>...</td>\n",
              "      <td>1</td>\n",
              "      <td>0</td>\n",
              "      <td>0</td>\n",
              "      <td>0</td>\n",
              "      <td>1</td>\n",
              "      <td>0</td>\n",
              "      <td>0</td>\n",
              "      <td>0</td>\n",
              "      <td>0</td>\n",
              "      <td>0</td>\n",
              "    </tr>\n",
              "    <tr>\n",
              "      <th>4</th>\n",
              "      <td>0</td>\n",
              "      <td>0</td>\n",
              "      <td>14917.0</td>\n",
              "      <td>602.0</td>\n",
              "      <td>1.0</td>\n",
              "      <td>4.0</td>\n",
              "      <td>policy_71845</td>\n",
              "      <td>2</td>\n",
              "      <td>0</td>\n",
              "      <td>1</td>\n",
              "      <td>...</td>\n",
              "      <td>0</td>\n",
              "      <td>0</td>\n",
              "      <td>0</td>\n",
              "      <td>0</td>\n",
              "      <td>0</td>\n",
              "      <td>0</td>\n",
              "      <td>0</td>\n",
              "      <td>0</td>\n",
              "      <td>1</td>\n",
              "      <td>0</td>\n",
              "    </tr>\n",
              "  </tbody>\n",
              "</table>\n",
              "<p>5 rows × 31 columns</p>\n",
              "</div>\n",
              "      <button class=\"colab-df-convert\" onclick=\"convertToInteractive('df-f05f35a0-005a-4538-9b12-e55773fa0bd5')\"\n",
              "              title=\"Convert this dataframe to an interactive table.\"\n",
              "              style=\"display:none;\">\n",
              "        \n",
              "  <svg xmlns=\"http://www.w3.org/2000/svg\" height=\"24px\"viewBox=\"0 0 24 24\"\n",
              "       width=\"24px\">\n",
              "    <path d=\"M0 0h24v24H0V0z\" fill=\"none\"/>\n",
              "    <path d=\"M18.56 5.44l.94 2.06.94-2.06 2.06-.94-2.06-.94-.94-2.06-.94 2.06-2.06.94zm-11 1L8.5 8.5l.94-2.06 2.06-.94-2.06-.94L8.5 2.5l-.94 2.06-2.06.94zm10 10l.94 2.06.94-2.06 2.06-.94-2.06-.94-.94-2.06-.94 2.06-2.06.94z\"/><path d=\"M17.41 7.96l-1.37-1.37c-.4-.4-.92-.59-1.43-.59-.52 0-1.04.2-1.43.59L10.3 9.45l-7.72 7.72c-.78.78-.78 2.05 0 2.83L4 21.41c.39.39.9.59 1.41.59.51 0 1.02-.2 1.41-.59l7.78-7.78 2.81-2.81c.8-.78.8-2.07 0-2.86zM5.41 20L4 18.59l7.72-7.72 1.47 1.35L5.41 20z\"/>\n",
              "  </svg>\n",
              "      </button>\n",
              "      \n",
              "  <style>\n",
              "    .colab-df-container {\n",
              "      display:flex;\n",
              "      flex-wrap:wrap;\n",
              "      gap: 12px;\n",
              "    }\n",
              "\n",
              "    .colab-df-convert {\n",
              "      background-color: #E8F0FE;\n",
              "      border: none;\n",
              "      border-radius: 50%;\n",
              "      cursor: pointer;\n",
              "      display: none;\n",
              "      fill: #1967D2;\n",
              "      height: 32px;\n",
              "      padding: 0 0 0 0;\n",
              "      width: 32px;\n",
              "    }\n",
              "\n",
              "    .colab-df-convert:hover {\n",
              "      background-color: #E2EBFA;\n",
              "      box-shadow: 0px 1px 2px rgba(60, 64, 67, 0.3), 0px 1px 3px 1px rgba(60, 64, 67, 0.15);\n",
              "      fill: #174EA6;\n",
              "    }\n",
              "\n",
              "    [theme=dark] .colab-df-convert {\n",
              "      background-color: #3B4455;\n",
              "      fill: #D2E3FC;\n",
              "    }\n",
              "\n",
              "    [theme=dark] .colab-df-convert:hover {\n",
              "      background-color: #434B5C;\n",
              "      box-shadow: 0px 1px 3px 1px rgba(0, 0, 0, 0.15);\n",
              "      filter: drop-shadow(0px 1px 2px rgba(0, 0, 0, 0.3));\n",
              "      fill: #FFFFFF;\n",
              "    }\n",
              "  </style>\n",
              "\n",
              "      <script>\n",
              "        const buttonEl =\n",
              "          document.querySelector('#df-f05f35a0-005a-4538-9b12-e55773fa0bd5 button.colab-df-convert');\n",
              "        buttonEl.style.display =\n",
              "          google.colab.kernel.accessAllowed ? 'block' : 'none';\n",
              "\n",
              "        async function convertToInteractive(key) {\n",
              "          const element = document.querySelector('#df-f05f35a0-005a-4538-9b12-e55773fa0bd5');\n",
              "          const dataTable =\n",
              "            await google.colab.kernel.invokeFunction('convertToInteractive',\n",
              "                                                     [key], {});\n",
              "          if (!dataTable) return;\n",
              "\n",
              "          const docLinkHtml = 'Like what you see? Visit the ' +\n",
              "            '<a target=\"_blank\" href=https://colab.research.google.com/notebooks/data_table.ipynb>data table notebook</a>'\n",
              "            + ' to learn more about interactive tables.';\n",
              "          element.innerHTML = '';\n",
              "          dataTable['output_type'] = 'display_data';\n",
              "          await google.colab.output.renderOutput(dataTable, element);\n",
              "          const docLink = document.createElement('div');\n",
              "          docLink.innerHTML = docLinkHtml;\n",
              "          element.appendChild(docLink);\n",
              "        }\n",
              "      </script>\n",
              "    </div>\n",
              "  </div>\n",
              "  "
            ]
          },
          "metadata": {},
          "execution_count": 18
        }
      ],
      "source": [
        "policies = pd.get_dummies(policies, columns=['Prior_carrier_grp', 'state_id'], drop_first=True) \n",
        "policies.head()"
      ]
    },
    {
      "cell_type": "code",
      "execution_count": null,
      "metadata": {
        "colab": {
          "base_uri": "https://localhost:8080/"
        },
        "id": "uANKFGOWepmg",
        "outputId": "380975af-714f-4ce1-fc80-71d2ecfce35f"
      },
      "outputs": [
        {
          "output_type": "stream",
          "name": "stderr",
          "text": [
            "/usr/local/lib/python3.7/dist-packages/pandas/core/indexing.py:1732: SettingWithCopyWarning: \n",
            "A value is trying to be set on a copy of a slice from a DataFrame\n",
            "\n",
            "See the caveats in the documentation: https://pandas.pydata.org/pandas-docs/stable/user_guide/indexing.html#returning-a-view-versus-a-copy\n",
            "  self._setitem_single_block(indexer, value, name)\n"
          ]
        }
      ],
      "source": [
        "drivers = drivers.drop(columns=['Unnamed: 0']) \n",
        "\n",
        "# age: fill >90 with median\n",
        "drivers.age.loc[drivers.age > 90] = drivers.age.median()\n",
        "\n",
        "#drivers['gender'] = drivers['gender'].map({\"M\":1, \"F\":0})\n",
        "\n",
        "# high_education_ind: fill na with mode\n",
        "drivers.high_education_ind = drivers.high_education_ind.fillna(drivers.high_education_ind.mode()[0])\n",
        "\n",
        "# safety_rating: fill na with mean\n",
        "drivers.safty_rating.fillna(drivers.safty_rating.mean(), inplace=True)\n",
        "\n",
        "# living_status: fill na with majority\n",
        "drivers.living_status.fillna(drivers.living_status.mode()[0], inplace=True)"
      ]
    },
    {
      "cell_type": "code",
      "execution_count": null,
      "metadata": {
        "colab": {
          "base_uri": "https://localhost:8080/",
          "height": 455
        },
        "id": "E7khhcwAepmg",
        "outputId": "012dd130-5e30-4a65-825c-caa64e757499"
      },
      "outputs": [
        {
          "output_type": "execute_result",
          "data": {
            "text/plain": [
              "living_status  dependent  own  rent\n",
              "policy_id                          \n",
              "policy_100             1    1     0\n",
              "policy_1000            0    0     1\n",
              "policy_10001           2    1     0\n",
              "policy_10002           4    0     1\n",
              "policy_10004           3    2     0\n",
              "...                  ...  ...   ...\n",
              "policy_99994           2    1     0\n",
              "policy_99996           0    0     1\n",
              "policy_99997           0    0     2\n",
              "policy_99998           0    1     0\n",
              "policy_99999           1    1     0\n",
              "\n",
              "[49162 rows x 3 columns]"
            ],
            "text/html": [
              "\n",
              "  <div id=\"df-85cb52a0-3b3f-47b6-880a-2a7d225c8d18\">\n",
              "    <div class=\"colab-df-container\">\n",
              "      <div>\n",
              "<style scoped>\n",
              "    .dataframe tbody tr th:only-of-type {\n",
              "        vertical-align: middle;\n",
              "    }\n",
              "\n",
              "    .dataframe tbody tr th {\n",
              "        vertical-align: top;\n",
              "    }\n",
              "\n",
              "    .dataframe thead th {\n",
              "        text-align: right;\n",
              "    }\n",
              "</style>\n",
              "<table border=\"1\" class=\"dataframe\">\n",
              "  <thead>\n",
              "    <tr style=\"text-align: right;\">\n",
              "      <th>living_status</th>\n",
              "      <th>dependent</th>\n",
              "      <th>own</th>\n",
              "      <th>rent</th>\n",
              "    </tr>\n",
              "    <tr>\n",
              "      <th>policy_id</th>\n",
              "      <th></th>\n",
              "      <th></th>\n",
              "      <th></th>\n",
              "    </tr>\n",
              "  </thead>\n",
              "  <tbody>\n",
              "    <tr>\n",
              "      <th>policy_100</th>\n",
              "      <td>1</td>\n",
              "      <td>1</td>\n",
              "      <td>0</td>\n",
              "    </tr>\n",
              "    <tr>\n",
              "      <th>policy_1000</th>\n",
              "      <td>0</td>\n",
              "      <td>0</td>\n",
              "      <td>1</td>\n",
              "    </tr>\n",
              "    <tr>\n",
              "      <th>policy_10001</th>\n",
              "      <td>2</td>\n",
              "      <td>1</td>\n",
              "      <td>0</td>\n",
              "    </tr>\n",
              "    <tr>\n",
              "      <th>policy_10002</th>\n",
              "      <td>4</td>\n",
              "      <td>0</td>\n",
              "      <td>1</td>\n",
              "    </tr>\n",
              "    <tr>\n",
              "      <th>policy_10004</th>\n",
              "      <td>3</td>\n",
              "      <td>2</td>\n",
              "      <td>0</td>\n",
              "    </tr>\n",
              "    <tr>\n",
              "      <th>...</th>\n",
              "      <td>...</td>\n",
              "      <td>...</td>\n",
              "      <td>...</td>\n",
              "    </tr>\n",
              "    <tr>\n",
              "      <th>policy_99994</th>\n",
              "      <td>2</td>\n",
              "      <td>1</td>\n",
              "      <td>0</td>\n",
              "    </tr>\n",
              "    <tr>\n",
              "      <th>policy_99996</th>\n",
              "      <td>0</td>\n",
              "      <td>0</td>\n",
              "      <td>1</td>\n",
              "    </tr>\n",
              "    <tr>\n",
              "      <th>policy_99997</th>\n",
              "      <td>0</td>\n",
              "      <td>0</td>\n",
              "      <td>2</td>\n",
              "    </tr>\n",
              "    <tr>\n",
              "      <th>policy_99998</th>\n",
              "      <td>0</td>\n",
              "      <td>1</td>\n",
              "      <td>0</td>\n",
              "    </tr>\n",
              "    <tr>\n",
              "      <th>policy_99999</th>\n",
              "      <td>1</td>\n",
              "      <td>1</td>\n",
              "      <td>0</td>\n",
              "    </tr>\n",
              "  </tbody>\n",
              "</table>\n",
              "<p>49162 rows × 3 columns</p>\n",
              "</div>\n",
              "      <button class=\"colab-df-convert\" onclick=\"convertToInteractive('df-85cb52a0-3b3f-47b6-880a-2a7d225c8d18')\"\n",
              "              title=\"Convert this dataframe to an interactive table.\"\n",
              "              style=\"display:none;\">\n",
              "        \n",
              "  <svg xmlns=\"http://www.w3.org/2000/svg\" height=\"24px\"viewBox=\"0 0 24 24\"\n",
              "       width=\"24px\">\n",
              "    <path d=\"M0 0h24v24H0V0z\" fill=\"none\"/>\n",
              "    <path d=\"M18.56 5.44l.94 2.06.94-2.06 2.06-.94-2.06-.94-.94-2.06-.94 2.06-2.06.94zm-11 1L8.5 8.5l.94-2.06 2.06-.94-2.06-.94L8.5 2.5l-.94 2.06-2.06.94zm10 10l.94 2.06.94-2.06 2.06-.94-2.06-.94-.94-2.06-.94 2.06-2.06.94z\"/><path d=\"M17.41 7.96l-1.37-1.37c-.4-.4-.92-.59-1.43-.59-.52 0-1.04.2-1.43.59L10.3 9.45l-7.72 7.72c-.78.78-.78 2.05 0 2.83L4 21.41c.39.39.9.59 1.41.59.51 0 1.02-.2 1.41-.59l7.78-7.78 2.81-2.81c.8-.78.8-2.07 0-2.86zM5.41 20L4 18.59l7.72-7.72 1.47 1.35L5.41 20z\"/>\n",
              "  </svg>\n",
              "      </button>\n",
              "      \n",
              "  <style>\n",
              "    .colab-df-container {\n",
              "      display:flex;\n",
              "      flex-wrap:wrap;\n",
              "      gap: 12px;\n",
              "    }\n",
              "\n",
              "    .colab-df-convert {\n",
              "      background-color: #E8F0FE;\n",
              "      border: none;\n",
              "      border-radius: 50%;\n",
              "      cursor: pointer;\n",
              "      display: none;\n",
              "      fill: #1967D2;\n",
              "      height: 32px;\n",
              "      padding: 0 0 0 0;\n",
              "      width: 32px;\n",
              "    }\n",
              "\n",
              "    .colab-df-convert:hover {\n",
              "      background-color: #E2EBFA;\n",
              "      box-shadow: 0px 1px 2px rgba(60, 64, 67, 0.3), 0px 1px 3px 1px rgba(60, 64, 67, 0.15);\n",
              "      fill: #174EA6;\n",
              "    }\n",
              "\n",
              "    [theme=dark] .colab-df-convert {\n",
              "      background-color: #3B4455;\n",
              "      fill: #D2E3FC;\n",
              "    }\n",
              "\n",
              "    [theme=dark] .colab-df-convert:hover {\n",
              "      background-color: #434B5C;\n",
              "      box-shadow: 0px 1px 3px 1px rgba(0, 0, 0, 0.15);\n",
              "      filter: drop-shadow(0px 1px 2px rgba(0, 0, 0, 0.3));\n",
              "      fill: #FFFFFF;\n",
              "    }\n",
              "  </style>\n",
              "\n",
              "      <script>\n",
              "        const buttonEl =\n",
              "          document.querySelector('#df-85cb52a0-3b3f-47b6-880a-2a7d225c8d18 button.colab-df-convert');\n",
              "        buttonEl.style.display =\n",
              "          google.colab.kernel.accessAllowed ? 'block' : 'none';\n",
              "\n",
              "        async function convertToInteractive(key) {\n",
              "          const element = document.querySelector('#df-85cb52a0-3b3f-47b6-880a-2a7d225c8d18');\n",
              "          const dataTable =\n",
              "            await google.colab.kernel.invokeFunction('convertToInteractive',\n",
              "                                                     [key], {});\n",
              "          if (!dataTable) return;\n",
              "\n",
              "          const docLinkHtml = 'Like what you see? Visit the ' +\n",
              "            '<a target=\"_blank\" href=https://colab.research.google.com/notebooks/data_table.ipynb>data table notebook</a>'\n",
              "            + ' to learn more about interactive tables.';\n",
              "          element.innerHTML = '';\n",
              "          dataTable['output_type'] = 'display_data';\n",
              "          await google.colab.output.renderOutput(dataTable, element);\n",
              "          const docLink = document.createElement('div');\n",
              "          docLink.innerHTML = docLinkHtml;\n",
              "          element.appendChild(docLink);\n",
              "        }\n",
              "      </script>\n",
              "    </div>\n",
              "  </div>\n",
              "  "
            ]
          },
          "metadata": {},
          "execution_count": 20
        }
      ],
      "source": [
        "drivers_dummy1 = drivers.groupby(\"policy_id\")['living_status'].value_counts().unstack(fill_value=0)\n",
        "drivers_dummy1"
      ]
    },
    {
      "cell_type": "code",
      "execution_count": null,
      "metadata": {
        "colab": {
          "base_uri": "https://localhost:8080/",
          "height": 455
        },
        "id": "b-R4MeBIepmh",
        "outputId": "9e9122e4-3ad8-45fe-b8a3-616909dac99a"
      },
      "outputs": [
        {
          "output_type": "execute_result",
          "data": {
            "text/plain": [
              "gender        F  M\n",
              "policy_id         \n",
              "policy_100    1  1\n",
              "policy_1000   0  1\n",
              "policy_10001  2  1\n",
              "policy_10002  1  4\n",
              "policy_10004  2  3\n",
              "...          .. ..\n",
              "policy_99994  2  1\n",
              "policy_99996  0  1\n",
              "policy_99997  0  2\n",
              "policy_99998  0  1\n",
              "policy_99999  0  2\n",
              "\n",
              "[49162 rows x 2 columns]"
            ],
            "text/html": [
              "\n",
              "  <div id=\"df-c7458481-2d41-40a8-a150-2320b447aca4\">\n",
              "    <div class=\"colab-df-container\">\n",
              "      <div>\n",
              "<style scoped>\n",
              "    .dataframe tbody tr th:only-of-type {\n",
              "        vertical-align: middle;\n",
              "    }\n",
              "\n",
              "    .dataframe tbody tr th {\n",
              "        vertical-align: top;\n",
              "    }\n",
              "\n",
              "    .dataframe thead th {\n",
              "        text-align: right;\n",
              "    }\n",
              "</style>\n",
              "<table border=\"1\" class=\"dataframe\">\n",
              "  <thead>\n",
              "    <tr style=\"text-align: right;\">\n",
              "      <th>gender</th>\n",
              "      <th>F</th>\n",
              "      <th>M</th>\n",
              "    </tr>\n",
              "    <tr>\n",
              "      <th>policy_id</th>\n",
              "      <th></th>\n",
              "      <th></th>\n",
              "    </tr>\n",
              "  </thead>\n",
              "  <tbody>\n",
              "    <tr>\n",
              "      <th>policy_100</th>\n",
              "      <td>1</td>\n",
              "      <td>1</td>\n",
              "    </tr>\n",
              "    <tr>\n",
              "      <th>policy_1000</th>\n",
              "      <td>0</td>\n",
              "      <td>1</td>\n",
              "    </tr>\n",
              "    <tr>\n",
              "      <th>policy_10001</th>\n",
              "      <td>2</td>\n",
              "      <td>1</td>\n",
              "    </tr>\n",
              "    <tr>\n",
              "      <th>policy_10002</th>\n",
              "      <td>1</td>\n",
              "      <td>4</td>\n",
              "    </tr>\n",
              "    <tr>\n",
              "      <th>policy_10004</th>\n",
              "      <td>2</td>\n",
              "      <td>3</td>\n",
              "    </tr>\n",
              "    <tr>\n",
              "      <th>...</th>\n",
              "      <td>...</td>\n",
              "      <td>...</td>\n",
              "    </tr>\n",
              "    <tr>\n",
              "      <th>policy_99994</th>\n",
              "      <td>2</td>\n",
              "      <td>1</td>\n",
              "    </tr>\n",
              "    <tr>\n",
              "      <th>policy_99996</th>\n",
              "      <td>0</td>\n",
              "      <td>1</td>\n",
              "    </tr>\n",
              "    <tr>\n",
              "      <th>policy_99997</th>\n",
              "      <td>0</td>\n",
              "      <td>2</td>\n",
              "    </tr>\n",
              "    <tr>\n",
              "      <th>policy_99998</th>\n",
              "      <td>0</td>\n",
              "      <td>1</td>\n",
              "    </tr>\n",
              "    <tr>\n",
              "      <th>policy_99999</th>\n",
              "      <td>0</td>\n",
              "      <td>2</td>\n",
              "    </tr>\n",
              "  </tbody>\n",
              "</table>\n",
              "<p>49162 rows × 2 columns</p>\n",
              "</div>\n",
              "      <button class=\"colab-df-convert\" onclick=\"convertToInteractive('df-c7458481-2d41-40a8-a150-2320b447aca4')\"\n",
              "              title=\"Convert this dataframe to an interactive table.\"\n",
              "              style=\"display:none;\">\n",
              "        \n",
              "  <svg xmlns=\"http://www.w3.org/2000/svg\" height=\"24px\"viewBox=\"0 0 24 24\"\n",
              "       width=\"24px\">\n",
              "    <path d=\"M0 0h24v24H0V0z\" fill=\"none\"/>\n",
              "    <path d=\"M18.56 5.44l.94 2.06.94-2.06 2.06-.94-2.06-.94-.94-2.06-.94 2.06-2.06.94zm-11 1L8.5 8.5l.94-2.06 2.06-.94-2.06-.94L8.5 2.5l-.94 2.06-2.06.94zm10 10l.94 2.06.94-2.06 2.06-.94-2.06-.94-.94-2.06-.94 2.06-2.06.94z\"/><path d=\"M17.41 7.96l-1.37-1.37c-.4-.4-.92-.59-1.43-.59-.52 0-1.04.2-1.43.59L10.3 9.45l-7.72 7.72c-.78.78-.78 2.05 0 2.83L4 21.41c.39.39.9.59 1.41.59.51 0 1.02-.2 1.41-.59l7.78-7.78 2.81-2.81c.8-.78.8-2.07 0-2.86zM5.41 20L4 18.59l7.72-7.72 1.47 1.35L5.41 20z\"/>\n",
              "  </svg>\n",
              "      </button>\n",
              "      \n",
              "  <style>\n",
              "    .colab-df-container {\n",
              "      display:flex;\n",
              "      flex-wrap:wrap;\n",
              "      gap: 12px;\n",
              "    }\n",
              "\n",
              "    .colab-df-convert {\n",
              "      background-color: #E8F0FE;\n",
              "      border: none;\n",
              "      border-radius: 50%;\n",
              "      cursor: pointer;\n",
              "      display: none;\n",
              "      fill: #1967D2;\n",
              "      height: 32px;\n",
              "      padding: 0 0 0 0;\n",
              "      width: 32px;\n",
              "    }\n",
              "\n",
              "    .colab-df-convert:hover {\n",
              "      background-color: #E2EBFA;\n",
              "      box-shadow: 0px 1px 2px rgba(60, 64, 67, 0.3), 0px 1px 3px 1px rgba(60, 64, 67, 0.15);\n",
              "      fill: #174EA6;\n",
              "    }\n",
              "\n",
              "    [theme=dark] .colab-df-convert {\n",
              "      background-color: #3B4455;\n",
              "      fill: #D2E3FC;\n",
              "    }\n",
              "\n",
              "    [theme=dark] .colab-df-convert:hover {\n",
              "      background-color: #434B5C;\n",
              "      box-shadow: 0px 1px 3px 1px rgba(0, 0, 0, 0.15);\n",
              "      filter: drop-shadow(0px 1px 2px rgba(0, 0, 0, 0.3));\n",
              "      fill: #FFFFFF;\n",
              "    }\n",
              "  </style>\n",
              "\n",
              "      <script>\n",
              "        const buttonEl =\n",
              "          document.querySelector('#df-c7458481-2d41-40a8-a150-2320b447aca4 button.colab-df-convert');\n",
              "        buttonEl.style.display =\n",
              "          google.colab.kernel.accessAllowed ? 'block' : 'none';\n",
              "\n",
              "        async function convertToInteractive(key) {\n",
              "          const element = document.querySelector('#df-c7458481-2d41-40a8-a150-2320b447aca4');\n",
              "          const dataTable =\n",
              "            await google.colab.kernel.invokeFunction('convertToInteractive',\n",
              "                                                     [key], {});\n",
              "          if (!dataTable) return;\n",
              "\n",
              "          const docLinkHtml = 'Like what you see? Visit the ' +\n",
              "            '<a target=\"_blank\" href=https://colab.research.google.com/notebooks/data_table.ipynb>data table notebook</a>'\n",
              "            + ' to learn more about interactive tables.';\n",
              "          element.innerHTML = '';\n",
              "          dataTable['output_type'] = 'display_data';\n",
              "          await google.colab.output.renderOutput(dataTable, element);\n",
              "          const docLink = document.createElement('div');\n",
              "          docLink.innerHTML = docLinkHtml;\n",
              "          element.appendChild(docLink);\n",
              "        }\n",
              "      </script>\n",
              "    </div>\n",
              "  </div>\n",
              "  "
            ]
          },
          "metadata": {},
          "execution_count": 21
        }
      ],
      "source": [
        "drivers_dummy2 = drivers.groupby(\"policy_id\")['gender'].value_counts().unstack(fill_value=0)\n",
        "drivers_dummy2"
      ]
    },
    {
      "cell_type": "code",
      "execution_count": null,
      "metadata": {
        "colab": {
          "base_uri": "https://localhost:8080/",
          "height": 206
        },
        "id": "Ly_1JoETepmh",
        "outputId": "2451fa1f-7577-4e16-b346-936b4f26dba2"
      },
      "outputs": [
        {
          "output_type": "execute_result",
          "data": {
            "text/plain": [
              "   Unnamed: 0     policy_id  car_no ownership_type  color  age  \\\n",
              "0           6  policy_74571       1         leased  other  4.0   \n",
              "1           7  policy_74571       2          owned   blue  3.0   \n",
              "2          15   policy_1998       1          owned   gray  7.0   \n",
              "3          29  policy_28085       1          owned   gray  4.0   \n",
              "4          34  policy_64282       1          owned  black  4.0   \n",
              "\n",
              "                make_model  \n",
              "0            BMW : R1200CL  \n",
              "1               ACURA : TL  \n",
              "2              BMW : 750LI  \n",
              "3  MERCEDES-BENZ : G55 AMG  \n",
              "4            BMW : 550I GT  "
            ],
            "text/html": [
              "\n",
              "  <div id=\"df-ecfef182-b02f-472f-b982-bf5e699a2ec2\">\n",
              "    <div class=\"colab-df-container\">\n",
              "      <div>\n",
              "<style scoped>\n",
              "    .dataframe tbody tr th:only-of-type {\n",
              "        vertical-align: middle;\n",
              "    }\n",
              "\n",
              "    .dataframe tbody tr th {\n",
              "        vertical-align: top;\n",
              "    }\n",
              "\n",
              "    .dataframe thead th {\n",
              "        text-align: right;\n",
              "    }\n",
              "</style>\n",
              "<table border=\"1\" class=\"dataframe\">\n",
              "  <thead>\n",
              "    <tr style=\"text-align: right;\">\n",
              "      <th></th>\n",
              "      <th>Unnamed: 0</th>\n",
              "      <th>policy_id</th>\n",
              "      <th>car_no</th>\n",
              "      <th>ownership_type</th>\n",
              "      <th>color</th>\n",
              "      <th>age</th>\n",
              "      <th>make_model</th>\n",
              "    </tr>\n",
              "  </thead>\n",
              "  <tbody>\n",
              "    <tr>\n",
              "      <th>0</th>\n",
              "      <td>6</td>\n",
              "      <td>policy_74571</td>\n",
              "      <td>1</td>\n",
              "      <td>leased</td>\n",
              "      <td>other</td>\n",
              "      <td>4.0</td>\n",
              "      <td>BMW : R1200CL</td>\n",
              "    </tr>\n",
              "    <tr>\n",
              "      <th>1</th>\n",
              "      <td>7</td>\n",
              "      <td>policy_74571</td>\n",
              "      <td>2</td>\n",
              "      <td>owned</td>\n",
              "      <td>blue</td>\n",
              "      <td>3.0</td>\n",
              "      <td>ACURA : TL</td>\n",
              "    </tr>\n",
              "    <tr>\n",
              "      <th>2</th>\n",
              "      <td>15</td>\n",
              "      <td>policy_1998</td>\n",
              "      <td>1</td>\n",
              "      <td>owned</td>\n",
              "      <td>gray</td>\n",
              "      <td>7.0</td>\n",
              "      <td>BMW : 750LI</td>\n",
              "    </tr>\n",
              "    <tr>\n",
              "      <th>3</th>\n",
              "      <td>29</td>\n",
              "      <td>policy_28085</td>\n",
              "      <td>1</td>\n",
              "      <td>owned</td>\n",
              "      <td>gray</td>\n",
              "      <td>4.0</td>\n",
              "      <td>MERCEDES-BENZ : G55 AMG</td>\n",
              "    </tr>\n",
              "    <tr>\n",
              "      <th>4</th>\n",
              "      <td>34</td>\n",
              "      <td>policy_64282</td>\n",
              "      <td>1</td>\n",
              "      <td>owned</td>\n",
              "      <td>black</td>\n",
              "      <td>4.0</td>\n",
              "      <td>BMW : 550I GT</td>\n",
              "    </tr>\n",
              "  </tbody>\n",
              "</table>\n",
              "</div>\n",
              "      <button class=\"colab-df-convert\" onclick=\"convertToInteractive('df-ecfef182-b02f-472f-b982-bf5e699a2ec2')\"\n",
              "              title=\"Convert this dataframe to an interactive table.\"\n",
              "              style=\"display:none;\">\n",
              "        \n",
              "  <svg xmlns=\"http://www.w3.org/2000/svg\" height=\"24px\"viewBox=\"0 0 24 24\"\n",
              "       width=\"24px\">\n",
              "    <path d=\"M0 0h24v24H0V0z\" fill=\"none\"/>\n",
              "    <path d=\"M18.56 5.44l.94 2.06.94-2.06 2.06-.94-2.06-.94-.94-2.06-.94 2.06-2.06.94zm-11 1L8.5 8.5l.94-2.06 2.06-.94-2.06-.94L8.5 2.5l-.94 2.06-2.06.94zm10 10l.94 2.06.94-2.06 2.06-.94-2.06-.94-.94-2.06-.94 2.06-2.06.94z\"/><path d=\"M17.41 7.96l-1.37-1.37c-.4-.4-.92-.59-1.43-.59-.52 0-1.04.2-1.43.59L10.3 9.45l-7.72 7.72c-.78.78-.78 2.05 0 2.83L4 21.41c.39.39.9.59 1.41.59.51 0 1.02-.2 1.41-.59l7.78-7.78 2.81-2.81c.8-.78.8-2.07 0-2.86zM5.41 20L4 18.59l7.72-7.72 1.47 1.35L5.41 20z\"/>\n",
              "  </svg>\n",
              "      </button>\n",
              "      \n",
              "  <style>\n",
              "    .colab-df-container {\n",
              "      display:flex;\n",
              "      flex-wrap:wrap;\n",
              "      gap: 12px;\n",
              "    }\n",
              "\n",
              "    .colab-df-convert {\n",
              "      background-color: #E8F0FE;\n",
              "      border: none;\n",
              "      border-radius: 50%;\n",
              "      cursor: pointer;\n",
              "      display: none;\n",
              "      fill: #1967D2;\n",
              "      height: 32px;\n",
              "      padding: 0 0 0 0;\n",
              "      width: 32px;\n",
              "    }\n",
              "\n",
              "    .colab-df-convert:hover {\n",
              "      background-color: #E2EBFA;\n",
              "      box-shadow: 0px 1px 2px rgba(60, 64, 67, 0.3), 0px 1px 3px 1px rgba(60, 64, 67, 0.15);\n",
              "      fill: #174EA6;\n",
              "    }\n",
              "\n",
              "    [theme=dark] .colab-df-convert {\n",
              "      background-color: #3B4455;\n",
              "      fill: #D2E3FC;\n",
              "    }\n",
              "\n",
              "    [theme=dark] .colab-df-convert:hover {\n",
              "      background-color: #434B5C;\n",
              "      box-shadow: 0px 1px 3px 1px rgba(0, 0, 0, 0.15);\n",
              "      filter: drop-shadow(0px 1px 2px rgba(0, 0, 0, 0.3));\n",
              "      fill: #FFFFFF;\n",
              "    }\n",
              "  </style>\n",
              "\n",
              "      <script>\n",
              "        const buttonEl =\n",
              "          document.querySelector('#df-ecfef182-b02f-472f-b982-bf5e699a2ec2 button.colab-df-convert');\n",
              "        buttonEl.style.display =\n",
              "          google.colab.kernel.accessAllowed ? 'block' : 'none';\n",
              "\n",
              "        async function convertToInteractive(key) {\n",
              "          const element = document.querySelector('#df-ecfef182-b02f-472f-b982-bf5e699a2ec2');\n",
              "          const dataTable =\n",
              "            await google.colab.kernel.invokeFunction('convertToInteractive',\n",
              "                                                     [key], {});\n",
              "          if (!dataTable) return;\n",
              "\n",
              "          const docLinkHtml = 'Like what you see? Visit the ' +\n",
              "            '<a target=\"_blank\" href=https://colab.research.google.com/notebooks/data_table.ipynb>data table notebook</a>'\n",
              "            + ' to learn more about interactive tables.';\n",
              "          element.innerHTML = '';\n",
              "          dataTable['output_type'] = 'display_data';\n",
              "          await google.colab.output.renderOutput(dataTable, element);\n",
              "          const docLink = document.createElement('div');\n",
              "          docLink.innerHTML = docLinkHtml;\n",
              "          element.appendChild(docLink);\n",
              "        }\n",
              "      </script>\n",
              "    </div>\n",
              "  </div>\n",
              "  "
            ]
          },
          "metadata": {},
          "execution_count": 22
        }
      ],
      "source": [
        "vehicles.head()"
      ]
    },
    {
      "cell_type": "code",
      "execution_count": null,
      "metadata": {
        "id": "2LDacsamepmi"
      },
      "outputs": [],
      "source": [
        "# id: drop\n",
        "vehicles = vehicles.drop(columns=['Unnamed: 0']) \n",
        "\n",
        "# car_no: drop\n",
        "# ownership_type: drop\n",
        "vehicles = vehicles.drop(columns=['car_no','ownership_type']) \n",
        "\n",
        "# color: drop\n",
        "#vehicles = vehicles.drop(columns=['color'])\n",
        "vehicles['color'].fillna(vehicles['color'].mode()[0], inplace=True)\n",
        "\n",
        "# age: fill na with mean\n",
        "vehicles['age'].fillna(vehicles['age'].mean(), inplace=True)\n",
        "\n",
        "# make_model: split, bucket and encode\n",
        "vehicles[[\"make\",\"model\"]] = vehicles[\"make_model\"].str.split(\" : \",1, expand=True)\n",
        "vehicles = vehicles.drop(columns=['make_model'])\n",
        "vehicles = vehicles.drop(columns=['model'])\n"
      ]
    },
    {
      "cell_type": "code",
      "execution_count": null,
      "metadata": {
        "colab": {
          "base_uri": "https://localhost:8080/",
          "height": 455
        },
        "id": "hQOApLv6epmi",
        "outputId": "f847d643-7230-49e6-952d-e2567a54b4c2"
      },
      "outputs": [
        {
          "output_type": "execute_result",
          "data": {
            "text/plain": [
              "make          ACURA  AUDI  BMW  BUICK  CADILLAC  CHEVROLET  CHRYSLER  DODGE  \\\n",
              "policy_id                                                                     \n",
              "policy_100        0     0    0      0         0          1         0      0   \n",
              "policy_1000       0     0    0      0         0          0         0      0   \n",
              "policy_10001      0     0    1      0         0          0         0      0   \n",
              "policy_10002      0     0    0      1         0          3         0      0   \n",
              "policy_10004      0     0    2      0         0          0         0      0   \n",
              "...             ...   ...  ...    ...       ...        ...       ...    ...   \n",
              "policy_99994      0     0    0      0         0          0         0      0   \n",
              "policy_99996      0     0    0      0         0          1         0      0   \n",
              "policy_99997      0     1    2      0         1          0         0      0   \n",
              "policy_99998      0     0    0      0         0          0         0      0   \n",
              "policy_99999      0     0    0      0         0          0         0      0   \n",
              "\n",
              "make          FORD  GMC  HONDA  MAZDA  MERCEDES-BENZ  NISSAN  RAM  SATURN  \\\n",
              "policy_id                                                                   \n",
              "policy_100       1    0      1      1              0       1    0       0   \n",
              "policy_1000      1    0      0      0              0       1    0       0   \n",
              "policy_10001     0    0      0      0              1       0    0       0   \n",
              "policy_10002     0    0      1      0              0       0    0       0   \n",
              "policy_10004     0    0      0      0              0       0    0       0   \n",
              "...            ...  ...    ...    ...            ...     ...  ...     ...   \n",
              "policy_99994     0    0      0      0              0       2    0       1   \n",
              "policy_99996     1    0      2      0              0       0    0       0   \n",
              "policy_99997     0    0      0      0              0       0    0       0   \n",
              "policy_99998     0    0      0      0              0       0    0       0   \n",
              "policy_99999     0    0      4      0              0       2    0       0   \n",
              "\n",
              "make          SMART  SUBARU  TOYOTA  \n",
              "policy_id                            \n",
              "policy_100        0       0       1  \n",
              "policy_1000       0       0       0  \n",
              "policy_10001      0       0       0  \n",
              "policy_10002      0       0       0  \n",
              "policy_10004      0       0       0  \n",
              "...             ...     ...     ...  \n",
              "policy_99994      0       0       1  \n",
              "policy_99996      0       0       0  \n",
              "policy_99997      0       0       0  \n",
              "policy_99998      0       0       1  \n",
              "policy_99999      0       0       0  \n",
              "\n",
              "[49162 rows x 19 columns]"
            ],
            "text/html": [
              "\n",
              "  <div id=\"df-2db6953a-9969-49bc-9f4f-ced9f8fc0cbe\">\n",
              "    <div class=\"colab-df-container\">\n",
              "      <div>\n",
              "<style scoped>\n",
              "    .dataframe tbody tr th:only-of-type {\n",
              "        vertical-align: middle;\n",
              "    }\n",
              "\n",
              "    .dataframe tbody tr th {\n",
              "        vertical-align: top;\n",
              "    }\n",
              "\n",
              "    .dataframe thead th {\n",
              "        text-align: right;\n",
              "    }\n",
              "</style>\n",
              "<table border=\"1\" class=\"dataframe\">\n",
              "  <thead>\n",
              "    <tr style=\"text-align: right;\">\n",
              "      <th>make</th>\n",
              "      <th>ACURA</th>\n",
              "      <th>AUDI</th>\n",
              "      <th>BMW</th>\n",
              "      <th>BUICK</th>\n",
              "      <th>CADILLAC</th>\n",
              "      <th>CHEVROLET</th>\n",
              "      <th>CHRYSLER</th>\n",
              "      <th>DODGE</th>\n",
              "      <th>FORD</th>\n",
              "      <th>GMC</th>\n",
              "      <th>HONDA</th>\n",
              "      <th>MAZDA</th>\n",
              "      <th>MERCEDES-BENZ</th>\n",
              "      <th>NISSAN</th>\n",
              "      <th>RAM</th>\n",
              "      <th>SATURN</th>\n",
              "      <th>SMART</th>\n",
              "      <th>SUBARU</th>\n",
              "      <th>TOYOTA</th>\n",
              "    </tr>\n",
              "    <tr>\n",
              "      <th>policy_id</th>\n",
              "      <th></th>\n",
              "      <th></th>\n",
              "      <th></th>\n",
              "      <th></th>\n",
              "      <th></th>\n",
              "      <th></th>\n",
              "      <th></th>\n",
              "      <th></th>\n",
              "      <th></th>\n",
              "      <th></th>\n",
              "      <th></th>\n",
              "      <th></th>\n",
              "      <th></th>\n",
              "      <th></th>\n",
              "      <th></th>\n",
              "      <th></th>\n",
              "      <th></th>\n",
              "      <th></th>\n",
              "      <th></th>\n",
              "    </tr>\n",
              "  </thead>\n",
              "  <tbody>\n",
              "    <tr>\n",
              "      <th>policy_100</th>\n",
              "      <td>0</td>\n",
              "      <td>0</td>\n",
              "      <td>0</td>\n",
              "      <td>0</td>\n",
              "      <td>0</td>\n",
              "      <td>1</td>\n",
              "      <td>0</td>\n",
              "      <td>0</td>\n",
              "      <td>1</td>\n",
              "      <td>0</td>\n",
              "      <td>1</td>\n",
              "      <td>1</td>\n",
              "      <td>0</td>\n",
              "      <td>1</td>\n",
              "      <td>0</td>\n",
              "      <td>0</td>\n",
              "      <td>0</td>\n",
              "      <td>0</td>\n",
              "      <td>1</td>\n",
              "    </tr>\n",
              "    <tr>\n",
              "      <th>policy_1000</th>\n",
              "      <td>0</td>\n",
              "      <td>0</td>\n",
              "      <td>0</td>\n",
              "      <td>0</td>\n",
              "      <td>0</td>\n",
              "      <td>0</td>\n",
              "      <td>0</td>\n",
              "      <td>0</td>\n",
              "      <td>1</td>\n",
              "      <td>0</td>\n",
              "      <td>0</td>\n",
              "      <td>0</td>\n",
              "      <td>0</td>\n",
              "      <td>1</td>\n",
              "      <td>0</td>\n",
              "      <td>0</td>\n",
              "      <td>0</td>\n",
              "      <td>0</td>\n",
              "      <td>0</td>\n",
              "    </tr>\n",
              "    <tr>\n",
              "      <th>policy_10001</th>\n",
              "      <td>0</td>\n",
              "      <td>0</td>\n",
              "      <td>1</td>\n",
              "      <td>0</td>\n",
              "      <td>0</td>\n",
              "      <td>0</td>\n",
              "      <td>0</td>\n",
              "      <td>0</td>\n",
              "      <td>0</td>\n",
              "      <td>0</td>\n",
              "      <td>0</td>\n",
              "      <td>0</td>\n",
              "      <td>1</td>\n",
              "      <td>0</td>\n",
              "      <td>0</td>\n",
              "      <td>0</td>\n",
              "      <td>0</td>\n",
              "      <td>0</td>\n",
              "      <td>0</td>\n",
              "    </tr>\n",
              "    <tr>\n",
              "      <th>policy_10002</th>\n",
              "      <td>0</td>\n",
              "      <td>0</td>\n",
              "      <td>0</td>\n",
              "      <td>1</td>\n",
              "      <td>0</td>\n",
              "      <td>3</td>\n",
              "      <td>0</td>\n",
              "      <td>0</td>\n",
              "      <td>0</td>\n",
              "      <td>0</td>\n",
              "      <td>1</td>\n",
              "      <td>0</td>\n",
              "      <td>0</td>\n",
              "      <td>0</td>\n",
              "      <td>0</td>\n",
              "      <td>0</td>\n",
              "      <td>0</td>\n",
              "      <td>0</td>\n",
              "      <td>0</td>\n",
              "    </tr>\n",
              "    <tr>\n",
              "      <th>policy_10004</th>\n",
              "      <td>0</td>\n",
              "      <td>0</td>\n",
              "      <td>2</td>\n",
              "      <td>0</td>\n",
              "      <td>0</td>\n",
              "      <td>0</td>\n",
              "      <td>0</td>\n",
              "      <td>0</td>\n",
              "      <td>0</td>\n",
              "      <td>0</td>\n",
              "      <td>0</td>\n",
              "      <td>0</td>\n",
              "      <td>0</td>\n",
              "      <td>0</td>\n",
              "      <td>0</td>\n",
              "      <td>0</td>\n",
              "      <td>0</td>\n",
              "      <td>0</td>\n",
              "      <td>0</td>\n",
              "    </tr>\n",
              "    <tr>\n",
              "      <th>...</th>\n",
              "      <td>...</td>\n",
              "      <td>...</td>\n",
              "      <td>...</td>\n",
              "      <td>...</td>\n",
              "      <td>...</td>\n",
              "      <td>...</td>\n",
              "      <td>...</td>\n",
              "      <td>...</td>\n",
              "      <td>...</td>\n",
              "      <td>...</td>\n",
              "      <td>...</td>\n",
              "      <td>...</td>\n",
              "      <td>...</td>\n",
              "      <td>...</td>\n",
              "      <td>...</td>\n",
              "      <td>...</td>\n",
              "      <td>...</td>\n",
              "      <td>...</td>\n",
              "      <td>...</td>\n",
              "    </tr>\n",
              "    <tr>\n",
              "      <th>policy_99994</th>\n",
              "      <td>0</td>\n",
              "      <td>0</td>\n",
              "      <td>0</td>\n",
              "      <td>0</td>\n",
              "      <td>0</td>\n",
              "      <td>0</td>\n",
              "      <td>0</td>\n",
              "      <td>0</td>\n",
              "      <td>0</td>\n",
              "      <td>0</td>\n",
              "      <td>0</td>\n",
              "      <td>0</td>\n",
              "      <td>0</td>\n",
              "      <td>2</td>\n",
              "      <td>0</td>\n",
              "      <td>1</td>\n",
              "      <td>0</td>\n",
              "      <td>0</td>\n",
              "      <td>1</td>\n",
              "    </tr>\n",
              "    <tr>\n",
              "      <th>policy_99996</th>\n",
              "      <td>0</td>\n",
              "      <td>0</td>\n",
              "      <td>0</td>\n",
              "      <td>0</td>\n",
              "      <td>0</td>\n",
              "      <td>1</td>\n",
              "      <td>0</td>\n",
              "      <td>0</td>\n",
              "      <td>1</td>\n",
              "      <td>0</td>\n",
              "      <td>2</td>\n",
              "      <td>0</td>\n",
              "      <td>0</td>\n",
              "      <td>0</td>\n",
              "      <td>0</td>\n",
              "      <td>0</td>\n",
              "      <td>0</td>\n",
              "      <td>0</td>\n",
              "      <td>0</td>\n",
              "    </tr>\n",
              "    <tr>\n",
              "      <th>policy_99997</th>\n",
              "      <td>0</td>\n",
              "      <td>1</td>\n",
              "      <td>2</td>\n",
              "      <td>0</td>\n",
              "      <td>1</td>\n",
              "      <td>0</td>\n",
              "      <td>0</td>\n",
              "      <td>0</td>\n",
              "      <td>0</td>\n",
              "      <td>0</td>\n",
              "      <td>0</td>\n",
              "      <td>0</td>\n",
              "      <td>0</td>\n",
              "      <td>0</td>\n",
              "      <td>0</td>\n",
              "      <td>0</td>\n",
              "      <td>0</td>\n",
              "      <td>0</td>\n",
              "      <td>0</td>\n",
              "    </tr>\n",
              "    <tr>\n",
              "      <th>policy_99998</th>\n",
              "      <td>0</td>\n",
              "      <td>0</td>\n",
              "      <td>0</td>\n",
              "      <td>0</td>\n",
              "      <td>0</td>\n",
              "      <td>0</td>\n",
              "      <td>0</td>\n",
              "      <td>0</td>\n",
              "      <td>0</td>\n",
              "      <td>0</td>\n",
              "      <td>0</td>\n",
              "      <td>0</td>\n",
              "      <td>0</td>\n",
              "      <td>0</td>\n",
              "      <td>0</td>\n",
              "      <td>0</td>\n",
              "      <td>0</td>\n",
              "      <td>0</td>\n",
              "      <td>1</td>\n",
              "    </tr>\n",
              "    <tr>\n",
              "      <th>policy_99999</th>\n",
              "      <td>0</td>\n",
              "      <td>0</td>\n",
              "      <td>0</td>\n",
              "      <td>0</td>\n",
              "      <td>0</td>\n",
              "      <td>0</td>\n",
              "      <td>0</td>\n",
              "      <td>0</td>\n",
              "      <td>0</td>\n",
              "      <td>0</td>\n",
              "      <td>4</td>\n",
              "      <td>0</td>\n",
              "      <td>0</td>\n",
              "      <td>2</td>\n",
              "      <td>0</td>\n",
              "      <td>0</td>\n",
              "      <td>0</td>\n",
              "      <td>0</td>\n",
              "      <td>0</td>\n",
              "    </tr>\n",
              "  </tbody>\n",
              "</table>\n",
              "<p>49162 rows × 19 columns</p>\n",
              "</div>\n",
              "      <button class=\"colab-df-convert\" onclick=\"convertToInteractive('df-2db6953a-9969-49bc-9f4f-ced9f8fc0cbe')\"\n",
              "              title=\"Convert this dataframe to an interactive table.\"\n",
              "              style=\"display:none;\">\n",
              "        \n",
              "  <svg xmlns=\"http://www.w3.org/2000/svg\" height=\"24px\"viewBox=\"0 0 24 24\"\n",
              "       width=\"24px\">\n",
              "    <path d=\"M0 0h24v24H0V0z\" fill=\"none\"/>\n",
              "    <path d=\"M18.56 5.44l.94 2.06.94-2.06 2.06-.94-2.06-.94-.94-2.06-.94 2.06-2.06.94zm-11 1L8.5 8.5l.94-2.06 2.06-.94-2.06-.94L8.5 2.5l-.94 2.06-2.06.94zm10 10l.94 2.06.94-2.06 2.06-.94-2.06-.94-.94-2.06-.94 2.06-2.06.94z\"/><path d=\"M17.41 7.96l-1.37-1.37c-.4-.4-.92-.59-1.43-.59-.52 0-1.04.2-1.43.59L10.3 9.45l-7.72 7.72c-.78.78-.78 2.05 0 2.83L4 21.41c.39.39.9.59 1.41.59.51 0 1.02-.2 1.41-.59l7.78-7.78 2.81-2.81c.8-.78.8-2.07 0-2.86zM5.41 20L4 18.59l7.72-7.72 1.47 1.35L5.41 20z\"/>\n",
              "  </svg>\n",
              "      </button>\n",
              "      \n",
              "  <style>\n",
              "    .colab-df-container {\n",
              "      display:flex;\n",
              "      flex-wrap:wrap;\n",
              "      gap: 12px;\n",
              "    }\n",
              "\n",
              "    .colab-df-convert {\n",
              "      background-color: #E8F0FE;\n",
              "      border: none;\n",
              "      border-radius: 50%;\n",
              "      cursor: pointer;\n",
              "      display: none;\n",
              "      fill: #1967D2;\n",
              "      height: 32px;\n",
              "      padding: 0 0 0 0;\n",
              "      width: 32px;\n",
              "    }\n",
              "\n",
              "    .colab-df-convert:hover {\n",
              "      background-color: #E2EBFA;\n",
              "      box-shadow: 0px 1px 2px rgba(60, 64, 67, 0.3), 0px 1px 3px 1px rgba(60, 64, 67, 0.15);\n",
              "      fill: #174EA6;\n",
              "    }\n",
              "\n",
              "    [theme=dark] .colab-df-convert {\n",
              "      background-color: #3B4455;\n",
              "      fill: #D2E3FC;\n",
              "    }\n",
              "\n",
              "    [theme=dark] .colab-df-convert:hover {\n",
              "      background-color: #434B5C;\n",
              "      box-shadow: 0px 1px 3px 1px rgba(0, 0, 0, 0.15);\n",
              "      filter: drop-shadow(0px 1px 2px rgba(0, 0, 0, 0.3));\n",
              "      fill: #FFFFFF;\n",
              "    }\n",
              "  </style>\n",
              "\n",
              "      <script>\n",
              "        const buttonEl =\n",
              "          document.querySelector('#df-2db6953a-9969-49bc-9f4f-ced9f8fc0cbe button.colab-df-convert');\n",
              "        buttonEl.style.display =\n",
              "          google.colab.kernel.accessAllowed ? 'block' : 'none';\n",
              "\n",
              "        async function convertToInteractive(key) {\n",
              "          const element = document.querySelector('#df-2db6953a-9969-49bc-9f4f-ced9f8fc0cbe');\n",
              "          const dataTable =\n",
              "            await google.colab.kernel.invokeFunction('convertToInteractive',\n",
              "                                                     [key], {});\n",
              "          if (!dataTable) return;\n",
              "\n",
              "          const docLinkHtml = 'Like what you see? Visit the ' +\n",
              "            '<a target=\"_blank\" href=https://colab.research.google.com/notebooks/data_table.ipynb>data table notebook</a>'\n",
              "            + ' to learn more about interactive tables.';\n",
              "          element.innerHTML = '';\n",
              "          dataTable['output_type'] = 'display_data';\n",
              "          await google.colab.output.renderOutput(dataTable, element);\n",
              "          const docLink = document.createElement('div');\n",
              "          docLink.innerHTML = docLinkHtml;\n",
              "          element.appendChild(docLink);\n",
              "        }\n",
              "      </script>\n",
              "    </div>\n",
              "  </div>\n",
              "  "
            ]
          },
          "metadata": {},
          "execution_count": 24
        }
      ],
      "source": [
        "vehicles_dummy1 =  vehicles.groupby(\"policy_id\")['make'].value_counts().unstack(fill_value=0)\n",
        "vehicles_dummy1 # do we use this???"
      ]
    },
    {
      "cell_type": "code",
      "execution_count": null,
      "metadata": {
        "colab": {
          "base_uri": "https://localhost:8080/",
          "height": 455
        },
        "id": "vipDQuBGepmi",
        "outputId": "139d2084-0631-4544-a67c-7fbfb3519213"
      },
      "outputs": [
        {
          "output_type": "execute_result",
          "data": {
            "text/plain": [
              "color         black  blue  gray  other  red  silver  white\n",
              "policy_id                                                 \n",
              "policy_100        1     1     2      2    0       0      0\n",
              "policy_1000       0     1     0      0    0       0      1\n",
              "policy_10001      0     1     0      0    0       1      0\n",
              "policy_10002      1     0     0      3    0       0      1\n",
              "policy_10004      0     0     1      0    0       1      0\n",
              "...             ...   ...   ...    ...  ...     ...    ...\n",
              "policy_99994      0     0     2      0    0       1      1\n",
              "policy_99996      0     2     1      0    1       0      0\n",
              "policy_99997      1     1     0      1    0       0      1\n",
              "policy_99998      0     0     0      0    0       1      0\n",
              "policy_99999      0     2     2      0    1       0      1\n",
              "\n",
              "[49162 rows x 7 columns]"
            ],
            "text/html": [
              "\n",
              "  <div id=\"df-190b38d8-f3bf-45b6-bf7b-3b8762ba8e72\">\n",
              "    <div class=\"colab-df-container\">\n",
              "      <div>\n",
              "<style scoped>\n",
              "    .dataframe tbody tr th:only-of-type {\n",
              "        vertical-align: middle;\n",
              "    }\n",
              "\n",
              "    .dataframe tbody tr th {\n",
              "        vertical-align: top;\n",
              "    }\n",
              "\n",
              "    .dataframe thead th {\n",
              "        text-align: right;\n",
              "    }\n",
              "</style>\n",
              "<table border=\"1\" class=\"dataframe\">\n",
              "  <thead>\n",
              "    <tr style=\"text-align: right;\">\n",
              "      <th>color</th>\n",
              "      <th>black</th>\n",
              "      <th>blue</th>\n",
              "      <th>gray</th>\n",
              "      <th>other</th>\n",
              "      <th>red</th>\n",
              "      <th>silver</th>\n",
              "      <th>white</th>\n",
              "    </tr>\n",
              "    <tr>\n",
              "      <th>policy_id</th>\n",
              "      <th></th>\n",
              "      <th></th>\n",
              "      <th></th>\n",
              "      <th></th>\n",
              "      <th></th>\n",
              "      <th></th>\n",
              "      <th></th>\n",
              "    </tr>\n",
              "  </thead>\n",
              "  <tbody>\n",
              "    <tr>\n",
              "      <th>policy_100</th>\n",
              "      <td>1</td>\n",
              "      <td>1</td>\n",
              "      <td>2</td>\n",
              "      <td>2</td>\n",
              "      <td>0</td>\n",
              "      <td>0</td>\n",
              "      <td>0</td>\n",
              "    </tr>\n",
              "    <tr>\n",
              "      <th>policy_1000</th>\n",
              "      <td>0</td>\n",
              "      <td>1</td>\n",
              "      <td>0</td>\n",
              "      <td>0</td>\n",
              "      <td>0</td>\n",
              "      <td>0</td>\n",
              "      <td>1</td>\n",
              "    </tr>\n",
              "    <tr>\n",
              "      <th>policy_10001</th>\n",
              "      <td>0</td>\n",
              "      <td>1</td>\n",
              "      <td>0</td>\n",
              "      <td>0</td>\n",
              "      <td>0</td>\n",
              "      <td>1</td>\n",
              "      <td>0</td>\n",
              "    </tr>\n",
              "    <tr>\n",
              "      <th>policy_10002</th>\n",
              "      <td>1</td>\n",
              "      <td>0</td>\n",
              "      <td>0</td>\n",
              "      <td>3</td>\n",
              "      <td>0</td>\n",
              "      <td>0</td>\n",
              "      <td>1</td>\n",
              "    </tr>\n",
              "    <tr>\n",
              "      <th>policy_10004</th>\n",
              "      <td>0</td>\n",
              "      <td>0</td>\n",
              "      <td>1</td>\n",
              "      <td>0</td>\n",
              "      <td>0</td>\n",
              "      <td>1</td>\n",
              "      <td>0</td>\n",
              "    </tr>\n",
              "    <tr>\n",
              "      <th>...</th>\n",
              "      <td>...</td>\n",
              "      <td>...</td>\n",
              "      <td>...</td>\n",
              "      <td>...</td>\n",
              "      <td>...</td>\n",
              "      <td>...</td>\n",
              "      <td>...</td>\n",
              "    </tr>\n",
              "    <tr>\n",
              "      <th>policy_99994</th>\n",
              "      <td>0</td>\n",
              "      <td>0</td>\n",
              "      <td>2</td>\n",
              "      <td>0</td>\n",
              "      <td>0</td>\n",
              "      <td>1</td>\n",
              "      <td>1</td>\n",
              "    </tr>\n",
              "    <tr>\n",
              "      <th>policy_99996</th>\n",
              "      <td>0</td>\n",
              "      <td>2</td>\n",
              "      <td>1</td>\n",
              "      <td>0</td>\n",
              "      <td>1</td>\n",
              "      <td>0</td>\n",
              "      <td>0</td>\n",
              "    </tr>\n",
              "    <tr>\n",
              "      <th>policy_99997</th>\n",
              "      <td>1</td>\n",
              "      <td>1</td>\n",
              "      <td>0</td>\n",
              "      <td>1</td>\n",
              "      <td>0</td>\n",
              "      <td>0</td>\n",
              "      <td>1</td>\n",
              "    </tr>\n",
              "    <tr>\n",
              "      <th>policy_99998</th>\n",
              "      <td>0</td>\n",
              "      <td>0</td>\n",
              "      <td>0</td>\n",
              "      <td>0</td>\n",
              "      <td>0</td>\n",
              "      <td>1</td>\n",
              "      <td>0</td>\n",
              "    </tr>\n",
              "    <tr>\n",
              "      <th>policy_99999</th>\n",
              "      <td>0</td>\n",
              "      <td>2</td>\n",
              "      <td>2</td>\n",
              "      <td>0</td>\n",
              "      <td>1</td>\n",
              "      <td>0</td>\n",
              "      <td>1</td>\n",
              "    </tr>\n",
              "  </tbody>\n",
              "</table>\n",
              "<p>49162 rows × 7 columns</p>\n",
              "</div>\n",
              "      <button class=\"colab-df-convert\" onclick=\"convertToInteractive('df-190b38d8-f3bf-45b6-bf7b-3b8762ba8e72')\"\n",
              "              title=\"Convert this dataframe to an interactive table.\"\n",
              "              style=\"display:none;\">\n",
              "        \n",
              "  <svg xmlns=\"http://www.w3.org/2000/svg\" height=\"24px\"viewBox=\"0 0 24 24\"\n",
              "       width=\"24px\">\n",
              "    <path d=\"M0 0h24v24H0V0z\" fill=\"none\"/>\n",
              "    <path d=\"M18.56 5.44l.94 2.06.94-2.06 2.06-.94-2.06-.94-.94-2.06-.94 2.06-2.06.94zm-11 1L8.5 8.5l.94-2.06 2.06-.94-2.06-.94L8.5 2.5l-.94 2.06-2.06.94zm10 10l.94 2.06.94-2.06 2.06-.94-2.06-.94-.94-2.06-.94 2.06-2.06.94z\"/><path d=\"M17.41 7.96l-1.37-1.37c-.4-.4-.92-.59-1.43-.59-.52 0-1.04.2-1.43.59L10.3 9.45l-7.72 7.72c-.78.78-.78 2.05 0 2.83L4 21.41c.39.39.9.59 1.41.59.51 0 1.02-.2 1.41-.59l7.78-7.78 2.81-2.81c.8-.78.8-2.07 0-2.86zM5.41 20L4 18.59l7.72-7.72 1.47 1.35L5.41 20z\"/>\n",
              "  </svg>\n",
              "      </button>\n",
              "      \n",
              "  <style>\n",
              "    .colab-df-container {\n",
              "      display:flex;\n",
              "      flex-wrap:wrap;\n",
              "      gap: 12px;\n",
              "    }\n",
              "\n",
              "    .colab-df-convert {\n",
              "      background-color: #E8F0FE;\n",
              "      border: none;\n",
              "      border-radius: 50%;\n",
              "      cursor: pointer;\n",
              "      display: none;\n",
              "      fill: #1967D2;\n",
              "      height: 32px;\n",
              "      padding: 0 0 0 0;\n",
              "      width: 32px;\n",
              "    }\n",
              "\n",
              "    .colab-df-convert:hover {\n",
              "      background-color: #E2EBFA;\n",
              "      box-shadow: 0px 1px 2px rgba(60, 64, 67, 0.3), 0px 1px 3px 1px rgba(60, 64, 67, 0.15);\n",
              "      fill: #174EA6;\n",
              "    }\n",
              "\n",
              "    [theme=dark] .colab-df-convert {\n",
              "      background-color: #3B4455;\n",
              "      fill: #D2E3FC;\n",
              "    }\n",
              "\n",
              "    [theme=dark] .colab-df-convert:hover {\n",
              "      background-color: #434B5C;\n",
              "      box-shadow: 0px 1px 3px 1px rgba(0, 0, 0, 0.15);\n",
              "      filter: drop-shadow(0px 1px 2px rgba(0, 0, 0, 0.3));\n",
              "      fill: #FFFFFF;\n",
              "    }\n",
              "  </style>\n",
              "\n",
              "      <script>\n",
              "        const buttonEl =\n",
              "          document.querySelector('#df-190b38d8-f3bf-45b6-bf7b-3b8762ba8e72 button.colab-df-convert');\n",
              "        buttonEl.style.display =\n",
              "          google.colab.kernel.accessAllowed ? 'block' : 'none';\n",
              "\n",
              "        async function convertToInteractive(key) {\n",
              "          const element = document.querySelector('#df-190b38d8-f3bf-45b6-bf7b-3b8762ba8e72');\n",
              "          const dataTable =\n",
              "            await google.colab.kernel.invokeFunction('convertToInteractive',\n",
              "                                                     [key], {});\n",
              "          if (!dataTable) return;\n",
              "\n",
              "          const docLinkHtml = 'Like what you see? Visit the ' +\n",
              "            '<a target=\"_blank\" href=https://colab.research.google.com/notebooks/data_table.ipynb>data table notebook</a>'\n",
              "            + ' to learn more about interactive tables.';\n",
              "          element.innerHTML = '';\n",
              "          dataTable['output_type'] = 'display_data';\n",
              "          await google.colab.output.renderOutput(dataTable, element);\n",
              "          const docLink = document.createElement('div');\n",
              "          docLink.innerHTML = docLinkHtml;\n",
              "          element.appendChild(docLink);\n",
              "        }\n",
              "      </script>\n",
              "    </div>\n",
              "  </div>\n",
              "  "
            ]
          },
          "metadata": {},
          "execution_count": 25
        }
      ],
      "source": [
        "vehicles_dummy2 = vehicles.groupby(\"policy_id\")['color'].value_counts().unstack(fill_value=0)\n",
        "vehicles_dummy2 "
      ]
    },
    {
      "cell_type": "code",
      "execution_count": null,
      "metadata": {
        "colab": {
          "base_uri": "https://localhost:8080/",
          "height": 206
        },
        "id": "KOzC-myOepmj",
        "outputId": "79cef3f8-420d-4ce7-f110-97b49912eb59"
      },
      "outputs": [
        {
          "output_type": "execute_result",
          "data": {
            "text/plain": [
              "      policy_id        age  safty_rating  high_education_ind\n",
              "0    policy_100  33.500000     75.500000            0.500000\n",
              "1   policy_1000  35.000000     50.000000            1.000000\n",
              "2  policy_10001  24.666667     59.333333            0.333333\n",
              "3  policy_10002  24.000000     76.000000            0.200000\n",
              "4  policy_10004  28.200000     72.000000            0.200000"
            ],
            "text/html": [
              "\n",
              "  <div id=\"df-a642d33a-1d80-4b47-b1fa-8ec6b5e5745f\">\n",
              "    <div class=\"colab-df-container\">\n",
              "      <div>\n",
              "<style scoped>\n",
              "    .dataframe tbody tr th:only-of-type {\n",
              "        vertical-align: middle;\n",
              "    }\n",
              "\n",
              "    .dataframe tbody tr th {\n",
              "        vertical-align: top;\n",
              "    }\n",
              "\n",
              "    .dataframe thead th {\n",
              "        text-align: right;\n",
              "    }\n",
              "</style>\n",
              "<table border=\"1\" class=\"dataframe\">\n",
              "  <thead>\n",
              "    <tr style=\"text-align: right;\">\n",
              "      <th></th>\n",
              "      <th>policy_id</th>\n",
              "      <th>age</th>\n",
              "      <th>safty_rating</th>\n",
              "      <th>high_education_ind</th>\n",
              "    </tr>\n",
              "  </thead>\n",
              "  <tbody>\n",
              "    <tr>\n",
              "      <th>0</th>\n",
              "      <td>policy_100</td>\n",
              "      <td>33.500000</td>\n",
              "      <td>75.500000</td>\n",
              "      <td>0.500000</td>\n",
              "    </tr>\n",
              "    <tr>\n",
              "      <th>1</th>\n",
              "      <td>policy_1000</td>\n",
              "      <td>35.000000</td>\n",
              "      <td>50.000000</td>\n",
              "      <td>1.000000</td>\n",
              "    </tr>\n",
              "    <tr>\n",
              "      <th>2</th>\n",
              "      <td>policy_10001</td>\n",
              "      <td>24.666667</td>\n",
              "      <td>59.333333</td>\n",
              "      <td>0.333333</td>\n",
              "    </tr>\n",
              "    <tr>\n",
              "      <th>3</th>\n",
              "      <td>policy_10002</td>\n",
              "      <td>24.000000</td>\n",
              "      <td>76.000000</td>\n",
              "      <td>0.200000</td>\n",
              "    </tr>\n",
              "    <tr>\n",
              "      <th>4</th>\n",
              "      <td>policy_10004</td>\n",
              "      <td>28.200000</td>\n",
              "      <td>72.000000</td>\n",
              "      <td>0.200000</td>\n",
              "    </tr>\n",
              "  </tbody>\n",
              "</table>\n",
              "</div>\n",
              "      <button class=\"colab-df-convert\" onclick=\"convertToInteractive('df-a642d33a-1d80-4b47-b1fa-8ec6b5e5745f')\"\n",
              "              title=\"Convert this dataframe to an interactive table.\"\n",
              "              style=\"display:none;\">\n",
              "        \n",
              "  <svg xmlns=\"http://www.w3.org/2000/svg\" height=\"24px\"viewBox=\"0 0 24 24\"\n",
              "       width=\"24px\">\n",
              "    <path d=\"M0 0h24v24H0V0z\" fill=\"none\"/>\n",
              "    <path d=\"M18.56 5.44l.94 2.06.94-2.06 2.06-.94-2.06-.94-.94-2.06-.94 2.06-2.06.94zm-11 1L8.5 8.5l.94-2.06 2.06-.94-2.06-.94L8.5 2.5l-.94 2.06-2.06.94zm10 10l.94 2.06.94-2.06 2.06-.94-2.06-.94-.94-2.06-.94 2.06-2.06.94z\"/><path d=\"M17.41 7.96l-1.37-1.37c-.4-.4-.92-.59-1.43-.59-.52 0-1.04.2-1.43.59L10.3 9.45l-7.72 7.72c-.78.78-.78 2.05 0 2.83L4 21.41c.39.39.9.59 1.41.59.51 0 1.02-.2 1.41-.59l7.78-7.78 2.81-2.81c.8-.78.8-2.07 0-2.86zM5.41 20L4 18.59l7.72-7.72 1.47 1.35L5.41 20z\"/>\n",
              "  </svg>\n",
              "      </button>\n",
              "      \n",
              "  <style>\n",
              "    .colab-df-container {\n",
              "      display:flex;\n",
              "      flex-wrap:wrap;\n",
              "      gap: 12px;\n",
              "    }\n",
              "\n",
              "    .colab-df-convert {\n",
              "      background-color: #E8F0FE;\n",
              "      border: none;\n",
              "      border-radius: 50%;\n",
              "      cursor: pointer;\n",
              "      display: none;\n",
              "      fill: #1967D2;\n",
              "      height: 32px;\n",
              "      padding: 0 0 0 0;\n",
              "      width: 32px;\n",
              "    }\n",
              "\n",
              "    .colab-df-convert:hover {\n",
              "      background-color: #E2EBFA;\n",
              "      box-shadow: 0px 1px 2px rgba(60, 64, 67, 0.3), 0px 1px 3px 1px rgba(60, 64, 67, 0.15);\n",
              "      fill: #174EA6;\n",
              "    }\n",
              "\n",
              "    [theme=dark] .colab-df-convert {\n",
              "      background-color: #3B4455;\n",
              "      fill: #D2E3FC;\n",
              "    }\n",
              "\n",
              "    [theme=dark] .colab-df-convert:hover {\n",
              "      background-color: #434B5C;\n",
              "      box-shadow: 0px 1px 3px 1px rgba(0, 0, 0, 0.15);\n",
              "      filter: drop-shadow(0px 1px 2px rgba(0, 0, 0, 0.3));\n",
              "      fill: #FFFFFF;\n",
              "    }\n",
              "  </style>\n",
              "\n",
              "      <script>\n",
              "        const buttonEl =\n",
              "          document.querySelector('#df-a642d33a-1d80-4b47-b1fa-8ec6b5e5745f button.colab-df-convert');\n",
              "        buttonEl.style.display =\n",
              "          google.colab.kernel.accessAllowed ? 'block' : 'none';\n",
              "\n",
              "        async function convertToInteractive(key) {\n",
              "          const element = document.querySelector('#df-a642d33a-1d80-4b47-b1fa-8ec6b5e5745f');\n",
              "          const dataTable =\n",
              "            await google.colab.kernel.invokeFunction('convertToInteractive',\n",
              "                                                     [key], {});\n",
              "          if (!dataTable) return;\n",
              "\n",
              "          const docLinkHtml = 'Like what you see? Visit the ' +\n",
              "            '<a target=\"_blank\" href=https://colab.research.google.com/notebooks/data_table.ipynb>data table notebook</a>'\n",
              "            + ' to learn more about interactive tables.';\n",
              "          element.innerHTML = '';\n",
              "          dataTable['output_type'] = 'display_data';\n",
              "          await google.colab.output.renderOutput(dataTable, element);\n",
              "          const docLink = document.createElement('div');\n",
              "          docLink.innerHTML = docLinkHtml;\n",
              "          element.appendChild(docLink);\n",
              "        }\n",
              "      </script>\n",
              "    </div>\n",
              "  </div>\n",
              "  "
            ]
          },
          "metadata": {},
          "execution_count": 26
        }
      ],
      "source": [
        "drivers_grp = pd.DataFrame(drivers.groupby(['policy_id']).mean())\n",
        "drivers_grp.reset_index(inplace=True)\n",
        "drivers_grp = drivers_grp.rename(columns = {'index':'policy_id'})\n",
        "drivers_grp.head()"
      ]
    },
    {
      "cell_type": "code",
      "execution_count": null,
      "metadata": {
        "colab": {
          "base_uri": "https://localhost:8080/",
          "height": 206
        },
        "id": "eKGQBMjxepmj",
        "outputId": "490448ee-9c87-4d57-dfe4-9f79b3e1d712"
      },
      "outputs": [
        {
          "output_type": "execute_result",
          "data": {
            "text/plain": [
              "      policy_id        age  safty_rating  high_education_ind  dependent  own  \\\n",
              "0    policy_100  33.500000     75.500000            0.500000          1    1   \n",
              "1   policy_1000  35.000000     50.000000            1.000000          0    0   \n",
              "2  policy_10001  24.666667     59.333333            0.333333          2    1   \n",
              "3  policy_10002  24.000000     76.000000            0.200000          4    0   \n",
              "4  policy_10004  28.200000     72.000000            0.200000          3    2   \n",
              "\n",
              "   rent  \n",
              "0     0  \n",
              "1     1  \n",
              "2     0  \n",
              "3     1  \n",
              "4     0  "
            ],
            "text/html": [
              "\n",
              "  <div id=\"df-1aa87263-f1df-4ff3-b667-96e037e57010\">\n",
              "    <div class=\"colab-df-container\">\n",
              "      <div>\n",
              "<style scoped>\n",
              "    .dataframe tbody tr th:only-of-type {\n",
              "        vertical-align: middle;\n",
              "    }\n",
              "\n",
              "    .dataframe tbody tr th {\n",
              "        vertical-align: top;\n",
              "    }\n",
              "\n",
              "    .dataframe thead th {\n",
              "        text-align: right;\n",
              "    }\n",
              "</style>\n",
              "<table border=\"1\" class=\"dataframe\">\n",
              "  <thead>\n",
              "    <tr style=\"text-align: right;\">\n",
              "      <th></th>\n",
              "      <th>policy_id</th>\n",
              "      <th>age</th>\n",
              "      <th>safty_rating</th>\n",
              "      <th>high_education_ind</th>\n",
              "      <th>dependent</th>\n",
              "      <th>own</th>\n",
              "      <th>rent</th>\n",
              "    </tr>\n",
              "  </thead>\n",
              "  <tbody>\n",
              "    <tr>\n",
              "      <th>0</th>\n",
              "      <td>policy_100</td>\n",
              "      <td>33.500000</td>\n",
              "      <td>75.500000</td>\n",
              "      <td>0.500000</td>\n",
              "      <td>1</td>\n",
              "      <td>1</td>\n",
              "      <td>0</td>\n",
              "    </tr>\n",
              "    <tr>\n",
              "      <th>1</th>\n",
              "      <td>policy_1000</td>\n",
              "      <td>35.000000</td>\n",
              "      <td>50.000000</td>\n",
              "      <td>1.000000</td>\n",
              "      <td>0</td>\n",
              "      <td>0</td>\n",
              "      <td>1</td>\n",
              "    </tr>\n",
              "    <tr>\n",
              "      <th>2</th>\n",
              "      <td>policy_10001</td>\n",
              "      <td>24.666667</td>\n",
              "      <td>59.333333</td>\n",
              "      <td>0.333333</td>\n",
              "      <td>2</td>\n",
              "      <td>1</td>\n",
              "      <td>0</td>\n",
              "    </tr>\n",
              "    <tr>\n",
              "      <th>3</th>\n",
              "      <td>policy_10002</td>\n",
              "      <td>24.000000</td>\n",
              "      <td>76.000000</td>\n",
              "      <td>0.200000</td>\n",
              "      <td>4</td>\n",
              "      <td>0</td>\n",
              "      <td>1</td>\n",
              "    </tr>\n",
              "    <tr>\n",
              "      <th>4</th>\n",
              "      <td>policy_10004</td>\n",
              "      <td>28.200000</td>\n",
              "      <td>72.000000</td>\n",
              "      <td>0.200000</td>\n",
              "      <td>3</td>\n",
              "      <td>2</td>\n",
              "      <td>0</td>\n",
              "    </tr>\n",
              "  </tbody>\n",
              "</table>\n",
              "</div>\n",
              "      <button class=\"colab-df-convert\" onclick=\"convertToInteractive('df-1aa87263-f1df-4ff3-b667-96e037e57010')\"\n",
              "              title=\"Convert this dataframe to an interactive table.\"\n",
              "              style=\"display:none;\">\n",
              "        \n",
              "  <svg xmlns=\"http://www.w3.org/2000/svg\" height=\"24px\"viewBox=\"0 0 24 24\"\n",
              "       width=\"24px\">\n",
              "    <path d=\"M0 0h24v24H0V0z\" fill=\"none\"/>\n",
              "    <path d=\"M18.56 5.44l.94 2.06.94-2.06 2.06-.94-2.06-.94-.94-2.06-.94 2.06-2.06.94zm-11 1L8.5 8.5l.94-2.06 2.06-.94-2.06-.94L8.5 2.5l-.94 2.06-2.06.94zm10 10l.94 2.06.94-2.06 2.06-.94-2.06-.94-.94-2.06-.94 2.06-2.06.94z\"/><path d=\"M17.41 7.96l-1.37-1.37c-.4-.4-.92-.59-1.43-.59-.52 0-1.04.2-1.43.59L10.3 9.45l-7.72 7.72c-.78.78-.78 2.05 0 2.83L4 21.41c.39.39.9.59 1.41.59.51 0 1.02-.2 1.41-.59l7.78-7.78 2.81-2.81c.8-.78.8-2.07 0-2.86zM5.41 20L4 18.59l7.72-7.72 1.47 1.35L5.41 20z\"/>\n",
              "  </svg>\n",
              "      </button>\n",
              "      \n",
              "  <style>\n",
              "    .colab-df-container {\n",
              "      display:flex;\n",
              "      flex-wrap:wrap;\n",
              "      gap: 12px;\n",
              "    }\n",
              "\n",
              "    .colab-df-convert {\n",
              "      background-color: #E8F0FE;\n",
              "      border: none;\n",
              "      border-radius: 50%;\n",
              "      cursor: pointer;\n",
              "      display: none;\n",
              "      fill: #1967D2;\n",
              "      height: 32px;\n",
              "      padding: 0 0 0 0;\n",
              "      width: 32px;\n",
              "    }\n",
              "\n",
              "    .colab-df-convert:hover {\n",
              "      background-color: #E2EBFA;\n",
              "      box-shadow: 0px 1px 2px rgba(60, 64, 67, 0.3), 0px 1px 3px 1px rgba(60, 64, 67, 0.15);\n",
              "      fill: #174EA6;\n",
              "    }\n",
              "\n",
              "    [theme=dark] .colab-df-convert {\n",
              "      background-color: #3B4455;\n",
              "      fill: #D2E3FC;\n",
              "    }\n",
              "\n",
              "    [theme=dark] .colab-df-convert:hover {\n",
              "      background-color: #434B5C;\n",
              "      box-shadow: 0px 1px 3px 1px rgba(0, 0, 0, 0.15);\n",
              "      filter: drop-shadow(0px 1px 2px rgba(0, 0, 0, 0.3));\n",
              "      fill: #FFFFFF;\n",
              "    }\n",
              "  </style>\n",
              "\n",
              "      <script>\n",
              "        const buttonEl =\n",
              "          document.querySelector('#df-1aa87263-f1df-4ff3-b667-96e037e57010 button.colab-df-convert');\n",
              "        buttonEl.style.display =\n",
              "          google.colab.kernel.accessAllowed ? 'block' : 'none';\n",
              "\n",
              "        async function convertToInteractive(key) {\n",
              "          const element = document.querySelector('#df-1aa87263-f1df-4ff3-b667-96e037e57010');\n",
              "          const dataTable =\n",
              "            await google.colab.kernel.invokeFunction('convertToInteractive',\n",
              "                                                     [key], {});\n",
              "          if (!dataTable) return;\n",
              "\n",
              "          const docLinkHtml = 'Like what you see? Visit the ' +\n",
              "            '<a target=\"_blank\" href=https://colab.research.google.com/notebooks/data_table.ipynb>data table notebook</a>'\n",
              "            + ' to learn more about interactive tables.';\n",
              "          element.innerHTML = '';\n",
              "          dataTable['output_type'] = 'display_data';\n",
              "          await google.colab.output.renderOutput(dataTable, element);\n",
              "          const docLink = document.createElement('div');\n",
              "          docLink.innerHTML = docLinkHtml;\n",
              "          element.appendChild(docLink);\n",
              "        }\n",
              "      </script>\n",
              "    </div>\n",
              "  </div>\n",
              "  "
            ]
          },
          "metadata": {},
          "execution_count": 27
        }
      ],
      "source": [
        "drivers_grp = drivers_grp.merge(drivers_dummy1, how='inner', on=[\"policy_id\"])\n",
        "drivers_grp.head()"
      ]
    },
    {
      "cell_type": "code",
      "execution_count": null,
      "metadata": {
        "colab": {
          "base_uri": "https://localhost:8080/",
          "height": 206
        },
        "id": "F96Yn2Vqepmj",
        "outputId": "c35fcf4a-8337-4493-da37-dbf20ccc9c40"
      },
      "outputs": [
        {
          "output_type": "execute_result",
          "data": {
            "text/plain": [
              "      policy_id        age  safty_rating  high_education_ind  dependent  own  \\\n",
              "0    policy_100  33.500000     75.500000            0.500000          1    1   \n",
              "1   policy_1000  35.000000     50.000000            1.000000          0    0   \n",
              "2  policy_10001  24.666667     59.333333            0.333333          2    1   \n",
              "3  policy_10002  24.000000     76.000000            0.200000          4    0   \n",
              "4  policy_10004  28.200000     72.000000            0.200000          3    2   \n",
              "\n",
              "   rent  F  M  \n",
              "0     0  1  1  \n",
              "1     1  0  1  \n",
              "2     0  2  1  \n",
              "3     1  1  4  \n",
              "4     0  2  3  "
            ],
            "text/html": [
              "\n",
              "  <div id=\"df-5e52e01d-354e-4151-a599-a61d672219da\">\n",
              "    <div class=\"colab-df-container\">\n",
              "      <div>\n",
              "<style scoped>\n",
              "    .dataframe tbody tr th:only-of-type {\n",
              "        vertical-align: middle;\n",
              "    }\n",
              "\n",
              "    .dataframe tbody tr th {\n",
              "        vertical-align: top;\n",
              "    }\n",
              "\n",
              "    .dataframe thead th {\n",
              "        text-align: right;\n",
              "    }\n",
              "</style>\n",
              "<table border=\"1\" class=\"dataframe\">\n",
              "  <thead>\n",
              "    <tr style=\"text-align: right;\">\n",
              "      <th></th>\n",
              "      <th>policy_id</th>\n",
              "      <th>age</th>\n",
              "      <th>safty_rating</th>\n",
              "      <th>high_education_ind</th>\n",
              "      <th>dependent</th>\n",
              "      <th>own</th>\n",
              "      <th>rent</th>\n",
              "      <th>F</th>\n",
              "      <th>M</th>\n",
              "    </tr>\n",
              "  </thead>\n",
              "  <tbody>\n",
              "    <tr>\n",
              "      <th>0</th>\n",
              "      <td>policy_100</td>\n",
              "      <td>33.500000</td>\n",
              "      <td>75.500000</td>\n",
              "      <td>0.500000</td>\n",
              "      <td>1</td>\n",
              "      <td>1</td>\n",
              "      <td>0</td>\n",
              "      <td>1</td>\n",
              "      <td>1</td>\n",
              "    </tr>\n",
              "    <tr>\n",
              "      <th>1</th>\n",
              "      <td>policy_1000</td>\n",
              "      <td>35.000000</td>\n",
              "      <td>50.000000</td>\n",
              "      <td>1.000000</td>\n",
              "      <td>0</td>\n",
              "      <td>0</td>\n",
              "      <td>1</td>\n",
              "      <td>0</td>\n",
              "      <td>1</td>\n",
              "    </tr>\n",
              "    <tr>\n",
              "      <th>2</th>\n",
              "      <td>policy_10001</td>\n",
              "      <td>24.666667</td>\n",
              "      <td>59.333333</td>\n",
              "      <td>0.333333</td>\n",
              "      <td>2</td>\n",
              "      <td>1</td>\n",
              "      <td>0</td>\n",
              "      <td>2</td>\n",
              "      <td>1</td>\n",
              "    </tr>\n",
              "    <tr>\n",
              "      <th>3</th>\n",
              "      <td>policy_10002</td>\n",
              "      <td>24.000000</td>\n",
              "      <td>76.000000</td>\n",
              "      <td>0.200000</td>\n",
              "      <td>4</td>\n",
              "      <td>0</td>\n",
              "      <td>1</td>\n",
              "      <td>1</td>\n",
              "      <td>4</td>\n",
              "    </tr>\n",
              "    <tr>\n",
              "      <th>4</th>\n",
              "      <td>policy_10004</td>\n",
              "      <td>28.200000</td>\n",
              "      <td>72.000000</td>\n",
              "      <td>0.200000</td>\n",
              "      <td>3</td>\n",
              "      <td>2</td>\n",
              "      <td>0</td>\n",
              "      <td>2</td>\n",
              "      <td>3</td>\n",
              "    </tr>\n",
              "  </tbody>\n",
              "</table>\n",
              "</div>\n",
              "      <button class=\"colab-df-convert\" onclick=\"convertToInteractive('df-5e52e01d-354e-4151-a599-a61d672219da')\"\n",
              "              title=\"Convert this dataframe to an interactive table.\"\n",
              "              style=\"display:none;\">\n",
              "        \n",
              "  <svg xmlns=\"http://www.w3.org/2000/svg\" height=\"24px\"viewBox=\"0 0 24 24\"\n",
              "       width=\"24px\">\n",
              "    <path d=\"M0 0h24v24H0V0z\" fill=\"none\"/>\n",
              "    <path d=\"M18.56 5.44l.94 2.06.94-2.06 2.06-.94-2.06-.94-.94-2.06-.94 2.06-2.06.94zm-11 1L8.5 8.5l.94-2.06 2.06-.94-2.06-.94L8.5 2.5l-.94 2.06-2.06.94zm10 10l.94 2.06.94-2.06 2.06-.94-2.06-.94-.94-2.06-.94 2.06-2.06.94z\"/><path d=\"M17.41 7.96l-1.37-1.37c-.4-.4-.92-.59-1.43-.59-.52 0-1.04.2-1.43.59L10.3 9.45l-7.72 7.72c-.78.78-.78 2.05 0 2.83L4 21.41c.39.39.9.59 1.41.59.51 0 1.02-.2 1.41-.59l7.78-7.78 2.81-2.81c.8-.78.8-2.07 0-2.86zM5.41 20L4 18.59l7.72-7.72 1.47 1.35L5.41 20z\"/>\n",
              "  </svg>\n",
              "      </button>\n",
              "      \n",
              "  <style>\n",
              "    .colab-df-container {\n",
              "      display:flex;\n",
              "      flex-wrap:wrap;\n",
              "      gap: 12px;\n",
              "    }\n",
              "\n",
              "    .colab-df-convert {\n",
              "      background-color: #E8F0FE;\n",
              "      border: none;\n",
              "      border-radius: 50%;\n",
              "      cursor: pointer;\n",
              "      display: none;\n",
              "      fill: #1967D2;\n",
              "      height: 32px;\n",
              "      padding: 0 0 0 0;\n",
              "      width: 32px;\n",
              "    }\n",
              "\n",
              "    .colab-df-convert:hover {\n",
              "      background-color: #E2EBFA;\n",
              "      box-shadow: 0px 1px 2px rgba(60, 64, 67, 0.3), 0px 1px 3px 1px rgba(60, 64, 67, 0.15);\n",
              "      fill: #174EA6;\n",
              "    }\n",
              "\n",
              "    [theme=dark] .colab-df-convert {\n",
              "      background-color: #3B4455;\n",
              "      fill: #D2E3FC;\n",
              "    }\n",
              "\n",
              "    [theme=dark] .colab-df-convert:hover {\n",
              "      background-color: #434B5C;\n",
              "      box-shadow: 0px 1px 3px 1px rgba(0, 0, 0, 0.15);\n",
              "      filter: drop-shadow(0px 1px 2px rgba(0, 0, 0, 0.3));\n",
              "      fill: #FFFFFF;\n",
              "    }\n",
              "  </style>\n",
              "\n",
              "      <script>\n",
              "        const buttonEl =\n",
              "          document.querySelector('#df-5e52e01d-354e-4151-a599-a61d672219da button.colab-df-convert');\n",
              "        buttonEl.style.display =\n",
              "          google.colab.kernel.accessAllowed ? 'block' : 'none';\n",
              "\n",
              "        async function convertToInteractive(key) {\n",
              "          const element = document.querySelector('#df-5e52e01d-354e-4151-a599-a61d672219da');\n",
              "          const dataTable =\n",
              "            await google.colab.kernel.invokeFunction('convertToInteractive',\n",
              "                                                     [key], {});\n",
              "          if (!dataTable) return;\n",
              "\n",
              "          const docLinkHtml = 'Like what you see? Visit the ' +\n",
              "            '<a target=\"_blank\" href=https://colab.research.google.com/notebooks/data_table.ipynb>data table notebook</a>'\n",
              "            + ' to learn more about interactive tables.';\n",
              "          element.innerHTML = '';\n",
              "          dataTable['output_type'] = 'display_data';\n",
              "          await google.colab.output.renderOutput(dataTable, element);\n",
              "          const docLink = document.createElement('div');\n",
              "          docLink.innerHTML = docLinkHtml;\n",
              "          element.appendChild(docLink);\n",
              "        }\n",
              "      </script>\n",
              "    </div>\n",
              "  </div>\n",
              "  "
            ]
          },
          "metadata": {},
          "execution_count": 28
        }
      ],
      "source": [
        "drivers_grp2 = drivers_grp.merge(drivers_dummy2, how='inner', on=[\"policy_id\"])\n",
        "drivers_grp2.head()"
      ]
    },
    {
      "cell_type": "code",
      "execution_count": null,
      "metadata": {
        "colab": {
          "base_uri": "https://localhost:8080/",
          "height": 206
        },
        "id": "2Nu3Mf-xepmk",
        "outputId": "a3d37b20-ef7f-4a03-92df-fe5f76893a7b"
      },
      "outputs": [
        {
          "output_type": "execute_result",
          "data": {
            "text/plain": [
              "      policy_id       age\n",
              "0    policy_100  7.333333\n",
              "1   policy_1000  5.500000\n",
              "2  policy_10001  5.000000\n",
              "3  policy_10002  7.200000\n",
              "4  policy_10004  5.000000"
            ],
            "text/html": [
              "\n",
              "  <div id=\"df-0f7ae4d6-7e4f-4d51-bc77-d690ee5b5f51\">\n",
              "    <div class=\"colab-df-container\">\n",
              "      <div>\n",
              "<style scoped>\n",
              "    .dataframe tbody tr th:only-of-type {\n",
              "        vertical-align: middle;\n",
              "    }\n",
              "\n",
              "    .dataframe tbody tr th {\n",
              "        vertical-align: top;\n",
              "    }\n",
              "\n",
              "    .dataframe thead th {\n",
              "        text-align: right;\n",
              "    }\n",
              "</style>\n",
              "<table border=\"1\" class=\"dataframe\">\n",
              "  <thead>\n",
              "    <tr style=\"text-align: right;\">\n",
              "      <th></th>\n",
              "      <th>policy_id</th>\n",
              "      <th>age</th>\n",
              "    </tr>\n",
              "  </thead>\n",
              "  <tbody>\n",
              "    <tr>\n",
              "      <th>0</th>\n",
              "      <td>policy_100</td>\n",
              "      <td>7.333333</td>\n",
              "    </tr>\n",
              "    <tr>\n",
              "      <th>1</th>\n",
              "      <td>policy_1000</td>\n",
              "      <td>5.500000</td>\n",
              "    </tr>\n",
              "    <tr>\n",
              "      <th>2</th>\n",
              "      <td>policy_10001</td>\n",
              "      <td>5.000000</td>\n",
              "    </tr>\n",
              "    <tr>\n",
              "      <th>3</th>\n",
              "      <td>policy_10002</td>\n",
              "      <td>7.200000</td>\n",
              "    </tr>\n",
              "    <tr>\n",
              "      <th>4</th>\n",
              "      <td>policy_10004</td>\n",
              "      <td>5.000000</td>\n",
              "    </tr>\n",
              "  </tbody>\n",
              "</table>\n",
              "</div>\n",
              "      <button class=\"colab-df-convert\" onclick=\"convertToInteractive('df-0f7ae4d6-7e4f-4d51-bc77-d690ee5b5f51')\"\n",
              "              title=\"Convert this dataframe to an interactive table.\"\n",
              "              style=\"display:none;\">\n",
              "        \n",
              "  <svg xmlns=\"http://www.w3.org/2000/svg\" height=\"24px\"viewBox=\"0 0 24 24\"\n",
              "       width=\"24px\">\n",
              "    <path d=\"M0 0h24v24H0V0z\" fill=\"none\"/>\n",
              "    <path d=\"M18.56 5.44l.94 2.06.94-2.06 2.06-.94-2.06-.94-.94-2.06-.94 2.06-2.06.94zm-11 1L8.5 8.5l.94-2.06 2.06-.94-2.06-.94L8.5 2.5l-.94 2.06-2.06.94zm10 10l.94 2.06.94-2.06 2.06-.94-2.06-.94-.94-2.06-.94 2.06-2.06.94z\"/><path d=\"M17.41 7.96l-1.37-1.37c-.4-.4-.92-.59-1.43-.59-.52 0-1.04.2-1.43.59L10.3 9.45l-7.72 7.72c-.78.78-.78 2.05 0 2.83L4 21.41c.39.39.9.59 1.41.59.51 0 1.02-.2 1.41-.59l7.78-7.78 2.81-2.81c.8-.78.8-2.07 0-2.86zM5.41 20L4 18.59l7.72-7.72 1.47 1.35L5.41 20z\"/>\n",
              "  </svg>\n",
              "      </button>\n",
              "      \n",
              "  <style>\n",
              "    .colab-df-container {\n",
              "      display:flex;\n",
              "      flex-wrap:wrap;\n",
              "      gap: 12px;\n",
              "    }\n",
              "\n",
              "    .colab-df-convert {\n",
              "      background-color: #E8F0FE;\n",
              "      border: none;\n",
              "      border-radius: 50%;\n",
              "      cursor: pointer;\n",
              "      display: none;\n",
              "      fill: #1967D2;\n",
              "      height: 32px;\n",
              "      padding: 0 0 0 0;\n",
              "      width: 32px;\n",
              "    }\n",
              "\n",
              "    .colab-df-convert:hover {\n",
              "      background-color: #E2EBFA;\n",
              "      box-shadow: 0px 1px 2px rgba(60, 64, 67, 0.3), 0px 1px 3px 1px rgba(60, 64, 67, 0.15);\n",
              "      fill: #174EA6;\n",
              "    }\n",
              "\n",
              "    [theme=dark] .colab-df-convert {\n",
              "      background-color: #3B4455;\n",
              "      fill: #D2E3FC;\n",
              "    }\n",
              "\n",
              "    [theme=dark] .colab-df-convert:hover {\n",
              "      background-color: #434B5C;\n",
              "      box-shadow: 0px 1px 3px 1px rgba(0, 0, 0, 0.15);\n",
              "      filter: drop-shadow(0px 1px 2px rgba(0, 0, 0, 0.3));\n",
              "      fill: #FFFFFF;\n",
              "    }\n",
              "  </style>\n",
              "\n",
              "      <script>\n",
              "        const buttonEl =\n",
              "          document.querySelector('#df-0f7ae4d6-7e4f-4d51-bc77-d690ee5b5f51 button.colab-df-convert');\n",
              "        buttonEl.style.display =\n",
              "          google.colab.kernel.accessAllowed ? 'block' : 'none';\n",
              "\n",
              "        async function convertToInteractive(key) {\n",
              "          const element = document.querySelector('#df-0f7ae4d6-7e4f-4d51-bc77-d690ee5b5f51');\n",
              "          const dataTable =\n",
              "            await google.colab.kernel.invokeFunction('convertToInteractive',\n",
              "                                                     [key], {});\n",
              "          if (!dataTable) return;\n",
              "\n",
              "          const docLinkHtml = 'Like what you see? Visit the ' +\n",
              "            '<a target=\"_blank\" href=https://colab.research.google.com/notebooks/data_table.ipynb>data table notebook</a>'\n",
              "            + ' to learn more about interactive tables.';\n",
              "          element.innerHTML = '';\n",
              "          dataTable['output_type'] = 'display_data';\n",
              "          await google.colab.output.renderOutput(dataTable, element);\n",
              "          const docLink = document.createElement('div');\n",
              "          docLink.innerHTML = docLinkHtml;\n",
              "          element.appendChild(docLink);\n",
              "        }\n",
              "      </script>\n",
              "    </div>\n",
              "  </div>\n",
              "  "
            ]
          },
          "metadata": {},
          "execution_count": 29
        }
      ],
      "source": [
        "vehicles_grp = pd.DataFrame(vehicles[['policy_id','age']].groupby(['policy_id']).mean())\n",
        "vehicles_grp.reset_index(inplace=True)\n",
        "vehicles_grp = vehicles_grp.rename(columns = {'index':'policy_id'})\n",
        "vehicles_grp.head()"
      ]
    },
    {
      "cell_type": "code",
      "execution_count": null,
      "metadata": {
        "colab": {
          "base_uri": "https://localhost:8080/",
          "height": 300
        },
        "id": "Ra5911FIepmk",
        "outputId": "bf5a3f32-c5e6-4d4e-b2a8-ce2fd274829a"
      },
      "outputs": [
        {
          "output_type": "execute_result",
          "data": {
            "text/plain": [
              "   discount  Home_policy_ind  quoted_amt  credit_score  Cov_package_type  \\\n",
              "0         1                1      5153.0         613.0               2.0   \n",
              "1         0                0      9870.0         576.0               0.0   \n",
              "2         0                0      3090.0         631.0               1.0   \n",
              "3         0                0      2860.0         573.0               1.0   \n",
              "4         0                0     14917.0         602.0               1.0   \n",
              "\n",
              "   CAT_zone     policy_id  number_drivers  num_loaned_veh  num_owned_veh  ...  \\\n",
              "0       2.0  policy_87209               2               1              2  ...   \n",
              "1       4.0  policy_89288               1               1              1  ...   \n",
              "2       2.0  policy_91413               2               1              2  ...   \n",
              "3       3.0  policy_23460               1               2              3  ...   \n",
              "4       4.0  policy_71845               2               0              1  ...   \n",
              "\n",
              "   state_id_NY  state_id_WI   age safty_rating  high_education_ind  dependent  \\\n",
              "0            1            0  49.5         74.0                 0.5          0   \n",
              "1            1            0  56.0         62.0                 1.0          0   \n",
              "2            1            0  49.0         70.0                 0.5          0   \n",
              "3            0            0  30.0         90.0                 1.0          0   \n",
              "4            1            0  56.5         81.5                 1.0          0   \n",
              "\n",
              "   own  rent  F  M  \n",
              "0    0     2  1  1  \n",
              "1    0     1  0  1  \n",
              "2    0     2  1  1  \n",
              "3    0     1  1  0  \n",
              "4    2     0  1  1  \n",
              "\n",
              "[5 rows x 39 columns]"
            ],
            "text/html": [
              "\n",
              "  <div id=\"df-52412507-4c30-40be-b3b2-1343d118b754\">\n",
              "    <div class=\"colab-df-container\">\n",
              "      <div>\n",
              "<style scoped>\n",
              "    .dataframe tbody tr th:only-of-type {\n",
              "        vertical-align: middle;\n",
              "    }\n",
              "\n",
              "    .dataframe tbody tr th {\n",
              "        vertical-align: top;\n",
              "    }\n",
              "\n",
              "    .dataframe thead th {\n",
              "        text-align: right;\n",
              "    }\n",
              "</style>\n",
              "<table border=\"1\" class=\"dataframe\">\n",
              "  <thead>\n",
              "    <tr style=\"text-align: right;\">\n",
              "      <th></th>\n",
              "      <th>discount</th>\n",
              "      <th>Home_policy_ind</th>\n",
              "      <th>quoted_amt</th>\n",
              "      <th>credit_score</th>\n",
              "      <th>Cov_package_type</th>\n",
              "      <th>CAT_zone</th>\n",
              "      <th>policy_id</th>\n",
              "      <th>number_drivers</th>\n",
              "      <th>num_loaned_veh</th>\n",
              "      <th>num_owned_veh</th>\n",
              "      <th>...</th>\n",
              "      <th>state_id_NY</th>\n",
              "      <th>state_id_WI</th>\n",
              "      <th>age</th>\n",
              "      <th>safty_rating</th>\n",
              "      <th>high_education_ind</th>\n",
              "      <th>dependent</th>\n",
              "      <th>own</th>\n",
              "      <th>rent</th>\n",
              "      <th>F</th>\n",
              "      <th>M</th>\n",
              "    </tr>\n",
              "  </thead>\n",
              "  <tbody>\n",
              "    <tr>\n",
              "      <th>0</th>\n",
              "      <td>1</td>\n",
              "      <td>1</td>\n",
              "      <td>5153.0</td>\n",
              "      <td>613.0</td>\n",
              "      <td>2.0</td>\n",
              "      <td>2.0</td>\n",
              "      <td>policy_87209</td>\n",
              "      <td>2</td>\n",
              "      <td>1</td>\n",
              "      <td>2</td>\n",
              "      <td>...</td>\n",
              "      <td>1</td>\n",
              "      <td>0</td>\n",
              "      <td>49.5</td>\n",
              "      <td>74.0</td>\n",
              "      <td>0.5</td>\n",
              "      <td>0</td>\n",
              "      <td>0</td>\n",
              "      <td>2</td>\n",
              "      <td>1</td>\n",
              "      <td>1</td>\n",
              "    </tr>\n",
              "    <tr>\n",
              "      <th>1</th>\n",
              "      <td>0</td>\n",
              "      <td>0</td>\n",
              "      <td>9870.0</td>\n",
              "      <td>576.0</td>\n",
              "      <td>0.0</td>\n",
              "      <td>4.0</td>\n",
              "      <td>policy_89288</td>\n",
              "      <td>1</td>\n",
              "      <td>1</td>\n",
              "      <td>1</td>\n",
              "      <td>...</td>\n",
              "      <td>1</td>\n",
              "      <td>0</td>\n",
              "      <td>56.0</td>\n",
              "      <td>62.0</td>\n",
              "      <td>1.0</td>\n",
              "      <td>0</td>\n",
              "      <td>0</td>\n",
              "      <td>1</td>\n",
              "      <td>0</td>\n",
              "      <td>1</td>\n",
              "    </tr>\n",
              "    <tr>\n",
              "      <th>2</th>\n",
              "      <td>0</td>\n",
              "      <td>0</td>\n",
              "      <td>3090.0</td>\n",
              "      <td>631.0</td>\n",
              "      <td>1.0</td>\n",
              "      <td>2.0</td>\n",
              "      <td>policy_91413</td>\n",
              "      <td>2</td>\n",
              "      <td>1</td>\n",
              "      <td>2</td>\n",
              "      <td>...</td>\n",
              "      <td>1</td>\n",
              "      <td>0</td>\n",
              "      <td>49.0</td>\n",
              "      <td>70.0</td>\n",
              "      <td>0.5</td>\n",
              "      <td>0</td>\n",
              "      <td>0</td>\n",
              "      <td>2</td>\n",
              "      <td>1</td>\n",
              "      <td>1</td>\n",
              "    </tr>\n",
              "    <tr>\n",
              "      <th>3</th>\n",
              "      <td>0</td>\n",
              "      <td>0</td>\n",
              "      <td>2860.0</td>\n",
              "      <td>573.0</td>\n",
              "      <td>1.0</td>\n",
              "      <td>3.0</td>\n",
              "      <td>policy_23460</td>\n",
              "      <td>1</td>\n",
              "      <td>2</td>\n",
              "      <td>3</td>\n",
              "      <td>...</td>\n",
              "      <td>0</td>\n",
              "      <td>0</td>\n",
              "      <td>30.0</td>\n",
              "      <td>90.0</td>\n",
              "      <td>1.0</td>\n",
              "      <td>0</td>\n",
              "      <td>0</td>\n",
              "      <td>1</td>\n",
              "      <td>1</td>\n",
              "      <td>0</td>\n",
              "    </tr>\n",
              "    <tr>\n",
              "      <th>4</th>\n",
              "      <td>0</td>\n",
              "      <td>0</td>\n",
              "      <td>14917.0</td>\n",
              "      <td>602.0</td>\n",
              "      <td>1.0</td>\n",
              "      <td>4.0</td>\n",
              "      <td>policy_71845</td>\n",
              "      <td>2</td>\n",
              "      <td>0</td>\n",
              "      <td>1</td>\n",
              "      <td>...</td>\n",
              "      <td>1</td>\n",
              "      <td>0</td>\n",
              "      <td>56.5</td>\n",
              "      <td>81.5</td>\n",
              "      <td>1.0</td>\n",
              "      <td>0</td>\n",
              "      <td>2</td>\n",
              "      <td>0</td>\n",
              "      <td>1</td>\n",
              "      <td>1</td>\n",
              "    </tr>\n",
              "  </tbody>\n",
              "</table>\n",
              "<p>5 rows × 39 columns</p>\n",
              "</div>\n",
              "      <button class=\"colab-df-convert\" onclick=\"convertToInteractive('df-52412507-4c30-40be-b3b2-1343d118b754')\"\n",
              "              title=\"Convert this dataframe to an interactive table.\"\n",
              "              style=\"display:none;\">\n",
              "        \n",
              "  <svg xmlns=\"http://www.w3.org/2000/svg\" height=\"24px\"viewBox=\"0 0 24 24\"\n",
              "       width=\"24px\">\n",
              "    <path d=\"M0 0h24v24H0V0z\" fill=\"none\"/>\n",
              "    <path d=\"M18.56 5.44l.94 2.06.94-2.06 2.06-.94-2.06-.94-.94-2.06-.94 2.06-2.06.94zm-11 1L8.5 8.5l.94-2.06 2.06-.94-2.06-.94L8.5 2.5l-.94 2.06-2.06.94zm10 10l.94 2.06.94-2.06 2.06-.94-2.06-.94-.94-2.06-.94 2.06-2.06.94z\"/><path d=\"M17.41 7.96l-1.37-1.37c-.4-.4-.92-.59-1.43-.59-.52 0-1.04.2-1.43.59L10.3 9.45l-7.72 7.72c-.78.78-.78 2.05 0 2.83L4 21.41c.39.39.9.59 1.41.59.51 0 1.02-.2 1.41-.59l7.78-7.78 2.81-2.81c.8-.78.8-2.07 0-2.86zM5.41 20L4 18.59l7.72-7.72 1.47 1.35L5.41 20z\"/>\n",
              "  </svg>\n",
              "      </button>\n",
              "      \n",
              "  <style>\n",
              "    .colab-df-container {\n",
              "      display:flex;\n",
              "      flex-wrap:wrap;\n",
              "      gap: 12px;\n",
              "    }\n",
              "\n",
              "    .colab-df-convert {\n",
              "      background-color: #E8F0FE;\n",
              "      border: none;\n",
              "      border-radius: 50%;\n",
              "      cursor: pointer;\n",
              "      display: none;\n",
              "      fill: #1967D2;\n",
              "      height: 32px;\n",
              "      padding: 0 0 0 0;\n",
              "      width: 32px;\n",
              "    }\n",
              "\n",
              "    .colab-df-convert:hover {\n",
              "      background-color: #E2EBFA;\n",
              "      box-shadow: 0px 1px 2px rgba(60, 64, 67, 0.3), 0px 1px 3px 1px rgba(60, 64, 67, 0.15);\n",
              "      fill: #174EA6;\n",
              "    }\n",
              "\n",
              "    [theme=dark] .colab-df-convert {\n",
              "      background-color: #3B4455;\n",
              "      fill: #D2E3FC;\n",
              "    }\n",
              "\n",
              "    [theme=dark] .colab-df-convert:hover {\n",
              "      background-color: #434B5C;\n",
              "      box-shadow: 0px 1px 3px 1px rgba(0, 0, 0, 0.15);\n",
              "      filter: drop-shadow(0px 1px 2px rgba(0, 0, 0, 0.3));\n",
              "      fill: #FFFFFF;\n",
              "    }\n",
              "  </style>\n",
              "\n",
              "      <script>\n",
              "        const buttonEl =\n",
              "          document.querySelector('#df-52412507-4c30-40be-b3b2-1343d118b754 button.colab-df-convert');\n",
              "        buttonEl.style.display =\n",
              "          google.colab.kernel.accessAllowed ? 'block' : 'none';\n",
              "\n",
              "        async function convertToInteractive(key) {\n",
              "          const element = document.querySelector('#df-52412507-4c30-40be-b3b2-1343d118b754');\n",
              "          const dataTable =\n",
              "            await google.colab.kernel.invokeFunction('convertToInteractive',\n",
              "                                                     [key], {});\n",
              "          if (!dataTable) return;\n",
              "\n",
              "          const docLinkHtml = 'Like what you see? Visit the ' +\n",
              "            '<a target=\"_blank\" href=https://colab.research.google.com/notebooks/data_table.ipynb>data table notebook</a>'\n",
              "            + ' to learn more about interactive tables.';\n",
              "          element.innerHTML = '';\n",
              "          dataTable['output_type'] = 'display_data';\n",
              "          await google.colab.output.renderOutput(dataTable, element);\n",
              "          const docLink = document.createElement('div');\n",
              "          docLink.innerHTML = docLinkHtml;\n",
              "          element.appendChild(docLink);\n",
              "        }\n",
              "      </script>\n",
              "    </div>\n",
              "  </div>\n",
              "  "
            ]
          },
          "metadata": {},
          "execution_count": 30
        }
      ],
      "source": [
        "policies_drivers = pd.merge(policies, drivers_grp2, how=\"inner\", on=[\"policy_id\"])\n",
        "policies_drivers.head()"
      ]
    },
    {
      "cell_type": "code",
      "execution_count": null,
      "metadata": {
        "colab": {
          "base_uri": "https://localhost:8080/",
          "height": 300
        },
        "id": "qIq7iLX4epmk",
        "outputId": "5075caec-774f-4b9c-d19c-3269432ae136"
      },
      "outputs": [
        {
          "output_type": "execute_result",
          "data": {
            "text/plain": [
              "   discount  Home_policy_ind  quoted_amt  credit_score  Cov_package_type  \\\n",
              "0         1                1      5153.0         613.0               2.0   \n",
              "1         0                0      9870.0         576.0               0.0   \n",
              "2         0                0      3090.0         631.0               1.0   \n",
              "3         0                0      2860.0         573.0               1.0   \n",
              "4         0                0     14917.0         602.0               1.0   \n",
              "\n",
              "   CAT_zone     policy_id  number_drivers  num_loaned_veh  num_owned_veh  ...  \\\n",
              "0       2.0  policy_87209               2               1              2  ...   \n",
              "1       4.0  policy_89288               1               1              1  ...   \n",
              "2       2.0  policy_91413               2               1              2  ...   \n",
              "3       3.0  policy_23460               1               2              3  ...   \n",
              "4       4.0  policy_71845               2               0              1  ...   \n",
              "\n",
              "   state_id_WI  age_ppl  safty_rating high_education_ind  dependent  own  \\\n",
              "0            0     49.5          74.0                0.5          0    0   \n",
              "1            0     56.0          62.0                1.0          0    0   \n",
              "2            0     49.0          70.0                0.5          0    0   \n",
              "3            0     30.0          90.0                1.0          0    0   \n",
              "4            0     56.5          81.5                1.0          0    2   \n",
              "\n",
              "   rent  F  M  age_car  \n",
              "0     2  1  1     5.25  \n",
              "1     1  0  1     2.75  \n",
              "2     2  1  1     7.00  \n",
              "3     1  1  0     5.50  \n",
              "4     0  1  1     4.50  \n",
              "\n",
              "[5 rows x 40 columns]"
            ],
            "text/html": [
              "\n",
              "  <div id=\"df-34457c8c-6f7a-4f7d-bc6e-630cfe4063d0\">\n",
              "    <div class=\"colab-df-container\">\n",
              "      <div>\n",
              "<style scoped>\n",
              "    .dataframe tbody tr th:only-of-type {\n",
              "        vertical-align: middle;\n",
              "    }\n",
              "\n",
              "    .dataframe tbody tr th {\n",
              "        vertical-align: top;\n",
              "    }\n",
              "\n",
              "    .dataframe thead th {\n",
              "        text-align: right;\n",
              "    }\n",
              "</style>\n",
              "<table border=\"1\" class=\"dataframe\">\n",
              "  <thead>\n",
              "    <tr style=\"text-align: right;\">\n",
              "      <th></th>\n",
              "      <th>discount</th>\n",
              "      <th>Home_policy_ind</th>\n",
              "      <th>quoted_amt</th>\n",
              "      <th>credit_score</th>\n",
              "      <th>Cov_package_type</th>\n",
              "      <th>CAT_zone</th>\n",
              "      <th>policy_id</th>\n",
              "      <th>number_drivers</th>\n",
              "      <th>num_loaned_veh</th>\n",
              "      <th>num_owned_veh</th>\n",
              "      <th>...</th>\n",
              "      <th>state_id_WI</th>\n",
              "      <th>age_ppl</th>\n",
              "      <th>safty_rating</th>\n",
              "      <th>high_education_ind</th>\n",
              "      <th>dependent</th>\n",
              "      <th>own</th>\n",
              "      <th>rent</th>\n",
              "      <th>F</th>\n",
              "      <th>M</th>\n",
              "      <th>age_car</th>\n",
              "    </tr>\n",
              "  </thead>\n",
              "  <tbody>\n",
              "    <tr>\n",
              "      <th>0</th>\n",
              "      <td>1</td>\n",
              "      <td>1</td>\n",
              "      <td>5153.0</td>\n",
              "      <td>613.0</td>\n",
              "      <td>2.0</td>\n",
              "      <td>2.0</td>\n",
              "      <td>policy_87209</td>\n",
              "      <td>2</td>\n",
              "      <td>1</td>\n",
              "      <td>2</td>\n",
              "      <td>...</td>\n",
              "      <td>0</td>\n",
              "      <td>49.5</td>\n",
              "      <td>74.0</td>\n",
              "      <td>0.5</td>\n",
              "      <td>0</td>\n",
              "      <td>0</td>\n",
              "      <td>2</td>\n",
              "      <td>1</td>\n",
              "      <td>1</td>\n",
              "      <td>5.25</td>\n",
              "    </tr>\n",
              "    <tr>\n",
              "      <th>1</th>\n",
              "      <td>0</td>\n",
              "      <td>0</td>\n",
              "      <td>9870.0</td>\n",
              "      <td>576.0</td>\n",
              "      <td>0.0</td>\n",
              "      <td>4.0</td>\n",
              "      <td>policy_89288</td>\n",
              "      <td>1</td>\n",
              "      <td>1</td>\n",
              "      <td>1</td>\n",
              "      <td>...</td>\n",
              "      <td>0</td>\n",
              "      <td>56.0</td>\n",
              "      <td>62.0</td>\n",
              "      <td>1.0</td>\n",
              "      <td>0</td>\n",
              "      <td>0</td>\n",
              "      <td>1</td>\n",
              "      <td>0</td>\n",
              "      <td>1</td>\n",
              "      <td>2.75</td>\n",
              "    </tr>\n",
              "    <tr>\n",
              "      <th>2</th>\n",
              "      <td>0</td>\n",
              "      <td>0</td>\n",
              "      <td>3090.0</td>\n",
              "      <td>631.0</td>\n",
              "      <td>1.0</td>\n",
              "      <td>2.0</td>\n",
              "      <td>policy_91413</td>\n",
              "      <td>2</td>\n",
              "      <td>1</td>\n",
              "      <td>2</td>\n",
              "      <td>...</td>\n",
              "      <td>0</td>\n",
              "      <td>49.0</td>\n",
              "      <td>70.0</td>\n",
              "      <td>0.5</td>\n",
              "      <td>0</td>\n",
              "      <td>0</td>\n",
              "      <td>2</td>\n",
              "      <td>1</td>\n",
              "      <td>1</td>\n",
              "      <td>7.00</td>\n",
              "    </tr>\n",
              "    <tr>\n",
              "      <th>3</th>\n",
              "      <td>0</td>\n",
              "      <td>0</td>\n",
              "      <td>2860.0</td>\n",
              "      <td>573.0</td>\n",
              "      <td>1.0</td>\n",
              "      <td>3.0</td>\n",
              "      <td>policy_23460</td>\n",
              "      <td>1</td>\n",
              "      <td>2</td>\n",
              "      <td>3</td>\n",
              "      <td>...</td>\n",
              "      <td>0</td>\n",
              "      <td>30.0</td>\n",
              "      <td>90.0</td>\n",
              "      <td>1.0</td>\n",
              "      <td>0</td>\n",
              "      <td>0</td>\n",
              "      <td>1</td>\n",
              "      <td>1</td>\n",
              "      <td>0</td>\n",
              "      <td>5.50</td>\n",
              "    </tr>\n",
              "    <tr>\n",
              "      <th>4</th>\n",
              "      <td>0</td>\n",
              "      <td>0</td>\n",
              "      <td>14917.0</td>\n",
              "      <td>602.0</td>\n",
              "      <td>1.0</td>\n",
              "      <td>4.0</td>\n",
              "      <td>policy_71845</td>\n",
              "      <td>2</td>\n",
              "      <td>0</td>\n",
              "      <td>1</td>\n",
              "      <td>...</td>\n",
              "      <td>0</td>\n",
              "      <td>56.5</td>\n",
              "      <td>81.5</td>\n",
              "      <td>1.0</td>\n",
              "      <td>0</td>\n",
              "      <td>2</td>\n",
              "      <td>0</td>\n",
              "      <td>1</td>\n",
              "      <td>1</td>\n",
              "      <td>4.50</td>\n",
              "    </tr>\n",
              "  </tbody>\n",
              "</table>\n",
              "<p>5 rows × 40 columns</p>\n",
              "</div>\n",
              "      <button class=\"colab-df-convert\" onclick=\"convertToInteractive('df-34457c8c-6f7a-4f7d-bc6e-630cfe4063d0')\"\n",
              "              title=\"Convert this dataframe to an interactive table.\"\n",
              "              style=\"display:none;\">\n",
              "        \n",
              "  <svg xmlns=\"http://www.w3.org/2000/svg\" height=\"24px\"viewBox=\"0 0 24 24\"\n",
              "       width=\"24px\">\n",
              "    <path d=\"M0 0h24v24H0V0z\" fill=\"none\"/>\n",
              "    <path d=\"M18.56 5.44l.94 2.06.94-2.06 2.06-.94-2.06-.94-.94-2.06-.94 2.06-2.06.94zm-11 1L8.5 8.5l.94-2.06 2.06-.94-2.06-.94L8.5 2.5l-.94 2.06-2.06.94zm10 10l.94 2.06.94-2.06 2.06-.94-2.06-.94-.94-2.06-.94 2.06-2.06.94z\"/><path d=\"M17.41 7.96l-1.37-1.37c-.4-.4-.92-.59-1.43-.59-.52 0-1.04.2-1.43.59L10.3 9.45l-7.72 7.72c-.78.78-.78 2.05 0 2.83L4 21.41c.39.39.9.59 1.41.59.51 0 1.02-.2 1.41-.59l7.78-7.78 2.81-2.81c.8-.78.8-2.07 0-2.86zM5.41 20L4 18.59l7.72-7.72 1.47 1.35L5.41 20z\"/>\n",
              "  </svg>\n",
              "      </button>\n",
              "      \n",
              "  <style>\n",
              "    .colab-df-container {\n",
              "      display:flex;\n",
              "      flex-wrap:wrap;\n",
              "      gap: 12px;\n",
              "    }\n",
              "\n",
              "    .colab-df-convert {\n",
              "      background-color: #E8F0FE;\n",
              "      border: none;\n",
              "      border-radius: 50%;\n",
              "      cursor: pointer;\n",
              "      display: none;\n",
              "      fill: #1967D2;\n",
              "      height: 32px;\n",
              "      padding: 0 0 0 0;\n",
              "      width: 32px;\n",
              "    }\n",
              "\n",
              "    .colab-df-convert:hover {\n",
              "      background-color: #E2EBFA;\n",
              "      box-shadow: 0px 1px 2px rgba(60, 64, 67, 0.3), 0px 1px 3px 1px rgba(60, 64, 67, 0.15);\n",
              "      fill: #174EA6;\n",
              "    }\n",
              "\n",
              "    [theme=dark] .colab-df-convert {\n",
              "      background-color: #3B4455;\n",
              "      fill: #D2E3FC;\n",
              "    }\n",
              "\n",
              "    [theme=dark] .colab-df-convert:hover {\n",
              "      background-color: #434B5C;\n",
              "      box-shadow: 0px 1px 3px 1px rgba(0, 0, 0, 0.15);\n",
              "      filter: drop-shadow(0px 1px 2px rgba(0, 0, 0, 0.3));\n",
              "      fill: #FFFFFF;\n",
              "    }\n",
              "  </style>\n",
              "\n",
              "      <script>\n",
              "        const buttonEl =\n",
              "          document.querySelector('#df-34457c8c-6f7a-4f7d-bc6e-630cfe4063d0 button.colab-df-convert');\n",
              "        buttonEl.style.display =\n",
              "          google.colab.kernel.accessAllowed ? 'block' : 'none';\n",
              "\n",
              "        async function convertToInteractive(key) {\n",
              "          const element = document.querySelector('#df-34457c8c-6f7a-4f7d-bc6e-630cfe4063d0');\n",
              "          const dataTable =\n",
              "            await google.colab.kernel.invokeFunction('convertToInteractive',\n",
              "                                                     [key], {});\n",
              "          if (!dataTable) return;\n",
              "\n",
              "          const docLinkHtml = 'Like what you see? Visit the ' +\n",
              "            '<a target=\"_blank\" href=https://colab.research.google.com/notebooks/data_table.ipynb>data table notebook</a>'\n",
              "            + ' to learn more about interactive tables.';\n",
              "          element.innerHTML = '';\n",
              "          dataTable['output_type'] = 'display_data';\n",
              "          await google.colab.output.renderOutput(dataTable, element);\n",
              "          const docLink = document.createElement('div');\n",
              "          docLink.innerHTML = docLinkHtml;\n",
              "          element.appendChild(docLink);\n",
              "        }\n",
              "      </script>\n",
              "    </div>\n",
              "  </div>\n",
              "  "
            ]
          },
          "metadata": {},
          "execution_count": 31
        }
      ],
      "source": [
        "policies_dv = pd.merge(policies_drivers, vehicles_grp, how=\"inner\", on=[\"policy_id\"], suffixes = ('_ppl','_car'))\n",
        "policies_dv.head()"
      ]
    },
    {
      "cell_type": "code",
      "execution_count": null,
      "metadata": {
        "colab": {
          "base_uri": "https://localhost:8080/",
          "height": 300
        },
        "id": "k_6Ipxa3epmk",
        "outputId": "34c2e1ac-2d34-42e3-fcc7-1f88f35683a2"
      },
      "outputs": [
        {
          "output_type": "execute_result",
          "data": {
            "text/plain": [
              "   discount  Home_policy_ind  quoted_amt  credit_score  Cov_package_type  \\\n",
              "0         1                1      5153.0         613.0               2.0   \n",
              "1         0                0      9870.0         576.0               0.0   \n",
              "2         0                0      3090.0         631.0               1.0   \n",
              "3         0                0      2860.0         573.0               1.0   \n",
              "4         0                0     14917.0         602.0               1.0   \n",
              "\n",
              "   CAT_zone     policy_id  number_drivers  num_loaned_veh  num_owned_veh  ...  \\\n",
              "0       2.0  policy_87209               2               1              2  ...   \n",
              "1       4.0  policy_89288               1               1              1  ...   \n",
              "2       2.0  policy_91413               2               1              2  ...   \n",
              "3       3.0  policy_23460               1               2              3  ...   \n",
              "4       4.0  policy_71845               2               0              1  ...   \n",
              "\n",
              "   F  M  age_car black  blue  gray  other  red  silver  white  \n",
              "0  1  1     5.25     0     0     1      1    0       1      1  \n",
              "1  0  1     2.75     1     2     1      0    0       0      0  \n",
              "2  1  1     7.00     0     0     0      2    0       0      2  \n",
              "3  1  0     5.50     1     0     0      0    0       1      0  \n",
              "4  1  1     4.50     0     1     0      1    1       0      1  \n",
              "\n",
              "[5 rows x 47 columns]"
            ],
            "text/html": [
              "\n",
              "  <div id=\"df-27620f9b-570d-45b1-8fde-ff69fdcd8700\">\n",
              "    <div class=\"colab-df-container\">\n",
              "      <div>\n",
              "<style scoped>\n",
              "    .dataframe tbody tr th:only-of-type {\n",
              "        vertical-align: middle;\n",
              "    }\n",
              "\n",
              "    .dataframe tbody tr th {\n",
              "        vertical-align: top;\n",
              "    }\n",
              "\n",
              "    .dataframe thead th {\n",
              "        text-align: right;\n",
              "    }\n",
              "</style>\n",
              "<table border=\"1\" class=\"dataframe\">\n",
              "  <thead>\n",
              "    <tr style=\"text-align: right;\">\n",
              "      <th></th>\n",
              "      <th>discount</th>\n",
              "      <th>Home_policy_ind</th>\n",
              "      <th>quoted_amt</th>\n",
              "      <th>credit_score</th>\n",
              "      <th>Cov_package_type</th>\n",
              "      <th>CAT_zone</th>\n",
              "      <th>policy_id</th>\n",
              "      <th>number_drivers</th>\n",
              "      <th>num_loaned_veh</th>\n",
              "      <th>num_owned_veh</th>\n",
              "      <th>...</th>\n",
              "      <th>F</th>\n",
              "      <th>M</th>\n",
              "      <th>age_car</th>\n",
              "      <th>black</th>\n",
              "      <th>blue</th>\n",
              "      <th>gray</th>\n",
              "      <th>other</th>\n",
              "      <th>red</th>\n",
              "      <th>silver</th>\n",
              "      <th>white</th>\n",
              "    </tr>\n",
              "  </thead>\n",
              "  <tbody>\n",
              "    <tr>\n",
              "      <th>0</th>\n",
              "      <td>1</td>\n",
              "      <td>1</td>\n",
              "      <td>5153.0</td>\n",
              "      <td>613.0</td>\n",
              "      <td>2.0</td>\n",
              "      <td>2.0</td>\n",
              "      <td>policy_87209</td>\n",
              "      <td>2</td>\n",
              "      <td>1</td>\n",
              "      <td>2</td>\n",
              "      <td>...</td>\n",
              "      <td>1</td>\n",
              "      <td>1</td>\n",
              "      <td>5.25</td>\n",
              "      <td>0</td>\n",
              "      <td>0</td>\n",
              "      <td>1</td>\n",
              "      <td>1</td>\n",
              "      <td>0</td>\n",
              "      <td>1</td>\n",
              "      <td>1</td>\n",
              "    </tr>\n",
              "    <tr>\n",
              "      <th>1</th>\n",
              "      <td>0</td>\n",
              "      <td>0</td>\n",
              "      <td>9870.0</td>\n",
              "      <td>576.0</td>\n",
              "      <td>0.0</td>\n",
              "      <td>4.0</td>\n",
              "      <td>policy_89288</td>\n",
              "      <td>1</td>\n",
              "      <td>1</td>\n",
              "      <td>1</td>\n",
              "      <td>...</td>\n",
              "      <td>0</td>\n",
              "      <td>1</td>\n",
              "      <td>2.75</td>\n",
              "      <td>1</td>\n",
              "      <td>2</td>\n",
              "      <td>1</td>\n",
              "      <td>0</td>\n",
              "      <td>0</td>\n",
              "      <td>0</td>\n",
              "      <td>0</td>\n",
              "    </tr>\n",
              "    <tr>\n",
              "      <th>2</th>\n",
              "      <td>0</td>\n",
              "      <td>0</td>\n",
              "      <td>3090.0</td>\n",
              "      <td>631.0</td>\n",
              "      <td>1.0</td>\n",
              "      <td>2.0</td>\n",
              "      <td>policy_91413</td>\n",
              "      <td>2</td>\n",
              "      <td>1</td>\n",
              "      <td>2</td>\n",
              "      <td>...</td>\n",
              "      <td>1</td>\n",
              "      <td>1</td>\n",
              "      <td>7.00</td>\n",
              "      <td>0</td>\n",
              "      <td>0</td>\n",
              "      <td>0</td>\n",
              "      <td>2</td>\n",
              "      <td>0</td>\n",
              "      <td>0</td>\n",
              "      <td>2</td>\n",
              "    </tr>\n",
              "    <tr>\n",
              "      <th>3</th>\n",
              "      <td>0</td>\n",
              "      <td>0</td>\n",
              "      <td>2860.0</td>\n",
              "      <td>573.0</td>\n",
              "      <td>1.0</td>\n",
              "      <td>3.0</td>\n",
              "      <td>policy_23460</td>\n",
              "      <td>1</td>\n",
              "      <td>2</td>\n",
              "      <td>3</td>\n",
              "      <td>...</td>\n",
              "      <td>1</td>\n",
              "      <td>0</td>\n",
              "      <td>5.50</td>\n",
              "      <td>1</td>\n",
              "      <td>0</td>\n",
              "      <td>0</td>\n",
              "      <td>0</td>\n",
              "      <td>0</td>\n",
              "      <td>1</td>\n",
              "      <td>0</td>\n",
              "    </tr>\n",
              "    <tr>\n",
              "      <th>4</th>\n",
              "      <td>0</td>\n",
              "      <td>0</td>\n",
              "      <td>14917.0</td>\n",
              "      <td>602.0</td>\n",
              "      <td>1.0</td>\n",
              "      <td>4.0</td>\n",
              "      <td>policy_71845</td>\n",
              "      <td>2</td>\n",
              "      <td>0</td>\n",
              "      <td>1</td>\n",
              "      <td>...</td>\n",
              "      <td>1</td>\n",
              "      <td>1</td>\n",
              "      <td>4.50</td>\n",
              "      <td>0</td>\n",
              "      <td>1</td>\n",
              "      <td>0</td>\n",
              "      <td>1</td>\n",
              "      <td>1</td>\n",
              "      <td>0</td>\n",
              "      <td>1</td>\n",
              "    </tr>\n",
              "  </tbody>\n",
              "</table>\n",
              "<p>5 rows × 47 columns</p>\n",
              "</div>\n",
              "      <button class=\"colab-df-convert\" onclick=\"convertToInteractive('df-27620f9b-570d-45b1-8fde-ff69fdcd8700')\"\n",
              "              title=\"Convert this dataframe to an interactive table.\"\n",
              "              style=\"display:none;\">\n",
              "        \n",
              "  <svg xmlns=\"http://www.w3.org/2000/svg\" height=\"24px\"viewBox=\"0 0 24 24\"\n",
              "       width=\"24px\">\n",
              "    <path d=\"M0 0h24v24H0V0z\" fill=\"none\"/>\n",
              "    <path d=\"M18.56 5.44l.94 2.06.94-2.06 2.06-.94-2.06-.94-.94-2.06-.94 2.06-2.06.94zm-11 1L8.5 8.5l.94-2.06 2.06-.94-2.06-.94L8.5 2.5l-.94 2.06-2.06.94zm10 10l.94 2.06.94-2.06 2.06-.94-2.06-.94-.94-2.06-.94 2.06-2.06.94z\"/><path d=\"M17.41 7.96l-1.37-1.37c-.4-.4-.92-.59-1.43-.59-.52 0-1.04.2-1.43.59L10.3 9.45l-7.72 7.72c-.78.78-.78 2.05 0 2.83L4 21.41c.39.39.9.59 1.41.59.51 0 1.02-.2 1.41-.59l7.78-7.78 2.81-2.81c.8-.78.8-2.07 0-2.86zM5.41 20L4 18.59l7.72-7.72 1.47 1.35L5.41 20z\"/>\n",
              "  </svg>\n",
              "      </button>\n",
              "      \n",
              "  <style>\n",
              "    .colab-df-container {\n",
              "      display:flex;\n",
              "      flex-wrap:wrap;\n",
              "      gap: 12px;\n",
              "    }\n",
              "\n",
              "    .colab-df-convert {\n",
              "      background-color: #E8F0FE;\n",
              "      border: none;\n",
              "      border-radius: 50%;\n",
              "      cursor: pointer;\n",
              "      display: none;\n",
              "      fill: #1967D2;\n",
              "      height: 32px;\n",
              "      padding: 0 0 0 0;\n",
              "      width: 32px;\n",
              "    }\n",
              "\n",
              "    .colab-df-convert:hover {\n",
              "      background-color: #E2EBFA;\n",
              "      box-shadow: 0px 1px 2px rgba(60, 64, 67, 0.3), 0px 1px 3px 1px rgba(60, 64, 67, 0.15);\n",
              "      fill: #174EA6;\n",
              "    }\n",
              "\n",
              "    [theme=dark] .colab-df-convert {\n",
              "      background-color: #3B4455;\n",
              "      fill: #D2E3FC;\n",
              "    }\n",
              "\n",
              "    [theme=dark] .colab-df-convert:hover {\n",
              "      background-color: #434B5C;\n",
              "      box-shadow: 0px 1px 3px 1px rgba(0, 0, 0, 0.15);\n",
              "      filter: drop-shadow(0px 1px 2px rgba(0, 0, 0, 0.3));\n",
              "      fill: #FFFFFF;\n",
              "    }\n",
              "  </style>\n",
              "\n",
              "      <script>\n",
              "        const buttonEl =\n",
              "          document.querySelector('#df-27620f9b-570d-45b1-8fde-ff69fdcd8700 button.colab-df-convert');\n",
              "        buttonEl.style.display =\n",
              "          google.colab.kernel.accessAllowed ? 'block' : 'none';\n",
              "\n",
              "        async function convertToInteractive(key) {\n",
              "          const element = document.querySelector('#df-27620f9b-570d-45b1-8fde-ff69fdcd8700');\n",
              "          const dataTable =\n",
              "            await google.colab.kernel.invokeFunction('convertToInteractive',\n",
              "                                                     [key], {});\n",
              "          if (!dataTable) return;\n",
              "\n",
              "          const docLinkHtml = 'Like what you see? Visit the ' +\n",
              "            '<a target=\"_blank\" href=https://colab.research.google.com/notebooks/data_table.ipynb>data table notebook</a>'\n",
              "            + ' to learn more about interactive tables.';\n",
              "          element.innerHTML = '';\n",
              "          dataTable['output_type'] = 'display_data';\n",
              "          await google.colab.output.renderOutput(dataTable, element);\n",
              "          const docLink = document.createElement('div');\n",
              "          docLink.innerHTML = docLinkHtml;\n",
              "          element.appendChild(docLink);\n",
              "        }\n",
              "      </script>\n",
              "    </div>\n",
              "  </div>\n",
              "  "
            ]
          },
          "metadata": {},
          "execution_count": 32
        }
      ],
      "source": [
        "policies_dv2 = pd.merge(policies_dv, vehicles_dummy2, how=\"inner\", on=[\"policy_id\"])\n",
        "policies_dv2.head()"
      ]
    },
    {
      "cell_type": "code",
      "execution_count": null,
      "metadata": {
        "colab": {
          "base_uri": "https://localhost:8080/",
          "height": 317
        },
        "id": "lB3SsTn4epmk",
        "outputId": "8432266c-2dbb-47b9-a060-20b122207a1b"
      },
      "outputs": [
        {
          "output_type": "execute_result",
          "data": {
            "text/plain": [
              "   discount  Home_policy_ind  quoted_amt  credit_score  Cov_package_type  \\\n",
              "0         1                1      5153.0         613.0               2.0   \n",
              "1         0                0      9870.0         576.0               0.0   \n",
              "2         0                0      3090.0         631.0               1.0   \n",
              "3         0                0      2860.0         573.0               1.0   \n",
              "4         0                0     14917.0         602.0               1.0   \n",
              "\n",
              "   CAT_zone     policy_id  number_drivers  num_loaned_veh  num_owned_veh  ...  \\\n",
              "0       2.0  policy_87209               2               1              2  ...   \n",
              "1       4.0  policy_89288               1               1              1  ...   \n",
              "2       2.0  policy_91413               2               1              2  ...   \n",
              "3       3.0  policy_23460               1               2              3  ...   \n",
              "4       4.0  policy_71845               2               0              1  ...   \n",
              "\n",
              "   GMC  HONDA  MAZDA MERCEDES-BENZ  NISSAN  RAM  SATURN  SMART  SUBARU  TOYOTA  \n",
              "0    0      0      0             2       0    0       0      0       0       0  \n",
              "1    0      1      0             0       1    0       0      0       1       1  \n",
              "2    0      0      0             2       0    0       0      0       0       0  \n",
              "3    0      0      0             0       0    0       0      0       0       0  \n",
              "4    0      0      0             1       0    0       0      0       0       0  \n",
              "\n",
              "[5 rows x 66 columns]"
            ],
            "text/html": [
              "\n",
              "  <div id=\"df-11c25bee-6b0e-4a8c-bd01-0c3eb8296908\">\n",
              "    <div class=\"colab-df-container\">\n",
              "      <div>\n",
              "<style scoped>\n",
              "    .dataframe tbody tr th:only-of-type {\n",
              "        vertical-align: middle;\n",
              "    }\n",
              "\n",
              "    .dataframe tbody tr th {\n",
              "        vertical-align: top;\n",
              "    }\n",
              "\n",
              "    .dataframe thead th {\n",
              "        text-align: right;\n",
              "    }\n",
              "</style>\n",
              "<table border=\"1\" class=\"dataframe\">\n",
              "  <thead>\n",
              "    <tr style=\"text-align: right;\">\n",
              "      <th></th>\n",
              "      <th>discount</th>\n",
              "      <th>Home_policy_ind</th>\n",
              "      <th>quoted_amt</th>\n",
              "      <th>credit_score</th>\n",
              "      <th>Cov_package_type</th>\n",
              "      <th>CAT_zone</th>\n",
              "      <th>policy_id</th>\n",
              "      <th>number_drivers</th>\n",
              "      <th>num_loaned_veh</th>\n",
              "      <th>num_owned_veh</th>\n",
              "      <th>...</th>\n",
              "      <th>GMC</th>\n",
              "      <th>HONDA</th>\n",
              "      <th>MAZDA</th>\n",
              "      <th>MERCEDES-BENZ</th>\n",
              "      <th>NISSAN</th>\n",
              "      <th>RAM</th>\n",
              "      <th>SATURN</th>\n",
              "      <th>SMART</th>\n",
              "      <th>SUBARU</th>\n",
              "      <th>TOYOTA</th>\n",
              "    </tr>\n",
              "  </thead>\n",
              "  <tbody>\n",
              "    <tr>\n",
              "      <th>0</th>\n",
              "      <td>1</td>\n",
              "      <td>1</td>\n",
              "      <td>5153.0</td>\n",
              "      <td>613.0</td>\n",
              "      <td>2.0</td>\n",
              "      <td>2.0</td>\n",
              "      <td>policy_87209</td>\n",
              "      <td>2</td>\n",
              "      <td>1</td>\n",
              "      <td>2</td>\n",
              "      <td>...</td>\n",
              "      <td>0</td>\n",
              "      <td>0</td>\n",
              "      <td>0</td>\n",
              "      <td>2</td>\n",
              "      <td>0</td>\n",
              "      <td>0</td>\n",
              "      <td>0</td>\n",
              "      <td>0</td>\n",
              "      <td>0</td>\n",
              "      <td>0</td>\n",
              "    </tr>\n",
              "    <tr>\n",
              "      <th>1</th>\n",
              "      <td>0</td>\n",
              "      <td>0</td>\n",
              "      <td>9870.0</td>\n",
              "      <td>576.0</td>\n",
              "      <td>0.0</td>\n",
              "      <td>4.0</td>\n",
              "      <td>policy_89288</td>\n",
              "      <td>1</td>\n",
              "      <td>1</td>\n",
              "      <td>1</td>\n",
              "      <td>...</td>\n",
              "      <td>0</td>\n",
              "      <td>1</td>\n",
              "      <td>0</td>\n",
              "      <td>0</td>\n",
              "      <td>1</td>\n",
              "      <td>0</td>\n",
              "      <td>0</td>\n",
              "      <td>0</td>\n",
              "      <td>1</td>\n",
              "      <td>1</td>\n",
              "    </tr>\n",
              "    <tr>\n",
              "      <th>2</th>\n",
              "      <td>0</td>\n",
              "      <td>0</td>\n",
              "      <td>3090.0</td>\n",
              "      <td>631.0</td>\n",
              "      <td>1.0</td>\n",
              "      <td>2.0</td>\n",
              "      <td>policy_91413</td>\n",
              "      <td>2</td>\n",
              "      <td>1</td>\n",
              "      <td>2</td>\n",
              "      <td>...</td>\n",
              "      <td>0</td>\n",
              "      <td>0</td>\n",
              "      <td>0</td>\n",
              "      <td>2</td>\n",
              "      <td>0</td>\n",
              "      <td>0</td>\n",
              "      <td>0</td>\n",
              "      <td>0</td>\n",
              "      <td>0</td>\n",
              "      <td>0</td>\n",
              "    </tr>\n",
              "    <tr>\n",
              "      <th>3</th>\n",
              "      <td>0</td>\n",
              "      <td>0</td>\n",
              "      <td>2860.0</td>\n",
              "      <td>573.0</td>\n",
              "      <td>1.0</td>\n",
              "      <td>3.0</td>\n",
              "      <td>policy_23460</td>\n",
              "      <td>1</td>\n",
              "      <td>2</td>\n",
              "      <td>3</td>\n",
              "      <td>...</td>\n",
              "      <td>0</td>\n",
              "      <td>0</td>\n",
              "      <td>0</td>\n",
              "      <td>0</td>\n",
              "      <td>0</td>\n",
              "      <td>0</td>\n",
              "      <td>0</td>\n",
              "      <td>0</td>\n",
              "      <td>0</td>\n",
              "      <td>0</td>\n",
              "    </tr>\n",
              "    <tr>\n",
              "      <th>4</th>\n",
              "      <td>0</td>\n",
              "      <td>0</td>\n",
              "      <td>14917.0</td>\n",
              "      <td>602.0</td>\n",
              "      <td>1.0</td>\n",
              "      <td>4.0</td>\n",
              "      <td>policy_71845</td>\n",
              "      <td>2</td>\n",
              "      <td>0</td>\n",
              "      <td>1</td>\n",
              "      <td>...</td>\n",
              "      <td>0</td>\n",
              "      <td>0</td>\n",
              "      <td>0</td>\n",
              "      <td>1</td>\n",
              "      <td>0</td>\n",
              "      <td>0</td>\n",
              "      <td>0</td>\n",
              "      <td>0</td>\n",
              "      <td>0</td>\n",
              "      <td>0</td>\n",
              "    </tr>\n",
              "  </tbody>\n",
              "</table>\n",
              "<p>5 rows × 66 columns</p>\n",
              "</div>\n",
              "      <button class=\"colab-df-convert\" onclick=\"convertToInteractive('df-11c25bee-6b0e-4a8c-bd01-0c3eb8296908')\"\n",
              "              title=\"Convert this dataframe to an interactive table.\"\n",
              "              style=\"display:none;\">\n",
              "        \n",
              "  <svg xmlns=\"http://www.w3.org/2000/svg\" height=\"24px\"viewBox=\"0 0 24 24\"\n",
              "       width=\"24px\">\n",
              "    <path d=\"M0 0h24v24H0V0z\" fill=\"none\"/>\n",
              "    <path d=\"M18.56 5.44l.94 2.06.94-2.06 2.06-.94-2.06-.94-.94-2.06-.94 2.06-2.06.94zm-11 1L8.5 8.5l.94-2.06 2.06-.94-2.06-.94L8.5 2.5l-.94 2.06-2.06.94zm10 10l.94 2.06.94-2.06 2.06-.94-2.06-.94-.94-2.06-.94 2.06-2.06.94z\"/><path d=\"M17.41 7.96l-1.37-1.37c-.4-.4-.92-.59-1.43-.59-.52 0-1.04.2-1.43.59L10.3 9.45l-7.72 7.72c-.78.78-.78 2.05 0 2.83L4 21.41c.39.39.9.59 1.41.59.51 0 1.02-.2 1.41-.59l7.78-7.78 2.81-2.81c.8-.78.8-2.07 0-2.86zM5.41 20L4 18.59l7.72-7.72 1.47 1.35L5.41 20z\"/>\n",
              "  </svg>\n",
              "      </button>\n",
              "      \n",
              "  <style>\n",
              "    .colab-df-container {\n",
              "      display:flex;\n",
              "      flex-wrap:wrap;\n",
              "      gap: 12px;\n",
              "    }\n",
              "\n",
              "    .colab-df-convert {\n",
              "      background-color: #E8F0FE;\n",
              "      border: none;\n",
              "      border-radius: 50%;\n",
              "      cursor: pointer;\n",
              "      display: none;\n",
              "      fill: #1967D2;\n",
              "      height: 32px;\n",
              "      padding: 0 0 0 0;\n",
              "      width: 32px;\n",
              "    }\n",
              "\n",
              "    .colab-df-convert:hover {\n",
              "      background-color: #E2EBFA;\n",
              "      box-shadow: 0px 1px 2px rgba(60, 64, 67, 0.3), 0px 1px 3px 1px rgba(60, 64, 67, 0.15);\n",
              "      fill: #174EA6;\n",
              "    }\n",
              "\n",
              "    [theme=dark] .colab-df-convert {\n",
              "      background-color: #3B4455;\n",
              "      fill: #D2E3FC;\n",
              "    }\n",
              "\n",
              "    [theme=dark] .colab-df-convert:hover {\n",
              "      background-color: #434B5C;\n",
              "      box-shadow: 0px 1px 3px 1px rgba(0, 0, 0, 0.15);\n",
              "      filter: drop-shadow(0px 1px 2px rgba(0, 0, 0, 0.3));\n",
              "      fill: #FFFFFF;\n",
              "    }\n",
              "  </style>\n",
              "\n",
              "      <script>\n",
              "        const buttonEl =\n",
              "          document.querySelector('#df-11c25bee-6b0e-4a8c-bd01-0c3eb8296908 button.colab-df-convert');\n",
              "        buttonEl.style.display =\n",
              "          google.colab.kernel.accessAllowed ? 'block' : 'none';\n",
              "\n",
              "        async function convertToInteractive(key) {\n",
              "          const element = document.querySelector('#df-11c25bee-6b0e-4a8c-bd01-0c3eb8296908');\n",
              "          const dataTable =\n",
              "            await google.colab.kernel.invokeFunction('convertToInteractive',\n",
              "                                                     [key], {});\n",
              "          if (!dataTable) return;\n",
              "\n",
              "          const docLinkHtml = 'Like what you see? Visit the ' +\n",
              "            '<a target=\"_blank\" href=https://colab.research.google.com/notebooks/data_table.ipynb>data table notebook</a>'\n",
              "            + ' to learn more about interactive tables.';\n",
              "          element.innerHTML = '';\n",
              "          dataTable['output_type'] = 'display_data';\n",
              "          await google.colab.output.renderOutput(dataTable, element);\n",
              "          const docLink = document.createElement('div');\n",
              "          docLink.innerHTML = docLinkHtml;\n",
              "          element.appendChild(docLink);\n",
              "        }\n",
              "      </script>\n",
              "    </div>\n",
              "  </div>\n",
              "  "
            ]
          },
          "metadata": {},
          "execution_count": 33
        }
      ],
      "source": [
        "policies_all = pd.merge(policies_dv2, vehicles_dummy1, how=\"inner\", on=[\"policy_id\"])\n",
        "policies_all.head()"
      ]
    },
    {
      "cell_type": "code",
      "execution_count": null,
      "metadata": {
        "colab": {
          "base_uri": "https://localhost:8080/"
        },
        "id": "9J3v4vhZepml",
        "outputId": "6e2f2f50-6f7d-4126-ac91-abd93ae0bad0"
      },
      "outputs": [
        {
          "output_type": "stream",
          "name": "stdout",
          "text": [
            "<class 'pandas.core.frame.DataFrame'>\n",
            "Int64Index: 49162 entries, 0 to 49161\n",
            "Data columns (total 66 columns):\n",
            " #   Column                       Non-Null Count  Dtype  \n",
            "---  ------                       --------------  -----  \n",
            " 0   discount                     49162 non-null  int64  \n",
            " 1   Home_policy_ind              49162 non-null  int64  \n",
            " 2   quoted_amt                   49162 non-null  float64\n",
            " 3   credit_score                 49162 non-null  float64\n",
            " 4   Cov_package_type             49162 non-null  float64\n",
            " 5   CAT_zone                     49162 non-null  float64\n",
            " 6   policy_id                    49162 non-null  object \n",
            " 7   number_drivers               49162 non-null  int64  \n",
            " 8   num_loaned_veh               49162 non-null  int64  \n",
            " 9   num_owned_veh                49162 non-null  int64  \n",
            " 10  num_leased_veh               49162 non-null  int64  \n",
            " 11  total_number_veh             49162 non-null  int64  \n",
            " 12  convert_ind                  36871 non-null  float64\n",
            " 13  split                        49162 non-null  object \n",
            " 14  zip_bin                      49162 non-null  float64\n",
            " 15  county_name_bin              49162 non-null  int64  \n",
            " 16  Prior_carrier_grp_Carrier_2  49162 non-null  uint8  \n",
            " 17  Prior_carrier_grp_Carrier_3  49162 non-null  uint8  \n",
            " 18  Prior_carrier_grp_Carrier_4  49162 non-null  uint8  \n",
            " 19  Prior_carrier_grp_Carrier_5  49162 non-null  uint8  \n",
            " 20  Prior_carrier_grp_Carrier_6  49162 non-null  uint8  \n",
            " 21  Prior_carrier_grp_Carrier_7  49162 non-null  uint8  \n",
            " 22  Prior_carrier_grp_Carrier_8  49162 non-null  uint8  \n",
            " 23  Prior_carrier_grp_Other      49162 non-null  uint8  \n",
            " 24  state_id_CT                  49162 non-null  uint8  \n",
            " 25  state_id_FL                  49162 non-null  uint8  \n",
            " 26  state_id_GA                  49162 non-null  uint8  \n",
            " 27  state_id_MN                  49162 non-null  uint8  \n",
            " 28  state_id_NJ                  49162 non-null  uint8  \n",
            " 29  state_id_NY                  49162 non-null  uint8  \n",
            " 30  state_id_WI                  49162 non-null  uint8  \n",
            " 31  age_ppl                      49162 non-null  float64\n",
            " 32  safty_rating                 49162 non-null  float64\n",
            " 33  high_education_ind           49162 non-null  float64\n",
            " 34  dependent                    49162 non-null  int64  \n",
            " 35  own                          49162 non-null  int64  \n",
            " 36  rent                         49162 non-null  int64  \n",
            " 37  F                            49162 non-null  int64  \n",
            " 38  M                            49162 non-null  int64  \n",
            " 39  age_car                      49162 non-null  float64\n",
            " 40  black                        49162 non-null  int64  \n",
            " 41  blue                         49162 non-null  int64  \n",
            " 42  gray                         49162 non-null  int64  \n",
            " 43  other                        49162 non-null  int64  \n",
            " 44  red                          49162 non-null  int64  \n",
            " 45  silver                       49162 non-null  int64  \n",
            " 46  white                        49162 non-null  int64  \n",
            " 47  ACURA                        49162 non-null  int64  \n",
            " 48  AUDI                         49162 non-null  int64  \n",
            " 49  BMW                          49162 non-null  int64  \n",
            " 50  BUICK                        49162 non-null  int64  \n",
            " 51  CADILLAC                     49162 non-null  int64  \n",
            " 52  CHEVROLET                    49162 non-null  int64  \n",
            " 53  CHRYSLER                     49162 non-null  int64  \n",
            " 54  DODGE                        49162 non-null  int64  \n",
            " 55  FORD                         49162 non-null  int64  \n",
            " 56  GMC                          49162 non-null  int64  \n",
            " 57  HONDA                        49162 non-null  int64  \n",
            " 58  MAZDA                        49162 non-null  int64  \n",
            " 59  MERCEDES-BENZ                49162 non-null  int64  \n",
            " 60  NISSAN                       49162 non-null  int64  \n",
            " 61  RAM                          49162 non-null  int64  \n",
            " 62  SATURN                       49162 non-null  int64  \n",
            " 63  SMART                        49162 non-null  int64  \n",
            " 64  SUBARU                       49162 non-null  int64  \n",
            " 65  TOYOTA                       49162 non-null  int64  \n",
            "dtypes: float64(10), int64(39), object(2), uint8(15)\n",
            "memory usage: 20.2+ MB\n"
          ]
        }
      ],
      "source": [
        "policies_all.info()"
      ]
    },
    {
      "cell_type": "code",
      "execution_count": null,
      "metadata": {
        "id": "QoiNnxVwepml"
      },
      "outputs": [],
      "source": [
        "policies_all_with_id = policies_all\n",
        "policies_all = policies_all_with_id.drop(columns=[\"policy_id\"])"
      ]
    },
    {
      "cell_type": "code",
      "execution_count": null,
      "metadata": {
        "id": "RQzg9Oquepml"
      },
      "outputs": [],
      "source": [
        "train_set = policies_all[policies_all[\"split\"] == \"Train\"]\n",
        "train_set = train_set.drop(columns=[\"split\"])"
      ]
    },
    {
      "cell_type": "code",
      "execution_count": null,
      "metadata": {
        "colab": {
          "base_uri": "https://localhost:8080/"
        },
        "id": "GxM8qLIVepml",
        "outputId": "bc8ed893-c2c3-48a3-9917-080d946eded0"
      },
      "outputs": [
        {
          "output_type": "execute_result",
          "data": {
            "text/plain": [
              "(36871, 64)"
            ]
          },
          "metadata": {},
          "execution_count": 38
        }
      ],
      "source": [
        "train_set.shape"
      ]
    },
    {
      "cell_type": "code",
      "execution_count": null,
      "metadata": {
        "id": "764qUUimepmm"
      },
      "outputs": [],
      "source": [
        "train_set.to_csv(\"train_set_with_dummy.csv\", index=False)"
      ]
    },
    {
      "cell_type": "code",
      "execution_count": null,
      "metadata": {
        "id": "dYkvCd8Fepmm"
      },
      "outputs": [],
      "source": [
        "test_set = policies_all_with_id[policies_all[\"split\"] == \"Test\"]\n",
        "test_set = test_set.drop(columns=[\"split\"])"
      ]
    },
    {
      "cell_type": "code",
      "source": [
        "test_set.shape"
      ],
      "metadata": {
        "colab": {
          "base_uri": "https://localhost:8080/"
        },
        "id": "ZFXFI_h2Vg77",
        "outputId": "94345350-0f57-4f39-f6ac-06ecd953dbdb"
      },
      "execution_count": null,
      "outputs": [
        {
          "output_type": "execute_result",
          "data": {
            "text/plain": [
              "(12291, 65)"
            ]
          },
          "metadata": {},
          "execution_count": 41
        }
      ]
    },
    {
      "cell_type": "code",
      "execution_count": null,
      "metadata": {
        "id": "s17a6QdXepmm"
      },
      "outputs": [],
      "source": [
        "test_set.to_csv(\"test_set_with_dummy.csv\", index=False)"
      ]
    },
    {
      "cell_type": "markdown",
      "source": [
        "# Modeling"
      ],
      "metadata": {
        "id": "pMja9H2dvlRH"
      }
    },
    {
      "cell_type": "markdown",
      "source": [
        "## Undersampling"
      ],
      "metadata": {
        "id": "8Ihfgx_rRnH-"
      }
    },
    {
      "cell_type": "code",
      "source": [
        "# Undersampling\n",
        "\n",
        "from imblearn.under_sampling import RandomUnderSampler\n",
        "from collections import Counter\n",
        "\n",
        "ros = RandomUnderSampler(random_state=42) # resample all classes but the minority class\n",
        "X_undersampled, y_undersampled = ros.fit_resample(X_train, y_train)\n",
        "\n",
        "print('Resampled dataset shape %s' % Counter(y_undersampled))"
      ],
      "metadata": {
        "colab": {
          "base_uri": "https://localhost:8080/"
        },
        "id": "BLnTX6miRvBG",
        "outputId": "bece8762-4158-4f22-ca83-885432e91058"
      },
      "execution_count": null,
      "outputs": [
        {
          "output_type": "stream",
          "name": "stdout",
          "text": [
            "Resampled dataset shape Counter({0.0: 3127, 1.0: 3127})\n"
          ]
        }
      ]
    },
    {
      "cell_type": "markdown",
      "source": [
        "## XGBoost Modeling and Submission"
      ],
      "metadata": {
        "id": "HrxeDG7mVJqU"
      }
    },
    {
      "cell_type": "code",
      "source": [
        "from sklearn.model_selection import GridSearchCV\n",
        "param_test1 = {\n",
        " 'max_depth':range(1, 4),\n",
        " 'min_child_weight':range(1,6,2),\n",
        " 'n_estimators':[50, 200, 500,1000],\n",
        " 'gamma':[i/20.0 for i in range(5)],\n",
        " 'alpha':[0, 10e1, 10e3, 10e5]\n",
        "}\n",
        "gsearch1 = GridSearchCV(estimator = XGBClassifier( learning_rate=0.05,\n",
        "                        subsample=0.8, colsample_bytree=0.8, reg_alpha=0.005), \n",
        " param_grid = param_test1, scoring='roc_auc',n_jobs=4, cv=5)\n",
        "\n",
        "\n",
        "gsearch1.fit(X_undersampled, y_undersampled)\n",
        "gsearch1.best_params_, gsearch1.best_score_"
      ],
      "metadata": {
        "colab": {
          "base_uri": "https://localhost:8080/"
        },
        "id": "PZTOS5H9SYb4",
        "outputId": "dc9d9d48-4f59-42d5-aea6-6a374ad1f926"
      },
      "execution_count": null,
      "outputs": [
        {
          "output_type": "execute_result",
          "data": {
            "text/plain": [
              "({'alpha': 0,\n",
              "  'gamma': 0.0,\n",
              "  'max_depth': 1,\n",
              "  'min_child_weight': 5,\n",
              "  'n_estimators': 500},\n",
              " 0.6728920364984025)"
            ]
          },
          "metadata": {},
          "execution_count": 84
        }
      ]
    },
    {
      "cell_type": "code",
      "source": [
        "## Summer - XGBoost\n",
        "from xgboost import XGBClassifier\n",
        "\n",
        "xgboost = XGBClassifier(max_depth = 1, learning_rate=0.05, n_estimators=500,  min_child_weight=5, gamma =0,\n",
        "                        subsample=0.8, colsample_bytree=0.8, reg_alpha=0.005)\n",
        "\n",
        "xgboost.fit(X_undersampled, y_undersampled)\n",
        "y_pred = xgboost.predict(X_test)\n",
        "preds_proba = xgboost.predict_proba(X_test)\n",
        "print(classification_report(y_test, y_pred, target_names=['not_canv', 'canv'])) # builds a text report showing the main classification metrics (precision, recall, f1-score)\n",
        "print(f\"ROC out-of-sample Score: {roc_auc_score(y_test, xgboost.predict_proba(X_test)[:, 1])}\")\n"
      ],
      "metadata": {
        "colab": {
          "base_uri": "https://localhost:8080/"
        },
        "id": "y8Rq4NS4zaOO",
        "outputId": "6cef2a9e-f882-4604-bc13-91dbec8896fe"
      },
      "execution_count": null,
      "outputs": [
        {
          "output_type": "stream",
          "name": "stdout",
          "text": [
            "              precision    recall  f1-score   support\n",
            "\n",
            "    not_canv       0.93      0.60      0.73      8225\n",
            "        canv       0.16      0.63      0.26       993\n",
            "\n",
            "    accuracy                           0.61      9218\n",
            "   macro avg       0.55      0.62      0.49      9218\n",
            "weighted avg       0.85      0.61      0.68      9218\n",
            "\n",
            "ROC out-of-sample Score: 0.664163735816368\n"
          ]
        }
      ]
    },
    {
      "cell_type": "code",
      "source": [
        "probs =xgboost.predict_proba(X_test)[:,1]\n",
        "policy_ids = test_set_final['policy_id']\n",
        "# Create submission file and save it in the shared gdrive folder\n",
        "submission = pd.DataFrame({'policy_id':policy_ids, 'TARGET':probs})\n",
        "submission.set_index('policy_id')\n",
        "print(submission.head(5))\n",
        "submission.to_csv(\"/content/drive/MyDrive/Travelers/summer_submission.csv\",header=True, index=False)"
      ],
      "metadata": {
        "colab": {
          "base_uri": "https://localhost:8080/"
        },
        "id": "GajPnDLFli6m",
        "outputId": "66ef4b28-974b-4e68-da07-c7eb29f72c65"
      },
      "execution_count": null,
      "outputs": [
        {
          "output_type": "stream",
          "name": "stdout",
          "text": [
            "      policy_id    TARGET\n",
            "0  policy_89288  0.082569\n",
            "1  policy_23460  0.109145\n",
            "2  policy_43809  0.049254\n",
            "3   policy_4590  0.156312\n",
            "4  policy_65525  0.099398\n"
          ]
        }
      ]
    },
    {
      "cell_type": "markdown",
      "source": [
        "## Feature Importance using PCA and xgboost.plot_importance"
      ],
      "metadata": {
        "id": "MtgrK-q9STDE"
      }
    },
    {
      "cell_type": "code",
      "source": [
        "X_test"
      ],
      "metadata": {
        "colab": {
          "base_uri": "https://localhost:8080/"
        },
        "id": "OLWS3lu95N1a",
        "outputId": "0b99e76e-23e0-4c82-f80b-618d4d306504"
      },
      "execution_count": null,
      "outputs": [
        {
          "output_type": "execute_result",
          "data": {
            "text/plain": [
              "array([[-4.85171918e+03,  1.11002146e+02,  1.53641996e+01, ...,\n",
              "        -3.78375824e-01, -5.32830165e-01,  7.49088721e-03],\n",
              "       [-3.90949848e+03,  7.89314688e+01,  7.36154242e+00, ...,\n",
              "        -4.37762745e-02, -1.70353248e-01,  5.60094024e-01],\n",
              "       [-9.51896560e+02, -7.45153609e+00,  1.94447092e+01, ...,\n",
              "         4.12861057e-01,  5.43300162e-01, -9.57924005e-02],\n",
              "       ...,\n",
              "       [-2.47196619e+03, -1.05890410e+00, -1.46346370e+01, ...,\n",
              "         4.88278769e-01,  6.99720618e-01, -3.05333324e-01],\n",
              "       [-1.82779009e+03, -2.70274944e+01, -1.37243571e+01, ...,\n",
              "         4.24063470e-01,  5.68320921e-01, -1.26446837e-01],\n",
              "       [-1.36885642e+03, -1.50827111e+01,  8.15784506e+00, ...,\n",
              "         1.30431829e+00, -4.94150806e-01,  4.17587288e-01]])"
            ]
          },
          "metadata": {},
          "execution_count": 14
        }
      ]
    },
    {
      "cell_type": "code",
      "source": [
        "from sklearn.decomposition import PCA\n",
        "from sklearn.preprocessing import MinMaxScaler, StandardScaler\n",
        "\n",
        "def my_pca(X ,n_comp):\n",
        "    # Instantiate the pca model that would keep the 97.5% of variation in the data (15 variables)\n",
        "    pca = PCA(n_components=n_comp, svd_solver = 'full', random_state=42)\n",
        "\n",
        "    # scale predictor variables\n",
        "    pca = pca.fit(X)\n",
        "    X_reduced = pca.transform(X)\n",
        "    test_pca = pca\n",
        "\n",
        "    return X_reduced, test_pca\n",
        "\n",
        "X_train, X_test, y_train, y_test = train_test_split(X, y, random_state=42, test_size=0.25)\n",
        "\n",
        "# Perform the Principla Component Analysis\n",
        "X_train, test_pca = my_pca(X_train, 20)\n",
        "X_test = test_pca.transform(X_test)"
      ],
      "metadata": {
        "id": "mXA-4OpBv5of"
      },
      "execution_count": null,
      "outputs": []
    },
    {
      "cell_type": "code",
      "source": [
        "features_importances = pd.DataFrame({'feature':X_train.columns, \"importance\":xgboost.feature_importances_}).sort_values(by='importance', ascending=False)\n",
        "important_features = features_importances[features_importances.importance>0]\n",
        "important_features.head(50)"
      ],
      "metadata": {
        "colab": {
          "base_uri": "https://localhost:8080/",
          "height": 770
        },
        "id": "4JQA05Vnb4gZ",
        "outputId": "f0c3fbb2-691e-44fc-fd9d-03854067fd34"
      },
      "execution_count": null,
      "outputs": [
        {
          "output_type": "execute_result",
          "data": {
            "text/plain": [
              "                        feature  importance\n",
              "5                      CAT_zone    0.104910\n",
              "22                    dependent    0.103181\n",
              "2                    quoted_amt    0.086157\n",
              "21           high_education_ind    0.066568\n",
              "6                number_drivers    0.064407\n",
              "19                      age_ppl    0.059342\n",
              "0                      discount    0.050454\n",
              "3                  credit_score    0.043053\n",
              "16  Prior_carrier_grp_Carrier_7    0.037907\n",
              "4              Cov_package_type    0.036582\n",
              "27                      age_car    0.032648\n",
              "17  Prior_carrier_grp_Carrier_8    0.030928\n",
              "47                MERCEDES-BENZ    0.030454\n",
              "11  Prior_carrier_grp_Carrier_2    0.029711\n",
              "33                       silver    0.029540\n",
              "43                         FORD    0.027789\n",
              "40                    CHEVROLET    0.027476\n",
              "14  Prior_carrier_grp_Carrier_5    0.026519\n",
              "20                 safty_rating    0.026258\n",
              "45                        HONDA    0.024120\n",
              "12  Prior_carrier_grp_Carrier_3    0.023633\n",
              "10             total_number_veh    0.020496\n",
              "29                         blue    0.017867"
            ],
            "text/html": [
              "\n",
              "  <div id=\"df-d7d69c4c-4b08-4265-bcf3-7f51d37f7099\">\n",
              "    <div class=\"colab-df-container\">\n",
              "      <div>\n",
              "<style scoped>\n",
              "    .dataframe tbody tr th:only-of-type {\n",
              "        vertical-align: middle;\n",
              "    }\n",
              "\n",
              "    .dataframe tbody tr th {\n",
              "        vertical-align: top;\n",
              "    }\n",
              "\n",
              "    .dataframe thead th {\n",
              "        text-align: right;\n",
              "    }\n",
              "</style>\n",
              "<table border=\"1\" class=\"dataframe\">\n",
              "  <thead>\n",
              "    <tr style=\"text-align: right;\">\n",
              "      <th></th>\n",
              "      <th>feature</th>\n",
              "      <th>importance</th>\n",
              "    </tr>\n",
              "  </thead>\n",
              "  <tbody>\n",
              "    <tr>\n",
              "      <th>5</th>\n",
              "      <td>CAT_zone</td>\n",
              "      <td>0.104910</td>\n",
              "    </tr>\n",
              "    <tr>\n",
              "      <th>22</th>\n",
              "      <td>dependent</td>\n",
              "      <td>0.103181</td>\n",
              "    </tr>\n",
              "    <tr>\n",
              "      <th>2</th>\n",
              "      <td>quoted_amt</td>\n",
              "      <td>0.086157</td>\n",
              "    </tr>\n",
              "    <tr>\n",
              "      <th>21</th>\n",
              "      <td>high_education_ind</td>\n",
              "      <td>0.066568</td>\n",
              "    </tr>\n",
              "    <tr>\n",
              "      <th>6</th>\n",
              "      <td>number_drivers</td>\n",
              "      <td>0.064407</td>\n",
              "    </tr>\n",
              "    <tr>\n",
              "      <th>19</th>\n",
              "      <td>age_ppl</td>\n",
              "      <td>0.059342</td>\n",
              "    </tr>\n",
              "    <tr>\n",
              "      <th>0</th>\n",
              "      <td>discount</td>\n",
              "      <td>0.050454</td>\n",
              "    </tr>\n",
              "    <tr>\n",
              "      <th>3</th>\n",
              "      <td>credit_score</td>\n",
              "      <td>0.043053</td>\n",
              "    </tr>\n",
              "    <tr>\n",
              "      <th>16</th>\n",
              "      <td>Prior_carrier_grp_Carrier_7</td>\n",
              "      <td>0.037907</td>\n",
              "    </tr>\n",
              "    <tr>\n",
              "      <th>4</th>\n",
              "      <td>Cov_package_type</td>\n",
              "      <td>0.036582</td>\n",
              "    </tr>\n",
              "    <tr>\n",
              "      <th>27</th>\n",
              "      <td>age_car</td>\n",
              "      <td>0.032648</td>\n",
              "    </tr>\n",
              "    <tr>\n",
              "      <th>17</th>\n",
              "      <td>Prior_carrier_grp_Carrier_8</td>\n",
              "      <td>0.030928</td>\n",
              "    </tr>\n",
              "    <tr>\n",
              "      <th>47</th>\n",
              "      <td>MERCEDES-BENZ</td>\n",
              "      <td>0.030454</td>\n",
              "    </tr>\n",
              "    <tr>\n",
              "      <th>11</th>\n",
              "      <td>Prior_carrier_grp_Carrier_2</td>\n",
              "      <td>0.029711</td>\n",
              "    </tr>\n",
              "    <tr>\n",
              "      <th>33</th>\n",
              "      <td>silver</td>\n",
              "      <td>0.029540</td>\n",
              "    </tr>\n",
              "    <tr>\n",
              "      <th>43</th>\n",
              "      <td>FORD</td>\n",
              "      <td>0.027789</td>\n",
              "    </tr>\n",
              "    <tr>\n",
              "      <th>40</th>\n",
              "      <td>CHEVROLET</td>\n",
              "      <td>0.027476</td>\n",
              "    </tr>\n",
              "    <tr>\n",
              "      <th>14</th>\n",
              "      <td>Prior_carrier_grp_Carrier_5</td>\n",
              "      <td>0.026519</td>\n",
              "    </tr>\n",
              "    <tr>\n",
              "      <th>20</th>\n",
              "      <td>safty_rating</td>\n",
              "      <td>0.026258</td>\n",
              "    </tr>\n",
              "    <tr>\n",
              "      <th>45</th>\n",
              "      <td>HONDA</td>\n",
              "      <td>0.024120</td>\n",
              "    </tr>\n",
              "    <tr>\n",
              "      <th>12</th>\n",
              "      <td>Prior_carrier_grp_Carrier_3</td>\n",
              "      <td>0.023633</td>\n",
              "    </tr>\n",
              "    <tr>\n",
              "      <th>10</th>\n",
              "      <td>total_number_veh</td>\n",
              "      <td>0.020496</td>\n",
              "    </tr>\n",
              "    <tr>\n",
              "      <th>29</th>\n",
              "      <td>blue</td>\n",
              "      <td>0.017867</td>\n",
              "    </tr>\n",
              "  </tbody>\n",
              "</table>\n",
              "</div>\n",
              "      <button class=\"colab-df-convert\" onclick=\"convertToInteractive('df-d7d69c4c-4b08-4265-bcf3-7f51d37f7099')\"\n",
              "              title=\"Convert this dataframe to an interactive table.\"\n",
              "              style=\"display:none;\">\n",
              "        \n",
              "  <svg xmlns=\"http://www.w3.org/2000/svg\" height=\"24px\"viewBox=\"0 0 24 24\"\n",
              "       width=\"24px\">\n",
              "    <path d=\"M0 0h24v24H0V0z\" fill=\"none\"/>\n",
              "    <path d=\"M18.56 5.44l.94 2.06.94-2.06 2.06-.94-2.06-.94-.94-2.06-.94 2.06-2.06.94zm-11 1L8.5 8.5l.94-2.06 2.06-.94-2.06-.94L8.5 2.5l-.94 2.06-2.06.94zm10 10l.94 2.06.94-2.06 2.06-.94-2.06-.94-.94-2.06-.94 2.06-2.06.94z\"/><path d=\"M17.41 7.96l-1.37-1.37c-.4-.4-.92-.59-1.43-.59-.52 0-1.04.2-1.43.59L10.3 9.45l-7.72 7.72c-.78.78-.78 2.05 0 2.83L4 21.41c.39.39.9.59 1.41.59.51 0 1.02-.2 1.41-.59l7.78-7.78 2.81-2.81c.8-.78.8-2.07 0-2.86zM5.41 20L4 18.59l7.72-7.72 1.47 1.35L5.41 20z\"/>\n",
              "  </svg>\n",
              "      </button>\n",
              "      \n",
              "  <style>\n",
              "    .colab-df-container {\n",
              "      display:flex;\n",
              "      flex-wrap:wrap;\n",
              "      gap: 12px;\n",
              "    }\n",
              "\n",
              "    .colab-df-convert {\n",
              "      background-color: #E8F0FE;\n",
              "      border: none;\n",
              "      border-radius: 50%;\n",
              "      cursor: pointer;\n",
              "      display: none;\n",
              "      fill: #1967D2;\n",
              "      height: 32px;\n",
              "      padding: 0 0 0 0;\n",
              "      width: 32px;\n",
              "    }\n",
              "\n",
              "    .colab-df-convert:hover {\n",
              "      background-color: #E2EBFA;\n",
              "      box-shadow: 0px 1px 2px rgba(60, 64, 67, 0.3), 0px 1px 3px 1px rgba(60, 64, 67, 0.15);\n",
              "      fill: #174EA6;\n",
              "    }\n",
              "\n",
              "    [theme=dark] .colab-df-convert {\n",
              "      background-color: #3B4455;\n",
              "      fill: #D2E3FC;\n",
              "    }\n",
              "\n",
              "    [theme=dark] .colab-df-convert:hover {\n",
              "      background-color: #434B5C;\n",
              "      box-shadow: 0px 1px 3px 1px rgba(0, 0, 0, 0.15);\n",
              "      filter: drop-shadow(0px 1px 2px rgba(0, 0, 0, 0.3));\n",
              "      fill: #FFFFFF;\n",
              "    }\n",
              "  </style>\n",
              "\n",
              "      <script>\n",
              "        const buttonEl =\n",
              "          document.querySelector('#df-d7d69c4c-4b08-4265-bcf3-7f51d37f7099 button.colab-df-convert');\n",
              "        buttonEl.style.display =\n",
              "          google.colab.kernel.accessAllowed ? 'block' : 'none';\n",
              "\n",
              "        async function convertToInteractive(key) {\n",
              "          const element = document.querySelector('#df-d7d69c4c-4b08-4265-bcf3-7f51d37f7099');\n",
              "          const dataTable =\n",
              "            await google.colab.kernel.invokeFunction('convertToInteractive',\n",
              "                                                     [key], {});\n",
              "          if (!dataTable) return;\n",
              "\n",
              "          const docLinkHtml = 'Like what you see? Visit the ' +\n",
              "            '<a target=\"_blank\" href=https://colab.research.google.com/notebooks/data_table.ipynb>data table notebook</a>'\n",
              "            + ' to learn more about interactive tables.';\n",
              "          element.innerHTML = '';\n",
              "          dataTable['output_type'] = 'display_data';\n",
              "          await google.colab.output.renderOutput(dataTable, element);\n",
              "          const docLink = document.createElement('div');\n",
              "          docLink.innerHTML = docLinkHtml;\n",
              "          element.appendChild(docLink);\n",
              "        }\n",
              "      </script>\n",
              "    </div>\n",
              "  </div>\n",
              "  "
            ]
          },
          "metadata": {},
          "execution_count": 34
        }
      ]
    },
    {
      "cell_type": "code",
      "source": [
        "import matplotlib.pyplot as plt\n",
        "plt.bar(important_features['feature'], important_features['importance'])\n",
        "plt.xticks(rotation='vertical', fontsize=10)"
      ],
      "metadata": {
        "colab": {
          "base_uri": "https://localhost:8080/",
          "height": 805
        },
        "id": "NWeRLiOcgIS9",
        "outputId": "783c85ed-78cc-45c4-83f7-d4514dbff51b"
      },
      "execution_count": null,
      "outputs": [
        {
          "output_type": "execute_result",
          "data": {
            "text/plain": [
              "([0,\n",
              "  1,\n",
              "  2,\n",
              "  3,\n",
              "  4,\n",
              "  5,\n",
              "  6,\n",
              "  7,\n",
              "  8,\n",
              "  9,\n",
              "  10,\n",
              "  11,\n",
              "  12,\n",
              "  13,\n",
              "  14,\n",
              "  15,\n",
              "  16,\n",
              "  17,\n",
              "  18,\n",
              "  19,\n",
              "  20,\n",
              "  21,\n",
              "  22],\n",
              " <a list of 23 Text major ticklabel objects>)"
            ]
          },
          "metadata": {},
          "execution_count": 51
        },
        {
          "output_type": "display_data",
          "data": {
            "text/plain": [
              "<Figure size 432x288 with 1 Axes>"
            ],
            "image/png": "[encoded data removed]"
          },
          "metadata": {
            "needs_background": "light"
          }
        }
      ]
    },
    {
      "cell_type": "code",
      "source": [
        "import matplotlib.pyplot as plt \n",
        "from xgboost import plot_importance\n",
        "plot_importance(xgboost)\n",
        "plt.show()"
      ],
      "metadata": {
        "colab": {
          "base_uri": "https://localhost:8080/",
          "height": 295
        },
        "id": "Wpj-1I7NeEhO",
        "outputId": "903c501f-869e-4615-c41a-1a172e0a6a7f"
      },
      "execution_count": null,
      "outputs": [
        {
          "output_type": "display_data",
          "data": {
            "text/plain": [
              "<Figure size 432x288 with 1 Axes>"
            ],
            "image/png": "[encoded data removed]"
          },
          "metadata": {
            "needs_background": "light"
          }
        }
      ]
    },
    {
      "cell_type": "markdown",
      "source": [
        "## Adaboost"
      ],
      "metadata": {
        "id": "a8-XJg7evpQ4"
      }
    },
    {
      "cell_type": "code",
      "execution_count": null,
      "metadata": {
        "id": "cVy6pLntepmm"
      },
      "outputs": [],
      "source": [
        "# AdaBoost hyperparameter tuning "
      ]
    },
    {
      "cell_type": "code",
      "source": [
        "from sklearn.model_selection import train_test_split\n",
        "from sklearn.ensemble import AdaBoostClassifier\n",
        "from sklearn.preprocessing import MinMaxScaler\n",
        "from sklearn.metrics import roc_auc_score\n",
        "from sklearn.metrics import classification_report\n",
        "from sklearn.model_selection import GridSearchCV, KFold\n",
        "from sklearn.tree import DecisionTreeClassifier\n",
        "from lightgbm import LGBMClassifier"
      ],
      "metadata": {
        "id": "JRm7vwFnR9Ja"
      },
      "execution_count": null,
      "outputs": []
    },
    {
      "cell_type": "code",
      "source": [
        "X, y = train_set.drop(columns= [\"convert_ind\"]), train_set[\"convert_ind\"]\n",
        "X_train, X_test, y_train, y_test = train_test_split(X, y, random_state=42, test_size=0.25)"
      ],
      "metadata": {
        "id": "C9dRUp0UR-JZ"
      },
      "execution_count": null,
      "outputs": []
    },
    {
      "cell_type": "code",
      "source": [
        "from imblearn.under_sampling import RandomUnderSampler\n",
        "from collections import Counter\n",
        "\n",
        "ros = RandomUnderSampler(random_state=42) # resample all classes but the minority class\n",
        "X_us_train, y_us_train = ros.fit_resample(X_train,y_train)\n",
        "\n",
        "print('Resampled dataset shape %s' % Counter(y_us_train))"
      ],
      "metadata": {
        "colab": {
          "base_uri": "https://localhost:8080/"
        },
        "id": "FZv7V1sqR-pe",
        "outputId": "12490266-5add-4bbd-c6a5-6d846cffef3d"
      },
      "execution_count": null,
      "outputs": [
        {
          "output_type": "stream",
          "name": "stdout",
          "text": [
            "Resampled dataset shape Counter({0.0: 3127, 1.0: 3127})\n"
          ]
        }
      ]
    },
    {
      "cell_type": "code",
      "source": [
        "ada = AdaBoostClassifier(base_estimator=DecisionTreeClassifier(max_depth=1))\n",
        "cv = KFold(n_splits=5, shuffle=True, random_state=1)\n",
        "parameters = {'base_estimator__max_depth':[2,3,4,5],\n",
        "              'base_estimator__min_samples_leaf':[5,10,15],\n",
        "              'n_estimators':[500,1000,1500],\n",
        "              'learning_rate':[0.01,0.1]}\n",
        "\n",
        "GS = GridSearchCV(ada, parameters,cv=cv,scoring='roc_auc',n_jobs=-1)\n",
        "GS.fit(X_us_train, y_us_train)\n",
        "print(GS.best_score_)\n",
        "print(GS.best_params_)\n",
        "print(GS.best_estimator_)"
      ],
      "metadata": {
        "colab": {
          "base_uri": "https://localhost:8080/"
        },
        "id": "BxnYlQ8sSHGV",
        "outputId": "8ad25e82-ee21-4f1d-9ef8-fc2522f4be4b"
      },
      "execution_count": null,
      "outputs": [
        {
          "output_type": "stream",
          "name": "stdout",
          "text": [
            "0.6714426451777117\n",
            "{'base_estimator__max_depth': 2, 'base_estimator__min_samples_leaf': 15, 'learning_rate': 0.01, 'n_estimators': 1000}\n",
            "AdaBoostClassifier(base_estimator=DecisionTreeClassifier(max_depth=2,\n",
            "                                                         min_samples_leaf=15),\n",
            "                   learning_rate=0.01, n_estimators=1000)\n"
          ]
        }
      ]
    },
    {
      "cell_type": "code",
      "source": [
        "ada_tuned = AdaBoostClassifier(base_estimator=DecisionTreeClassifier(max_depth=2,\n",
        "                                                         min_samples_leaf=15),\n",
        "                   learning_rate=0.01, n_estimators=1000, random_state=42)\n",
        "ada_tuned.fit(X_us_train, y_us_train)\n",
        "y_pred_ada = ada_tuned.predict(X_test)"
      ],
      "metadata": {
        "id": "AEJmH1g3SsKy"
      },
      "execution_count": null,
      "outputs": []
    },
    {
      "cell_type": "code",
      "source": [
        "print(classification_report(y_test, y_pred_ada))"
      ],
      "metadata": {
        "colab": {
          "base_uri": "https://localhost:8080/"
        },
        "id": "IgEIJeJRSxOV",
        "outputId": "73b69bd9-1496-4681-d8a5-ee5a64a29ce7"
      },
      "execution_count": null,
      "outputs": [
        {
          "output_type": "stream",
          "name": "stdout",
          "text": [
            "              precision    recall  f1-score   support\n",
            "\n",
            "         0.0       0.93      0.61      0.74      8188\n",
            "         1.0       0.17      0.64      0.27      1030\n",
            "\n",
            "    accuracy                           0.61      9218\n",
            "   macro avg       0.55      0.63      0.50      9218\n",
            "weighted avg       0.85      0.61      0.68      9218\n",
            "\n"
          ]
        }
      ]
    },
    {
      "cell_type": "code",
      "source": [
        "roc_auc_score(y_test, y_pred_ada)"
      ],
      "metadata": {
        "colab": {
          "base_uri": "https://localhost:8080/"
        },
        "id": "nuvbAE3eSyGD",
        "outputId": "47b5bc9a-c72a-40d0-8ca7-df37aa63fc8e"
      },
      "execution_count": null,
      "outputs": [
        {
          "output_type": "execute_result",
          "data": {
            "text/plain": [
              "0.627105377986255"
            ]
          },
          "metadata": {},
          "execution_count": 52
        }
      ]
    },
    {
      "cell_type": "markdown",
      "metadata": {
        "id": "MpYTT-dbw73l"
      },
      "source": [
        "## Random Forest"
      ]
    },
    {
      "cell_type": "code",
      "execution_count": null,
      "metadata": {
        "id": "RxxXSFCmw73l"
      },
      "outputs": [],
      "source": [
        "rfc = RandomForestClassifier(random_state=42)\n",
        "rfc.fit(X_us_train, y_us_train)\n",
        "y_pred = rfc.predict(X_us_test)"
      ]
    },
    {
      "cell_type": "code",
      "execution_count": null,
      "metadata": {
        "id": "3FqKImarw73l",
        "outputId": "4355dcde-a7bd-4f25-8243-27abd2d74123"
      },
      "outputs": [
        {
          "data": {
            "text/plain": [
              "0.6034052079651232"
            ]
          },
          "execution_count": 10,
          "metadata": {},
          "output_type": "execute_result"
        }
      ],
      "source": [
        "roc_auc_score(y_us_test, y_pred)"
      ]
    },
    {
      "cell_type": "code",
      "execution_count": null,
      "metadata": {
        "id": "LgyjOXUbw73l",
        "outputId": "7ceecb96-c8a9-4ca7-abf6-a5a3f19df9b0"
      },
      "outputs": [
        {
          "data": {
            "text/plain": [
              "0.6462514433839991"
            ]
          },
          "execution_count": 11,
          "metadata": {},
          "output_type": "execute_result"
        }
      ],
      "source": [
        "roc_auc_score(y_us_test, rfc.predict_proba(X_us_test)[:, 1])"
      ]
    },
    {
      "cell_type": "markdown",
      "metadata": {
        "id": "SKbzzyK6w73m"
      },
      "source": [
        "### Hypertuning"
      ]
    },
    {
      "cell_type": "code",
      "execution_count": null,
      "metadata": {
        "id": "o_V-N_cIw73m"
      },
      "outputs": [],
      "source": [
        "##Cross Validation\n",
        "inner_cv = KFold(n_splits=3, shuffle=True, random_state=42)   #inner cv folds\n",
        "outer_cv = KFold(n_splits=3, shuffle=True, random_state=42)   #outter cv folds"
      ]
    },
    {
      "cell_type": "code",
      "execution_count": null,
      "metadata": {
        "id": "Fycd7Lhhw73m",
        "outputId": "b6b63539-a941-411b-8809-33b514097a96"
      },
      "outputs": [
        {
          "name": "stdout",
          "output_type": "stream",
          "text": [
            "{'n_estimators': [100, 325, 550, 775, 1000], 'max_depth': [10, 30, 50, 70, 90, 110, None], 'min_samples_split': [2, 5, 10], 'min_samples_leaf': [1, 2, 4]}\n"
          ]
        }
      ],
      "source": [
        "# Number of trees in random forest\n",
        "n_estimators = [int(x) for x in np.linspace(start = 100, stop = 1000, num = 5)]\n",
        "# Maximum number of levels in tree\n",
        "max_depth = [int(x) for x in np.linspace(10, 110, num = 6)]\n",
        "max_depth.append(None)\n",
        "# Minimum number of samples required to split a node\n",
        "min_samples_split = [2, 5, 10]\n",
        "# Minimum number of samples required at each leaf node\n",
        "min_samples_leaf = [1, 2, 4]\n",
        "# Create the random grid\n",
        "random_grid = {'n_estimators': n_estimators,\n",
        "               'max_depth': max_depth,\n",
        "               'min_samples_split': min_samples_split,\n",
        "               'min_samples_leaf': min_samples_leaf}\n",
        "print(random_grid)"
      ]
    },
    {
      "cell_type": "code",
      "execution_count": null,
      "metadata": {
        "id": "Z9g-Py8Kw73m",
        "outputId": "bfe916f4-dc90-4bc8-fee6-bfc9124a1938"
      },
      "outputs": [
        {
          "name": "stderr",
          "output_type": "stream",
          "text": [
            "/Users/angie/opt/anaconda3/lib/python3.9/site-packages/joblib/externals/loky/process_executor.py:702: UserWarning: A worker stopped while some jobs were given to the executor. This can be caused by a too short worker timeout or by a memory leak.\n",
            "  warnings.warn(\n"
          ]
        },
        {
          "name": "stdout",
          "output_type": "stream",
          "text": [
            "\n",
            "Parameter Tuning for Random Forest\n",
            "Non-nested CV roc-auc:  0.6654407245567314\n",
            "Optimal Parameter:  {'max_depth': 10, 'min_samples_leaf': 1, 'min_samples_split': 5, 'n_estimators': 550}\n",
            "Optimal Estimator:  RandomForestClassifier(max_depth=10, min_samples_split=5, n_estimators=550,\n",
            "                       random_state=42)\n"
          ]
        }
      ],
      "source": [
        "# Random search of parameters, using 3 fold cross validation, \n",
        "# search across 100 different combinations, and use all available cores\n",
        "gs_rfc = GridSearchCV(estimator = rfc, \n",
        "                      param_grid = random_grid,\n",
        "                      cv = inner_cv,\n",
        "                      n_jobs = 4,\n",
        "                      scoring='roc_auc')\n",
        "# Fit the random search model\n",
        "gs_rfc.fit(X_us_train, y_us_train)\n",
        "\n",
        "\n",
        "print(\"\\nParameter Tuning for Random Forest\")\n",
        "print(\"Non-nested CV roc-auc: \", gs_rfc.best_score_)\n",
        "print(\"Optimal Parameter: \", gs_rfc.best_params_)\n",
        "print(\"Optimal Estimator: \", gs_rfc.best_estimator_)\n",
        "#nested_score_gs_dt = cross_val_score(gs_rfc, X=X_train, y=y_train, cv=outer_cv)\n",
        "#print(\"Nested CV f1-score: \",nested_score_gs_dt.mean(), \" +/- \", nested_score_gs_dt.std())"
      ]
    },
    {
      "cell_type": "code",
      "execution_count": null,
      "metadata": {
        "id": "xkQdIhGTw73n",
        "outputId": "0388e08a-0323-4984-ea8d-d4e4f22d7190"
      },
      "outputs": [
        {
          "name": "stdout",
          "output_type": "stream",
          "text": [
            "{'n_estimators': [350, 437, 525, 612, 700], 'max_depth': [1, 6, 12, 18, 24, 30, None], 'min_samples_split': [4, 5, 6], 'min_samples_leaf': [1, 2, 4]}\n"
          ]
        }
      ],
      "source": [
        "# Number of trees in random forest\n",
        "n_estimators = [int(x) for x in np.linspace(start = 350, stop = 700, num = 5)]\n",
        "# Maximum number of levels in tree\n",
        "max_depth = [int(x) for x in np.linspace(1, 30, num = 6)]\n",
        "max_depth.append(None)\n",
        "# Minimum number of samples required to split a node\n",
        "min_samples_split = [4, 5, 6]\n",
        "# Minimum number of samples required at each leaf node\n",
        "min_samples_leaf = [1, 2, 4]\n",
        "# Create the random grid\n",
        "random_grid = {'n_estimators': n_estimators,\n",
        "               'max_depth': max_depth,\n",
        "               'min_samples_split': min_samples_split,\n",
        "               'min_samples_leaf': min_samples_leaf}\n",
        "print(random_grid)"
      ]
    },
    {
      "cell_type": "code",
      "execution_count": null,
      "metadata": {
        "id": "VH1M4MlRw73n",
        "outputId": "f3390489-5aa5-4800-a3bb-1c1a7bd9d50b"
      },
      "outputs": [
        {
          "name": "stderr",
          "output_type": "stream",
          "text": [
            "/Users/angie/opt/anaconda3/lib/python3.9/site-packages/joblib/externals/loky/process_executor.py:702: UserWarning: A worker stopped while some jobs were given to the executor. This can be caused by a too short worker timeout or by a memory leak.\n",
            "  warnings.warn(\n"
          ]
        },
        {
          "name": "stdout",
          "output_type": "stream",
          "text": [
            "\n",
            "Parameter Tuning for Random Forest\n",
            "Non-nested CV roc-auc:  0.6644721341719894\n",
            "Optimal Parameter:  {'max_depth': 12, 'min_samples_leaf': 2, 'min_samples_split': 5, 'n_estimators': 525}\n",
            "Optimal Estimator:  RandomForestClassifier(max_depth=12, min_samples_leaf=2, min_samples_split=5,\n",
            "                       n_estimators=525, random_state=42)\n"
          ]
        }
      ],
      "source": [
        "# Random search of parameters, using 3 fold cross validation, \n",
        "# search across 100 different combinations, and use all available cores\n",
        "gs_rfc = GridSearchCV(estimator = rfc, \n",
        "                      param_grid = random_grid,\n",
        "                      cv = inner_cv,\n",
        "                      n_jobs = 4,\n",
        "                      scoring='roc_auc')\n",
        "# Fit the random search model\n",
        "gs_rfc.fit(X_us_train, y_us_train)\n",
        "\n",
        "\n",
        "print(\"\\nParameter Tuning for Random Forest\")\n",
        "print(\"Non-nested CV roc-auc: \", gs_rfc.best_score_)\n",
        "print(\"Optimal Parameter: \", gs_rfc.best_params_)\n",
        "print(\"Optimal Estimator: \", gs_rfc.best_estimator_)\n",
        "#nested_score_gs_dt = cross_val_score(gs_rfc, X=X_train, y=y_train, cv=outer_cv)\n",
        "#print(\"Nested CV f1-score: \",nested_score_gs_dt.mean(), \" +/- \", nested_score_gs_dt.std())"
      ]
    },
    {
      "cell_type": "code",
      "execution_count": null,
      "metadata": {
        "id": "fKStsnsVw73o"
      },
      "outputs": [],
      "source": []
    },
    {
      "cell_type": "markdown",
      "metadata": {
        "id": "oPIDqWP6R46W"
      },
      "source": [
        "## Simple MultiLinear Perceptron aka(NN Feed Forward) Classifier"
      ]
    },
    {
      "cell_type": "code",
      "execution_count": null,
      "metadata": {
        "colab": {
          "base_uri": "https://localhost:8080/"
        },
        "id": "XaixazGnkzph",
        "outputId": "d89d74df-8931-4cfb-ad24-46f2c933c420"
      },
      "outputs": [
        {
          "data": {
            "text/plain": [
              "array([0, 1])"
            ]
          },
          "execution_count": 8,
          "metadata": {},
          "output_type": "execute_result"
        }
      ],
      "source": [
        "train_set[\"convert_ind\"] = [int(train_set[\"convert_ind\"][i]) for i in range(len(train_set[\"convert_ind\"]))]\n",
        "train_set[\"convert_ind\"].unique()"
      ]
    },
    {
      "cell_type": "code",
      "execution_count": null,
      "metadata": {
        "colab": {
          "base_uri": "https://localhost:8080/"
        },
        "id": "2TMeTs2pCCTR",
        "outputId": "daee79e6-2355-4b0a-f57f-93124af222e1"
      },
      "outputs": [
        {
          "data": {
            "text/plain": [
              "Index(['discount', 'Home_policy_ind', 'quoted_amt', 'credit_score',\n",
              "       'Cov_package_type', 'CAT_zone', 'number_drivers', 'num_loaned_veh',\n",
              "       'num_owned_veh', 'num_leased_veh', 'total_number_veh', 'convert_ind',\n",
              "       'primary_parking', 'gender', 'age_ppl', 'safty_rating',\n",
              "       'high_education_ind', 'dependent', 'own', 'rent', 'age_car', 'make'],\n",
              "      dtype='object')"
            ]
          },
          "execution_count": 9,
          "metadata": {},
          "output_type": "execute_result"
        }
      ],
      "source": [
        "train_set.columns"
      ]
    },
    {
      "cell_type": "code",
      "execution_count": null,
      "metadata": {
        "colab": {
          "base_uri": "https://localhost:8080/"
        },
        "id": "RM6yln8svVfu",
        "outputId": "ba6a3bf0-2e17-4c95-ff6e-33c65f59ac16"
      },
      "outputs": [
        {
          "data": {
            "text/plain": [
              "0.8213278368409633"
            ]
          },
          "execution_count": 102,
          "metadata": {},
          "output_type": "execute_result"
        }
      ],
      "source": [
        "# Import the multilinear perceptron a.k.a feeed forward neural network\n",
        "from sklearn.neural_network import MLPClassifier\n",
        "from sklearn.metrics import roc_auc_score\n",
        "from sklearn.model_selection import train_test_split\n",
        "from sklearn.preprocessing import MinMaxScaler, StandardScaler\n",
        "# Define the explanatory varibale and the dependent varibale\n",
        "X, y = train_set.drop(columns= [\"convert_ind\"]), train_set[\"convert_ind\"]\n",
        "\n",
        "X_train, X_test, y_train, y_test = train_test_split(X, y, random_state=42, test_size=0.25)\n",
        "# Min-Max sclae the data to avoid the exploding variance\n",
        "sc_X = MinMaxScaler()\n",
        "sc_X.fit_transform(X_train)\n",
        "X_train = sc_X.transform(X_train)\n",
        "X_test = sc_X.transform(X_test)\n",
        "# y = sc_X.transform(y)\n",
        "\n",
        "# Instantiate the model and train the model\n",
        "clf = MLPClassifier(hidden_layer_sizes=(256,128,64,32), activation=\"relu\", m, random_state=1).fit(X_train, y_train)\n",
        "# make the prediction on the test set\n",
        "y_pred = clf.predict(X_test)\n",
        "# y_pred = clf.predict_proba(X_test)\n",
        "# Find the performance of the model\n",
        "clf.score(X_test, y_test)"
      ]
    },
    {
      "cell_type": "code",
      "execution_count": null,
      "metadata": {
        "colab": {
          "base_uri": "https://localhost:8080/"
        },
        "id": "T7jZWav-Dt4I",
        "outputId": "0636ac53-4d72-4aec-af69-468c96e08e1c"
      },
      "outputs": [
        {
          "data": {
            "text/plain": [
              "0.5414131136802603"
            ]
          },
          "execution_count": 106,
          "metadata": {},
          "output_type": "execute_result"
        }
      ],
      "source": [
        "from sklearn.metrics import roc_auc_score\n",
        "roc_auc_score(y_test, clf.predict_proba(X_test)[:, 1])"
      ]
    },
    {
      "cell_type": "code",
      "execution_count": null,
      "metadata": {
        "colab": {
          "base_uri": "https://localhost:8080/"
        },
        "id": "Lmh8ufCgT81p",
        "outputId": "63f6c81a-b8a0-4acb-c5ca-2a72f16d8453"
      },
      "outputs": [
        {
          "name": "stdout",
          "output_type": "stream",
          "text": [
            "              precision    recall  f1-score   support\n",
            "\n",
            "         Yes       0.90      0.90      0.90      8225\n",
            "          No       0.15      0.14      0.15       993\n",
            "\n",
            "    accuracy                           0.82      9218\n",
            "   macro avg       0.52      0.52      0.52      9218\n",
            "weighted avg       0.82      0.82      0.82      9218\n",
            "\n"
          ]
        }
      ],
      "source": [
        "# Find the baseline model statistics\n",
        "from sklearn.metrics import classification_report\n",
        "target_names = [\"Yes\", \"No\"]\n",
        "print(classification_report(y_test, y_pred, target_names=target_names))"
      ]
    },
    {
      "cell_type": "markdown",
      "metadata": {
        "id": "q2Tsm2BMpxM_"
      },
      "source": [
        "### Neural Network Hyperparameter tuning"
      ]
    },
    {
      "cell_type": "code",
      "execution_count": null,
      "metadata": {
        "id": "APPbeOmRKRdt"
      },
      "outputs": [],
      "source": [
        "from sklearn.decomposition import PCA\n",
        "from sklearn.preprocessing import MinMaxScaler, StandardScaler\n",
        "\n",
        "def my_pca(X ,n_comp):\n",
        "    # Instantiate the pca model that would keep the 97.5% of variation in the data (15 variables)\n",
        "    pca = PCA(n_components=n_comp, svd_solver = 'full', random_state=42)\n",
        "\n",
        "    # scale predictor variables\n",
        "    pca = pca.fit(X)\n",
        "    X_reduced = pca.transform(X)\n",
        "    test_pca = pca\n",
        "\n",
        "    return X_reduced, test_pca\n",
        "\n",
        "X_train, X_test, y_train, y_test = train_test_split(X, y, random_state=42, test_size=0.25)\n",
        "\n",
        "# Perform the Principla Component Analysis\n",
        "X_train, test_pca = my_pca(X_train, 20)\n",
        "X_test = test_pca.transform(X_test)\n",
        "\n",
        "# For the submission use the following:\n",
        "\"\"\"\n",
        "test_set = test_pca.tranform(\"test_set.csv\")\n",
        "\"\"\""
      ]
    },
    {
      "cell_type": "code",
      "execution_count": null,
      "metadata": {
        "id": "ePTz6lltpPMa"
      },
      "outputs": [],
      "source": [
        "# Standard Scaler\n",
        "std_scaler = StandardScaler()\n",
        "std_scaler.fit_transform(X_train)\n",
        "X_train = std_scaler.transform(X_train)\n",
        "X_test = std_scaler.transform(X_test)"
      ]
    },
    {
      "cell_type": "code",
      "execution_count": null,
      "metadata": {
        "colab": {
          "base_uri": "https://localhost:8080/"
        },
        "id": "g-lz2q48HlYt",
        "outputId": "f66c5505-bebd-49b4-9aeb-f01964db3991"
      },
      "outputs": [
        {
          "name": "stderr",
          "output_type": "stream",
          "text": [
            "/usr/local/lib/python3.7/dist-packages/sklearn/model_selection/_validation.py:372: FitFailedWarning: \n",
            "30 fits failed out of a total of 60.\n",
            "The score on these train-test partitions for these parameters will be set to nan.\n",
            "If these failures are not expected, you can try to debug them by setting error_score='raise'.\n",
            "\n",
            "Below are more details about the failures:\n",
            "--------------------------------------------------------------------------------\n",
            "30 fits failed with the following error:\n",
            "Traceback (most recent call last):\n",
            "  File \"/usr/local/lib/python3.7/dist-packages/sklearn/model_selection/_validation.py\", line 680, in _fit_and_score\n",
            "    estimator.fit(X_train, y_train, **fit_params)\n",
            "  File \"/usr/local/lib/python3.7/dist-packages/sklearn/neural_network/_multilayer_perceptron.py\", line 752, in fit\n",
            "    return self._fit(X, y, incremental=False)\n",
            "  File \"/usr/local/lib/python3.7/dist-packages/sklearn/neural_network/_multilayer_perceptron.py\", line 384, in _fit\n",
            "    self._validate_hyperparameters()\n",
            "  File \"/usr/local/lib/python3.7/dist-packages/sklearn/neural_network/_multilayer_perceptron.py\", line 503, in _validate_hyperparameters\n",
            "    % (self.solver, \", \".join(supported_solvers))\n",
            "ValueError: The solver sdg is not supported.  Expected one of: sgd, adam, lbfgs\n",
            "\n",
            "  warnings.warn(some_fits_failed_message, FitFailedWarning)\n",
            "/usr/local/lib/python3.7/dist-packages/sklearn/model_selection/_search.py:972: UserWarning: One or more of the test scores are non-finite: [0.62211073        nan 0.62211073        nan 0.62211073        nan\n",
            " 0.61491629        nan 0.61142969        nan 0.60809399        nan]\n",
            "  category=UserWarning,\n"
          ]
        },
        {
          "name": "stdout",
          "output_type": "stream",
          "text": [
            "\n",
            " Parameter Tuning(max_depth, criterion, min_smaples_leaf, min_samples_split) for Decision Tree\n",
            "Non-nested CV F1-Score:  0.6221107291561282\n",
            "Optimal Parameter:  {'activation': 'logistic', 'learning_rate': 'adaptive', 'max_iter': 200, 'solver': 'adam'}\n",
            "Optimal Estimator:  MLPClassifier(activation='logistic', learning_rate='adaptive', random_state=42)\n",
            "\n",
            " OUT-OF-SAMPLE PERFORMANCE\n",
            "=======================================\n",
            "              precision    recall  f1-score   support\n",
            "\n",
            "not_canceled       0.89      1.00      0.94      8225\n",
            "    canceled       0.00      0.00      0.00       993\n",
            "\n",
            "    accuracy                           0.89      9218\n",
            "   macro avg       0.45      0.50      0.47      9218\n",
            "weighted avg       0.80      0.89      0.84      9218\n",
            "\n"
          ]
        },
        {
          "name": "stderr",
          "output_type": "stream",
          "text": [
            "/usr/local/lib/python3.7/dist-packages/sklearn/metrics/_classification.py:1318: UndefinedMetricWarning: Precision and F-score are ill-defined and being set to 0.0 in labels with no predicted samples. Use `zero_division` parameter to control this behavior.\n",
            "  _warn_prf(average, modifier, msg_start, len(result))\n",
            "/usr/local/lib/python3.7/dist-packages/sklearn/metrics/_classification.py:1318: UndefinedMetricWarning: Precision and F-score are ill-defined and being set to 0.0 in labels with no predicted samples. Use `zero_division` parameter to control this behavior.\n",
            "  _warn_prf(average, modifier, msg_start, len(result))\n",
            "/usr/local/lib/python3.7/dist-packages/sklearn/metrics/_classification.py:1318: UndefinedMetricWarning: Precision and F-score are ill-defined and being set to 0.0 in labels with no predicted samples. Use `zero_division` parameter to control this behavior.\n",
            "  _warn_prf(average, modifier, msg_start, len(result))\n"
          ]
        }
      ],
      "source": [
        "############################### Import Libraries & Modules #################################\n",
        "from sklearn.model_selection import GridSearchCV, KFold, cross_val_score \n",
        "# Standardize features by removing the mean and scaling to unit variance\n",
        "from sklearn.preprocessing import StandardScaler\n",
        "import numpy as np\n",
        "\n",
        "np.random.seed(42) # ensure reproducability\n",
        "\n",
        "# KFold splits dataset into k consecutive folds (without shuffling by default)\n",
        "\n",
        "inner_cv = KFold(n_splits=5, shuffle=True) # inner cross-validation folds\n",
        "outer_cv = KFold(n_splits=5, shuffle=True) # outer cross-validation folds\n",
        "    \n",
        "############################## Decision Tree Parameter Tuning ##############################\n",
        "\n",
        "# Choosing depth of the tree AND splitting criterion AND min_samples_leaf AND min_samples_split\n",
        "gs_mlp = GridSearchCV(estimator=MLPClassifier(random_state=42),\n",
        "                  param_grid=[{'solver': ['adam','sgd'], \n",
        "                               'activation':['logistic', 'relu'], \n",
        "                               'learning_rate':['adaptive'],\n",
        "                               'max_iter':[200, 300, 500]}],\n",
        "                  scoring='roc_auc',\n",
        "                  cv=inner_cv,\n",
        "                  n_jobs=4)\n",
        "\n",
        "gs_mlp = gs_mlp.fit(X_train,y_train)\n",
        "print(\"\\n Parameter Tuning(max_depth, criterion, min_smaples_leaf, min_samples_split) for Decision Tree\")\n",
        "print(\"Non-nested CV F1-Score: \", gs_mlp.best_score_)\n",
        "print(\"Optimal Parameter: \", gs_mlp.best_params_)\n",
        "print(\"Optimal Estimator: \", gs_mlp.best_estimator_)\n",
        "# nested_score_gs_dt2 = cross_val_score(gs_dt2, X=X_RH, y=y_RH, cv=outer_cv)\n",
        "# print(\"Nested CV F1-Score: \",nested_score_gs_dt2.mean(), \" +/- \", nested_score_gs_dt2.std())\n",
        "\n",
        "clf_mlp = gs_mlp.best_estimator_\n",
        "clf_mlp.fit(X_train, y_train)\n",
        "#################################### Apply the Logistic Regression Model ####################################\n",
        "\n",
        "# We now apply the logistic regression model to the test set\n",
        "y_pred = clf_mlp.predict(X_test)             # generate classification prediction\n",
        "# y_pred_prob = clf.predict_proba(X_test)  # estimate class probabilities\n",
        "\n",
        "################################### Evaluate the Logistic Regression Model ##################################\n",
        "\n",
        "# Build a text report showing the main classification metrics (out-of-sample performance)\n",
        "print(\"\\n OUT-OF-SAMPLE PERFORMANCE\\n=======================================\")\n",
        "print(classification_report(y_test, y_pred, target_names=['not_canv', 'canv'])) # builds a text report showing the main classification metrics (precision, recall, f1-score)"
      ]
    },
    {
      "cell_type": "code",
      "execution_count": null,
      "metadata": {
        "colab": {
          "base_uri": "https://localhost:8080/"
        },
        "id": "41PlvtASUTLz",
        "outputId": "f6b25195-146f-4d77-856b-064c335200ed"
      },
      "outputs": [
        {
          "data": {
            "text/plain": [
              "0.6105525303262656"
            ]
          },
          "execution_count": 121,
          "metadata": {},
          "output_type": "execute_result"
        }
      ],
      "source": [
        "roc_auc_score(y_test, clf_mlp.predict_proba(X_test)[:, 1])"
      ]
    },
    {
      "cell_type": "code",
      "execution_count": null,
      "metadata": {
        "colab": {
          "base_uri": "https://localhost:8080/",
          "height": 235
        },
        "id": "cGAd7mM9UT2z",
        "outputId": "88bc2231-513b-47c4-8935-fb1bd02fcac3"
      },
      "outputs": [
        {
          "ename": "NameError",
          "evalue": "ignored",
          "output_type": "error",
          "traceback": [
            "\u001b[0;31m---------------------------------------------------------------------------\u001b[0m",
            "\u001b[0;31mNameError\u001b[0m                                 Traceback (most recent call last)",
            "\u001b[0;32m<ipython-input-12-945fca3b6456>\u001b[0m in \u001b[0;36m<module>\u001b[0;34m\u001b[0m\n\u001b[1;32m      2\u001b[0m \u001b[0;31m# perform PCA to keep 20 most significant features\u001b[0m\u001b[0;34m\u001b[0m\u001b[0;34m\u001b[0m\u001b[0;34m\u001b[0m\u001b[0m\n\u001b[1;32m      3\u001b[0m \u001b[0;31m# X = my_pca(X, 15)\u001b[0m\u001b[0;34m\u001b[0m\u001b[0;34m\u001b[0m\u001b[0;34m\u001b[0m\u001b[0m\n\u001b[0;32m----> 4\u001b[0;31m \u001b[0mX_train\u001b[0m\u001b[0;34m,\u001b[0m \u001b[0mX_test\u001b[0m\u001b[0;34m,\u001b[0m \u001b[0my_train\u001b[0m\u001b[0;34m,\u001b[0m \u001b[0my_test\u001b[0m \u001b[0;34m=\u001b[0m \u001b[0mtrain_test_split\u001b[0m\u001b[0;34m(\u001b[0m\u001b[0mX\u001b[0m\u001b[0;34m,\u001b[0m \u001b[0my\u001b[0m\u001b[0;34m,\u001b[0m \u001b[0mrandom_state\u001b[0m\u001b[0;34m=\u001b[0m\u001b[0;36m42\u001b[0m\u001b[0;34m,\u001b[0m \u001b[0mtest_size\u001b[0m\u001b[0;34m=\u001b[0m\u001b[0;36m0.20\u001b[0m\u001b[0;34m)\u001b[0m\u001b[0;34m\u001b[0m\u001b[0;34m\u001b[0m\u001b[0m\n\u001b[0m\u001b[1;32m      5\u001b[0m \u001b[0;34m\u001b[0m\u001b[0m\n\u001b[1;32m      6\u001b[0m \u001b[0;31m# Standard Scaler\u001b[0m\u001b[0;34m\u001b[0m\u001b[0;34m\u001b[0m\u001b[0;34m\u001b[0m\u001b[0m\n",
            "\u001b[0;31mNameError\u001b[0m: name 'train_test_split' is not defined"
          ]
        }
      ],
      "source": [
        "X, y = train_set.drop(columns= [\"convert_ind\"]), train_set[\"convert_ind\"]\n",
        "# perform PCA to keep 20 most significant features\n",
        "# X = my_pca(X, 15)\n",
        "X_train, X_test, y_train, y_test = train_test_split(X, y, random_state=42, test_size=0.20)\n",
        "\n",
        "# Standard Scaler\n",
        "std_scaler = StandardScaler()\n",
        "std_scaler.fit_transform(X_train)\n",
        "X_train = std_scaler.transform(X_train)\n",
        "X_test = std_scaler.transform(X_test)"
      ]
    },
    {
      "cell_type": "code",
      "execution_count": null,
      "metadata": {
        "colab": {
          "base_uri": "https://localhost:8080/"
        },
        "id": "fO_WZ_WUPrGh",
        "outputId": "b5faa6b8-776f-4c9c-cd8f-2742f0701db0"
      },
      "outputs": [
        {
          "name": "stdout",
          "output_type": "stream",
          "text": [
            "\n",
            " Parameter Tuning(max_depth, criterion, min_smaples_leaf, min_samples_split) for Decision Tree\n",
            "Non-nested CV F1-Score:  0.6428096553143218\n",
            "Optimal Parameter:  {'activation': 'logistic', 'learning_rate': 'adaptive', 'max_iter': 200, 'solver': 'adam'}\n",
            "Optimal Estimator:  MLPClassifier(activation='logistic', learning_rate='adaptive', random_state=42)\n",
            "\n",
            " OUT-OF-SAMPLE PERFORMANCE\n",
            "=======================================\n",
            "              precision    recall  f1-score   support\n",
            "\n",
            "not_canceled       0.90      1.00      0.94      6606\n",
            "    canceled       0.00      0.00      0.00       769\n",
            "\n",
            "    accuracy                           0.90      7375\n",
            "   macro avg       0.45      0.50      0.47      7375\n",
            "weighted avg       0.80      0.90      0.85      7375\n",
            "\n",
            "ROC out-of-sample Score: 0.6430744088500544\n"
          ]
        },
        {
          "name": "stderr",
          "output_type": "stream",
          "text": [
            "/usr/local/lib/python3.7/dist-packages/sklearn/metrics/_classification.py:1318: UndefinedMetricWarning: Precision and F-score are ill-defined and being set to 0.0 in labels with no predicted samples. Use `zero_division` parameter to control this behavior.\n",
            "  _warn_prf(average, modifier, msg_start, len(result))\n",
            "/usr/local/lib/python3.7/dist-packages/sklearn/metrics/_classification.py:1318: UndefinedMetricWarning: Precision and F-score are ill-defined and being set to 0.0 in labels with no predicted samples. Use `zero_division` parameter to control this behavior.\n",
            "  _warn_prf(average, modifier, msg_start, len(result))\n",
            "/usr/local/lib/python3.7/dist-packages/sklearn/metrics/_classification.py:1318: UndefinedMetricWarning: Precision and F-score are ill-defined and being set to 0.0 in labels with no predicted samples. Use `zero_division` parameter to control this behavior.\n",
            "  _warn_prf(average, modifier, msg_start, len(result))\n"
          ]
        }
      ],
      "source": [
        "############################### Import Libraries & Modules #################################\n",
        "from sklearn.model_selection import GridSearchCV, KFold, cross_val_score \n",
        "# Standardize features by removing the mean and scaling to unit variance\n",
        "from sklearn.preprocessing import StandardScaler\n",
        "import numpy as np\n",
        "\n",
        "np.random.seed(42) # ensure reproducability\n",
        "\n",
        "# KFold splits dataset into k consecutive folds (without shuffling by default)\n",
        "\n",
        "inner_cv = KFold(n_splits=5, shuffle=True) # inner cross-validation folds\n",
        "outer_cv = KFold(n_splits=5, shuffle=True) # outer cross-validation folds\n",
        "    \n",
        "############################## Decision Tree Parameter Tuning ##############################\n",
        "\n",
        "# Choosing depth of the tree AND splitting criterion AND min_samples_leaf AND min_samples_split\n",
        "gs_mlp2 = GridSearchCV(estimator=MLPClassifier(random_state=42),\n",
        "                  param_grid=[{'solver': ['adam','sgd'], \n",
        "                               'activation':['logistic', 'relu'], \n",
        "                               'learning_rate':['adaptive'],\n",
        "                               'max_iter':[200, 300, 500]}],\n",
        "                  scoring='roc_auc',\n",
        "                  cv=inner_cv,\n",
        "                  n_jobs=4)\n",
        "\n",
        "gs_mlp2 = gs_mlp2.fit(X_train,y_train)\n",
        "print(\"\\n Parameter Tuning(max_depth, criterion, min_smaples_leaf, min_samples_split) for Decision Tree\")\n",
        "print(\"Non-nested CV F1-Score: \", gs_mlp2.best_score_)\n",
        "print(\"Optimal Parameter: \", gs_mlp2.best_params_)\n",
        "print(\"Optimal Estimator: \", gs_mlp2.best_estimator_)\n",
        "# nested_score_gs_dt2 = cross_val_score(gs_dt2, X=X_RH, y=y_RH, cv=outer_cv)\n",
        "# print(\"Nested CV F1-Score: \",nested_score_gs_dt2.mean(), \" +/- \", nested_score_gs_dt2.std())\n",
        "\n",
        "clf_mlp2 = gs_mlp2.best_estimator_\n",
        "clf_mlp2.fit(X_train, y_train)\n",
        "#################################### Apply the Logistic Regression Model ####################################\n",
        "\n",
        "# We now apply the logistic regression model to the test set\n",
        "y_pred = clf_mlp2.predict(X_test)             # generate classification prediction\n",
        "# y_pred_prob = clf.predict_proba(X_test)  # estimate class probabilities\n",
        "\n",
        "################################### Evaluate the Logistic Regression Model ##################################\n",
        "\n",
        "# Build a text report showing the main classification metrics (out-of-sample performance)\n",
        "print(\"\\n OUT-OF-SAMPLE PERFORMANCE\\n=======================================\")\n",
        "print(classification_report(y_test, y_pred, target_names=['not_canv', 'canv'])) # builds a text report showing the main classification metrics (precision, recall, f1-score)\n",
        "print(f\"ROC out-of-sample Score: {roc_auc_score(y_test, clf_mlp2.predict_proba(X_test)[:, 1])}\")"
      ]
    },
    {
      "cell_type": "code",
      "execution_count": null,
      "metadata": {
        "colab": {
          "base_uri": "https://localhost:8080/"
        },
        "id": "hLqLovqcYGxc",
        "outputId": "de031ce6-7b5f-4003-82cf-4f2076b4d4f6"
      },
      "outputs": [
        {
          "data": {
            "text/plain": [
              "Index(['discount', 'Home_policy_ind', 'quoted_amt', 'credit_score',\n",
              "       'Cov_package_type', 'CAT_zone', 'policy_id', 'number_drivers',\n",
              "       'num_loaned_veh', 'num_owned_veh', 'num_leased_veh', 'total_number_veh',\n",
              "       'convert_ind', 'primary_parking', 'gender', 'age_ppl', 'safty_rating',\n",
              "       'high_education_ind', 'dependent', 'own', 'rent', 'age_car', 'make'],\n",
              "      dtype='object')"
            ]
          },
          "execution_count": 16,
          "metadata": {},
          "output_type": "execute_result"
        }
      ],
      "source": [
        "test_set = pd.read_csv(\"/content/drive/MyDrive/Travelers/test_set.csv\")\n",
        "test_set.columns"
      ]
    },
    {
      "cell_type": "code",
      "execution_count": null,
      "metadata": {
        "colab": {
          "base_uri": "https://localhost:8080/"
        },
        "id": "w8HghPVzdsis",
        "outputId": "a8046aa2-7f0b-4a02-aa7d-37cea8a600a8"
      },
      "outputs": [
        {
          "name": "stdout",
          "output_type": "stream",
          "text": [
            "Index(['discount', 'Home_policy_ind', 'quoted_amt', 'credit_score',\n",
            "       'Cov_package_type', 'CAT_zone', 'number_drivers', 'num_loaned_veh',\n",
            "       'num_owned_veh', 'num_leased_veh', 'total_number_veh',\n",
            "       'primary_parking', 'gender', 'age_ppl', 'safty_rating',\n",
            "       'high_education_ind', 'dependent', 'own', 'rent', 'age_car', 'make'],\n",
            "      dtype='object')\n",
            "Index(['discount', 'Home_policy_ind', 'quoted_amt', 'credit_score',\n",
            "       'Cov_package_type', 'CAT_zone', 'number_drivers', 'num_loaned_veh',\n",
            "       'num_owned_veh', 'num_leased_veh', 'total_number_veh',\n",
            "       'primary_parking', 'gender', 'age_ppl', 'safty_rating',\n",
            "       'high_education_ind', 'dependent', 'own', 'rent', 'age_car', 'make'],\n",
            "      dtype='object')\n"
          ]
        }
      ],
      "source": [
        "policy_ids = test_set['policy_id']\n",
        "X_test2 = test_set.drop(columns=['policy_id','convert_ind'])\n",
        "print(X_test2.columns)\n",
        "print(X.columns)"
      ]
    },
    {
      "cell_type": "code",
      "execution_count": null,
      "metadata": {
        "colab": {
          "base_uri": "https://localhost:8080/"
        },
        "id": "1kf2bb8gVgcT",
        "outputId": "9643f9af-2d2e-4499-e692-92f2f44d9125"
      },
      "outputs": [
        {
          "name": "stdout",
          "output_type": "stream",
          "text": [
            "0.895593220338983\n",
            "              precision    recall  f1-score   support\n",
            "\n",
            "    not_canv       0.90      1.00      0.94      6606\n",
            "        canv       0.00      0.00      0.00       769\n",
            "\n",
            "    accuracy                           0.90      7375\n",
            "   macro avg       0.45      0.50      0.47      7375\n",
            "weighted avg       0.80      0.90      0.85      7375\n",
            "\n",
            "ROC out-of-sample Score: 0.6504193689229991\n"
          ]
        }
      ],
      "source": [
        "# Optimal model(recommended by grid search cross val)\n",
        "clf = MLPClassifier(activation='logistic', learning_rate='adaptive', random_state=42).fit(X_train, y_train)\n",
        "print(clf.score(X_test, y_test))\n",
        "y_pred = clf.predict(X_test)\n",
        "print(classification_report(y_test, y_pred, target_names=['not_canv', 'canv'])) # builds a text report showing the main classification metrics (precision, recall, f1-score)\n",
        "print(f\"ROC out-of-sample Score: {roc_auc_score(y_test, clf.predict_proba(X_test)[:, 1])}\")"
      ]
    },
    {
      "cell_type": "code",
      "execution_count": null,
      "metadata": {
        "id": "EHC6YVITnnH-"
      },
      "outputs": [],
      "source": [
        "X = std_scaler.transform(X)\n",
        "X_test2 = std_scaler.transform(X_test2)\n",
        "clf2 = MLPClassifier(activation='logistic', learning_rate='adaptive', random_state=42).fit(X, y)\n",
        "probs = clf2.predict_proba(X_test2)[:,1]"
      ]
    },
    {
      "cell_type": "code",
      "execution_count": null,
      "metadata": {
        "colab": {
          "base_uri": "https://localhost:8080/"
        },
        "id": "nlKe8GtCgrrq",
        "outputId": "543b60a6-51ee-4d85-9160-52370d54b2be"
      },
      "outputs": [
        {
          "name": "stdout",
          "output_type": "stream",
          "text": [
            "      policy_id    TARGET\n",
            "0  policy_89288  0.074755\n",
            "1  policy_23460  0.120286\n",
            "2  policy_43809  0.035917\n",
            "3   policy_4590  0.178589\n",
            "4  policy_65525  0.092782\n"
          ]
        }
      ],
      "source": [
        "submission = pd.DataFrame({'policy_id':policy_ids, 'TARGET':probs})\n",
        "submission.set_index('policy_id')\n",
        "print(submission.head(5))\n",
        "submission.to_csv(\"./submission.csv\",header=True, index=False)"
      ]
    },
    {
      "cell_type": "code",
      "execution_count": null,
      "metadata": {
        "colab": {
          "base_uri": "https://localhost:8080/"
        },
        "id": "sMtgD4Jqh2uS",
        "outputId": "4c44b42f-3ff8-4908-a3bb-766183069e61"
      },
      "outputs": [
        {
          "data": {
            "text/plain": [
              "(12291, 2)"
            ]
          },
          "execution_count": 35,
          "metadata": {},
          "output_type": "execute_result"
        }
      ],
      "source": [
        "submission.shape"
      ]
    },
    {
      "cell_type": "markdown",
      "metadata": {
        "id": "28Ch0c5Uq0sa"
      },
      "source": [
        "### Neural Network on the engineered features"
      ]
    },
    {
      "cell_type": "code",
      "execution_count": null,
      "metadata": {
        "id": "tT0ocw8XrIlC"
      },
      "outputs": [],
      "source": [
        "############################### Import Libraries & Modules #################################\n",
        "from sklearn.model_selection import GridSearchCV, KFold, cross_val_score \n",
        "# Standardize features by removing the mean and scaling to unit variance\n",
        "from sklearn.preprocessing import StandardScaler\n",
        "import numpy as np\n",
        "from sklearn.decomposition import PCA\n",
        "from sklearn.preprocessing import MinMaxScaler, StandardScaler\n",
        "from sklearn.metrics import classification_report, roc_auc_score\n",
        "import pandas as pd\n",
        "import numpy as np\n",
        "from sklearn.model_selection import train_test_split\n",
        "# Import the multilinear perceptron a.k.a feeed forward neural network\n",
        "from sklearn.neural_network import MLPClassifier"
      ]
    },
    {
      "cell_type": "code",
      "execution_count": null,
      "metadata": {
        "colab": {
          "base_uri": "https://localhost:8080/"
        },
        "id": "S3CpCM62rlya",
        "outputId": "74f821e4-f7d2-42ad-b0f2-4541175d1b8f"
      },
      "outputs": [
        {
          "output_type": "stream",
          "name": "stdout",
          "text": [
            "Mounted at /content/drive\n"
          ]
        }
      ],
      "source": [
        "from google.colab import drive\n",
        "drive.mount('/content/drive')"
      ]
    },
    {
      "cell_type": "code",
      "execution_count": null,
      "metadata": {
        "colab": {
          "base_uri": "https://localhost:8080/"
        },
        "id": "BZG7tyB5q0Iw",
        "outputId": "f8af6770-81fb-4b6a-c7c7-94f38bf82cc2"
      },
      "outputs": [
        {
          "data": {
            "text/plain": [
              "Index(['discount', 'Home_policy_ind', 'quoted_amt', 'credit_score',\n",
              "       'Cov_package_type', 'CAT_zone', 'number_drivers', 'num_loaned_veh',\n",
              "       'num_owned_veh', 'num_leased_veh', 'total_number_veh', 'convert_ind',\n",
              "       'Prior_carrier_grp_Carrier_2', 'Prior_carrier_grp_Carrier_3',\n",
              "       'Prior_carrier_grp_Carrier_4', 'Prior_carrier_grp_Carrier_5',\n",
              "       'Prior_carrier_grp_Carrier_6', 'Prior_carrier_grp_Carrier_7',\n",
              "       'Prior_carrier_grp_Carrier_8', 'Prior_carrier_grp_Other', 'age_ppl',\n",
              "       'safty_rating', 'high_education_ind', 'dependent', 'own', 'rent', 'F',\n",
              "       'M', 'age_car', 'black', 'blue', 'gray', 'other', 'red', 'silver',\n",
              "       'white', 'ACURA', 'AUDI', 'BMW', 'BUICK', 'CADILLAC', 'CHEVROLET',\n",
              "       'CHRYSLER', 'DODGE', 'FORD', 'GMC', 'HONDA', 'MAZDA', 'MERCEDES-BENZ',\n",
              "       'NISSAN', 'RAM', 'SATURN', 'SMART', 'SUBARU', 'TOYOTA'],\n",
              "      dtype='object')"
            ]
          },
          "execution_count": 4,
          "metadata": {},
          "output_type": "execute_result"
        }
      ],
      "source": [
        "train_set = pd.read_csv(\"/content/drive/MyDrive/Travelers/train_set_with_dummy.csv\")\n",
        "train_set.columns"
      ]
    },
    {
      "cell_type": "code",
      "execution_count": null,
      "metadata": {
        "id": "SExwjfHHxuHF"
      },
      "outputs": [],
      "source": [
        "# train_set = pd.read_csv(\"/content/drive/MyDrive/Travelers/train_set_with_dummy.csv\")\n",
        "# test_set = pd.read_csv(\"/content/drive/MyDrive/Travelers/test_set_engineered.csv\")\n",
        "# test_set.columns"
      ]
    },
    {
      "cell_type": "code",
      "execution_count": null,
      "metadata": {
        "id": "kAuaSwUHsH9h"
      },
      "outputs": [],
      "source": [
        "# Define the explanatory varibale and the dependent varibale\n",
        "X, y = train_set.drop(columns= [\"convert_ind\"]), train_set[\"convert_ind\"]"
      ]
    },
    {
      "cell_type": "code",
      "execution_count": null,
      "metadata": {
        "id": "m48n6bqgshFf"
      },
      "outputs": [],
      "source": [
        "\"\"\"\n",
        "def my_pca(X ,n_comp):\n",
        "    # Instantiate the pca model that would keep the 97.5% of variation in the data (15 variables)\n",
        "    pca = PCA(n_components=n_comp, svd_solver = 'full', random_state=42)\n",
        "\n",
        "    # scale predictor variables\n",
        "    pca = pca.fit(X)\n",
        "    X_reduced = pca.transform(X)\n",
        "    test_pca = pca\n",
        "\n",
        "    return X_reduced, test_pca\n",
        "\n",
        "X_train, X_test, y_train, y_test = train_test_split(X, y, random_state=42, test_size=0.25)\n",
        "\n",
        "# Perform the Principla Component Analysis\n",
        "X_train, test_pca = my_pca(X_train, 139)\n",
        "X_test = test_pca.transform(X_test)\n",
        "\n",
        "\"\"\"\n",
        "X_train, X_test, y_train, y_test = train_test_split(X, y, random_state=42, test_size=0.25)\n",
        "# Scaler the X for neural network\n",
        "scaler = StandardScaler()\n",
        "scaler.fit(X_train)\n",
        "X_train_sc = scaler.transform(X_train)\n",
        "X_test_sc = scaler.transform(X_test)"
      ]
    },
    {
      "cell_type": "code",
      "execution_count": null,
      "metadata": {
        "colab": {
          "base_uri": "https://localhost:8080/"
        },
        "id": "0wG1Syezx5T4",
        "outputId": "60b99c16-bea2-4af0-dcb4-5325158b1dbf"
      },
      "outputs": [
        {
          "name": "stdout",
          "output_type": "stream",
          "text": [
            "0.8887441658525996\n",
            "              precision    recall  f1-score   support\n",
            "\n",
            "    not_conv       0.89      1.00      0.94      8188\n",
            "        conv       0.00      0.00      0.00      1025\n",
            "\n",
            "    accuracy                           0.89      9213\n",
            "   macro avg       0.44      0.50      0.47      9213\n",
            "weighted avg       0.79      0.89      0.84      9213\n",
            "\n",
            "ROC out-of-sample Score: 0.6478158399561523\n"
          ]
        },
        {
          "name": "stderr",
          "output_type": "stream",
          "text": [
            "/usr/local/lib/python3.7/dist-packages/sklearn/metrics/_classification.py:1318: UndefinedMetricWarning: Precision and F-score are ill-defined and being set to 0.0 in labels with no predicted samples. Use `zero_division` parameter to control this behavior.\n",
            "  _warn_prf(average, modifier, msg_start, len(result))\n",
            "/usr/local/lib/python3.7/dist-packages/sklearn/metrics/_classification.py:1318: UndefinedMetricWarning: Precision and F-score are ill-defined and being set to 0.0 in labels with no predicted samples. Use `zero_division` parameter to control this behavior.\n",
            "  _warn_prf(average, modifier, msg_start, len(result))\n",
            "/usr/local/lib/python3.7/dist-packages/sklearn/metrics/_classification.py:1318: UndefinedMetricWarning: Precision and F-score are ill-defined and being set to 0.0 in labels with no predicted samples. Use `zero_division` parameter to control this behavior.\n",
            "  _warn_prf(average, modifier, msg_start, len(result))\n"
          ]
        }
      ],
      "source": [
        "# Train multilayer perceptron on 100 principal components\n",
        "clf = MLPClassifier(activation='logistic', learning_rate='adaptive', random_state=42, max_iter=5000).fit(X_train_sc, y_train)\n",
        "print(clf.score(X_test_sc, y_test))\n",
        "y_pred = clf.predict(X_test_sc)\n",
        "print(classification_report(y_test, y_pred, target_names=['not_conv', 'conv'])) # builds a text report showing the main classification metrics (precision, recall, f1-score)\n",
        "print(f\"ROC out-of-sample Score: {roc_auc_score(y_test, clf.predict_proba(X_test_sc)[:, 1])}\")"
      ]
    },
    {
      "cell_type": "code",
      "execution_count": null,
      "metadata": {
        "colab": {
          "base_uri": "https://localhost:8080/"
        },
        "id": "1wPNucj5yLOw",
        "outputId": "a677a11a-3076-422e-ad17-b79974bbe67e"
      },
      "outputs": [
        {
          "name": "stderr",
          "output_type": "stream",
          "text": [
            "/usr/local/lib/python3.7/dist-packages/sklearn/base.py:444: UserWarning: X has feature names, but MLPClassifier was fitted without feature names\n",
            "  f\"X has feature names, but {self.__class__.__name__} was fitted without\"\n",
            "/usr/local/lib/python3.7/dist-packages/sklearn/base.py:444: UserWarning: X has feature names, but MLPClassifier was fitted without feature names\n",
            "  f\"X has feature names, but {self.__class__.__name__} was fitted without\"\n",
            "/usr/local/lib/python3.7/dist-packages/sklearn/metrics/_classification.py:1318: UndefinedMetricWarning: Precision and F-score are ill-defined and being set to 0.0 in labels with no predicted samples. Use `zero_division` parameter to control this behavior.\n",
            "  _warn_prf(average, modifier, msg_start, len(result))\n",
            "/usr/local/lib/python3.7/dist-packages/sklearn/metrics/_classification.py:1318: UndefinedMetricWarning: Precision and F-score are ill-defined and being set to 0.0 in labels with no predicted samples. Use `zero_division` parameter to control this behavior.\n",
            "  _warn_prf(average, modifier, msg_start, len(result))\n",
            "/usr/local/lib/python3.7/dist-packages/sklearn/metrics/_classification.py:1318: UndefinedMetricWarning: Precision and F-score are ill-defined and being set to 0.0 in labels with no predicted samples. Use `zero_division` parameter to control this behavior.\n",
            "  _warn_prf(average, modifier, msg_start, len(result))\n"
          ]
        },
        {
          "name": "stdout",
          "output_type": "stream",
          "text": [
            "Sorry, Beta Brain's Model Did Not Improve!!\n",
            "              precision    recall  f1-score   support\n",
            "\n",
            "    not_conv       0.89      1.00      0.94      8188\n",
            "        conv       0.00      0.00      0.00      1025\n",
            "\n",
            "    accuracy                           0.89      9213\n",
            "   macro avg       0.44      0.50      0.47      9213\n",
            "weighted avg       0.79      0.89      0.84      9213\n",
            "\n",
            "ROC out-of-sample Score: 0.6478158399561523\n"
          ]
        }
      ],
      "source": [
        "# create submission file if the roc-auc is greater than 0.65\n",
        "auc = roc_auc_score(y_test, clf.predict_proba(X_test)[:, 1])\n",
        "accuracy = clf.score(X_test, y_test)\n",
        "\n",
        "if(auc > 0.65 or accuracy >0.92):\n",
        "\n",
        "    policy_ids = test_set['policy_id']\n",
        "    # Perform the Principla Component Analysis\n",
        "    X_train, test_pca = my_pca(X, 100)\n",
        "    X_test2 = test_pca.transform(test_set.drop(columns=['policy_id']))\n",
        "    clf2 = MLPClassifier(activation='logistic', learning_rate='adaptive', random_state=42).fit(X, y)\n",
        "    probs = clf2.predict_proba(X_test2)[:,1]\n",
        "    # Create submission file and save it in the shared gdrive folder\n",
        "    submission = pd.DataFrame({'policy_id':policy_ids, 'TARGET':probs})\n",
        "    submission.set_index('policy_id')\n",
        "    print(submission.head(5))\n",
        "    submission.to_csv(\"/content/drive/MyDrive/Travelers/janv_submission.csv\",header=True, index=False)\n",
        "\n",
        "else:\n",
        "    print(\"Sorry, Beta Brain's Model Did Not Improve!!\")\n",
        "    print(classification_report(y_test, y_pred, target_names=['not_conv', 'conv']))\n",
        "    print(f\"ROC out-of-sample Score: {roc_auc_score(y_test, clf.predict_proba(X_test_sc)[:, 1])}\")"
      ]
    },
    {
      "cell_type": "markdown",
      "metadata": {
        "id": "j2qGSPnu76HS"
      },
      "source": [
        "## Ensemble Modelling"
      ]
    },
    {
      "cell_type": "code",
      "execution_count": null,
      "metadata": {
        "id": "MHwNqgK7VjkO"
      },
      "outputs": [],
      "source": [
        "train_set = pd.read_csv(\"/content/drive/MyDrive/Travelers/train_set_with_dummy.csv\")\n",
        "test_set = pd.read_csv(\"/content/drive/MyDrive/Travelers/test_set_with_dummy.csv\")\n",
        "\n",
        "# Define the explanatory varibale and the dependent varibale\n",
        "X, y = train_set.drop(columns= [\"convert_ind\"]), train_set[\"convert_ind\"]\n",
        "X_train, X_test, y_train, y_test = train_test_split(X, y, test_size=0.25)"
      ]
    },
    {
      "cell_type": "code",
      "execution_count": null,
      "metadata": {
        "colab": {
          "base_uri": "https://localhost:8080/"
        },
        "id": "FIxjVGYlAlgK",
        "outputId": "e9131d76-cfeb-42c5-bfaf-4ff645c9a3f7"
      },
      "outputs": [
        {
          "output_type": "stream",
          "name": "stdout",
          "text": [
            "train_set shape: (36871, 55)\n",
            "test_set shape: (12291, 56)\n",
            "X_train shape: (27653, 54)\n",
            "X_test shape: (9218, 54)\n"
          ]
        }
      ],
      "source": [
        "print(f\"train_set shape: {train_set.shape}\")\n",
        "print(f\"test_set shape: {test_set.shape}\")\n",
        "print(f\"X_train shape: {X_train.shape}\")\n",
        "print(f\"X_test shape: {X_test.shape}\")"
      ]
    },
    {
      "cell_type": "markdown",
      "metadata": {
        "id": "oDI763xLXFAp"
      },
      "source": [
        "Gradient Boosting"
      ]
    },
    {
      "cell_type": "code",
      "execution_count": null,
      "metadata": {
        "colab": {
          "base_uri": "https://localhost:8080/"
        },
        "id": "bGwmMS-LVh6a",
        "outputId": "88c5621b-997d-47fa-9ecf-0ae9a3592577"
      },
      "outputs": [
        {
          "name": "stdout",
          "output_type": "stream",
          "text": [
            "0.8888527081298165\n",
            "              precision    recall  f1-score   support\n",
            "\n",
            "    not_canv       0.89      1.00      0.94      8189\n",
            "        canv       0.00      0.00      0.00      1024\n",
            "\n",
            "    accuracy                           0.89      9213\n",
            "   macro avg       0.44      0.50      0.47      9213\n",
            "weighted avg       0.79      0.89      0.84      9213\n",
            "\n",
            "ROC out-of-sample Score: 0.6592665036558187\n"
          ]
        },
        {
          "name": "stderr",
          "output_type": "stream",
          "text": [
            "/usr/local/lib/python3.7/dist-packages/sklearn/metrics/_classification.py:1318: UndefinedMetricWarning: Precision and F-score are ill-defined and being set to 0.0 in labels with no predicted samples. Use `zero_division` parameter to control this behavior.\n",
            "  _warn_prf(average, modifier, msg_start, len(result))\n",
            "/usr/local/lib/python3.7/dist-packages/sklearn/metrics/_classification.py:1318: UndefinedMetricWarning: Precision and F-score are ill-defined and being set to 0.0 in labels with no predicted samples. Use `zero_division` parameter to control this behavior.\n",
            "  _warn_prf(average, modifier, msg_start, len(result))\n",
            "/usr/local/lib/python3.7/dist-packages/sklearn/metrics/_classification.py:1318: UndefinedMetricWarning: Precision and F-score are ill-defined and being set to 0.0 in labels with no predicted samples. Use `zero_division` parameter to control this behavior.\n",
            "  _warn_prf(average, modifier, msg_start, len(result))\n"
          ]
        }
      ],
      "source": [
        "from sklearn.ensemble import GradientBoostingClassifier\n",
        "\n",
        "clf = GradientBoostingClassifier(n_estimators=500, learning_rate=0.1, max_depth=1, random_state=42).fit(X_train, y_train)\n",
        "print(clf.score(X_test, y_test))\n",
        "y_pred = clf.predict(X_test)\n",
        "print(classification_report(y_test, y_pred, target_names=['not_canv', 'canv'])) # builds a text report showing the main classification metrics (precision, recall, f1-score)\n",
        "print(f\"ROC out-of-sample Score: {roc_auc_score(y_test, clf.predict_proba(X_test)[:, 1])}\")"
      ]
    },
    {
      "cell_type": "code",
      "execution_count": null,
      "metadata": {
        "colab": {
          "base_uri": "https://localhost:8080/",
          "height": 1000
        },
        "id": "EWJWho4k8xle",
        "outputId": "495ad598-9012-4779-9048-fc208fba223d"
      },
      "outputs": [
        {
          "data": {
            "text/html": [
              "\n",
              "  <div id=\"df-6bc5082b-18b2-4f60-a823-827bb524b8c7\">\n",
              "    <div class=\"colab-df-container\">\n",
              "      <div>\n",
              "<style scoped>\n",
              "    .dataframe tbody tr th:only-of-type {\n",
              "        vertical-align: middle;\n",
              "    }\n",
              "\n",
              "    .dataframe tbody tr th {\n",
              "        vertical-align: top;\n",
              "    }\n",
              "\n",
              "    .dataframe thead th {\n",
              "        text-align: right;\n",
              "    }\n",
              "</style>\n",
              "<table border=\"1\" class=\"dataframe\">\n",
              "  <thead>\n",
              "    <tr style=\"text-align: right;\">\n",
              "      <th></th>\n",
              "      <th>feature</th>\n",
              "      <th>importance</th>\n",
              "    </tr>\n",
              "  </thead>\n",
              "  <tbody>\n",
              "    <tr>\n",
              "      <th>19</th>\n",
              "      <td>age_ppl</td>\n",
              "      <td>0.281772</td>\n",
              "    </tr>\n",
              "    <tr>\n",
              "      <th>2</th>\n",
              "      <td>quoted_amt</td>\n",
              "      <td>0.145695</td>\n",
              "    </tr>\n",
              "    <tr>\n",
              "      <th>5</th>\n",
              "      <td>CAT_zone</td>\n",
              "      <td>0.112603</td>\n",
              "    </tr>\n",
              "    <tr>\n",
              "      <th>21</th>\n",
              "      <td>high_education_ind</td>\n",
              "      <td>0.109003</td>\n",
              "    </tr>\n",
              "    <tr>\n",
              "      <th>0</th>\n",
              "      <td>discount</td>\n",
              "      <td>0.050782</td>\n",
              "    </tr>\n",
              "    <tr>\n",
              "      <th>17</th>\n",
              "      <td>Prior_carrier_grp_Carrier_8</td>\n",
              "      <td>0.047764</td>\n",
              "    </tr>\n",
              "    <tr>\n",
              "      <th>4</th>\n",
              "      <td>Cov_package_type</td>\n",
              "      <td>0.031555</td>\n",
              "    </tr>\n",
              "    <tr>\n",
              "      <th>6</th>\n",
              "      <td>number_drivers</td>\n",
              "      <td>0.030146</td>\n",
              "    </tr>\n",
              "    <tr>\n",
              "      <th>3</th>\n",
              "      <td>credit_score</td>\n",
              "      <td>0.029319</td>\n",
              "    </tr>\n",
              "    <tr>\n",
              "      <th>12</th>\n",
              "      <td>Prior_carrier_grp_Carrier_3</td>\n",
              "      <td>0.027820</td>\n",
              "    </tr>\n",
              "    <tr>\n",
              "      <th>22</th>\n",
              "      <td>dependent</td>\n",
              "      <td>0.018401</td>\n",
              "    </tr>\n",
              "    <tr>\n",
              "      <th>16</th>\n",
              "      <td>Prior_carrier_grp_Carrier_7</td>\n",
              "      <td>0.018210</td>\n",
              "    </tr>\n",
              "    <tr>\n",
              "      <th>47</th>\n",
              "      <td>MERCEDES-BENZ</td>\n",
              "      <td>0.015758</td>\n",
              "    </tr>\n",
              "    <tr>\n",
              "      <th>27</th>\n",
              "      <td>age_car</td>\n",
              "      <td>0.014711</td>\n",
              "    </tr>\n",
              "    <tr>\n",
              "      <th>20</th>\n",
              "      <td>safty_rating</td>\n",
              "      <td>0.009241</td>\n",
              "    </tr>\n",
              "    <tr>\n",
              "      <th>37</th>\n",
              "      <td>BMW</td>\n",
              "      <td>0.007510</td>\n",
              "    </tr>\n",
              "    <tr>\n",
              "      <th>14</th>\n",
              "      <td>Prior_carrier_grp_Carrier_5</td>\n",
              "      <td>0.007398</td>\n",
              "    </tr>\n",
              "    <tr>\n",
              "      <th>11</th>\n",
              "      <td>Prior_carrier_grp_Carrier_2</td>\n",
              "      <td>0.006137</td>\n",
              "    </tr>\n",
              "    <tr>\n",
              "      <th>48</th>\n",
              "      <td>NISSAN</td>\n",
              "      <td>0.005414</td>\n",
              "    </tr>\n",
              "    <tr>\n",
              "      <th>33</th>\n",
              "      <td>silver</td>\n",
              "      <td>0.004411</td>\n",
              "    </tr>\n",
              "    <tr>\n",
              "      <th>29</th>\n",
              "      <td>blue</td>\n",
              "      <td>0.004389</td>\n",
              "    </tr>\n",
              "    <tr>\n",
              "      <th>32</th>\n",
              "      <td>red</td>\n",
              "      <td>0.003590</td>\n",
              "    </tr>\n",
              "    <tr>\n",
              "      <th>40</th>\n",
              "      <td>CHEVROLET</td>\n",
              "      <td>0.002770</td>\n",
              "    </tr>\n",
              "    <tr>\n",
              "      <th>10</th>\n",
              "      <td>total_number_veh</td>\n",
              "      <td>0.002288</td>\n",
              "    </tr>\n",
              "    <tr>\n",
              "      <th>44</th>\n",
              "      <td>GMC</td>\n",
              "      <td>0.002192</td>\n",
              "    </tr>\n",
              "    <tr>\n",
              "      <th>45</th>\n",
              "      <td>HONDA</td>\n",
              "      <td>0.002142</td>\n",
              "    </tr>\n",
              "    <tr>\n",
              "      <th>42</th>\n",
              "      <td>DODGE</td>\n",
              "      <td>0.001875</td>\n",
              "    </tr>\n",
              "    <tr>\n",
              "      <th>43</th>\n",
              "      <td>FORD</td>\n",
              "      <td>0.001856</td>\n",
              "    </tr>\n",
              "    <tr>\n",
              "      <th>34</th>\n",
              "      <td>white</td>\n",
              "      <td>0.001501</td>\n",
              "    </tr>\n",
              "    <tr>\n",
              "      <th>50</th>\n",
              "      <td>SATURN</td>\n",
              "      <td>0.001350</td>\n",
              "    </tr>\n",
              "    <tr>\n",
              "      <th>26</th>\n",
              "      <td>M</td>\n",
              "      <td>0.001020</td>\n",
              "    </tr>\n",
              "    <tr>\n",
              "      <th>28</th>\n",
              "      <td>black</td>\n",
              "      <td>0.000504</td>\n",
              "    </tr>\n",
              "    <tr>\n",
              "      <th>7</th>\n",
              "      <td>num_loaned_veh</td>\n",
              "      <td>0.000428</td>\n",
              "    </tr>\n",
              "    <tr>\n",
              "      <th>31</th>\n",
              "      <td>other</td>\n",
              "      <td>0.000228</td>\n",
              "    </tr>\n",
              "    <tr>\n",
              "      <th>15</th>\n",
              "      <td>Prior_carrier_grp_Carrier_6</td>\n",
              "      <td>0.000215</td>\n",
              "    </tr>\n",
              "  </tbody>\n",
              "</table>\n",
              "</div>\n",
              "      <button class=\"colab-df-convert\" onclick=\"convertToInteractive('df-6bc5082b-18b2-4f60-a823-827bb524b8c7')\"\n",
              "              title=\"Convert this dataframe to an interactive table.\"\n",
              "              style=\"display:none;\">\n",
              "        \n",
              "  <svg xmlns=\"http://www.w3.org/2000/svg\" height=\"24px\"viewBox=\"0 0 24 24\"\n",
              "       width=\"24px\">\n",
              "    <path d=\"M0 0h24v24H0V0z\" fill=\"none\"/>\n",
              "    <path d=\"M18.56 5.44l.94 2.06.94-2.06 2.06-.94-2.06-.94-.94-2.06-.94 2.06-2.06.94zm-11 1L8.5 8.5l.94-2.06 2.06-.94-2.06-.94L8.5 2.5l-.94 2.06-2.06.94zm10 10l.94 2.06.94-2.06 2.06-.94-2.06-.94-.94-2.06-.94 2.06-2.06.94z\"/><path d=\"M17.41 7.96l-1.37-1.37c-.4-.4-.92-.59-1.43-.59-.52 0-1.04.2-1.43.59L10.3 9.45l-7.72 7.72c-.78.78-.78 2.05 0 2.83L4 21.41c.39.39.9.59 1.41.59.51 0 1.02-.2 1.41-.59l7.78-7.78 2.81-2.81c.8-.78.8-2.07 0-2.86zM5.41 20L4 18.59l7.72-7.72 1.47 1.35L5.41 20z\"/>\n",
              "  </svg>\n",
              "      </button>\n",
              "      \n",
              "  <style>\n",
              "    .colab-df-container {\n",
              "      display:flex;\n",
              "      flex-wrap:wrap;\n",
              "      gap: 12px;\n",
              "    }\n",
              "\n",
              "    .colab-df-convert {\n",
              "      background-color: #E8F0FE;\n",
              "      border: none;\n",
              "      border-radius: 50%;\n",
              "      cursor: pointer;\n",
              "      display: none;\n",
              "      fill: #1967D2;\n",
              "      height: 32px;\n",
              "      padding: 0 0 0 0;\n",
              "      width: 32px;\n",
              "    }\n",
              "\n",
              "    .colab-df-convert:hover {\n",
              "      background-color: #E2EBFA;\n",
              "      box-shadow: 0px 1px 2px rgba(60, 64, 67, 0.3), 0px 1px 3px 1px rgba(60, 64, 67, 0.15);\n",
              "      fill: #174EA6;\n",
              "    }\n",
              "\n",
              "    [theme=dark] .colab-df-convert {\n",
              "      background-color: #3B4455;\n",
              "      fill: #D2E3FC;\n",
              "    }\n",
              "\n",
              "    [theme=dark] .colab-df-convert:hover {\n",
              "      background-color: #434B5C;\n",
              "      box-shadow: 0px 1px 3px 1px rgba(0, 0, 0, 0.15);\n",
              "      filter: drop-shadow(0px 1px 2px rgba(0, 0, 0, 0.3));\n",
              "      fill: #FFFFFF;\n",
              "    }\n",
              "  </style>\n",
              "\n",
              "      <script>\n",
              "        const buttonEl =\n",
              "          document.querySelector('#df-6bc5082b-18b2-4f60-a823-827bb524b8c7 button.colab-df-convert');\n",
              "        buttonEl.style.display =\n",
              "          google.colab.kernel.accessAllowed ? 'block' : 'none';\n",
              "\n",
              "        async function convertToInteractive(key) {\n",
              "          const element = document.querySelector('#df-6bc5082b-18b2-4f60-a823-827bb524b8c7');\n",
              "          const dataTable =\n",
              "            await google.colab.kernel.invokeFunction('convertToInteractive',\n",
              "                                                     [key], {});\n",
              "          if (!dataTable) return;\n",
              "\n",
              "          const docLinkHtml = 'Like what you see? Visit the ' +\n",
              "            '<a target=\"_blank\" href=https://colab.research.google.com/notebooks/data_table.ipynb>data table notebook</a>'\n",
              "            + ' to learn more about interactive tables.';\n",
              "          element.innerHTML = '';\n",
              "          dataTable['output_type'] = 'display_data';\n",
              "          await google.colab.output.renderOutput(dataTable, element);\n",
              "          const docLink = document.createElement('div');\n",
              "          docLink.innerHTML = docLinkHtml;\n",
              "          element.appendChild(docLink);\n",
              "        }\n",
              "      </script>\n",
              "    </div>\n",
              "  </div>\n",
              "  "
            ],
            "text/plain": [
              "                        feature  importance\n",
              "19                      age_ppl    0.281772\n",
              "2                    quoted_amt    0.145695\n",
              "5                      CAT_zone    0.112603\n",
              "21           high_education_ind    0.109003\n",
              "0                      discount    0.050782\n",
              "17  Prior_carrier_grp_Carrier_8    0.047764\n",
              "4              Cov_package_type    0.031555\n",
              "6                number_drivers    0.030146\n",
              "3                  credit_score    0.029319\n",
              "12  Prior_carrier_grp_Carrier_3    0.027820\n",
              "22                    dependent    0.018401\n",
              "16  Prior_carrier_grp_Carrier_7    0.018210\n",
              "47                MERCEDES-BENZ    0.015758\n",
              "27                      age_car    0.014711\n",
              "20                 safty_rating    0.009241\n",
              "37                          BMW    0.007510\n",
              "14  Prior_carrier_grp_Carrier_5    0.007398\n",
              "11  Prior_carrier_grp_Carrier_2    0.006137\n",
              "48                       NISSAN    0.005414\n",
              "33                       silver    0.004411\n",
              "29                         blue    0.004389\n",
              "32                          red    0.003590\n",
              "40                    CHEVROLET    0.002770\n",
              "10             total_number_veh    0.002288\n",
              "44                          GMC    0.002192\n",
              "45                        HONDA    0.002142\n",
              "42                        DODGE    0.001875\n",
              "43                         FORD    0.001856\n",
              "34                        white    0.001501\n",
              "50                       SATURN    0.001350\n",
              "26                            M    0.001020\n",
              "28                        black    0.000504\n",
              "7                num_loaned_veh    0.000428\n",
              "31                        other    0.000228\n",
              "15  Prior_carrier_grp_Carrier_6    0.000215"
            ]
          },
          "execution_count": 175,
          "metadata": {},
          "output_type": "execute_result"
        }
      ],
      "source": [
        "# Define feature importance for the model\n",
        "features_importances = pd.DataFrame({'feature':X_train.columns, \"importance\":clf.feature_importances_}).sort_values(by='importance', ascending=False)\n",
        "important_features = features_importances[features_importances.importance>0]\n",
        "important_features.head(50)"
      ]
    },
    {
      "cell_type": "code",
      "execution_count": null,
      "metadata": {
        "colab": {
          "base_uri": "https://localhost:8080/",
          "height": 235
        },
        "id": "K7A6cn0J8ilk",
        "outputId": "d9587843-b5e2-4536-e2a5-2da29a67c8e4"
      },
      "outputs": [
        {
          "ename": "NameError",
          "evalue": "ignored",
          "output_type": "error",
          "traceback": [
            "\u001b[0;31m---------------------------------------------------------------------------\u001b[0m",
            "\u001b[0;31mNameError\u001b[0m                                 Traceback (most recent call last)",
            "\u001b[0;32m<ipython-input-9-9380ac760bec>\u001b[0m in \u001b[0;36m<module>\u001b[0;34m\u001b[0m\n\u001b[1;32m      1\u001b[0m \u001b[0;31m# Define new data with only important features\u001b[0m\u001b[0;34m\u001b[0m\u001b[0;34m\u001b[0m\u001b[0;34m\u001b[0m\u001b[0m\n\u001b[0;32m----> 2\u001b[0;31m \u001b[0mX_train_imp\u001b[0m \u001b[0;34m=\u001b[0m \u001b[0mX_train\u001b[0m\u001b[0;34m[\u001b[0m\u001b[0mimportant_features\u001b[0m\u001b[0;34m.\u001b[0m\u001b[0mfeature\u001b[0m\u001b[0;34m]\u001b[0m\u001b[0;34m\u001b[0m\u001b[0;34m\u001b[0m\u001b[0m\n\u001b[0m\u001b[1;32m      3\u001b[0m \u001b[0mX_test_imp\u001b[0m \u001b[0;34m=\u001b[0m \u001b[0mX_test\u001b[0m\u001b[0;34m[\u001b[0m\u001b[0mimportant_features\u001b[0m\u001b[0;34m.\u001b[0m\u001b[0mfeature\u001b[0m\u001b[0;34m]\u001b[0m\u001b[0;34m\u001b[0m\u001b[0;34m\u001b[0m\u001b[0m\n\u001b[1;32m      4\u001b[0m \u001b[0;34m\u001b[0m\u001b[0m\n\u001b[1;32m      5\u001b[0m \u001b[0;31m#Retrain the model with only important features\u001b[0m\u001b[0;34m\u001b[0m\u001b[0;34m\u001b[0m\u001b[0;34m\u001b[0m\u001b[0m\n",
            "\u001b[0;31mNameError\u001b[0m: name 'important_features' is not defined"
          ]
        }
      ],
      "source": [
        "# Define new data with only important features\n",
        "X_train_imp = X_train[important_features.feature]\n",
        "X_test_imp = X_test[important_features.feature]\n",
        "\n",
        "#Retrain the model with only important features\n",
        "clf = GradientBoostingClassifier(n_estimators=500, learning_rate=0.1, max_depth=1, random_state=42).fit(X_train_imp, y_train)\n",
        "print(clf.score(X_test_imp, y_test))\n",
        "y_pred = clf.predict(X_test_imp)\n",
        "print(classification_report(y_test, y_pred, target_names=['not_canv', 'canv'])) # builds a text report showing the main classification metrics (precision, recall, f1-score)\n",
        "print(f\"ROC out-of-sample Score: {roc_auc_score(y_test, clf.predict_proba(X_test_imp)[:, 1])}\")"
      ]
    },
    {
      "cell_type": "markdown",
      "metadata": {
        "id": "VCHZ51IW1N7I"
      },
      "source": [
        "GBoost parameter tuning"
      ]
    },
    {
      "cell_type": "code",
      "execution_count": null,
      "metadata": {
        "id": "G_EBXJeZhn0y"
      },
      "outputs": [],
      "source": [
        "from sklearn.model_selection import GridSearchCV\n",
        "\n",
        "param_test1 = {\n",
        " 'max_depth':range(1, 4),\n",
        " 'min_samples_leaf':[100, 500, 1000],\n",
        " 'n_estimators':[100, 200, 300, 500],\n",
        " 'ccp_alpha':[0, 10e1, 10e3, 10e5]\n",
        "}\n",
        "gsearch1 = GridSearchCV(estimator = GradientBoostingClassifier(learning_rate=0.05, max_features = 'sqrt', ), \n",
        " param_grid = param_test1, scoring='roc_auc',n_jobs=4, cv=5)\n",
        "\n",
        "\n",
        "gsearch1.fit(X_train, y_train)\n",
        "gsearch1.best_params_, gsearch1.best_score_"
      ]
    },
    {
      "cell_type": "code",
      "execution_count": null,
      "metadata": {
        "colab": {
          "base_uri": "https://localhost:8080/"
        },
        "id": "yqj_h2-2bWAS",
        "outputId": "849d5389-3742-4bd8-eb5f-8cb4839cca02"
      },
      "outputs": [
        {
          "name": "stdout",
          "output_type": "stream",
          "text": [
            "Hooray, Beta Brain's Model Has Improved!!\n",
            "      policy_id    TARGET\n",
            "0  policy_89288  0.078843\n",
            "1  policy_23460  0.089537\n",
            "2  policy_43809  0.042462\n",
            "3   policy_4590  0.162060\n",
            "4  policy_65525  0.100680\n"
          ]
        }
      ],
      "source": [
        "# create submission file if the roc-auc is greater than 0.65\n",
        "auc = roc_auc_score(y_test, clf.predict_proba(X_test)[:, 1])\n",
        "accuracy = clf.score(X_test, y_test)\n",
        "\n",
        "if(auc > 0.675 or accuracy >0.92):\n",
        "\n",
        "    print(\"Hooray, Beta Brain's Model Has Improved!!\")\n",
        "    policy_ids = test_set['policy_id']\n",
        "    # Perform the Principla Component Analysis\n",
        "    X_train, y_train = train_set.drop(columns= [\"convert_ind\"]), train_set[\"convert_ind\"]\n",
        "\n",
        "    X_test2 = test_set.drop(columns=['policy_id', 'convert_ind'])\n",
        "\n",
        "    clf2 = GradientBoostingClassifier(n_estimators=500, learning_rate=0.1, max_depth=1, random_state=0).fit(X_train, y_train)\n",
        "    probs = clf2.predict_proba(X_test2)[:,1]\n",
        "    # Create submission file and save it in the shared gdrive folder\n",
        "    submission = pd.DataFrame({'policy_id':policy_ids, 'TARGET':probs})\n",
        "    submission.set_index('policy_id')\n",
        "    print(submission.head(5))\n",
        "    submission.to_csv(\"/content/drive/MyDrive/Travelers/submission.csv\",header=True, index=False)\n",
        "\n",
        "else:\n",
        "    print(\"Sorry, Beta Brain's Model Did Not Improve!!\")\n",
        "    print(classification_report(y_test, y_pred, target_names=['not_conv', 'conv']))\n",
        "    print(f\"ROC out-of-sample Score: {roc_auc_score(y_test, clf.predict_proba(X_test)[:, 1])}\")"
      ]
    },
    {
      "cell_type": "markdown",
      "metadata": {
        "id": "aE_f5994XH9F"
      },
      "source": [
        "Histogram Gradient Boosting"
      ]
    },
    {
      "cell_type": "code",
      "execution_count": null,
      "metadata": {
        "colab": {
          "base_uri": "https://localhost:8080/"
        },
        "id": "EVv2HPFaWAU_",
        "outputId": "71c1d3f9-0884-456b-b956-ab9e4725332f"
      },
      "outputs": [
        {
          "name": "stdout",
          "output_type": "stream",
          "text": [
            "0.8922759817747885\n",
            "              precision    recall  f1-score   support\n",
            "\n",
            "    not_canv       0.89      1.00      0.94      8225\n",
            "        canv       0.00      0.00      0.00       993\n",
            "\n",
            "    accuracy                           0.89      9218\n",
            "   macro avg       0.45      0.50      0.47      9218\n",
            "weighted avg       0.80      0.89      0.84      9218\n",
            "\n",
            "ROC out-of-sample Score: 0.6505042899077739\n"
          ]
        },
        {
          "name": "stderr",
          "output_type": "stream",
          "text": [
            "/usr/local/lib/python3.7/dist-packages/sklearn/metrics/_classification.py:1318: UndefinedMetricWarning: Precision and F-score are ill-defined and being set to 0.0 in labels with no predicted samples. Use `zero_division` parameter to control this behavior.\n",
            "  _warn_prf(average, modifier, msg_start, len(result))\n",
            "/usr/local/lib/python3.7/dist-packages/sklearn/metrics/_classification.py:1318: UndefinedMetricWarning: Precision and F-score are ill-defined and being set to 0.0 in labels with no predicted samples. Use `zero_division` parameter to control this behavior.\n",
            "  _warn_prf(average, modifier, msg_start, len(result))\n",
            "/usr/local/lib/python3.7/dist-packages/sklearn/metrics/_classification.py:1318: UndefinedMetricWarning: Precision and F-score are ill-defined and being set to 0.0 in labels with no predicted samples. Use `zero_division` parameter to control this behavior.\n",
            "  _warn_prf(average, modifier, msg_start, len(result))\n"
          ]
        }
      ],
      "source": [
        "from sklearn.ensemble import HistGradientBoostingClassifier\n",
        "\n",
        "clf_hist = HistGradientBoostingClassifier(learning_rate=0.05, \n",
        "                                          max_iter=500, l2_regularization=10, max_bins=255, random_state=42).fit(X_train, y_train)\n",
        "print(clf_hist.score(X_test, y_test))\n",
        "y_pred = clf_hist.predict(X_test)\n",
        "print(classification_report(y_test, y_pred, target_names=['not_canv', 'canv'])) # builds a text report showing the main classification metrics (precision, recall, f1-score)\n",
        "print(f\"ROC out-of-sample Score: {roc_auc_score(y_test, clf_hist.predict_proba(X_test)[:, 1])}\")"
      ]
    },
    {
      "cell_type": "markdown",
      "metadata": {
        "id": "kvCaW_K48EJa"
      },
      "source": [
        "XGboosting"
      ]
    },
    {
      "cell_type": "code",
      "source": [
        "############################### Import Libraries & Modules #################################\n",
        "from sklearn.model_selection import GridSearchCV, KFold, cross_val_score \n",
        "# Standardize features by removing the mean and scaling to unit variance\n",
        "from sklearn.preprocessing import StandardScaler\n",
        "import numpy as np\n",
        "from sklearn.decomposition import PCA\n",
        "from sklearn.preprocessing import MinMaxScaler, StandardScaler\n",
        "from sklearn.metrics import classification_report, roc_auc_score\n",
        "import pandas as pd\n",
        "import numpy as np\n",
        "from sklearn.model_selection import train_test_split\n",
        "# Import the multilinear perceptron a.k.a feeed forward neural network\n",
        "from sklearn.neural_network import MLPClassifier"
      ],
      "metadata": {
        "id": "1vkUwk-_AVpq"
      },
      "execution_count": null,
      "outputs": []
    },
    {
      "cell_type": "code",
      "source": [
        "from google.colab import drive\n",
        "drive.mount('/content/drive')"
      ],
      "metadata": {
        "colab": {
          "base_uri": "https://localhost:8080/"
        },
        "id": "DVdnbgggbHa7",
        "outputId": "e410866c-d98b-4a43-ccec-427ce100aecd"
      },
      "execution_count": null,
      "outputs": [
        {
          "output_type": "stream",
          "name": "stdout",
          "text": [
            "Mounted at /content/drive\n"
          ]
        }
      ]
    },
    {
      "cell_type": "code",
      "source": [
        "train_set = pd.read_csv(\"/content/drive/MyDrive/Travelers/train_set_with_dummy_final.csv\")\n",
        "test_set = pd.read_csv(\"/content/drive/MyDrive/Travelers/test_set_with_dummy_final.csv\")\n",
        "\n",
        "# Define the explanatory varibale and the dependent varibale\n",
        "X, y = train_set.drop(columns= [\"convert_ind\"]), train_set[\"convert_ind\"]\n",
        "X_train, X_test, y_train, y_test = train_test_split(X, y, test_size=0.20)"
      ],
      "metadata": {
        "id": "i6A8GwqEWOAA"
      },
      "execution_count": null,
      "outputs": []
    },
    {
      "cell_type": "code",
      "execution_count": null,
      "metadata": {
        "id": "08YwEy1O8N3P"
      },
      "outputs": [],
      "source": [
        "# ## Summer - XGBoost\n",
        "# from xgboost import XGBClassifier\n",
        "\n",
        "# xgboost = XGBClassifier(learning_rate=0.05, alpha=0, gamma=0.0, max_depth=1, min_child_weight=5, n_estimators=500,\n",
        "#                         subsample=0.8, colsample_bytree=0.8, reg_alpha=0.005, random_state=42)\n",
        "\n",
        "# xgboost.fit(X_train, y_train)\n",
        "# y_pred = xgboost.predict(X_test)\n",
        "# preds_proba = xgboost.predict_proba(X_test)\n",
        "# print(classification_report(y_test, y_pred, target_names=['not_canv', 'canv'])) # builds a text report showing the main classification metrics (precision, recall, f1-score)\n",
        "# print(f\"ROC in-of-sample Score: {roc_auc_score(y_train, xgboost.predict_proba(X_train)[:, 1])}\")\n",
        "# print(f\"ROC out-of-sample Score: {roc_auc_score(y_test, xgboost.predict_proba(X_test)[:, 1])}\")"
      ]
    },
    {
      "cell_type": "code",
      "execution_count": null,
      "metadata": {
        "id": "bH0XQXoNLxgS",
        "colab": {
          "base_uri": "https://localhost:8080/"
        },
        "outputId": "cb985400-d6e8-460c-d006-dee6057c287e"
      },
      "outputs": [
        {
          "output_type": "stream",
          "name": "stdout",
          "text": [
            "Resampled dataset shape Counter({0.0: 3294, 1.0: 3294})\n"
          ]
        }
      ],
      "source": [
        "# Undersampling\n",
        "\n",
        "from imblearn.under_sampling import RandomUnderSampler\n",
        "from collections import Counter\n",
        "\n",
        "ros = RandomUnderSampler(random_state=42) # resample all classes but the minority class\n",
        "X_undersampled, y_undersampled = ros.fit_resample(X_train, y_train)\n",
        "\n",
        "print('Resampled dataset shape %s' % Counter(y_undersampled))"
      ]
    },
    {
      "cell_type": "code",
      "execution_count": null,
      "metadata": {
        "id": "KUyrgqz8L6EM",
        "colab": {
          "base_uri": "https://localhost:8080/",
          "height": 201
        },
        "outputId": "5c3253ae-3716-4203-d9ea-2c85e715839b"
      },
      "outputs": [
        {
          "output_type": "error",
          "ename": "AttributeError",
          "evalue": "ignored",
          "traceback": [
            "\u001b[0;31m---------------------------------------------------------------------------\u001b[0m",
            "\u001b[0;31mAttributeError\u001b[0m                            Traceback (most recent call last)",
            "\u001b[0;32m<ipython-input-6-bbd8e8c0e7b4>\u001b[0m in \u001b[0;36m<module>\u001b[0;34m\u001b[0m\n\u001b[1;32m     15\u001b[0m \u001b[0;34m\u001b[0m\u001b[0m\n\u001b[1;32m     16\u001b[0m \u001b[0mgsearch1\u001b[0m\u001b[0;34m.\u001b[0m\u001b[0mfit\u001b[0m\u001b[0;34m(\u001b[0m\u001b[0mX_train\u001b[0m\u001b[0;34m,\u001b[0m \u001b[0my_train\u001b[0m\u001b[0;34m)\u001b[0m\u001b[0;34m\u001b[0m\u001b[0;34m\u001b[0m\u001b[0m\n\u001b[0;32m---> 17\u001b[0;31m \u001b[0mgsearch1\u001b[0m\u001b[0;34m.\u001b[0m\u001b[0mbest_params_\u001b[0m\u001b[0;34m,\u001b[0m \u001b[0mgsearch1\u001b[0m\u001b[0;34m.\u001b[0m\u001b[0mbest_score\u001b[0m\u001b[0;34m\u001b[0m\u001b[0;34m\u001b[0m\u001b[0m\n\u001b[0m",
            "\u001b[0;31mAttributeError\u001b[0m: 'GridSearchCV' object has no attribute 'best_score'"
          ]
        }
      ],
      "source": [
        "from sklearn.model_selection import GridSearchCV\n",
        "from xgboost import XGBClassifier\n",
        "\n",
        "param_test1 = {\n",
        " 'max_depth':range(1, 4),\n",
        " 'min_child_weight':range(1,6,2),\n",
        " 'n_estimators':[100, 200, 500],\n",
        " 'gamma':[i/20.0 for i in range(5)],\n",
        " 'alpha':[0, 10e3, 10e5]\n",
        "}\n",
        "gsearch1 = GridSearchCV(estimator = XGBClassifier( learning_rate=0.05,\n",
        "                        subsample=0.8, colsample_bytree=0.8, reg_alpha=0.005), \n",
        " param_grid = param_test1, scoring='roc_auc',n_jobs=4, cv=5)\n",
        "\n",
        "\n",
        "gsearch1.fit(X_train, y_train)\n",
        "gsearch1.best_params_, gsearch1.best_score_"
      ]
    },
    {
      "cell_type": "code",
      "source": [
        "gsearch1.best_params_, gsearch1.best_score_"
      ],
      "metadata": {
        "colab": {
          "base_uri": "https://localhost:8080/"
        },
        "id": "bnEQehmv_J5t",
        "outputId": "d3bf4130-7bbd-46d3-d0f4-666330b5acf5"
      },
      "execution_count": null,
      "outputs": [
        {
          "output_type": "execute_result",
          "data": {
            "text/plain": [
              "({'alpha': 0,\n",
              "  'gamma': 0.0,\n",
              "  'max_depth': 1,\n",
              "  'min_child_weight': 3,\n",
              "  'n_estimators': 500},\n",
              " 0.6806172575237656)"
            ]
          },
          "metadata": {},
          "execution_count": 9
        }
      ]
    },
    {
      "cell_type": "code",
      "execution_count": null,
      "metadata": {
        "id": "uCa_tnEaL2nE",
        "colab": {
          "base_uri": "https://localhost:8080/"
        },
        "outputId": "7cb60ce8-59a6-430e-e39e-7395775e01c3"
      },
      "outputs": [
        {
          "output_type": "stream",
          "name": "stdout",
          "text": [
            "1. ROC Score in-sample: 0.690008071901591, out-sample: 0.6569371015572043,   Not improved (:\n",
            "Hooray, Beta Brain's Model Has Improved. in-sample: 0.6857598916868641, out-sample: 0.6930540282309675\n",
            "3. ROC Score in-sample: 0.6878878401450549, out-sample: 0.67715619274337,   Not improved (:\n",
            "4. ROC Score in-sample: 0.6887140623520074, out-sample: 0.6612965333237187,   Not improved (:\n",
            "5. ROC Score in-sample: 0.6878280066403472, out-sample: 0.6767853472985884,   Not improved (:\n",
            "6. ROC Score in-sample: 0.6865843606149691, out-sample: 0.6795983143070522,   Not improved (:\n",
            "Hooray, Beta Brain's Model Has Improved. in-sample: 0.6859163096846401, out-sample: 0.6923560359707068\n",
            "8. ROC Score in-sample: 0.6886365089116652, out-sample: 0.6701282853493813,   Not improved (:\n",
            "9. ROC Score in-sample: 0.6840682690088784, out-sample: 0.712579133010169,   Not improved (:\n",
            "10. ROC Score in-sample: 0.6843359184534956, out-sample: 0.7080182945512739,   Not improved (:\n",
            "Hooray, Beta Brain's Model Has Improved. in-sample: 0.6869271557628966, out-sample: 0.6866175416397002\n",
            "12. ROC Score in-sample: 0.6872201950475815, out-sample: 0.68093021999272,   Not improved (:\n",
            "13. ROC Score in-sample: 0.6870646178819257, out-sample: 0.6802218459173028,   Not improved (:\n",
            "14. ROC Score in-sample: 0.6845220853433943, out-sample: 0.7038980302486848,   Not improved (:\n",
            "15. ROC Score in-sample: 0.687615935857374, out-sample: 0.6769581457282463,   Not improved (:\n",
            "16. ROC Score in-sample: 0.6880450418964541, out-sample: 0.6734172876672638,   Not improved (:\n",
            "17. ROC Score in-sample: 0.6890033565878476, out-sample: 0.6579134762148696,   Not improved (:\n",
            "18. ROC Score in-sample: 0.6872717276618308, out-sample: 0.6817939777770854,   Not improved (:\n",
            "19. ROC Score in-sample: 0.6871915759843127, out-sample: 0.6818643552311436,   Not improved (:\n",
            "Hooray, Beta Brain's Model Has Improved. in-sample: 0.6863749396234409, out-sample: 0.6916150182610633\n",
            "Hooray, Beta Brain's Model Has Improved. in-sample: 0.6852537325407195, out-sample: 0.6985126494300806\n",
            "22. ROC Score in-sample: 0.6879841724641236, out-sample: 0.6769516194935563,   Not improved (:\n",
            "Hooray, Beta Brain's Model Has Improved. in-sample: 0.6856055700118606, out-sample: 0.6956256789535558\n",
            "24. ROC Score in-sample: 0.6878523167161422, out-sample: 0.6698710914065815,   Not improved (:\n",
            "25. ROC Score in-sample: 0.6871452428455357, out-sample: 0.6797401557365498,   Not improved (:\n",
            "26. ROC Score in-sample: 0.6880677865942524, out-sample: 0.6739736213414612,   Not improved (:\n",
            "27. ROC Score in-sample: 0.6877124732494347, out-sample: 0.6764891062864398,   Not improved (:\n",
            "28. ROC Score in-sample: 0.6871198271771594, out-sample: 0.6823603551292339,   Not improved (:\n",
            "29. ROC Score in-sample: 0.6901074447089324, out-sample: 0.6539781839772064,   Not improved (:\n",
            "30. ROC Score in-sample: 0.6897560435651878, out-sample: 0.658062671212916,   Not improved (:\n",
            "31. ROC Score in-sample: 0.6843485692891672, out-sample: 0.7073883066638691,   Not improved (:\n",
            "Hooray, Beta Brain's Model Has Improved. in-sample: 0.6861937953251622, out-sample: 0.6923953201970444\n",
            "33. ROC Score in-sample: 0.6881850503578246, out-sample: 0.6704955742678593,   Not improved (:\n",
            "34. ROC Score in-sample: 0.6893060097470283, out-sample: 0.6615936515221157,   Not improved (:\n",
            "35. ROC Score in-sample: 0.6871388039309447, out-sample: 0.6844726439142779,   Not improved (:\n",
            "36. ROC Score in-sample: 0.6877125142025392, out-sample: 0.6731104700439808,   Not improved (:\n",
            "37. ROC Score in-sample: 0.6867992185342482, out-sample: 0.6802478480933781,   Not improved (:\n",
            "Hooray, Beta Brain's Model Has Improved. in-sample: 0.6858626073990898, out-sample: 0.6898535708428387\n",
            "39. ROC Score in-sample: 0.6873942878986327, out-sample: 0.6794011545058524,   Not improved (:\n",
            "40. ROC Score in-sample: 0.6888122349387091, out-sample: 0.6698389270581061,   Not improved (:\n",
            "41. ROC Score in-sample: 0.6885858154022059, out-sample: 0.6648443389247796,   Not improved (:\n",
            "Hooray, Beta Brain's Model Has Improved. in-sample: 0.6862910734602923, out-sample: 0.6900326295304567\n",
            "43. ROC Score in-sample: 0.6880822326661904, out-sample: 0.6770874871554505,   Not improved (:\n",
            "44. ROC Score in-sample: 0.6870733276791345, out-sample: 0.6777301477232134,   Not improved (:\n",
            "45. ROC Score in-sample: 0.6889560103147138, out-sample: 0.6651043973667731,   Not improved (:\n",
            "46. ROC Score in-sample: 0.6870459039150765, out-sample: 0.6802562111083373,   Not improved (:\n",
            "Hooray, Beta Brain's Model Has Improved. in-sample: 0.6856197664073667, out-sample: 0.697719656799769\n",
            "48. ROC Score in-sample: 0.6891951383993835, out-sample: 0.6626264876217145,   Not improved (:\n",
            "Hooray, Beta Brain's Model Has Improved. in-sample: 0.6861131773759532, out-sample: 0.6931373261507436\n",
            "50. ROC Score in-sample: 0.6873493160991782, out-sample: 0.6804016359849784,   Not improved (:\n",
            "\n",
            " Out of Sample auc has gone above 0.685 at 48% \n",
            "\n",
            " The Average Out-of-Sample is 0.6801288416692723\n"
          ]
        }
      ],
      "source": [
        "confidence = 0\n",
        "sum_out_of_sample_auc = 0\n",
        "for i in range(50):\n",
        "    # Define the explanatory varibale and the dependent varibale\n",
        "    X, y = train_set.drop(columns= [\"convert_ind\"]), train_set[\"convert_ind\"]\n",
        "    X_train, X_test, y_train, y_test = train_test_split(X, y, test_size=0.10)\n",
        "    # Train after loading the data\n",
        "    # xgboost = XGBClassifier(learning_rate=0.05, alpha=0, gamma=0.0, max_depth=1, min_child_weight=5, n_estimators=500,\n",
        "    #                         subsample=0.8, colsample_bytree=0.8, reg_alpha=0.005, random_state=42)\n",
        "    xgboost = gsearch1.best_estimator_\n",
        "    xgboost.fit(X_train, y_train)\n",
        "    # create submission file if the roc-auc is greater than 0.65\n",
        "    auc_in = roc_auc_score(y_train, xgboost.predict_proba(X_train)[:, 1])\n",
        "    auc_out = roc_auc_score(y_test, xgboost.predict_proba(X_test)[:, 1])\n",
        "    accuracy = xgboost.score(X_test, y_test)\n",
        "\n",
        "    if(auc_in > 0.685 and auc_out>0.685):\n",
        "\n",
        "        print(f\"Hooray, Beta Brain's Model Has Improved. in-sample: {auc_in}, out-sample: {auc_out}\")\n",
        "        policy_ids = test_set['policy_id']\n",
        "        # Perform the Principla Component Analysis\n",
        "        X_train, y_train = train_set.drop(columns= [\"convert_ind\"]), train_set[\"convert_ind\"]\n",
        "\n",
        "        X_test2 = test_set.drop(columns=['policy_id', 'convert_ind'])\n",
        "\n",
        "        # xgboost2 = XGBClassifier(learning_rate=0.05, alpha=0, gamma=0.0, max_depth=1, min_child_weight=5, n_estimators=500,\n",
        "        #                     subsample=0.8, colsample_bytree=0.8, reg_alpha=0.005, random_state=42)\n",
        "        probs = xgboost.predict_proba(X_test2)[:,1]\n",
        "        # Create submission file and save it in the shared gdrive folder\n",
        "        submission = pd.DataFrame({'policy_id':policy_ids, 'TARGET':probs})\n",
        "        submission.set_index('policy_id')\n",
        "        path = \"/content/drive/MyDrive/data/ssubmission_\"+str(i)+\".csv\"\n",
        "        submission.to_csv(path,header=True, index=False)\n",
        "        submission.to_csv(\"/content/drive/MyDrive/Travelers/submission.csv\",header=True, index=False)\n",
        "\n",
        "    else:\n",
        "        print(f\"{i+1}. ROC Score in-sample: {auc_in}, out-sample: {auc_out},   Not improved (:\")\n",
        "    \n",
        "    if(auc_out>0.680):\n",
        "        confidence +=1\n",
        "    sum_out_of_sample_auc +=auc_out\n",
        "\n",
        "print(f\"\\n Out of Sample auc has gone above 0.680 at {confidence*2}% \")\n",
        "print(f\"\\n The Average Out-of-Sample is {sum_out_of_sample_auc/50}\")"
      ]
    },
    {
      "cell_type": "markdown",
      "source": [
        "# Evaluation"
      ],
      "metadata": {
        "id": "wG82o0MdxP29"
      }
    },
    {
      "cell_type": "markdown",
      "source": [
        "##ROC AUC Curves"
      ],
      "metadata": {
        "id": "4iIu1M_3R4cQ"
      }
    },
    {
      "cell_type": "code",
      "source": [
        "######################################## Classifiers ########################################\n",
        "# kNN Classifier\n",
        "from sklearn.ensemble import GradientBoostingClassifier\n",
        "from sklearn.ensemble import AdaBoostClassifier\n",
        "from sklearn.tree import DecisionTreeClassifier\n",
        "import matplotlib.pyplot as plt\n",
        "import numpy as np\n",
        "from sklearn.linear_model import LogisticRegression\n",
        "from sklearn.tree import DecisionTreeClassifier\n",
        "from sklearn.neighbors import KNeighborsClassifier\n",
        "from sklearn.metrics import roc_curve\n",
        "from sklearn.metrics import auc\n",
        "clf1 =  XGBClassifier(max_depth = 1, learning_rate=0.05, n_estimators=250,  min_child_weight=5, gamma =0,\n",
        "                        subsample=0.8, colsample_bytree=0.8, reg_alpha=0.005)\n",
        "\n",
        "\n",
        "# Decision Tree Classifier\n",
        "clf2 = RandomForestClassifier(max_depth=10, min_samples_split=10, n_estimators=325,\n",
        "                       random_state=42)\n",
        "\n",
        "# Logistic Regression Classifier\n",
        "clf3 = GradientBoostingClassifier(n_estimators=500, learning_rate=0.1, max_depth=1, random_state=0)\n",
        "\n",
        "clf4 = AdaBoostClassifier(base_estimator=DecisionTreeClassifier(max_depth=2,\n",
        "                                                         min_samples_leaf=15),\n",
        "                   learning_rate=0.01, n_estimators=1000, random_state=42)\n",
        "# Label the classifiers\n",
        "clf_labels = ['XGBoost', 'Random Forest', 'Gradient Boosting','AdaBoost']\n",
        "all_clf = [clf1, clf2, clf3, clf4]\n",
        "\n",
        "#################################### Cross - Validation ####################################\n",
        "\n",
        "\n",
        "print('10-fold cross validation:\\n')\n",
        "for clf, label in zip([clf1, clf2, clf3,clf4], clf_labels): #For all classifiers \n",
        "    scores = cross_val_score(estimator=clf,  # estimate AUC based on cross validation\n",
        "                             X=X_undersampled,\n",
        "                             y=y_undersampled,\n",
        "                             cv=10,\n",
        "                             scoring='roc_auc')\n",
        "    print(\"ROC AUC: %0.2f (+/- %0.2f) [%s]\" # print peformance statistics based on cross-validation\n",
        "          % (scores.mean(), scores.std(), label))\n",
        "\n",
        "##################################### Visualization ######################################\n",
        "models = [\n",
        "         XGBClassifier(max_depth = 3, learning_rate=0.05, n_estimators=250,  min_child_weight=3, gamma =0.4,\n",
        "                        subsample=0.8, colsample_bytree=0.8, reg_alpha=0.005),\n",
        "          RandomForestClassifier(max_depth=10, min_samples_split=10, n_estimators=325,\n",
        "                       random_state=42),\n",
        "          GradientBoostingClassifier(n_estimators=500, learning_rate=0.1, max_depth=1, random_state=0)\n",
        "\n",
        "          \n",
        "]\n",
        "colors = [ 'orange', 'blue', 'green','yellow']      # colors for visualization\n",
        "linestyles = [':', '--', '-.', '-','.-']        # line styles for visualization\n",
        "for clf, label, clr, ls in zip(all_clf,\n",
        "               clf_labels, colors, linestyles):\n",
        "\n",
        "    # Assuming the label of the positive class is 1 and data is normalized\n",
        "    y_pred = clf.fit(X_train, y_train).predict_proba(X_test)[:, 1] # make predictions based on the classifiers\n",
        "    \n",
        "    fpr, tpr, thresholds = roc_curve(y_true=y_test,       # build ROC curve\n",
        "                                     y_score=y_pred)\n",
        "    roc_auc = auc(x=fpr, y=tpr)                           # compute Area Under the Curve (AUC) \n",
        "    plt.plot(fpr, tpr,                                    # plot ROC Curve and create label with AUC values\n",
        "             color=clr,\n",
        "             linestyle=ls,\n",
        "             label='%s (auc = %0.2f)' % (label, roc_auc))\n",
        "\n",
        "plt.legend(loc='lower right')    # where to place the legend\n",
        "plt.plot([0, 1], [0, 1],         # visualize random classifier\n",
        "         linestyle='--',         # aesthetic parameters\n",
        "         color='gray',\n",
        "         linewidth=2)\n",
        "\n",
        "plt.xlim([-0.1, 1.1])   #limits for x axis\n",
        "plt.ylim([-0.1, 1.1])   #limits for y axis\n",
        "plt.grid(alpha=0.5)\n",
        "plt.xlabel('False positive rate (FPR)')\n",
        "plt.ylabel('True positive rate (TPR)')\n",
        "\n",
        "\n",
        "#plt.savefig('ROC_all_classifiers', dpi=300)\n",
        "plt.show()"
      ],
      "metadata": {
        "colab": {
          "base_uri": "https://localhost:8080/",
          "height": 383
        },
        "id": "UEiuO7ELGLDH",
        "outputId": "761c411b-b9f6-4aae-975e-c4e6cf21f6d1"
      },
      "execution_count": null,
      "outputs": [
        {
          "output_type": "stream",
          "name": "stdout",
          "text": [
            "10-fold cross validation:\n",
            "\n",
            "ROC AUC: 0.67 (+/- 0.02) [XGBoost]\n",
            "ROC AUC: 0.66 (+/- 0.02) [Random Forest]\n",
            "ROC AUC: 0.67 (+/- 0.01) [Gradient Boosting]\n",
            "ROC AUC: 0.67 (+/- 0.02) [AdaBoost]\n"
          ]
        },
        {
          "output_type": "display_data",
          "data": {
            "text/plain": [
              "<Figure size 432x288 with 1 Axes>"
            ],
            "image/png": "[encoded data removed]"
          },
          "metadata": {
            "needs_background": "light"
          }
        }
      ]
    },
    {
      "cell_type": "markdown",
      "source": [
        "## Profit Curve"
      ],
      "metadata": {
        "id": "dKOiV3fRSq9I"
      }
    },
    {
      "cell_type": "code",
      "source": [
        "import pandas as pd\n",
        "import math\n",
        "import numpy as np\n",
        "from sklearn.linear_model import LogisticRegression as LR\n",
        "from sklearn.ensemble import RandomForestClassifier as RF\n",
        "from sklearn.ensemble import GradientBoostingClassifier as GBC\n",
        "from sklearn.svm import SVC\n",
        "# from sklearn.cross_validation import train_test_split\n",
        "from sklearn.neighbors import NearestNeighbors\n",
        "import matplotlib.pyplot as plt\n",
        "from sklearn.preprocessing import StandardScaler\n",
        "%matplotlib inline"
      ],
      "metadata": {
        "id": "5Y5hjY4Q1Jt-"
      },
      "execution_count": null,
      "outputs": []
    },
    {
      "cell_type": "code",
      "source": [
        "#Cost assumptions\n",
        "from sklearn.ensemble import GradientBoostingClassifier\n",
        "from sklearn.ensemble import AdaBoostClassifier\n",
        "from sklearn.tree import DecisionTreeClassifier\n",
        "from xgboost import XGBClassifier\n",
        "'''Cost of FP: 1, cost of FN: 2, cost of TN: 0, cost of TP: -1'''\n",
        "cost_TP = -500; cost_FP = 0; cost_FN = -400; cost_TN = 100;\n",
        "cb_matrix = -1*np.array([[cost_TP, cost_FP],[cost_FN, cost_TN]])\n",
        "#Convert to standard confusion matrix\n",
        "def standard_confusion_matrix(y_true, y_predict):\n",
        "    TP = sum((y_true == 1) & (y_predict == 1))\n",
        "    TN = sum((y_true == 0) & (y_predict == 0))\n",
        "    FP = sum((y_true == 0) & (y_predict == 1))\n",
        "    FN = sum((y_true == 1) & (y_predict == 0))\n",
        "    \n",
        "    return np.array([[TP,FP],[FN,TN]])\n",
        "\n",
        "\n",
        "def profit_curve(cb, predict_probas, labels):\n",
        "    temp_df = pd.DataFrame({'labels':labels, 'predict_probas':predict_probas})\n",
        "    temp_df.sort_values(by='predict_probas', ascending=False, inplace=True)\n",
        "    sorted_probs = temp_df['predict_probas']\n",
        "    sorted_labels = temp_df['labels']\n",
        "    \n",
        "    profit_list = []\n",
        "    \n",
        "    for sp, sl in zip(sorted_probs, sorted_labels):\n",
        "        predict_labels = sorted_probs > sp + .0001\n",
        "        conf_mat = standard_confusion_matrix(sorted_labels, predict_labels)\n",
        "        profit_list.append((cb * conf_mat).sum() / float(len(labels)))\n",
        "    return profit_list, sorted_probs\n",
        "\n",
        "\n",
        "# Plot the profit curves\n",
        "def plot_profit_curve(model, label, costbenefit, X_train, X_test, y_train, y_test, col):\n",
        "    model.fit(X_train, y_train)\n",
        "    predict_probas = model.predict_proba(X_test)[:,1]\n",
        "    profit_list, sorted_probs = profit_curve(costbenefit, predict_probas, y_test)\n",
        "    max_index = np.argmax(profit_list)\n",
        "    # print(f\"sorted_probs: {len(sorted_probs)}, sorted_probs type: {type(sorted_probs)}, max_index: {max_index}\")\n",
        "    max_threshold = np.array(sorted_probs)[max_index]\n",
        "    max_profit = profit_list[max_index]\n",
        "    \n",
        "    plt.plot(sorted_probs, profit_list, label=label, color=col, linewidth=3)\n",
        "    plt.plot(max_threshold, max_profit, '.', color=col, markersize=18)\n",
        "\n",
        "\n",
        "models = [\n",
        "         XGBClassifier(max_depth = 3, learning_rate=0.05, n_estimators=250,  min_child_weight=3, gamma =0.4,\n",
        "                        subsample=0.8, colsample_bytree=0.8, reg_alpha=0.005),\n",
        "          RandomForestClassifier(max_depth=10, min_samples_split=10, n_estimators=325,\n",
        "                       random_state=42),\n",
        "          GradientBoostingClassifier(n_estimators=500, learning_rate=0.1, max_depth=1, random_state=0)\n",
        "\n",
        "          \n",
        "]\n",
        "fig = plt.figure(figsize=(10,8))\n",
        "# fig.set_facecolor('#F2F2F2')\n",
        "colors = ['r', 'g', 'b', 'm']\n",
        "for i, model in enumerate(models):\n",
        "    plot_profit_curve(model, model.__class__.__name__, cb_matrix,\n",
        "                      X_train, X_test, y_train, y_test, colors[i])\n",
        "plt.title(\"Profit Curves\")\n",
        "plt.xlabel(\"Percentage of test instances (decreasing by score)\")\n",
        "plt.ylabel(\"Profit\")\n",
        "plt.legend(loc='lower right')\n",
        "plt.savefig('Profit_curve.png', facecolor=fig.get_facecolor())\n",
        "plt.show()"
      ],
      "metadata": {
        "id": "tbDuQ_to1L6i",
        "colab": {
          "base_uri": "https://localhost:8080/",
          "height": 513
        },
        "outputId": "cd4cd42d-b71e-4ba1-f52a-8bbb1a38d5e6"
      },
      "execution_count": null,
      "outputs": [
        {
          "output_type": "display_data",
          "data": {
            "text/plain": [
              "<Figure size 720x576 with 1 Axes>"
            ],
            "image/png": "[encoded data removed]"
          },
          "metadata": {
            "needs_background": "light"
          }
        }
      ]
    }
  ],
  "metadata": {
    "kernelspec": {
      "display_name": "Python 3.9.12 64-bit (windows store)",
      "language": "python",
      "name": "python3"
    },
    "language_info": {
      "codemirror_mode": {
        "name": "ipython",
        "version": 3
      },
      "file_extension": ".py",
      "mimetype": "text/x-python",
      "name": "python",
      "nbconvert_exporter": "python",
      "pygments_lexer": "ipython3",
      "version": "3.9.13"
    },
    "orig_nbformat": 4,
    "vscode": {
      "interpreter": {
        "hash": "b3f59766487fccf9fb0e002733a49f2d38cf97782a76590df50df804e74f729e"
      }
    },
    "colab": {
      "provenance": [],
      "collapsed_sections": [],
      "toc_visible": true
    }
  },
  "nbformat": 4,
  "nbformat_minor": 0
}